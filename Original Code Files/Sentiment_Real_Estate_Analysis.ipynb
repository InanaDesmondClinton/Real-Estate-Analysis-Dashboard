{
  "cells": [
    {
      "cell_type": "code",
      "execution_count": 1,
      "metadata": {
        "colab": {
          "base_uri": "https://localhost:8080/"
        },
        "id": "zozAuJJ5lN3T",
        "outputId": "309086a4-2ccf-4d2f-9eb6-1f3b0e209e3b"
      },
      "outputs": [
        {
          "name": "stderr",
          "output_type": "stream",
          "text": [
            "c:\\Users\\Admin\\AppData\\Local\\Programs\\Python\\Python312\\Lib\\site-packages\\tqdm\\auto.py:21: TqdmWarning: IProgress not found. Please update jupyter and ipywidgets. See https://ipywidgets.readthedocs.io/en/stable/user_install.html\n",
            "  from .autonotebook import tqdm as notebook_tqdm\n",
            "[nltk_data] Downloading package stopwords to\n",
            "[nltk_data]     C:\\Users\\Admin\\AppData\\Roaming\\nltk_data...\n",
            "[nltk_data]   Package stopwords is already up-to-date!\n",
            "[nltk_data] Downloading package punkt to\n",
            "[nltk_data]     C:\\Users\\Admin\\AppData\\Roaming\\nltk_data...\n",
            "[nltk_data]   Package punkt is already up-to-date!\n",
            "[nltk_data] Downloading package punkt_tab to\n",
            "[nltk_data]     C:\\Users\\Admin\\AppData\\Roaming\\nltk_data...\n",
            "[nltk_data]   Package punkt_tab is already up-to-date!\n",
            "[nltk_data] Downloading package wordnet to\n",
            "[nltk_data]     C:\\Users\\Admin\\AppData\\Roaming\\nltk_data...\n",
            "[nltk_data]   Package wordnet is already up-to-date!\n",
            "[nltk_data] Downloading package omw-1.4 to\n",
            "[nltk_data]     C:\\Users\\Admin\\AppData\\Roaming\\nltk_data...\n",
            "[nltk_data]   Package omw-1.4 is already up-to-date!\n"
          ]
        },
        {
          "data": {
            "text/plain": [
              "True"
            ]
          },
          "execution_count": 1,
          "metadata": {},
          "output_type": "execute_result"
        }
      ],
      "source": [
        "import re\n",
        "import string\n",
        "import time\n",
        "import nltk\n",
        "import numpy as np\n",
        "import pandas as pd\n",
        "import seaborn as sns\n",
        "import matplotlib.pyplot as plt\n",
        "import plotly.express as px\n",
        "import unicodedata\n",
        "import torch\n",
        "import torch.nn.functional as F\n",
        "from pathlib import Path\n",
        "from nltk.corpus import stopwords\n",
        "from nltk.stem import PorterStemmer, WordNetLemmatizer\n",
        "\n",
        "from nltk.tokenize import word_tokenize\n",
        "from functools import partial\n",
        "from multiprocessing import Pool, cpu_count\n",
        "from transformers import AutoTokenizer, AutoModelForSequenceClassification\n",
        "\n",
        "# Download NLTK resources\n",
        "nltk.download('stopwords')\n",
        "nltk.download('punkt')\n",
        "nltk.download('punkt_tab')\n",
        "nltk.download('wordnet')\n",
        "nltk.download('omw-1.4')"
      ]
    },
    {
      "cell_type": "code",
      "execution_count": 2,
      "metadata": {
        "colab": {
          "base_uri": "https://localhost:8080/"
        },
        "id": "AAYjiYAkRJ35",
        "outputId": "acc03ec5-b1f3-456a-bcc8-42e700c334cc"
      },
      "outputs": [
        {
          "name": "stdout",
          "output_type": "stream",
          "text": [
            "Original data shape: (5898, 44)\n",
            "\n",
            "Columns in the dataset:\n",
            "- NAME\n",
            "- B01003_001E\n",
            "- B01002_001E\n",
            "- B25010_001E\n",
            "- B15003_017E\n",
            "- B15003_022E\n",
            "- B02001_002E\n",
            "- B02001_003E\n",
            "- B03003_003E\n",
            "- B01001_002E\n",
            "- B01001_026E\n",
            "- B01001_003E\n",
            "- B01001_007E\n",
            "- B01001_012E\n",
            "- B01001_020E\n",
            "- B25001_001E\n",
            "- B25002_002E\n",
            "- B25002_003E\n",
            "- B25003_002E\n",
            "- B25003_003E\n",
            "- B25077_001E\n",
            "- B25064_001E\n",
            "- B25024_002E\n",
            "- B25024_003E\n",
            "- B25024_004E\n",
            "- B25034_001E\n",
            "- B25081_002E\n",
            "- B25081_003E\n",
            "- B25004_001E\n",
            "- B25003_001E\n",
            "- B19013_001E\n",
            "- B19301_001E\n",
            "- B23025_005E\n",
            "- B23025_002E\n",
            "- B17001_002E\n",
            "- B17001_001E\n",
            "- C24010_001E\n",
            "- B19057_002E\n",
            "- B08303_001E\n",
            "- B08101_001E\n",
            "- state_fips\n",
            "- place\n",
            "- State\n",
            "- Year\n",
            "\n",
            "First few rows:\n",
            "                                    NAME  B01003_001E  B01002_001E  \\\n",
            "0           Broad Brook CDP, Connecticut         4504         32.1   \n",
            "1          New Britain city, Connecticut        72988         33.9   \n",
            "2      Heritage Village CDP, Connecticut         3934         71.6   \n",
            "3  North Grosvenor Dale CDP, Connecticut         1707         36.2   \n",
            "4      Cheshire Village CDP, Connecticut         5730         47.4   \n",
            "\n",
            "   B25010_001E  B15003_017E  B15003_022E  B02001_002E  B02001_003E  \\\n",
            "0         2.73         1170          502         3907          193   \n",
            "1         2.51        14863         5334        49872         7934   \n",
            "2         1.47         1027          684         3889            0   \n",
            "3         2.61          176           70         1661            0   \n",
            "4         2.47          694         1200         5106           74   \n",
            "\n",
            "   B03003_003E  B01001_002E  B01001_026E  B01001_003E  B01001_007E  \\\n",
            "0          507         2069         2435          181           17   \n",
            "1        29293        34672        38316         1995         1603   \n",
            "2          202         1480         2454           53            0   \n",
            "3            0          796          911          108           10   \n",
            "4          201         2717         3013           88           33   \n",
            "\n",
            "   B01001_012E  B01001_020E  B25001_001E  B25002_002E  B25002_003E  \\\n",
            "0          254           52         1703         1645           58   \n",
            "1         2490          641        31670        27858         3812   \n",
            "2           27           38         3025         2655          370   \n",
            "3           56           12          707          654           53   \n",
            "4          187           54         2334         2258           76   \n",
            "\n",
            "   B25003_002E  B25003_003E  B25077_001E  B25064_001E  B25024_002E  \\\n",
            "0         1068          577     234100.0       1140.0          839   \n",
            "1        11224        16634     159900.0        892.0         9061   \n",
            "2         2096          559     148700.0       1402.0          268   \n",
            "3          265          389     183900.0        922.0          265   \n",
            "4         1847          411     313100.0        951.0         1749   \n",
            "\n",
            "   B25024_003E  B25024_004E  B25034_001E  B25081_002E  B25081_003E  \\\n",
            "0          171          235         1703          839          259   \n",
            "1          918         5971        31670         7326         1055   \n",
            "2         1263          610         3025          869          102   \n",
            "3            0          252          707          159           77   \n",
            "4           89           50         2334         1238          225   \n",
            "\n",
            "   B25004_001E  B25003_001E  B19013_001E  B19301_001E  B23025_005E  \\\n",
            "0           58         1645      73729.0      33917.0          186   \n",
            "1         3812        27858      40457.0      21470.0         4711   \n",
            "2          370         2655      51590.0      42885.0           90   \n",
            "3           53          654      63000.0      26369.0          132   \n",
            "4           76         2258      96983.0      42932.0          122   \n",
            "\n",
            "   B23025_002E  B17001_002E  B17001_001E  C24010_001E  B19057_002E  \\\n",
            "0         2671          381         4488         2485           94   \n",
            "1        37283        16380        70153        32572         1558   \n",
            "2         1119           83         3914         1029           23   \n",
            "3         1015          175         1707          883           29   \n",
            "4         3018          146         5602         2896           62   \n",
            "\n",
            "   B08303_001E  B08101_001E  state_fips  place        State  Year  \n",
            "0         2408         2448           9   8770  Connecticut  2015  \n",
            "1        31248        31808           9  50370  Connecticut  2015  \n",
            "2          923          974           9  37930  Connecticut  2015  \n",
            "3          846          883           9  54730  Connecticut  2015  \n",
            "4         2654         2878           9  14200  Connecticut  2015  \n",
            "\n",
            "Missing values percentage:\n",
            "Original data shape: (650, 44)\n",
            "\n",
            "Columns in the dataset:\n",
            "- NAME\n",
            "- B01003_001E\n",
            "- B01002_001E\n",
            "- B25010_001E\n",
            "- B15003_017E\n",
            "- B15003_022E\n",
            "- B02001_002E\n",
            "- B02001_003E\n",
            "- B03003_003E\n",
            "- B01001_002E\n",
            "- B01001_026E\n",
            "- B01001_003E\n",
            "- B01001_007E\n",
            "- B01001_012E\n",
            "- B01001_020E\n",
            "- B25001_001E\n",
            "- B25002_002E\n",
            "- B25002_003E\n",
            "- B25003_002E\n",
            "- B25003_003E\n",
            "- B25077_001E\n",
            "- B25064_001E\n",
            "- B25024_002E\n",
            "- B25024_003E\n",
            "- B25024_004E\n",
            "- B25034_001E\n",
            "- B25081_002E\n",
            "- B25081_003E\n",
            "- B25004_001E\n",
            "- B25003_001E\n",
            "- B19013_001E\n",
            "- B19301_001E\n",
            "- B23025_005E\n",
            "- B23025_002E\n",
            "- B17001_002E\n",
            "- B17001_001E\n",
            "- C24010_001E\n",
            "- B19057_002E\n",
            "- B08303_001E\n",
            "- B08101_001E\n",
            "- state_fips\n",
            "- county\n",
            "- State\n",
            "- Year\n",
            "\n",
            "First few rows:\n",
            "                             NAME  B01003_001E  B01002_001E  B25010_001E  \\\n",
            "0   New Haven County, Connecticut       862224         39.8         2.56   \n",
            "1  Litchfield County, Connecticut       186304         46.0         2.46   \n",
            "2    Hartford County, Connecticut       896943         40.1         2.51   \n",
            "3  New London County, Connecticut       273185         40.7         2.45   \n",
            "4     Tolland County, Connecticut       151948         38.1         2.49   \n",
            "\n",
            "   B15003_017E  B15003_022E  B02001_002E  B02001_003E  B03003_003E  \\\n",
            "0       159183       108647       646775       110719       141282   \n",
            "1        35106        26350       174220         2827         9649   \n",
            "2       144969       126856       651466       120172       148744   \n",
            "3        51507        33415       222560        15345        26167   \n",
            "4        22621        20417       135481         4752         7387   \n",
            "\n",
            "   B01001_002E  B01001_026E  B01001_003E  B01001_007E  B01001_012E  \\\n",
            "0       415679       446545        23533        13480        26596   \n",
            "1        91740        94564         4218         2245         4568   \n",
            "2       434784       462159        24744        12573        28260   \n",
            "3       136570       136615         7094         4246         8289   \n",
            "4        76134        75814         3137         4716         4012   \n",
            "\n",
            "   B01001_020E  B25001_001E  B25002_002E  B25002_003E  B25003_002E  \\\n",
            "0         8469       362351       326028        36323       204886   \n",
            "1         2399        87447        74518        12929        57397   \n",
            "2         8750       374453       346362        28091       224000   \n",
            "3         2966       121258       106495        14763        70847   \n",
            "4         1394        58383        54467         3916        39880   \n",
            "\n",
            "   B25003_003E  B25077_001E  B25064_001E  B25024_002E  B25024_003E  \\\n",
            "0       121142       245200         1061       193790        18754   \n",
            "1        17121       254600          955        65074         3134   \n",
            "2       122362       236400          992       206359        21605   \n",
            "3        35648       244000         1022        79021         5003   \n",
            "4        14587       247700         1040        41146         2371   \n",
            "\n",
            "   B25024_004E  B25034_001E  B25081_002E  B25081_003E  B25004_001E  \\\n",
            "0        35126       362351       142134        30469        36323   \n",
            "1         6187        87447        39969         9366        12929   \n",
            "2        30205       374453       156517        33197        28091   \n",
            "3         8165       121258        48296         9719        14763   \n",
            "4         2450        58383        27906         6154         3916   \n",
            "\n",
            "   B25003_001E  B19013_001E  B19301_001E  B23025_005E  B23025_002E  \\\n",
            "0       326028        61640        32852        44190       464630   \n",
            "1        74518        72061        38530         7533       105846   \n",
            "2       346362        66395        35611        45312       485454   \n",
            "3       106495        66233        34208        12009       151814   \n",
            "4        54467        79626        35446         5869        86098   \n",
            "\n",
            "   B17001_002E  B17001_001E  C24010_001E  B19057_002E  B08303_001E  \\\n",
            "0       108533       835886       419901        12831       396837   \n",
            "1        12893       184074        98294         1448        91231   \n",
            "2       104196       872464       439719        15160       414492   \n",
            "3        25766       260973       132990         3566       130753   \n",
            "4         9511       136029        80190         1665        73234   \n",
            "\n",
            "   B08101_001E  state_fips  county        State  Year  \n",
            "0       412044           9       9  Connecticut  2015  \n",
            "1        96068           9       5  Connecticut  2015  \n",
            "2       430053           9       3  Connecticut  2015  \n",
            "3       137090           9      11  Connecticut  2015  \n",
            "4        76611           9      13  Connecticut  2015  \n",
            "\n",
            "Missing values percentage:\n",
            "Original data shape: (133370, 59)\n",
            "\n",
            "Columns in the dataset:\n",
            "- Unnamed: 0\n",
            "- period_begin\n",
            "- period_end\n",
            "- period_duration\n",
            "- region_type\n",
            "- region_type_id\n",
            "- table_id\n",
            "- is_seasonally_adjusted\n",
            "- region\n",
            "- city\n",
            "- state\n",
            "- state_code\n",
            "- property_type\n",
            "- property_type_id\n",
            "- median_sale_price\n",
            "- median_sale_price_mom\n",
            "- median_sale_price_yoy\n",
            "- median_list_price\n",
            "- median_list_price_mom\n",
            "- median_list_price_yoy\n",
            "- median_ppsf\n",
            "- median_ppsf_mom\n",
            "- median_ppsf_yoy\n",
            "- median_list_ppsf\n",
            "- median_list_ppsf_mom\n",
            "- median_list_ppsf_yoy\n",
            "- homes_sold\n",
            "- homes_sold_mom\n",
            "- homes_sold_yoy\n",
            "- pending_sales\n",
            "- pending_sales_mom\n",
            "- pending_sales_yoy\n",
            "- new_listings\n",
            "- new_listings_mom\n",
            "- new_listings_yoy\n",
            "- inventory\n",
            "- inventory_mom\n",
            "- inventory_yoy\n",
            "- months_of_supply\n",
            "- months_of_supply_mom\n",
            "- months_of_supply_yoy\n",
            "- median_dom\n",
            "- median_dom_mom\n",
            "- median_dom_yoy\n",
            "- avg_sale_to_list\n",
            "- avg_sale_to_list_mom\n",
            "- avg_sale_to_list_yoy\n",
            "- sold_above_list\n",
            "- sold_above_list_mom\n",
            "- sold_above_list_yoy\n",
            "- price_drops\n",
            "- price_drops_mom\n",
            "- price_drops_yoy\n",
            "- off_market_in_two_weeks\n",
            "- off_market_in_two_weeks_mom\n",
            "- off_market_in_two_weeks_yoy\n",
            "- parent_metro_region\n",
            "- parent_metro_region_metro_code\n",
            "- last_updated\n",
            "\n",
            "First few rows:\n",
            "   Unnamed: 0 period_begin  period_end  period_duration region_type  \\\n",
            "0           7   2019-08-01  2019-08-31               30       place   \n",
            "1          17   2023-11-01  2023-11-30               30       place   \n",
            "2          21   2022-06-01  2022-06-30               30       place   \n",
            "3          55   2018-03-01  2018-03-31               30       place   \n",
            "4          64   2024-12-01  2024-12-31               30       place   \n",
            "\n",
            "   region_type_id  table_id is_seasonally_adjusted                region  \\\n",
            "0               6      3292                      f          Carencro, LA   \n",
            "1               6     37987                      f      East Village, CT   \n",
            "2               6     34991                      f  Stafford Springs, CT   \n",
            "3               6     26671                      f          Woodmere, LA   \n",
            "4               6     11851                      f           Meriden, CT   \n",
            "\n",
            "               city        state state_code              property_type  \\\n",
            "0          Carencro    Louisiana         LA  Single Family Residential   \n",
            "1      East Village  Connecticut         CT            All Residential   \n",
            "2  Stafford Springs  Connecticut         CT            All Residential   \n",
            "3          Woodmere    Louisiana         LA            All Residential   \n",
            "4           Meriden  Connecticut         CT            All Residential   \n",
            "\n",
            "   property_type_id  median_sale_price  median_sale_price_mom  \\\n",
            "0                 6           190000.0               0.043956   \n",
            "1                -1           617500.0               0.046610   \n",
            "2                -1           226500.0              -0.036170   \n",
            "3                -1           117000.0               0.560000   \n",
            "4                -1           300000.0              -0.035370   \n",
            "\n",
            "   median_sale_price_yoy  median_list_price  median_list_price_mom  \\\n",
            "0               0.027027           179810.0              -0.013253   \n",
            "1               1.520408           519000.0               0.549254   \n",
            "2               0.461290           219450.0              -0.121849   \n",
            "3              -0.158273           155000.0               0.107143   \n",
            "4               0.052632           304950.0              -0.016290   \n",
            "\n",
            "   median_list_price_yoy  median_ppsf  median_ppsf_mom  median_ppsf_yoy  \\\n",
            "0              -0.124799   112.017003         0.015233        -0.000769   \n",
            "1               0.348052   274.263087         0.094943         0.267915   \n",
            "2               0.513448   143.388677        -0.061456         0.149884   \n",
            "3               0.231136    71.081409         0.474824         0.047883   \n",
            "4               0.051914   186.503308        -0.020367         0.016594   \n",
            "\n",
            "   median_list_ppsf  median_list_ppsf_mom  median_list_ppsf_yoy  homes_sold  \\\n",
            "0        120.274247              0.064981              0.035895        18.0   \n",
            "1        215.710723             -0.229347             -0.101299         6.0   \n",
            "2        139.316748             -0.136530              0.208327        14.0   \n",
            "3         95.781072              0.421933              0.562413        17.0   \n",
            "4        197.965033             -0.049768              0.133024        56.0   \n",
            "\n",
            "   homes_sold_mom  homes_sold_yoy  pending_sales  pending_sales_mom  \\\n",
            "0        0.200000       -0.052632           18.0           0.200000   \n",
            "1        0.200000        0.500000            5.0           0.666667   \n",
            "2        0.555556        0.076923            6.0          -0.625000   \n",
            "3        1.125000        0.416667           18.0           0.636364   \n",
            "4       -0.081967        0.120000           45.0          -0.262295   \n",
            "\n",
            "   pending_sales_yoy  new_listings  new_listings_mom  new_listings_yoy  \\\n",
            "0          -0.052632          19.0          0.055556         -0.050000   \n",
            "1           1.500000           1.0         -0.888889          0.000000   \n",
            "2          -0.739130           8.0         -0.111111         -0.529412   \n",
            "3           0.285714           6.0         -0.625000         -0.500000   \n",
            "4          -0.166667          30.0         -0.361702         -0.090909   \n",
            "\n",
            "   inventory  inventory_mom  inventory_yoy  months_of_supply  \\\n",
            "0       53.0       0.000000      -0.383721               2.9   \n",
            "1        5.0      -0.615385      -0.285714               0.8   \n",
            "2       14.0       0.000000      -0.363636               1.0   \n",
            "3       32.0      -0.219512       0.185185               1.9   \n",
            "4       68.0      -0.190476      -0.180723               1.2   \n",
            "\n",
            "   months_of_supply_mom  months_of_supply_yoy  median_dom  median_dom_mom  \\\n",
            "0                  -0.6                  -1.6        80.0           -52.0   \n",
            "1                  -1.8                  -1.0        60.0             6.0   \n",
            "2                  -0.6                  -0.7        17.0            11.0   \n",
            "3                  -3.2                  -0.4        94.0            17.0   \n",
            "4                  -0.2                  -0.5        37.0            -3.0   \n",
            "\n",
            "   median_dom_yoy  avg_sale_to_list  avg_sale_to_list_mom  \\\n",
            "0           -41.0          0.998662              0.022176   \n",
            "1           -11.0          1.019973              0.018993   \n",
            "2           -31.0          1.023026             -0.026888   \n",
            "3            54.0          0.978100             -0.007995   \n",
            "4            -1.0          1.020847             -0.012251   \n",
            "\n",
            "   avg_sale_to_list_yoy  sold_above_list  sold_above_list_mom  \\\n",
            "0              0.001078         0.166667             0.166667   \n",
            "1              0.038164         0.666667             0.266667   \n",
            "2              0.000707         0.714286            -0.174603   \n",
            "3             -0.015711         0.294118             0.044118   \n",
            "4             -0.030555         0.625000            -0.030738   \n",
            "\n",
            "   sold_above_list_yoy  price_drops  price_drops_mom  price_drops_yoy  \\\n",
            "0             0.114035          NaN              NaN              NaN   \n",
            "1             0.416667          NaN              NaN              NaN   \n",
            "2             0.175824     0.214286         0.000000         0.032468   \n",
            "3            -0.122549     0.187500         0.065549         0.150463   \n",
            "4            -0.055000     0.117647        -0.025210        -0.051028   \n",
            "\n",
            "   off_market_in_two_weeks  off_market_in_two_weeks_mom  \\\n",
            "0                 0.000000                     0.000000   \n",
            "1                 0.600000                     0.266667   \n",
            "2                 0.666667                     0.104167   \n",
            "3                 0.111111                     0.020202   \n",
            "4                 0.377778                    -0.081239   \n",
            "\n",
            "   off_market_in_two_weeks_yoy parent_metro_region  \\\n",
            "0                     0.000000       Lafayette, LA   \n",
            "1                     0.100000      Bridgeport, CT   \n",
            "2                     0.101449        Hartford, CT   \n",
            "3                    -0.246032     New Orleans, LA   \n",
            "4                    -0.177778       New Haven, CT   \n",
            "\n",
            "   parent_metro_region_metro_code         last_updated  \n",
            "0                           29180  2025-03-10 14:20:36  \n",
            "1                           14860  2025-03-10 14:20:36  \n",
            "2                           25540  2025-03-10 14:20:36  \n",
            "3                           35380  2025-03-10 14:20:36  \n",
            "4                           35300  2025-03-10 14:20:36  \n",
            "\n",
            "Missing values percentage:\n",
            "Original data shape: (3978, 14)\n",
            "\n",
            "Columns in the dataset:\n",
            "- title\n",
            "- content\n",
            "- score\n",
            "- url\n",
            "- created_utc\n",
            "- city\n",
            "- state\n",
            "- year\n",
            "- upvote_ratio\n",
            "- flair\n",
            "- date_posted\n",
            "- comments_count\n",
            "- awards_count\n",
            "- comments\n",
            "\n",
            "First few rows:\n",
            "                                                                  title  \\\n",
            "0  Need help removing my phone number from an unknown property database   \n",
            "1  Need help removing my phone number from an unknown property database   \n",
            "2                                       Buying Neighbors House Strategy   \n",
            "3                                 Foreclosure offer in this market (US)   \n",
            "4                                       Buying Neighbors House Strategy   \n",
            "\n",
            "                                                                                                                                                                                                                                                                                                                                                                                                                                                                                                                                                                                                                                                                                                                                                                                                                                                                                                                                                                                                                                                                                                            content  \\\n",
            "0                                                                                                                                                   Many years ago some unknown scammer began adding my phone number to off market real estate listings in FL. I still get texts and calls from investment companies asking me if I want to sell my nonexistent properties. When it first started I contacted MLS and told them to remove my number from their database, which they did, but the calls/texts still continue to this day. Are there other database sites that I'm not aware of? Is there a way to find out where all these investment companies are finding my number? This is one of the properties I am constantly contacted about - https://floridaparcels.com/property/46/28442602000120100. The owner, William Erickson, owns a few other properties and people contact me about those properties too. They always address me as William, so it appears that somewhere in some secret database that I do not have access to, my number is connected to this guy. Any help would be appreciated.   \n",
            "1                                                                                                                                                   Many years ago some unknown scammer began adding my phone number to off market real estate listings in FL. I still get texts and calls from investment companies asking me if I want to sell my nonexistent properties. When it first started I contacted MLS and told them to remove my number from their database, which they did, but the calls/texts still continue to this day. Are there other database sites that I'm not aware of? Is there a way to find out where all these investment companies are finding my number? This is one of the properties I am constantly contacted about - https://floridaparcels.com/property/46/28442602000120100. The owner, William Erickson, owns a few other properties and people contact me about those properties too. They always address me as William, so it appears that somewhere in some secret database that I do not have access to, my number is connected to this guy. Any help would be appreciated.   \n",
            "2  We're interested in buying our neighbor's house. The owner recently passed away, and his daughter is handling the sale. It’s not officially on the market yet, but she has a real estate agent and will likely list it soon.\\n\\nI reached out to her since we've gotten acquainted over the years, and she gave me her agent’s contact info—so it seems like she’s planning to go through the traditional listing process, not sell off-market to us directly.\\n\\nA few questions:\\n\\n* Should we reach out to the listing agent ourselves, or have our own real estate agent make contact?\\n* What are some things we can do to make the seller’s agent’s life easier while also giving ourselves a competitive advantage?\\n* Any strategies you'd recommend to make our offer stand out?\\n\\nSome quick context:\\n\\n* The house is the “ugliest on the block,” but it’s in an amazing neighborhood.\\n* Zillow puts the value around $1.6M.\\n* The neighbors on the other side of the house are also interested so we’ve got some competition!\\n* We aren’t looking for a discounted price and would offer 1.6M    \n",
            "3                                                                                                                                                                                                                                                                                                                         Found a foreclosure house that my husband and I really love and it’s in a great neighborhood. It hasn’t had any occupants for 10 years and has been in foreclosure since 2017. It needs a lot of work (probably 100-200k) and I know right now probably isn’t the best time but it just went on the market for 475 (sold in 2001 for 190…) but again a lot of work (giant hole in the ceiling, possible water damage, outdated and that’s just what we can see - bringing a contractor in Saturday). \\n\\nThey’re about to open it up to investors but is 400 too low? I know the banks can accept whatever but with what’s going on right now I feel like that’s not a bad offer? I just don’t know with everything going on if banks would expect investors to meet their price or not.    \n",
            "4  We're interested in buying our neighbor's house. The owner recently passed away, and his daughter is handling the sale. It’s not officially on the market yet, but she has a real estate agent and will likely list it soon.\\n\\nI reached out to her since we've gotten acquainted over the years, and she gave me her agent’s contact info—so it seems like she’s planning to go through the traditional listing process, not sell off-market to us directly.\\n\\nA few questions:\\n\\n* Should we reach out to the listing agent ourselves, or have our own real estate agent make contact?\\n* What are some things we can do to make the seller’s agent’s life easier while also giving ourselves a competitive advantage?\\n* Any strategies you'd recommend to make our offer stand out?\\n\\nSome quick context:\\n\\n* The house is the “ugliest on the block,” but it’s in an amazing neighborhood.\\n* Zillow puts the value around $1.6M.\\n* The neighbors on the other side of the house are also interested so we’ve got some competition!\\n* We aren’t looking for a discounted price and would offer 1.6M    \n",
            "\n",
            "   score  \\\n",
            "0      1   \n",
            "1      1   \n",
            "2      2   \n",
            "3      0   \n",
            "4      2   \n",
            "\n",
            "                                                                                                url  \\\n",
            "0  https://www.reddit.com/r/RealEstate/comments/1jrb526/need_help_removing_my_phone_number_from_an/   \n",
            "1  https://www.reddit.com/r/RealEstate/comments/1jrb526/need_help_removing_my_phone_number_from_an/   \n",
            "2             https://www.reddit.com/r/RealEstate/comments/1jr2x2d/buying_neighbors_house_strategy/   \n",
            "3         https://www.reddit.com/r/RealEstate/comments/1jr5cqm/foreclosure_offer_in_this_market_us/   \n",
            "4             https://www.reddit.com/r/RealEstate/comments/1jr2x2d/buying_neighbors_house_strategy/   \n",
            "\n",
            "    created_utc     city        state  year  upvote_ratio flair  \\\n",
            "0  1.743771e+09  Ansonia  Connecticut  2019           1.0   NaN   \n",
            "1  1.743771e+09  Ansonia  Connecticut  2020           1.0   NaN   \n",
            "2  1.743739e+09  Ansonia  Connecticut  2020           1.0   NaN   \n",
            "3  1.743748e+09  Ansonia  Connecticut  2019           0.5   NaN   \n",
            "4  1.743739e+09  Ansonia  Connecticut  2019           1.0   NaN   \n",
            "\n",
            "           date_posted  comments_count  awards_count  \\\n",
            "0  2025-04-04 13:52:54               2             0   \n",
            "1  2025-04-04 13:52:54               2             0   \n",
            "2  2025-04-04 04:58:48               4             0   \n",
            "3  2025-04-04 07:29:24               4             0   \n",
            "4  2025-04-04 04:58:48               4             0   \n",
            "\n",
            "                                                                                                                                                                                                                                                                                                                                                                                                                                                                                                                                                                                                                                                                                                                                                                                                                                                                                                                                                                                                                                                                                                                                                                                                                                                                                                                                                                                                                                                                                                                                                                                                                                                                                                                                                                                                                                                                                                                                                                                                          comments  \n",
            "0                                                                                                                                                                                                                                                                                                                                                                                                                                                                                                                                                                                                                                                                                                                                                                                                                                                                                                                                                                                                                                                                                                                                                                                  I'm so sorry. It may be that Mr. Erickson used to have your phone number. While the Do Not Call database might help you in the long run, in the short run here's a workaround. Change your voicemail message to \"Hi, this is [your name]. If you are calling about properties owned by William Erickson, I do not own those properties and do not know how to reach the owner. All others please leave a message.\" Don't answer calls from unknown callers. \\n\\nThe texts, simply answer STOP. If they are using any kind of automated system, that will take you off their list. Most humans also respect it. || There's tons of places your info could be. Assuming you don't want to get a new number, I would suggest getting a call screening app like Hiya as I've found it to be quite effective at blocking junk calls.  \n",
            "1                                                                                                                                                                                                                                                                                                                                                                                                                                                                                                                                                                                                                                                                                                                                                                                                                                                                                                                                                                                                                                                                                                                                                                                  I'm so sorry. It may be that Mr. Erickson used to have your phone number. While the Do Not Call database might help you in the long run, in the short run here's a workaround. Change your voicemail message to \"Hi, this is [your name]. If you are calling about properties owned by William Erickson, I do not own those properties and do not know how to reach the owner. All others please leave a message.\" Don't answer calls from unknown callers. \\n\\nThe texts, simply answer STOP. If they are using any kind of automated system, that will take you off their list. Most humans also respect it. || There's tons of places your info could be. Assuming you don't want to get a new number, I would suggest getting a call screening app like Hiya as I've found it to be quite effective at blocking junk calls.  \n",
            "2  Have your agent reach out to the listing agent and see if you can make an offer before it goes full market. Full market means more competition. \\n\\nHas to be a pretty good offer to sell pre market. But maybe heir wants it done and over. \\n\\nGood Luck! || It’ll be interesting to see what advice you get here and compare to what your agent recommends. I’m guessing if you ask your agent these questions they’ll want to reach out on your behalf (that’s what my agent would suggest) - as a seller, it would be my dream to have a neighbor seriously interested but only at what I’d consider fair market price (like, I wouldn’t sell to a neighbor at a discount without listing it first just to see if I could get a fair offer). I don’t have a ton of advice here but wishing you best of luck. Should be low moving costs if you get the house :) || Not sure about dual agency in your state but I’d consider reaching out directly to the listing agent (double commission for them) and say you’re really familiar with the house and neighborhood and interested in making a strong offer.  I don’t think anything could stop them from going to market but the dual commission and the likelihood of close puts you in the pole position to win the deal. || I recommend interviewing at least three agents before picking one. \\n\\nI also recommend having your agent reach out to say \"we understand the situation and are sorry for your client's loss. What things is your client looking for in a purchase offer, other than price of course?\" Sometimes the little details are important. Maybe she wants a super fast close, maybe she needs 60 days to clean out the house but you'll never know unless someone asks. Caring about what the seller wants? That will make your offer stand out. \\n\\nIgnore Zillow -- it's for entertainment value only -- and let your agent show you a list of \"comps\" (similar properties sold in the last 90 days) to determine a fair offer.  \n",
            "3                                                                                                                                                                                                                                                                                                                                                                                                                                                                                                                                                                                                                Do you have cash? Or an investment loan? This isn’t going to qualify for traditional financing. \\n\\nYou can submit whatever offer you like. A lot of experienced investors will probably go after it too if it’s in a decent neighborhood. And they can renovate cheaper than you. \\n\\nTake the finished value as per comps and subtract the $$ or repairs. This should be the price. But then there is competition. \\n\\nGood luck! || But if we put a bid in before it goes to investors is that a good offer or should we just expect the bank to anticipate investors going nuts for this one? Wishful thinking investors go lower? || > **This isn’t going to qualify for traditional financing.**\\n\\nI want to emphasize this. The seller knows this and is not going to even look at an offer that involves a traditional mortgage. If you don't have cash right now -- enough to both buy it outright and rehab it -- this is probably left to investors with deep pockets. Now, it's not the kind of property you can just live in and fix up a little at a time. \\n\\nThat fixer upper in It's a Wonderful Life? That's fiction and even then the buyer *owned a mortgage bank*.   || Generally banks move slow and they will not jump on the first offer. They have a duty to get the best price for their bank. \\n\\nAnd it has to be contingency free. Banks don’t like contingencies.   \n",
            "4  Have your agent reach out to the listing agent and see if you can make an offer before it goes full market. Full market means more competition. \\n\\nHas to be a pretty good offer to sell pre market. But maybe heir wants it done and over. \\n\\nGood Luck! || It’ll be interesting to see what advice you get here and compare to what your agent recommends. I’m guessing if you ask your agent these questions they’ll want to reach out on your behalf (that’s what my agent would suggest) - as a seller, it would be my dream to have a neighbor seriously interested but only at what I’d consider fair market price (like, I wouldn’t sell to a neighbor at a discount without listing it first just to see if I could get a fair offer). I don’t have a ton of advice here but wishing you best of luck. Should be low moving costs if you get the house :) || Not sure about dual agency in your state but I’d consider reaching out directly to the listing agent (double commission for them) and say you’re really familiar with the house and neighborhood and interested in making a strong offer.  I don’t think anything could stop them from going to market but the dual commission and the likelihood of close puts you in the pole position to win the deal. || I recommend interviewing at least three agents before picking one. \\n\\nI also recommend having your agent reach out to say \"we understand the situation and are sorry for your client's loss. What things is your client looking for in a purchase offer, other than price of course?\" Sometimes the little details are important. Maybe she wants a super fast close, maybe she needs 60 days to clean out the house but you'll never know unless someone asks. Caring about what the seller wants? That will make your offer stand out. \\n\\nIgnore Zillow -- it's for entertainment value only -- and let your agent show you a list of \"comps\" (similar properties sold in the last 90 days) to determine a fair offer.  \n",
            "\n",
            "Missing values percentage:\n",
            "Original data shape: (1611, 14)\n",
            "\n",
            "Columns in the dataset:\n",
            "- City\n",
            "- Population\n",
            "- Violent\n",
            "crime\n",
            "- Murder and\n",
            "nonnegligent\n",
            "manslaughter\n",
            "- Rape\n",
            "(revised\n",
            "definition)1\n",
            "- Robbery\n",
            "- Aggravated\n",
            "assault\n",
            "- Property\n",
            "crime\n",
            "- Burglary\n",
            "- Larceny-\n",
            "theft\n",
            "- Motor\n",
            "vehicle\n",
            "theft\n",
            "- Arson3\n",
            "- State\n",
            "- Year\n",
            "\n",
            "First few rows:\n",
            "         City  Population  Violent\\ncrime  \\\n",
            "0     Ansonia       18887            25.0   \n",
            "1        Avon       18485             2.0   \n",
            "2      Berlin       20793            15.0   \n",
            "3      Bethel       19560             4.0   \n",
            "4  Bloomfield       20901            57.0   \n",
            "\n",
            "   Murder and\\nnonnegligent\\nmanslaughter  Rape\\n(revised\\ndefinition)1  \\\n",
            "0                                       0                             5   \n",
            "1                                       0                             1   \n",
            "2                                       0                             2   \n",
            "3                                       0                             4   \n",
            "4                                       1                             8   \n",
            "\n",
            "   Robbery  Aggravated\\nassault  Property\\ncrime  Burglary  Larceny-\\ntheft  \\\n",
            "0     12.0                  8.0            350.0      47.0            264.0   \n",
            "1      1.0                  0.0            147.0      14.0            130.0   \n",
            "2      7.0                  6.0            321.0      59.0            243.0   \n",
            "3      0.0                  0.0            169.0      26.0            141.0   \n",
            "4      6.0                 42.0            505.0      66.0            417.0   \n",
            "\n",
            "   Motor\\nvehicle\\ntheft  Arson3        State  Year  \n",
            "0                     39     0.0  Connecticut  2015  \n",
            "1                      3     0.0  Connecticut  2015  \n",
            "2                     19     2.0  Connecticut  2015  \n",
            "3                      2     0.0  Connecticut  2015  \n",
            "4                     22     0.0  Connecticut  2015  \n",
            "\n",
            "Missing values percentage:\n",
            "Arson3: 0.81%\n",
            "Property\n",
            "crime: 0.19%\n",
            "Violent\n",
            "crime: 0.12%\n",
            "Larceny-\n",
            "theft: 0.12%\n",
            "Aggravated\n",
            "assault: 0.06%\n",
            "Robbery: 0.06%\n",
            "Burglary: 0.06%\n",
            "<class 'pandas.core.frame.DataFrame'>\n",
            "RangeIndex: 5898 entries, 0 to 5897\n",
            "Data columns (total 44 columns):\n",
            " #   Column       Non-Null Count  Dtype  \n",
            "---  ------       --------------  -----  \n",
            " 0   NAME         5898 non-null   object \n",
            " 1   B01003_001E  5898 non-null   int64  \n",
            " 2   B01002_001E  5898 non-null   float64\n",
            " 3   B25010_001E  5898 non-null   float64\n",
            " 4   B15003_017E  5898 non-null   int64  \n",
            " 5   B15003_022E  5898 non-null   int64  \n",
            " 6   B02001_002E  5898 non-null   int64  \n",
            " 7   B02001_003E  5898 non-null   int64  \n",
            " 8   B03003_003E  5898 non-null   int64  \n",
            " 9   B01001_002E  5898 non-null   int64  \n",
            " 10  B01001_026E  5898 non-null   int64  \n",
            " 11  B01001_003E  5898 non-null   int64  \n",
            " 12  B01001_007E  5898 non-null   int64  \n",
            " 13  B01001_012E  5898 non-null   int64  \n",
            " 14  B01001_020E  5898 non-null   int64  \n",
            " 15  B25001_001E  5898 non-null   int64  \n",
            " 16  B25002_002E  5898 non-null   int64  \n",
            " 17  B25002_003E  5898 non-null   int64  \n",
            " 18  B25003_002E  5898 non-null   int64  \n",
            " 19  B25003_003E  5898 non-null   int64  \n",
            " 20  B25077_001E  5882 non-null   float64\n",
            " 21  B25064_001E  5880 non-null   float64\n",
            " 22  B25024_002E  5898 non-null   int64  \n",
            " 23  B25024_003E  5898 non-null   int64  \n",
            " 24  B25024_004E  5898 non-null   int64  \n",
            " 25  B25034_001E  5898 non-null   int64  \n",
            " 26  B25081_002E  5898 non-null   int64  \n",
            " 27  B25081_003E  5898 non-null   int64  \n",
            " 28  B25004_001E  5898 non-null   int64  \n",
            " 29  B25003_001E  5898 non-null   int64  \n",
            " 30  B19013_001E  5880 non-null   float64\n",
            " 31  B19301_001E  5866 non-null   float64\n",
            " 32  B23025_005E  5898 non-null   int64  \n",
            " 33  B23025_002E  5898 non-null   int64  \n",
            " 34  B17001_002E  5898 non-null   int64  \n",
            " 35  B17001_001E  5898 non-null   int64  \n",
            " 36  C24010_001E  5898 non-null   int64  \n",
            " 37  B19057_002E  5898 non-null   int64  \n",
            " 38  B08303_001E  5898 non-null   int64  \n",
            " 39  B08101_001E  5898 non-null   int64  \n",
            " 40  state_fips   5898 non-null   int64  \n",
            " 41  place        5898 non-null   int64  \n",
            " 42  State        5898 non-null   object \n",
            " 43  Year         5898 non-null   int64  \n",
            "dtypes: float64(6), int64(36), object(2)\n",
            "memory usage: 2.0+ MB\n",
            "None\n",
            "NAME            0\n",
            "B01003_001E     0\n",
            "B01002_001E     0\n",
            "B25010_001E     0\n",
            "B15003_017E     0\n",
            "B15003_022E     0\n",
            "B02001_002E     0\n",
            "B02001_003E     0\n",
            "B03003_003E     0\n",
            "B01001_002E     0\n",
            "B01001_026E     0\n",
            "B01001_003E     0\n",
            "B01001_007E     0\n",
            "B01001_012E     0\n",
            "B01001_020E     0\n",
            "B25001_001E     0\n",
            "B25002_002E     0\n",
            "B25002_003E     0\n",
            "B25003_002E     0\n",
            "B25003_003E     0\n",
            "B25077_001E    16\n",
            "B25064_001E    18\n",
            "B25024_002E     0\n",
            "B25024_003E     0\n",
            "B25024_004E     0\n",
            "B25034_001E     0\n",
            "B25081_002E     0\n",
            "B25081_003E     0\n",
            "B25004_001E     0\n",
            "B25003_001E     0\n",
            "B19013_001E    18\n",
            "B19301_001E    32\n",
            "B23025_005E     0\n",
            "B23025_002E     0\n",
            "B17001_002E     0\n",
            "B17001_001E     0\n",
            "C24010_001E     0\n",
            "B19057_002E     0\n",
            "B08303_001E     0\n",
            "B08101_001E     0\n",
            "state_fips      0\n",
            "place           0\n",
            "State           0\n",
            "Year            0\n",
            "dtype: int64\n",
            "NAME           0.000000\n",
            "B01003_001E    0.000000\n",
            "B01002_001E    0.000000\n",
            "B25010_001E    0.000000\n",
            "B15003_017E    0.000000\n",
            "B15003_022E    0.000000\n",
            "B02001_002E    0.000000\n",
            "B02001_003E    0.000000\n",
            "B03003_003E    0.000000\n",
            "B01001_002E    0.000000\n",
            "B01001_026E    0.000000\n",
            "B01001_003E    0.000000\n",
            "B01001_007E    0.000000\n",
            "B01001_012E    0.000000\n",
            "B01001_020E    0.000000\n",
            "B25001_001E    0.000000\n",
            "B25002_002E    0.000000\n",
            "B25002_003E    0.000000\n",
            "B25003_002E    0.000000\n",
            "B25003_003E    0.000000\n",
            "B25077_001E    0.271278\n",
            "B25064_001E    0.305188\n",
            "B25024_002E    0.000000\n",
            "B25024_003E    0.000000\n",
            "B25024_004E    0.000000\n",
            "B25034_001E    0.000000\n",
            "B25081_002E    0.000000\n",
            "B25081_003E    0.000000\n",
            "B25004_001E    0.000000\n",
            "B25003_001E    0.000000\n",
            "B19013_001E    0.305188\n",
            "B19301_001E    0.542557\n",
            "B23025_005E    0.000000\n",
            "B23025_002E    0.000000\n",
            "B17001_002E    0.000000\n",
            "B17001_001E    0.000000\n",
            "C24010_001E    0.000000\n",
            "B19057_002E    0.000000\n",
            "B08303_001E    0.000000\n",
            "B08101_001E    0.000000\n",
            "state_fips     0.000000\n",
            "place          0.000000\n",
            "State          0.000000\n",
            "Year           0.000000\n",
            "dtype: float64\n",
            "(5898, 44)\n",
            "<class 'pandas.core.frame.DataFrame'>\n",
            "RangeIndex: 5898 entries, 0 to 5897\n",
            "Data columns (total 44 columns):\n",
            " #   Column       Non-Null Count  Dtype  \n",
            "---  ------       --------------  -----  \n",
            " 0   NAME         5898 non-null   object \n",
            " 1   B01003_001E  5898 non-null   int64  \n",
            " 2   B01002_001E  5898 non-null   float64\n",
            " 3   B25010_001E  5898 non-null   float64\n",
            " 4   B15003_017E  5898 non-null   int64  \n",
            " 5   B15003_022E  5898 non-null   int64  \n",
            " 6   B02001_002E  5898 non-null   int64  \n",
            " 7   B02001_003E  5898 non-null   int64  \n",
            " 8   B03003_003E  5898 non-null   int64  \n",
            " 9   B01001_002E  5898 non-null   int64  \n",
            " 10  B01001_026E  5898 non-null   int64  \n",
            " 11  B01001_003E  5898 non-null   int64  \n",
            " 12  B01001_007E  5898 non-null   int64  \n",
            " 13  B01001_012E  5898 non-null   int64  \n",
            " 14  B01001_020E  5898 non-null   int64  \n",
            " 15  B25001_001E  5898 non-null   int64  \n",
            " 16  B25002_002E  5898 non-null   int64  \n",
            " 17  B25002_003E  5898 non-null   int64  \n",
            " 18  B25003_002E  5898 non-null   int64  \n",
            " 19  B25003_003E  5898 non-null   int64  \n",
            " 20  B25077_001E  5882 non-null   float64\n",
            " 21  B25064_001E  5880 non-null   float64\n",
            " 22  B25024_002E  5898 non-null   int64  \n",
            " 23  B25024_003E  5898 non-null   int64  \n",
            " 24  B25024_004E  5898 non-null   int64  \n",
            " 25  B25034_001E  5898 non-null   int64  \n",
            " 26  B25081_002E  5898 non-null   int64  \n",
            " 27  B25081_003E  5898 non-null   int64  \n",
            " 28  B25004_001E  5898 non-null   int64  \n",
            " 29  B25003_001E  5898 non-null   int64  \n",
            " 30  B19013_001E  5880 non-null   float64\n",
            " 31  B19301_001E  5866 non-null   float64\n",
            " 32  B23025_005E  5898 non-null   int64  \n",
            " 33  B23025_002E  5898 non-null   int64  \n",
            " 34  B17001_002E  5898 non-null   int64  \n",
            " 35  B17001_001E  5898 non-null   int64  \n",
            " 36  C24010_001E  5898 non-null   int64  \n",
            " 37  B19057_002E  5898 non-null   int64  \n",
            " 38  B08303_001E  5898 non-null   int64  \n",
            " 39  B08101_001E  5898 non-null   int64  \n",
            " 40  state_fips   5898 non-null   int64  \n",
            " 41  place        5898 non-null   int64  \n",
            " 42  State        5898 non-null   object \n",
            " 43  Year         5898 non-null   int64  \n",
            "dtypes: float64(6), int64(36), object(2)\n",
            "memory usage: 2.0+ MB\n",
            "None\n",
            "NAME            0\n",
            "B01003_001E     0\n",
            "B01002_001E     0\n",
            "B25010_001E     0\n",
            "B15003_017E     0\n",
            "B15003_022E     0\n",
            "B02001_002E     0\n",
            "B02001_003E     0\n",
            "B03003_003E     0\n",
            "B01001_002E     0\n",
            "B01001_026E     0\n",
            "B01001_003E     0\n",
            "B01001_007E     0\n",
            "B01001_012E     0\n",
            "B01001_020E     0\n",
            "B25001_001E     0\n",
            "B25002_002E     0\n",
            "B25002_003E     0\n",
            "B25003_002E     0\n",
            "B25003_003E     0\n",
            "B25077_001E    16\n",
            "B25064_001E    18\n",
            "B25024_002E     0\n",
            "B25024_003E     0\n",
            "B25024_004E     0\n",
            "B25034_001E     0\n",
            "B25081_002E     0\n",
            "B25081_003E     0\n",
            "B25004_001E     0\n",
            "B25003_001E     0\n",
            "B19013_001E    18\n",
            "B19301_001E    32\n",
            "B23025_005E     0\n",
            "B23025_002E     0\n",
            "B17001_002E     0\n",
            "B17001_001E     0\n",
            "C24010_001E     0\n",
            "B19057_002E     0\n",
            "B08303_001E     0\n",
            "B08101_001E     0\n",
            "state_fips      0\n",
            "place           0\n",
            "State           0\n",
            "Year            0\n",
            "dtype: int64\n",
            "NAME           0.000000\n",
            "B01003_001E    0.000000\n",
            "B01002_001E    0.000000\n",
            "B25010_001E    0.000000\n",
            "B15003_017E    0.000000\n",
            "B15003_022E    0.000000\n",
            "B02001_002E    0.000000\n",
            "B02001_003E    0.000000\n",
            "B03003_003E    0.000000\n",
            "B01001_002E    0.000000\n",
            "B01001_026E    0.000000\n",
            "B01001_003E    0.000000\n",
            "B01001_007E    0.000000\n",
            "B01001_012E    0.000000\n",
            "B01001_020E    0.000000\n",
            "B25001_001E    0.000000\n",
            "B25002_002E    0.000000\n",
            "B25002_003E    0.000000\n",
            "B25003_002E    0.000000\n",
            "B25003_003E    0.000000\n",
            "B25077_001E    0.271278\n",
            "B25064_001E    0.305188\n",
            "B25024_002E    0.000000\n",
            "B25024_003E    0.000000\n",
            "B25024_004E    0.000000\n",
            "B25034_001E    0.000000\n",
            "B25081_002E    0.000000\n",
            "B25081_003E    0.000000\n",
            "B25004_001E    0.000000\n",
            "B25003_001E    0.000000\n",
            "B19013_001E    0.305188\n",
            "B19301_001E    0.542557\n",
            "B23025_005E    0.000000\n",
            "B23025_002E    0.000000\n",
            "B17001_002E    0.000000\n",
            "B17001_001E    0.000000\n",
            "C24010_001E    0.000000\n",
            "B19057_002E    0.000000\n",
            "B08303_001E    0.000000\n",
            "B08101_001E    0.000000\n",
            "state_fips     0.000000\n",
            "place          0.000000\n",
            "State          0.000000\n",
            "Year           0.000000\n",
            "dtype: float64\n",
            "(650, 44)\n",
            "<class 'pandas.core.frame.DataFrame'>\n",
            "RangeIndex: 650 entries, 0 to 649\n",
            "Data columns (total 44 columns):\n",
            " #   Column       Non-Null Count  Dtype  \n",
            "---  ------       --------------  -----  \n",
            " 0   NAME         650 non-null    object \n",
            " 1   B01003_001E  650 non-null    int64  \n",
            " 2   B01002_001E  650 non-null    float64\n",
            " 3   B25010_001E  650 non-null    float64\n",
            " 4   B15003_017E  650 non-null    int64  \n",
            " 5   B15003_022E  650 non-null    int64  \n",
            " 6   B02001_002E  650 non-null    int64  \n",
            " 7   B02001_003E  650 non-null    int64  \n",
            " 8   B03003_003E  650 non-null    int64  \n",
            " 9   B01001_002E  650 non-null    int64  \n",
            " 10  B01001_026E  650 non-null    int64  \n",
            " 11  B01001_003E  650 non-null    int64  \n",
            " 12  B01001_007E  650 non-null    int64  \n",
            " 13  B01001_012E  650 non-null    int64  \n",
            " 14  B01001_020E  650 non-null    int64  \n",
            " 15  B25001_001E  650 non-null    int64  \n",
            " 16  B25002_002E  650 non-null    int64  \n",
            " 17  B25002_003E  650 non-null    int64  \n",
            " 18  B25003_002E  650 non-null    int64  \n",
            " 19  B25003_003E  650 non-null    int64  \n",
            " 20  B25077_001E  650 non-null    int64  \n",
            " 21  B25064_001E  650 non-null    int64  \n",
            " 22  B25024_002E  650 non-null    int64  \n",
            " 23  B25024_003E  650 non-null    int64  \n",
            " 24  B25024_004E  650 non-null    int64  \n",
            " 25  B25034_001E  650 non-null    int64  \n",
            " 26  B25081_002E  650 non-null    int64  \n",
            " 27  B25081_003E  650 non-null    int64  \n",
            " 28  B25004_001E  650 non-null    int64  \n",
            " 29  B25003_001E  650 non-null    int64  \n",
            " 30  B19013_001E  650 non-null    int64  \n",
            " 31  B19301_001E  650 non-null    int64  \n",
            " 32  B23025_005E  650 non-null    int64  \n",
            " 33  B23025_002E  650 non-null    int64  \n",
            " 34  B17001_002E  650 non-null    int64  \n",
            " 35  B17001_001E  650 non-null    int64  \n",
            " 36  C24010_001E  650 non-null    int64  \n",
            " 37  B19057_002E  650 non-null    int64  \n",
            " 38  B08303_001E  650 non-null    int64  \n",
            " 39  B08101_001E  650 non-null    int64  \n",
            " 40  state_fips   650 non-null    int64  \n",
            " 41  county       650 non-null    int64  \n",
            " 42  State        650 non-null    object \n",
            " 43  Year         650 non-null    int64  \n",
            "dtypes: float64(2), int64(40), object(2)\n",
            "memory usage: 223.6+ KB\n",
            "None\n",
            "NAME           0\n",
            "B01003_001E    0\n",
            "B01002_001E    0\n",
            "B25010_001E    0\n",
            "B15003_017E    0\n",
            "B15003_022E    0\n",
            "B02001_002E    0\n",
            "B02001_003E    0\n",
            "B03003_003E    0\n",
            "B01001_002E    0\n",
            "B01001_026E    0\n",
            "B01001_003E    0\n",
            "B01001_007E    0\n",
            "B01001_012E    0\n",
            "B01001_020E    0\n",
            "B25001_001E    0\n",
            "B25002_002E    0\n",
            "B25002_003E    0\n",
            "B25003_002E    0\n",
            "B25003_003E    0\n",
            "B25077_001E    0\n",
            "B25064_001E    0\n",
            "B25024_002E    0\n",
            "B25024_003E    0\n",
            "B25024_004E    0\n",
            "B25034_001E    0\n",
            "B25081_002E    0\n",
            "B25081_003E    0\n",
            "B25004_001E    0\n",
            "B25003_001E    0\n",
            "B19013_001E    0\n",
            "B19301_001E    0\n",
            "B23025_005E    0\n",
            "B23025_002E    0\n",
            "B17001_002E    0\n",
            "B17001_001E    0\n",
            "C24010_001E    0\n",
            "B19057_002E    0\n",
            "B08303_001E    0\n",
            "B08101_001E    0\n",
            "state_fips     0\n",
            "county         0\n",
            "State          0\n",
            "Year           0\n",
            "dtype: int64\n",
            "NAME           0.0\n",
            "B01003_001E    0.0\n",
            "B01002_001E    0.0\n",
            "B25010_001E    0.0\n",
            "B15003_017E    0.0\n",
            "B15003_022E    0.0\n",
            "B02001_002E    0.0\n",
            "B02001_003E    0.0\n",
            "B03003_003E    0.0\n",
            "B01001_002E    0.0\n",
            "B01001_026E    0.0\n",
            "B01001_003E    0.0\n",
            "B01001_007E    0.0\n",
            "B01001_012E    0.0\n",
            "B01001_020E    0.0\n",
            "B25001_001E    0.0\n",
            "B25002_002E    0.0\n",
            "B25002_003E    0.0\n",
            "B25003_002E    0.0\n",
            "B25003_003E    0.0\n",
            "B25077_001E    0.0\n",
            "B25064_001E    0.0\n",
            "B25024_002E    0.0\n",
            "B25024_003E    0.0\n",
            "B25024_004E    0.0\n",
            "B25034_001E    0.0\n",
            "B25081_002E    0.0\n",
            "B25081_003E    0.0\n",
            "B25004_001E    0.0\n",
            "B25003_001E    0.0\n",
            "B19013_001E    0.0\n",
            "B19301_001E    0.0\n",
            "B23025_005E    0.0\n",
            "B23025_002E    0.0\n",
            "B17001_002E    0.0\n",
            "B17001_001E    0.0\n",
            "C24010_001E    0.0\n",
            "B19057_002E    0.0\n",
            "B08303_001E    0.0\n",
            "B08101_001E    0.0\n",
            "state_fips     0.0\n",
            "county         0.0\n",
            "State          0.0\n",
            "Year           0.0\n",
            "dtype: float64\n",
            "(133370, 59)\n",
            "<class 'pandas.core.frame.DataFrame'>\n",
            "RangeIndex: 133370 entries, 0 to 133369\n",
            "Data columns (total 59 columns):\n",
            " #   Column                          Non-Null Count   Dtype  \n",
            "---  ------                          --------------   -----  \n",
            " 0   Unnamed: 0                      133370 non-null  int64  \n",
            " 1   period_begin                    133370 non-null  object \n",
            " 2   period_end                      133370 non-null  object \n",
            " 3   period_duration                 133370 non-null  int64  \n",
            " 4   region_type                     133370 non-null  object \n",
            " 5   region_type_id                  133370 non-null  int64  \n",
            " 6   table_id                        133370 non-null  int64  \n",
            " 7   is_seasonally_adjusted          133370 non-null  object \n",
            " 8   region                          133370 non-null  object \n",
            " 9   city                            133370 non-null  object \n",
            " 10  state                           133370 non-null  object \n",
            " 11  state_code                      133370 non-null  object \n",
            " 12  property_type                   133370 non-null  object \n",
            " 13  property_type_id                133370 non-null  int64  \n",
            " 14  median_sale_price               133370 non-null  float64\n",
            " 15  median_sale_price_mom           108741 non-null  float64\n",
            " 16  median_sale_price_yoy           105446 non-null  float64\n",
            " 17  median_list_price               112224 non-null  float64\n",
            " 18  median_list_price_mom           94226 non-null   float64\n",
            " 19  median_list_price_yoy           91113 non-null   float64\n",
            " 20  median_ppsf                     133191 non-null  float64\n",
            " 21  median_ppsf_mom                 108654 non-null  float64\n",
            " 22  median_ppsf_yoy                 105354 non-null  float64\n",
            " 23  median_list_ppsf                112203 non-null  float64\n",
            " 24  median_list_ppsf_mom            94210 non-null   float64\n",
            " 25  median_list_ppsf_yoy            91095 non-null   float64\n",
            " 26  homes_sold                      133370 non-null  float64\n",
            " 27  homes_sold_mom                  108741 non-null  float64\n",
            " 28  homes_sold_yoy                  105446 non-null  float64\n",
            " 29  pending_sales                   124148 non-null  float64\n",
            " 30  pending_sales_mom               102141 non-null  float64\n",
            " 31  pending_sales_yoy               98422 non-null   float64\n",
            " 32  new_listings                    101386 non-null  float64\n",
            " 33  new_listings_mom                85210 non-null   float64\n",
            " 34  new_listings_yoy                82184 non-null   float64\n",
            " 35  inventory                       114333 non-null  float64\n",
            " 36  inventory_mom                   96113 non-null   float64\n",
            " 37  inventory_yoy                   92401 non-null   float64\n",
            " 38  months_of_supply                127003 non-null  float64\n",
            " 39  months_of_supply_mom            106574 non-null  float64\n",
            " 40  months_of_supply_yoy            102720 non-null  float64\n",
            " 41  median_dom                      132825 non-null  float64\n",
            " 42  median_dom_mom                  108190 non-null  float64\n",
            " 43  median_dom_yoy                  104936 non-null  float64\n",
            " 44  avg_sale_to_list                131407 non-null  float64\n",
            " 45  avg_sale_to_list_mom            107131 non-null  float64\n",
            " 46  avg_sale_to_list_yoy            103861 non-null  float64\n",
            " 47  sold_above_list                 133370 non-null  float64\n",
            " 48  sold_above_list_mom             108741 non-null  float64\n",
            " 49  sold_above_list_yoy             105446 non-null  float64\n",
            " 50  price_drops                     58139 non-null   float64\n",
            " 51  price_drops_mom                 47094 non-null   float64\n",
            " 52  price_drops_yoy                 39671 non-null   float64\n",
            " 53  off_market_in_two_weeks         124148 non-null  float64\n",
            " 54  off_market_in_two_weeks_mom     102141 non-null  float64\n",
            " 55  off_market_in_two_weeks_yoy     98422 non-null   float64\n",
            " 56  parent_metro_region             133370 non-null  object \n",
            " 57  parent_metro_region_metro_code  133370 non-null  int64  \n",
            " 58  last_updated                    133370 non-null  object \n",
            "dtypes: float64(42), int64(6), object(11)\n",
            "memory usage: 60.0+ MB\n",
            "None\n",
            "Unnamed: 0                            0\n",
            "period_begin                          0\n",
            "period_end                            0\n",
            "period_duration                       0\n",
            "region_type                           0\n",
            "region_type_id                        0\n",
            "table_id                              0\n",
            "is_seasonally_adjusted                0\n",
            "region                                0\n",
            "city                                  0\n",
            "state                                 0\n",
            "state_code                            0\n",
            "property_type                         0\n",
            "property_type_id                      0\n",
            "median_sale_price                     0\n",
            "median_sale_price_mom             24629\n",
            "median_sale_price_yoy             27924\n",
            "median_list_price                 21146\n",
            "median_list_price_mom             39144\n",
            "median_list_price_yoy             42257\n",
            "median_ppsf                         179\n",
            "median_ppsf_mom                   24716\n",
            "median_ppsf_yoy                   28016\n",
            "median_list_ppsf                  21167\n",
            "median_list_ppsf_mom              39160\n",
            "median_list_ppsf_yoy              42275\n",
            "homes_sold                            0\n",
            "homes_sold_mom                    24629\n",
            "homes_sold_yoy                    27924\n",
            "pending_sales                      9222\n",
            "pending_sales_mom                 31229\n",
            "pending_sales_yoy                 34948\n",
            "new_listings                      31984\n",
            "new_listings_mom                  48160\n",
            "new_listings_yoy                  51186\n",
            "inventory                         19037\n",
            "inventory_mom                     37257\n",
            "inventory_yoy                     40969\n",
            "months_of_supply                   6367\n",
            "months_of_supply_mom              26796\n",
            "months_of_supply_yoy              30650\n",
            "median_dom                          545\n",
            "median_dom_mom                    25180\n",
            "median_dom_yoy                    28434\n",
            "avg_sale_to_list                   1963\n",
            "avg_sale_to_list_mom              26239\n",
            "avg_sale_to_list_yoy              29509\n",
            "sold_above_list                       0\n",
            "sold_above_list_mom               24629\n",
            "sold_above_list_yoy               27924\n",
            "price_drops                       75231\n",
            "price_drops_mom                   86276\n",
            "price_drops_yoy                   93699\n",
            "off_market_in_two_weeks            9222\n",
            "off_market_in_two_weeks_mom       31229\n",
            "off_market_in_two_weeks_yoy       34948\n",
            "parent_metro_region                   0\n",
            "parent_metro_region_metro_code        0\n",
            "last_updated                          0\n",
            "dtype: int64\n",
            "Unnamed: 0                         0.000000\n",
            "period_begin                       0.000000\n",
            "period_end                         0.000000\n",
            "period_duration                    0.000000\n",
            "region_type                        0.000000\n",
            "region_type_id                     0.000000\n",
            "table_id                           0.000000\n",
            "is_seasonally_adjusted             0.000000\n",
            "region                             0.000000\n",
            "city                               0.000000\n",
            "state                              0.000000\n",
            "state_code                         0.000000\n",
            "property_type                      0.000000\n",
            "property_type_id                   0.000000\n",
            "median_sale_price                  0.000000\n",
            "median_sale_price_mom             18.466672\n",
            "median_sale_price_yoy             20.937242\n",
            "median_list_price                 15.855140\n",
            "median_list_price_mom             29.349929\n",
            "median_list_price_yoy             31.684037\n",
            "median_ppsf                        0.134213\n",
            "median_ppsf_mom                   18.531904\n",
            "median_ppsf_yoy                   21.006223\n",
            "median_list_ppsf                  15.870886\n",
            "median_list_ppsf_mom              29.361925\n",
            "median_list_ppsf_yoy              31.697533\n",
            "homes_sold                         0.000000\n",
            "homes_sold_mom                    18.466672\n",
            "homes_sold_yoy                    20.937242\n",
            "pending_sales                      6.914598\n",
            "pending_sales_mom                 23.415311\n",
            "pending_sales_yoy                 26.203794\n",
            "new_listings                      23.981405\n",
            "new_listings_mom                  36.110070\n",
            "new_listings_yoy                  38.378946\n",
            "inventory                         14.273825\n",
            "inventory_mom                     27.935068\n",
            "inventory_yoy                     30.718302\n",
            "months_of_supply                   4.773937\n",
            "months_of_supply_mom              20.091475\n",
            "months_of_supply_yoy              22.981180\n",
            "median_dom                         0.408638\n",
            "median_dom_mom                    18.879808\n",
            "median_dom_yoy                    21.319637\n",
            "avg_sale_to_list                   1.471845\n",
            "avg_sale_to_list_mom              19.673840\n",
            "avg_sale_to_list_yoy              22.125665\n",
            "sold_above_list                    0.000000\n",
            "sold_above_list_mom               18.466672\n",
            "sold_above_list_yoy               20.937242\n",
            "price_drops                       56.407738\n",
            "price_drops_mom                   64.689210\n",
            "price_drops_yoy                   70.254930\n",
            "off_market_in_two_weeks            6.914598\n",
            "off_market_in_two_weeks_mom       23.415311\n",
            "off_market_in_two_weeks_yoy       26.203794\n",
            "parent_metro_region                0.000000\n",
            "parent_metro_region_metro_code     0.000000\n",
            "last_updated                       0.000000\n",
            "dtype: float64\n",
            "(3978, 14)\n",
            "<class 'pandas.core.frame.DataFrame'>\n",
            "RangeIndex: 3978 entries, 0 to 3977\n",
            "Data columns (total 14 columns):\n",
            " #   Column          Non-Null Count  Dtype  \n",
            "---  ------          --------------  -----  \n",
            " 0   title           3978 non-null   object \n",
            " 1   content         3978 non-null   object \n",
            " 2   score           3978 non-null   int64  \n",
            " 3   url             3978 non-null   object \n",
            " 4   created_utc     3978 non-null   float64\n",
            " 5   city            3978 non-null   object \n",
            " 6   state           3978 non-null   object \n",
            " 7   year            3978 non-null   int64  \n",
            " 8   upvote_ratio    3978 non-null   float64\n",
            " 9   flair           5 non-null      object \n",
            " 10  date_posted     3978 non-null   object \n",
            " 11  comments_count  3978 non-null   int64  \n",
            " 12  awards_count    3978 non-null   int64  \n",
            " 13  comments        3963 non-null   object \n",
            "dtypes: float64(2), int64(4), object(8)\n",
            "memory usage: 435.2+ KB\n",
            "None\n",
            "title                0\n",
            "content              0\n",
            "score                0\n",
            "url                  0\n",
            "created_utc          0\n",
            "city                 0\n",
            "state                0\n",
            "year                 0\n",
            "upvote_ratio         0\n",
            "flair             3973\n",
            "date_posted          0\n",
            "comments_count       0\n",
            "awards_count         0\n",
            "comments            15\n",
            "dtype: int64\n",
            "title              0.000000\n",
            "content            0.000000\n",
            "score              0.000000\n",
            "url                0.000000\n",
            "created_utc        0.000000\n",
            "city               0.000000\n",
            "state              0.000000\n",
            "year               0.000000\n",
            "upvote_ratio       0.000000\n",
            "flair             99.874309\n",
            "date_posted        0.000000\n",
            "comments_count     0.000000\n",
            "awards_count       0.000000\n",
            "comments           0.377074\n",
            "dtype: float64\n",
            "(1611, 14)\n",
            "<class 'pandas.core.frame.DataFrame'>\n",
            "RangeIndex: 1611 entries, 0 to 1610\n",
            "Data columns (total 14 columns):\n",
            " #   Column                                Non-Null Count  Dtype  \n",
            "---  ------                                --------------  -----  \n",
            " 0   City                                  1611 non-null   object \n",
            " 1   Population                            1611 non-null   int64  \n",
            " 2   Violent\n",
            "crime                         1609 non-null   float64\n",
            " 3   Murder and\n",
            "nonnegligent\n",
            "manslaughter  1611 non-null   int64  \n",
            " 4   Rape\n",
            "(revised\n",
            "definition)1            1611 non-null   int64  \n",
            " 5   Robbery                               1610 non-null   float64\n",
            " 6   Aggravated\n",
            "assault                    1610 non-null   float64\n",
            " 7   Property\n",
            "crime                        1608 non-null   float64\n",
            " 8   Burglary                              1610 non-null   float64\n",
            " 9   Larceny-\n",
            "theft                        1609 non-null   float64\n",
            " 10  Motor\n",
            "vehicle\n",
            "theft                   1611 non-null   int64  \n",
            " 11  Arson3                                1598 non-null   float64\n",
            " 12  State                                 1611 non-null   object \n",
            " 13  Year                                  1611 non-null   int64  \n",
            "dtypes: float64(7), int64(5), object(2)\n",
            "memory usage: 176.3+ KB\n",
            "None\n",
            "City                                       0\n",
            "Population                                 0\n",
            "Violent\\ncrime                             2\n",
            "Murder and\\nnonnegligent\\nmanslaughter     0\n",
            "Rape\\n(revised\\ndefinition)1               0\n",
            "Robbery                                    1\n",
            "Aggravated\\nassault                        1\n",
            "Property\\ncrime                            3\n",
            "Burglary                                   1\n",
            "Larceny-\\ntheft                            2\n",
            "Motor\\nvehicle\\ntheft                      0\n",
            "Arson3                                    13\n",
            "State                                      0\n",
            "Year                                       0\n",
            "dtype: int64\n",
            "City                                      0.000000\n",
            "Population                                0.000000\n",
            "Violent\\ncrime                            0.124146\n",
            "Murder and\\nnonnegligent\\nmanslaughter    0.000000\n",
            "Rape\\n(revised\\ndefinition)1              0.000000\n",
            "Robbery                                   0.062073\n",
            "Aggravated\\nassault                       0.062073\n",
            "Property\\ncrime                           0.186220\n",
            "Burglary                                  0.062073\n",
            "Larceny-\\ntheft                           0.124146\n",
            "Motor\\nvehicle\\ntheft                     0.000000\n",
            "Arson3                                    0.806952\n",
            "State                                     0.000000\n",
            "Year                                      0.000000\n",
            "dtype: float64\n",
            "Cleaning dataset: census_all\n",
            "Columns to drop (more than 80.0% missing values): []\n"
          ]
        },
        {
          "name": "stderr",
          "output_type": "stream",
          "text": [
            "C:\\Users\\Admin\\AppData\\Local\\Temp\\ipykernel_13200\\2007926673.py:66: FutureWarning: A value is trying to be set on a copy of a DataFrame or Series through chained assignment using an inplace method.\n",
            "The behavior will change in pandas 3.0. This inplace method will never work because the intermediate object on which we are setting values always behaves as a copy.\n",
            "\n",
            "For example, when doing 'df[col].method(value, inplace=True)', try using 'df.method({col: value}, inplace=True)' or df[col] = df[col].method(value) instead, to perform the operation inplace on the original object.\n",
            "\n",
            "\n",
            "  data[col].fillna(data[col].median(), inplace=True)\n",
            "C:\\Users\\Admin\\AppData\\Local\\Temp\\ipykernel_13200\\2007926673.py:66: FutureWarning: A value is trying to be set on a copy of a DataFrame or Series through chained assignment using an inplace method.\n",
            "The behavior will change in pandas 3.0. This inplace method will never work because the intermediate object on which we are setting values always behaves as a copy.\n",
            "\n",
            "For example, when doing 'df[col].method(value, inplace=True)', try using 'df.method({col: value}, inplace=True)' or df[col] = df[col].method(value) instead, to perform the operation inplace on the original object.\n",
            "\n",
            "\n",
            "  data[col].fillna(data[col].median(), inplace=True)\n",
            "C:\\Users\\Admin\\AppData\\Local\\Temp\\ipykernel_13200\\2007926673.py:66: FutureWarning: A value is trying to be set on a copy of a DataFrame or Series through chained assignment using an inplace method.\n",
            "The behavior will change in pandas 3.0. This inplace method will never work because the intermediate object on which we are setting values always behaves as a copy.\n",
            "\n",
            "For example, when doing 'df[col].method(value, inplace=True)', try using 'df.method({col: value}, inplace=True)' or df[col] = df[col].method(value) instead, to perform the operation inplace on the original object.\n",
            "\n",
            "\n",
            "  data[col].fillna(data[col].median(), inplace=True)\n",
            "C:\\Users\\Admin\\AppData\\Local\\Temp\\ipykernel_13200\\2007926673.py:66: FutureWarning: A value is trying to be set on a copy of a DataFrame or Series through chained assignment using an inplace method.\n",
            "The behavior will change in pandas 3.0. This inplace method will never work because the intermediate object on which we are setting values always behaves as a copy.\n",
            "\n",
            "For example, when doing 'df[col].method(value, inplace=True)', try using 'df.method({col: value}, inplace=True)' or df[col] = df[col].method(value) instead, to perform the operation inplace on the original object.\n",
            "\n",
            "\n",
            "  data[col].fillna(data[col].median(), inplace=True)\n"
          ]
        },
        {
          "name": "stdout",
          "output_type": "stream",
          "text": [
            "Removed 0 duplicate rows.\n",
            "Standardized column names: ['name', 'b01003_001e', 'b01002_001e', 'b25010_001e', 'b15003_017e', 'b15003_022e', 'b02001_002e', 'b02001_003e', 'b03003_003e', 'b01001_002e', 'b01001_026e', 'b01001_003e', 'b01001_007e', 'b01001_012e', 'b01001_020e', 'b25001_001e', 'b25002_002e', 'b25002_003e', 'b25003_002e', 'b25003_003e', 'b25077_001e', 'b25064_001e', 'b25024_002e', 'b25024_003e', 'b25024_004e', 'b25034_001e', 'b25081_002e', 'b25081_003e', 'b25004_001e', 'b25003_001e', 'b19013_001e', 'b19301_001e', 'b23025_005e', 'b23025_002e', 'b17001_002e', 'b17001_001e', 'c24010_001e', 'b19057_002e', 'b08303_001e', 'b08101_001e', 'state_fips', 'place', 'state', 'year']\n",
            "Final shape of census_all: (5898, 44)\n",
            "\n",
            "Cleaning dataset: census_county\n",
            "Columns to drop (more than 80.0% missing values): []\n",
            "Removed 0 duplicate rows.\n",
            "Standardized column names: ['name', 'b01003_001e', 'b01002_001e', 'b25010_001e', 'b15003_017e', 'b15003_022e', 'b02001_002e', 'b02001_003e', 'b03003_003e', 'b01001_002e', 'b01001_026e', 'b01001_003e', 'b01001_007e', 'b01001_012e', 'b01001_020e', 'b25001_001e', 'b25002_002e', 'b25002_003e', 'b25003_002e', 'b25003_003e', 'b25077_001e', 'b25064_001e', 'b25024_002e', 'b25024_003e', 'b25024_004e', 'b25034_001e', 'b25081_002e', 'b25081_003e', 'b25004_001e', 'b25003_001e', 'b19013_001e', 'b19301_001e', 'b23025_005e', 'b23025_002e', 'b17001_002e', 'b17001_001e', 'c24010_001e', 'b19057_002e', 'b08303_001e', 'b08101_001e', 'state_fips', 'county', 'state', 'year']\n",
            "Final shape of census_county: (650, 44)\n",
            "\n",
            "Cleaning dataset: real_df\n",
            "Columns to drop (more than 80.0% missing values): []\n"
          ]
        },
        {
          "name": "stderr",
          "output_type": "stream",
          "text": [
            "C:\\Users\\Admin\\AppData\\Local\\Temp\\ipykernel_13200\\2007926673.py:66: FutureWarning: A value is trying to be set on a copy of a DataFrame or Series through chained assignment using an inplace method.\n",
            "The behavior will change in pandas 3.0. This inplace method will never work because the intermediate object on which we are setting values always behaves as a copy.\n",
            "\n",
            "For example, when doing 'df[col].method(value, inplace=True)', try using 'df.method({col: value}, inplace=True)' or df[col] = df[col].method(value) instead, to perform the operation inplace on the original object.\n",
            "\n",
            "\n",
            "  data[col].fillna(data[col].median(), inplace=True)\n",
            "C:\\Users\\Admin\\AppData\\Local\\Temp\\ipykernel_13200\\2007926673.py:66: FutureWarning: A value is trying to be set on a copy of a DataFrame or Series through chained assignment using an inplace method.\n",
            "The behavior will change in pandas 3.0. This inplace method will never work because the intermediate object on which we are setting values always behaves as a copy.\n",
            "\n",
            "For example, when doing 'df[col].method(value, inplace=True)', try using 'df.method({col: value}, inplace=True)' or df[col] = df[col].method(value) instead, to perform the operation inplace on the original object.\n",
            "\n",
            "\n",
            "  data[col].fillna(data[col].median(), inplace=True)\n",
            "C:\\Users\\Admin\\AppData\\Local\\Temp\\ipykernel_13200\\2007926673.py:66: FutureWarning: A value is trying to be set on a copy of a DataFrame or Series through chained assignment using an inplace method.\n",
            "The behavior will change in pandas 3.0. This inplace method will never work because the intermediate object on which we are setting values always behaves as a copy.\n",
            "\n",
            "For example, when doing 'df[col].method(value, inplace=True)', try using 'df.method({col: value}, inplace=True)' or df[col] = df[col].method(value) instead, to perform the operation inplace on the original object.\n",
            "\n",
            "\n",
            "  data[col].fillna(data[col].median(), inplace=True)\n",
            "C:\\Users\\Admin\\AppData\\Local\\Temp\\ipykernel_13200\\2007926673.py:66: FutureWarning: A value is trying to be set on a copy of a DataFrame or Series through chained assignment using an inplace method.\n",
            "The behavior will change in pandas 3.0. This inplace method will never work because the intermediate object on which we are setting values always behaves as a copy.\n",
            "\n",
            "For example, when doing 'df[col].method(value, inplace=True)', try using 'df.method({col: value}, inplace=True)' or df[col] = df[col].method(value) instead, to perform the operation inplace on the original object.\n",
            "\n",
            "\n",
            "  data[col].fillna(data[col].median(), inplace=True)\n",
            "C:\\Users\\Admin\\AppData\\Local\\Temp\\ipykernel_13200\\2007926673.py:66: FutureWarning: A value is trying to be set on a copy of a DataFrame or Series through chained assignment using an inplace method.\n",
            "The behavior will change in pandas 3.0. This inplace method will never work because the intermediate object on which we are setting values always behaves as a copy.\n",
            "\n",
            "For example, when doing 'df[col].method(value, inplace=True)', try using 'df.method({col: value}, inplace=True)' or df[col] = df[col].method(value) instead, to perform the operation inplace on the original object.\n",
            "\n",
            "\n",
            "  data[col].fillna(data[col].median(), inplace=True)\n",
            "C:\\Users\\Admin\\AppData\\Local\\Temp\\ipykernel_13200\\2007926673.py:66: FutureWarning: A value is trying to be set on a copy of a DataFrame or Series through chained assignment using an inplace method.\n",
            "The behavior will change in pandas 3.0. This inplace method will never work because the intermediate object on which we are setting values always behaves as a copy.\n",
            "\n",
            "For example, when doing 'df[col].method(value, inplace=True)', try using 'df.method({col: value}, inplace=True)' or df[col] = df[col].method(value) instead, to perform the operation inplace on the original object.\n",
            "\n",
            "\n",
            "  data[col].fillna(data[col].median(), inplace=True)\n",
            "C:\\Users\\Admin\\AppData\\Local\\Temp\\ipykernel_13200\\2007926673.py:66: FutureWarning: A value is trying to be set on a copy of a DataFrame or Series through chained assignment using an inplace method.\n",
            "The behavior will change in pandas 3.0. This inplace method will never work because the intermediate object on which we are setting values always behaves as a copy.\n",
            "\n",
            "For example, when doing 'df[col].method(value, inplace=True)', try using 'df.method({col: value}, inplace=True)' or df[col] = df[col].method(value) instead, to perform the operation inplace on the original object.\n",
            "\n",
            "\n",
            "  data[col].fillna(data[col].median(), inplace=True)\n",
            "C:\\Users\\Admin\\AppData\\Local\\Temp\\ipykernel_13200\\2007926673.py:66: FutureWarning: A value is trying to be set on a copy of a DataFrame or Series through chained assignment using an inplace method.\n",
            "The behavior will change in pandas 3.0. This inplace method will never work because the intermediate object on which we are setting values always behaves as a copy.\n",
            "\n",
            "For example, when doing 'df[col].method(value, inplace=True)', try using 'df.method({col: value}, inplace=True)' or df[col] = df[col].method(value) instead, to perform the operation inplace on the original object.\n",
            "\n",
            "\n",
            "  data[col].fillna(data[col].median(), inplace=True)\n",
            "C:\\Users\\Admin\\AppData\\Local\\Temp\\ipykernel_13200\\2007926673.py:66: FutureWarning: A value is trying to be set on a copy of a DataFrame or Series through chained assignment using an inplace method.\n",
            "The behavior will change in pandas 3.0. This inplace method will never work because the intermediate object on which we are setting values always behaves as a copy.\n",
            "\n",
            "For example, when doing 'df[col].method(value, inplace=True)', try using 'df.method({col: value}, inplace=True)' or df[col] = df[col].method(value) instead, to perform the operation inplace on the original object.\n",
            "\n",
            "\n",
            "  data[col].fillna(data[col].median(), inplace=True)\n",
            "C:\\Users\\Admin\\AppData\\Local\\Temp\\ipykernel_13200\\2007926673.py:66: FutureWarning: A value is trying to be set on a copy of a DataFrame or Series through chained assignment using an inplace method.\n",
            "The behavior will change in pandas 3.0. This inplace method will never work because the intermediate object on which we are setting values always behaves as a copy.\n",
            "\n",
            "For example, when doing 'df[col].method(value, inplace=True)', try using 'df.method({col: value}, inplace=True)' or df[col] = df[col].method(value) instead, to perform the operation inplace on the original object.\n",
            "\n",
            "\n",
            "  data[col].fillna(data[col].median(), inplace=True)\n",
            "C:\\Users\\Admin\\AppData\\Local\\Temp\\ipykernel_13200\\2007926673.py:66: FutureWarning: A value is trying to be set on a copy of a DataFrame or Series through chained assignment using an inplace method.\n",
            "The behavior will change in pandas 3.0. This inplace method will never work because the intermediate object on which we are setting values always behaves as a copy.\n",
            "\n",
            "For example, when doing 'df[col].method(value, inplace=True)', try using 'df.method({col: value}, inplace=True)' or df[col] = df[col].method(value) instead, to perform the operation inplace on the original object.\n",
            "\n",
            "\n",
            "  data[col].fillna(data[col].median(), inplace=True)\n",
            "C:\\Users\\Admin\\AppData\\Local\\Temp\\ipykernel_13200\\2007926673.py:66: FutureWarning: A value is trying to be set on a copy of a DataFrame or Series through chained assignment using an inplace method.\n",
            "The behavior will change in pandas 3.0. This inplace method will never work because the intermediate object on which we are setting values always behaves as a copy.\n",
            "\n",
            "For example, when doing 'df[col].method(value, inplace=True)', try using 'df.method({col: value}, inplace=True)' or df[col] = df[col].method(value) instead, to perform the operation inplace on the original object.\n",
            "\n",
            "\n",
            "  data[col].fillna(data[col].median(), inplace=True)\n",
            "C:\\Users\\Admin\\AppData\\Local\\Temp\\ipykernel_13200\\2007926673.py:66: FutureWarning: A value is trying to be set on a copy of a DataFrame or Series through chained assignment using an inplace method.\n",
            "The behavior will change in pandas 3.0. This inplace method will never work because the intermediate object on which we are setting values always behaves as a copy.\n",
            "\n",
            "For example, when doing 'df[col].method(value, inplace=True)', try using 'df.method({col: value}, inplace=True)' or df[col] = df[col].method(value) instead, to perform the operation inplace on the original object.\n",
            "\n",
            "\n",
            "  data[col].fillna(data[col].median(), inplace=True)\n",
            "C:\\Users\\Admin\\AppData\\Local\\Temp\\ipykernel_13200\\2007926673.py:66: FutureWarning: A value is trying to be set on a copy of a DataFrame or Series through chained assignment using an inplace method.\n",
            "The behavior will change in pandas 3.0. This inplace method will never work because the intermediate object on which we are setting values always behaves as a copy.\n",
            "\n",
            "For example, when doing 'df[col].method(value, inplace=True)', try using 'df.method({col: value}, inplace=True)' or df[col] = df[col].method(value) instead, to perform the operation inplace on the original object.\n",
            "\n",
            "\n",
            "  data[col].fillna(data[col].median(), inplace=True)\n",
            "C:\\Users\\Admin\\AppData\\Local\\Temp\\ipykernel_13200\\2007926673.py:66: FutureWarning: A value is trying to be set on a copy of a DataFrame or Series through chained assignment using an inplace method.\n",
            "The behavior will change in pandas 3.0. This inplace method will never work because the intermediate object on which we are setting values always behaves as a copy.\n",
            "\n",
            "For example, when doing 'df[col].method(value, inplace=True)', try using 'df.method({col: value}, inplace=True)' or df[col] = df[col].method(value) instead, to perform the operation inplace on the original object.\n",
            "\n",
            "\n",
            "  data[col].fillna(data[col].median(), inplace=True)\n",
            "C:\\Users\\Admin\\AppData\\Local\\Temp\\ipykernel_13200\\2007926673.py:66: FutureWarning: A value is trying to be set on a copy of a DataFrame or Series through chained assignment using an inplace method.\n",
            "The behavior will change in pandas 3.0. This inplace method will never work because the intermediate object on which we are setting values always behaves as a copy.\n",
            "\n",
            "For example, when doing 'df[col].method(value, inplace=True)', try using 'df.method({col: value}, inplace=True)' or df[col] = df[col].method(value) instead, to perform the operation inplace on the original object.\n",
            "\n",
            "\n",
            "  data[col].fillna(data[col].median(), inplace=True)\n",
            "C:\\Users\\Admin\\AppData\\Local\\Temp\\ipykernel_13200\\2007926673.py:66: FutureWarning: A value is trying to be set on a copy of a DataFrame or Series through chained assignment using an inplace method.\n",
            "The behavior will change in pandas 3.0. This inplace method will never work because the intermediate object on which we are setting values always behaves as a copy.\n",
            "\n",
            "For example, when doing 'df[col].method(value, inplace=True)', try using 'df.method({col: value}, inplace=True)' or df[col] = df[col].method(value) instead, to perform the operation inplace on the original object.\n",
            "\n",
            "\n",
            "  data[col].fillna(data[col].median(), inplace=True)\n",
            "C:\\Users\\Admin\\AppData\\Local\\Temp\\ipykernel_13200\\2007926673.py:66: FutureWarning: A value is trying to be set on a copy of a DataFrame or Series through chained assignment using an inplace method.\n",
            "The behavior will change in pandas 3.0. This inplace method will never work because the intermediate object on which we are setting values always behaves as a copy.\n",
            "\n",
            "For example, when doing 'df[col].method(value, inplace=True)', try using 'df.method({col: value}, inplace=True)' or df[col] = df[col].method(value) instead, to perform the operation inplace on the original object.\n",
            "\n",
            "\n",
            "  data[col].fillna(data[col].median(), inplace=True)\n",
            "C:\\Users\\Admin\\AppData\\Local\\Temp\\ipykernel_13200\\2007926673.py:66: FutureWarning: A value is trying to be set on a copy of a DataFrame or Series through chained assignment using an inplace method.\n",
            "The behavior will change in pandas 3.0. This inplace method will never work because the intermediate object on which we are setting values always behaves as a copy.\n",
            "\n",
            "For example, when doing 'df[col].method(value, inplace=True)', try using 'df.method({col: value}, inplace=True)' or df[col] = df[col].method(value) instead, to perform the operation inplace on the original object.\n",
            "\n",
            "\n",
            "  data[col].fillna(data[col].median(), inplace=True)\n",
            "C:\\Users\\Admin\\AppData\\Local\\Temp\\ipykernel_13200\\2007926673.py:66: FutureWarning: A value is trying to be set on a copy of a DataFrame or Series through chained assignment using an inplace method.\n",
            "The behavior will change in pandas 3.0. This inplace method will never work because the intermediate object on which we are setting values always behaves as a copy.\n",
            "\n",
            "For example, when doing 'df[col].method(value, inplace=True)', try using 'df.method({col: value}, inplace=True)' or df[col] = df[col].method(value) instead, to perform the operation inplace on the original object.\n",
            "\n",
            "\n",
            "  data[col].fillna(data[col].median(), inplace=True)\n",
            "C:\\Users\\Admin\\AppData\\Local\\Temp\\ipykernel_13200\\2007926673.py:66: FutureWarning: A value is trying to be set on a copy of a DataFrame or Series through chained assignment using an inplace method.\n",
            "The behavior will change in pandas 3.0. This inplace method will never work because the intermediate object on which we are setting values always behaves as a copy.\n",
            "\n",
            "For example, when doing 'df[col].method(value, inplace=True)', try using 'df.method({col: value}, inplace=True)' or df[col] = df[col].method(value) instead, to perform the operation inplace on the original object.\n",
            "\n",
            "\n",
            "  data[col].fillna(data[col].median(), inplace=True)\n",
            "C:\\Users\\Admin\\AppData\\Local\\Temp\\ipykernel_13200\\2007926673.py:66: FutureWarning: A value is trying to be set on a copy of a DataFrame or Series through chained assignment using an inplace method.\n",
            "The behavior will change in pandas 3.0. This inplace method will never work because the intermediate object on which we are setting values always behaves as a copy.\n",
            "\n",
            "For example, when doing 'df[col].method(value, inplace=True)', try using 'df.method({col: value}, inplace=True)' or df[col] = df[col].method(value) instead, to perform the operation inplace on the original object.\n",
            "\n",
            "\n",
            "  data[col].fillna(data[col].median(), inplace=True)\n",
            "C:\\Users\\Admin\\AppData\\Local\\Temp\\ipykernel_13200\\2007926673.py:66: FutureWarning: A value is trying to be set on a copy of a DataFrame or Series through chained assignment using an inplace method.\n",
            "The behavior will change in pandas 3.0. This inplace method will never work because the intermediate object on which we are setting values always behaves as a copy.\n",
            "\n",
            "For example, when doing 'df[col].method(value, inplace=True)', try using 'df.method({col: value}, inplace=True)' or df[col] = df[col].method(value) instead, to perform the operation inplace on the original object.\n",
            "\n",
            "\n",
            "  data[col].fillna(data[col].median(), inplace=True)\n",
            "C:\\Users\\Admin\\AppData\\Local\\Temp\\ipykernel_13200\\2007926673.py:66: FutureWarning: A value is trying to be set on a copy of a DataFrame or Series through chained assignment using an inplace method.\n",
            "The behavior will change in pandas 3.0. This inplace method will never work because the intermediate object on which we are setting values always behaves as a copy.\n",
            "\n",
            "For example, when doing 'df[col].method(value, inplace=True)', try using 'df.method({col: value}, inplace=True)' or df[col] = df[col].method(value) instead, to perform the operation inplace on the original object.\n",
            "\n",
            "\n",
            "  data[col].fillna(data[col].median(), inplace=True)\n",
            "C:\\Users\\Admin\\AppData\\Local\\Temp\\ipykernel_13200\\2007926673.py:66: FutureWarning: A value is trying to be set on a copy of a DataFrame or Series through chained assignment using an inplace method.\n",
            "The behavior will change in pandas 3.0. This inplace method will never work because the intermediate object on which we are setting values always behaves as a copy.\n",
            "\n",
            "For example, when doing 'df[col].method(value, inplace=True)', try using 'df.method({col: value}, inplace=True)' or df[col] = df[col].method(value) instead, to perform the operation inplace on the original object.\n",
            "\n",
            "\n",
            "  data[col].fillna(data[col].median(), inplace=True)\n",
            "C:\\Users\\Admin\\AppData\\Local\\Temp\\ipykernel_13200\\2007926673.py:66: FutureWarning: A value is trying to be set on a copy of a DataFrame or Series through chained assignment using an inplace method.\n",
            "The behavior will change in pandas 3.0. This inplace method will never work because the intermediate object on which we are setting values always behaves as a copy.\n",
            "\n",
            "For example, when doing 'df[col].method(value, inplace=True)', try using 'df.method({col: value}, inplace=True)' or df[col] = df[col].method(value) instead, to perform the operation inplace on the original object.\n",
            "\n",
            "\n",
            "  data[col].fillna(data[col].median(), inplace=True)\n",
            "C:\\Users\\Admin\\AppData\\Local\\Temp\\ipykernel_13200\\2007926673.py:66: FutureWarning: A value is trying to be set on a copy of a DataFrame or Series through chained assignment using an inplace method.\n",
            "The behavior will change in pandas 3.0. This inplace method will never work because the intermediate object on which we are setting values always behaves as a copy.\n",
            "\n",
            "For example, when doing 'df[col].method(value, inplace=True)', try using 'df.method({col: value}, inplace=True)' or df[col] = df[col].method(value) instead, to perform the operation inplace on the original object.\n",
            "\n",
            "\n",
            "  data[col].fillna(data[col].median(), inplace=True)\n",
            "C:\\Users\\Admin\\AppData\\Local\\Temp\\ipykernel_13200\\2007926673.py:66: FutureWarning: A value is trying to be set on a copy of a DataFrame or Series through chained assignment using an inplace method.\n",
            "The behavior will change in pandas 3.0. This inplace method will never work because the intermediate object on which we are setting values always behaves as a copy.\n",
            "\n",
            "For example, when doing 'df[col].method(value, inplace=True)', try using 'df.method({col: value}, inplace=True)' or df[col] = df[col].method(value) instead, to perform the operation inplace on the original object.\n",
            "\n",
            "\n",
            "  data[col].fillna(data[col].median(), inplace=True)\n",
            "C:\\Users\\Admin\\AppData\\Local\\Temp\\ipykernel_13200\\2007926673.py:66: FutureWarning: A value is trying to be set on a copy of a DataFrame or Series through chained assignment using an inplace method.\n",
            "The behavior will change in pandas 3.0. This inplace method will never work because the intermediate object on which we are setting values always behaves as a copy.\n",
            "\n",
            "For example, when doing 'df[col].method(value, inplace=True)', try using 'df.method({col: value}, inplace=True)' or df[col] = df[col].method(value) instead, to perform the operation inplace on the original object.\n",
            "\n",
            "\n",
            "  data[col].fillna(data[col].median(), inplace=True)\n",
            "C:\\Users\\Admin\\AppData\\Local\\Temp\\ipykernel_13200\\2007926673.py:66: FutureWarning: A value is trying to be set on a copy of a DataFrame or Series through chained assignment using an inplace method.\n",
            "The behavior will change in pandas 3.0. This inplace method will never work because the intermediate object on which we are setting values always behaves as a copy.\n",
            "\n",
            "For example, when doing 'df[col].method(value, inplace=True)', try using 'df.method({col: value}, inplace=True)' or df[col] = df[col].method(value) instead, to perform the operation inplace on the original object.\n",
            "\n",
            "\n",
            "  data[col].fillna(data[col].median(), inplace=True)\n",
            "C:\\Users\\Admin\\AppData\\Local\\Temp\\ipykernel_13200\\2007926673.py:66: FutureWarning: A value is trying to be set on a copy of a DataFrame or Series through chained assignment using an inplace method.\n",
            "The behavior will change in pandas 3.0. This inplace method will never work because the intermediate object on which we are setting values always behaves as a copy.\n",
            "\n",
            "For example, when doing 'df[col].method(value, inplace=True)', try using 'df.method({col: value}, inplace=True)' or df[col] = df[col].method(value) instead, to perform the operation inplace on the original object.\n",
            "\n",
            "\n",
            "  data[col].fillna(data[col].median(), inplace=True)\n",
            "C:\\Users\\Admin\\AppData\\Local\\Temp\\ipykernel_13200\\2007926673.py:66: FutureWarning: A value is trying to be set on a copy of a DataFrame or Series through chained assignment using an inplace method.\n",
            "The behavior will change in pandas 3.0. This inplace method will never work because the intermediate object on which we are setting values always behaves as a copy.\n",
            "\n",
            "For example, when doing 'df[col].method(value, inplace=True)', try using 'df.method({col: value}, inplace=True)' or df[col] = df[col].method(value) instead, to perform the operation inplace on the original object.\n",
            "\n",
            "\n",
            "  data[col].fillna(data[col].median(), inplace=True)\n",
            "C:\\Users\\Admin\\AppData\\Local\\Temp\\ipykernel_13200\\2007926673.py:66: FutureWarning: A value is trying to be set on a copy of a DataFrame or Series through chained assignment using an inplace method.\n",
            "The behavior will change in pandas 3.0. This inplace method will never work because the intermediate object on which we are setting values always behaves as a copy.\n",
            "\n",
            "For example, when doing 'df[col].method(value, inplace=True)', try using 'df.method({col: value}, inplace=True)' or df[col] = df[col].method(value) instead, to perform the operation inplace on the original object.\n",
            "\n",
            "\n",
            "  data[col].fillna(data[col].median(), inplace=True)\n",
            "C:\\Users\\Admin\\AppData\\Local\\Temp\\ipykernel_13200\\2007926673.py:66: FutureWarning: A value is trying to be set on a copy of a DataFrame or Series through chained assignment using an inplace method.\n",
            "The behavior will change in pandas 3.0. This inplace method will never work because the intermediate object on which we are setting values always behaves as a copy.\n",
            "\n",
            "For example, when doing 'df[col].method(value, inplace=True)', try using 'df.method({col: value}, inplace=True)' or df[col] = df[col].method(value) instead, to perform the operation inplace on the original object.\n",
            "\n",
            "\n",
            "  data[col].fillna(data[col].median(), inplace=True)\n",
            "C:\\Users\\Admin\\AppData\\Local\\Temp\\ipykernel_13200\\2007926673.py:66: FutureWarning: A value is trying to be set on a copy of a DataFrame or Series through chained assignment using an inplace method.\n",
            "The behavior will change in pandas 3.0. This inplace method will never work because the intermediate object on which we are setting values always behaves as a copy.\n",
            "\n",
            "For example, when doing 'df[col].method(value, inplace=True)', try using 'df.method({col: value}, inplace=True)' or df[col] = df[col].method(value) instead, to perform the operation inplace on the original object.\n",
            "\n",
            "\n",
            "  data[col].fillna(data[col].median(), inplace=True)\n",
            "C:\\Users\\Admin\\AppData\\Local\\Temp\\ipykernel_13200\\2007926673.py:66: FutureWarning: A value is trying to be set on a copy of a DataFrame or Series through chained assignment using an inplace method.\n",
            "The behavior will change in pandas 3.0. This inplace method will never work because the intermediate object on which we are setting values always behaves as a copy.\n",
            "\n",
            "For example, when doing 'df[col].method(value, inplace=True)', try using 'df.method({col: value}, inplace=True)' or df[col] = df[col].method(value) instead, to perform the operation inplace on the original object.\n",
            "\n",
            "\n",
            "  data[col].fillna(data[col].median(), inplace=True)\n",
            "C:\\Users\\Admin\\AppData\\Local\\Temp\\ipykernel_13200\\2007926673.py:66: FutureWarning: A value is trying to be set on a copy of a DataFrame or Series through chained assignment using an inplace method.\n",
            "The behavior will change in pandas 3.0. This inplace method will never work because the intermediate object on which we are setting values always behaves as a copy.\n",
            "\n",
            "For example, when doing 'df[col].method(value, inplace=True)', try using 'df.method({col: value}, inplace=True)' or df[col] = df[col].method(value) instead, to perform the operation inplace on the original object.\n",
            "\n",
            "\n",
            "  data[col].fillna(data[col].median(), inplace=True)\n",
            "C:\\Users\\Admin\\AppData\\Local\\Temp\\ipykernel_13200\\2007926673.py:66: FutureWarning: A value is trying to be set on a copy of a DataFrame or Series through chained assignment using an inplace method.\n",
            "The behavior will change in pandas 3.0. This inplace method will never work because the intermediate object on which we are setting values always behaves as a copy.\n",
            "\n",
            "For example, when doing 'df[col].method(value, inplace=True)', try using 'df.method({col: value}, inplace=True)' or df[col] = df[col].method(value) instead, to perform the operation inplace on the original object.\n",
            "\n",
            "\n",
            "  data[col].fillna(data[col].median(), inplace=True)\n",
            "C:\\Users\\Admin\\AppData\\Local\\Temp\\ipykernel_13200\\2007926673.py:66: FutureWarning: A value is trying to be set on a copy of a DataFrame or Series through chained assignment using an inplace method.\n",
            "The behavior will change in pandas 3.0. This inplace method will never work because the intermediate object on which we are setting values always behaves as a copy.\n",
            "\n",
            "For example, when doing 'df[col].method(value, inplace=True)', try using 'df.method({col: value}, inplace=True)' or df[col] = df[col].method(value) instead, to perform the operation inplace on the original object.\n",
            "\n",
            "\n",
            "  data[col].fillna(data[col].median(), inplace=True)\n"
          ]
        },
        {
          "name": "stdout",
          "output_type": "stream",
          "text": [
            "Removed 0 duplicate rows.\n",
            "Standardized column names: ['unnamed:_0', 'period_begin', 'period_end', 'period_duration', 'region_type', 'region_type_id', 'table_id', 'is_seasonally_adjusted', 'region', 'city', 'state', 'state_code', 'property_type', 'property_type_id', 'median_sale_price', 'median_sale_price_mom', 'median_sale_price_yoy', 'median_list_price', 'median_list_price_mom', 'median_list_price_yoy', 'median_ppsf', 'median_ppsf_mom', 'median_ppsf_yoy', 'median_list_ppsf', 'median_list_ppsf_mom', 'median_list_ppsf_yoy', 'homes_sold', 'homes_sold_mom', 'homes_sold_yoy', 'pending_sales', 'pending_sales_mom', 'pending_sales_yoy', 'new_listings', 'new_listings_mom', 'new_listings_yoy', 'inventory', 'inventory_mom', 'inventory_yoy', 'months_of_supply', 'months_of_supply_mom', 'months_of_supply_yoy', 'median_dom', 'median_dom_mom', 'median_dom_yoy', 'avg_sale_to_list', 'avg_sale_to_list_mom', 'avg_sale_to_list_yoy', 'sold_above_list', 'sold_above_list_mom', 'sold_above_list_yoy', 'price_drops', 'price_drops_mom', 'price_drops_yoy', 'off_market_in_two_weeks', 'off_market_in_two_weeks_mom', 'off_market_in_two_weeks_yoy', 'parent_metro_region', 'parent_metro_region_metro_code', 'last_updated']\n",
            "Final shape of real_df: (133370, 59)\n",
            "\n",
            "Cleaning dataset: social_media_real_estate\n",
            "Columns to drop (more than 80.0% missing values): ['flair']\n",
            "Removed 976 duplicate rows.\n",
            "Standardized column names: ['title', 'content', 'score', 'url', 'created_utc', 'city', 'state', 'year', 'upvote_ratio', 'date_posted', 'comments_count', 'awards_count', 'comments']\n",
            "Final shape of social_media_real_estate: (3002, 13)\n",
            "\n",
            "Cleaning dataset: crime_data\n",
            "Columns to drop (more than 80.0% missing values): []\n",
            "Removed 0 duplicate rows.\n",
            "Standardized column names: ['city', 'population', 'violent_crime', 'murder_and_nonnegligent_manslaughter', 'rape_(revised_definition)1', 'robbery', 'aggravated_assault', 'property_crime', 'burglary', 'larceny-_theft', 'motor_vehicle_theft', 'arson3', 'state', 'year']\n",
            "Final shape of crime_data: (1611, 14)\n",
            "\n",
            "name           0\n",
            "b01003_001e    0\n",
            "b01002_001e    0\n",
            "b25010_001e    0\n",
            "b15003_017e    0\n",
            "b15003_022e    0\n",
            "b02001_002e    0\n",
            "b02001_003e    0\n",
            "b03003_003e    0\n",
            "b01001_002e    0\n",
            "b01001_026e    0\n",
            "b01001_003e    0\n",
            "b01001_007e    0\n",
            "b01001_012e    0\n",
            "b01001_020e    0\n",
            "b25001_001e    0\n",
            "b25002_002e    0\n",
            "b25002_003e    0\n",
            "b25003_002e    0\n",
            "b25003_003e    0\n",
            "b25077_001e    0\n",
            "b25064_001e    0\n",
            "b25024_002e    0\n",
            "b25024_003e    0\n",
            "b25024_004e    0\n",
            "b25034_001e    0\n",
            "b25081_002e    0\n",
            "b25081_003e    0\n",
            "b25004_001e    0\n",
            "b25003_001e    0\n",
            "b19013_001e    0\n",
            "b19301_001e    0\n",
            "b23025_005e    0\n",
            "b23025_002e    0\n",
            "b17001_002e    0\n",
            "b17001_001e    0\n",
            "c24010_001e    0\n",
            "b19057_002e    0\n",
            "b08303_001e    0\n",
            "b08101_001e    0\n",
            "state_fips     0\n",
            "place          0\n",
            "state          0\n",
            "year           0\n",
            "dtype: int64\n",
            "name           0\n",
            "b01003_001e    0\n",
            "b01002_001e    0\n",
            "b25010_001e    0\n",
            "b15003_017e    0\n",
            "b15003_022e    0\n",
            "b02001_002e    0\n",
            "b02001_003e    0\n",
            "b03003_003e    0\n",
            "b01001_002e    0\n",
            "b01001_026e    0\n",
            "b01001_003e    0\n",
            "b01001_007e    0\n",
            "b01001_012e    0\n",
            "b01001_020e    0\n",
            "b25001_001e    0\n",
            "b25002_002e    0\n",
            "b25002_003e    0\n",
            "b25003_002e    0\n",
            "b25003_003e    0\n",
            "b25077_001e    0\n",
            "b25064_001e    0\n",
            "b25024_002e    0\n",
            "b25024_003e    0\n",
            "b25024_004e    0\n",
            "b25034_001e    0\n",
            "b25081_002e    0\n",
            "b25081_003e    0\n",
            "b25004_001e    0\n",
            "b25003_001e    0\n",
            "b19013_001e    0\n",
            "b19301_001e    0\n",
            "b23025_005e    0\n",
            "b23025_002e    0\n",
            "b17001_002e    0\n",
            "b17001_001e    0\n",
            "c24010_001e    0\n",
            "b19057_002e    0\n",
            "b08303_001e    0\n",
            "b08101_001e    0\n",
            "state_fips     0\n",
            "county         0\n",
            "state          0\n",
            "year           0\n",
            "dtype: int64\n"
          ]
        },
        {
          "name": "stderr",
          "output_type": "stream",
          "text": [
            "C:\\Users\\Admin\\AppData\\Local\\Temp\\ipykernel_13200\\2007926673.py:68: FutureWarning: A value is trying to be set on a copy of a DataFrame or Series through chained assignment using an inplace method.\n",
            "The behavior will change in pandas 3.0. This inplace method will never work because the intermediate object on which we are setting values always behaves as a copy.\n",
            "\n",
            "For example, when doing 'df[col].method(value, inplace=True)', try using 'df.method({col: value}, inplace=True)' or df[col] = df[col].method(value) instead, to perform the operation inplace on the original object.\n",
            "\n",
            "\n",
            "  data[col].fillna(data[col].mode()[0], inplace=True)\n",
            "C:\\Users\\Admin\\AppData\\Local\\Temp\\ipykernel_13200\\2007926673.py:66: FutureWarning: A value is trying to be set on a copy of a DataFrame or Series through chained assignment using an inplace method.\n",
            "The behavior will change in pandas 3.0. This inplace method will never work because the intermediate object on which we are setting values always behaves as a copy.\n",
            "\n",
            "For example, when doing 'df[col].method(value, inplace=True)', try using 'df.method({col: value}, inplace=True)' or df[col] = df[col].method(value) instead, to perform the operation inplace on the original object.\n",
            "\n",
            "\n",
            "  data[col].fillna(data[col].median(), inplace=True)\n",
            "C:\\Users\\Admin\\AppData\\Local\\Temp\\ipykernel_13200\\2007926673.py:66: FutureWarning: A value is trying to be set on a copy of a DataFrame or Series through chained assignment using an inplace method.\n",
            "The behavior will change in pandas 3.0. This inplace method will never work because the intermediate object on which we are setting values always behaves as a copy.\n",
            "\n",
            "For example, when doing 'df[col].method(value, inplace=True)', try using 'df.method({col: value}, inplace=True)' or df[col] = df[col].method(value) instead, to perform the operation inplace on the original object.\n",
            "\n",
            "\n",
            "  data[col].fillna(data[col].median(), inplace=True)\n",
            "C:\\Users\\Admin\\AppData\\Local\\Temp\\ipykernel_13200\\2007926673.py:66: FutureWarning: A value is trying to be set on a copy of a DataFrame or Series through chained assignment using an inplace method.\n",
            "The behavior will change in pandas 3.0. This inplace method will never work because the intermediate object on which we are setting values always behaves as a copy.\n",
            "\n",
            "For example, when doing 'df[col].method(value, inplace=True)', try using 'df.method({col: value}, inplace=True)' or df[col] = df[col].method(value) instead, to perform the operation inplace on the original object.\n",
            "\n",
            "\n",
            "  data[col].fillna(data[col].median(), inplace=True)\n",
            "C:\\Users\\Admin\\AppData\\Local\\Temp\\ipykernel_13200\\2007926673.py:66: FutureWarning: A value is trying to be set on a copy of a DataFrame or Series through chained assignment using an inplace method.\n",
            "The behavior will change in pandas 3.0. This inplace method will never work because the intermediate object on which we are setting values always behaves as a copy.\n",
            "\n",
            "For example, when doing 'df[col].method(value, inplace=True)', try using 'df.method({col: value}, inplace=True)' or df[col] = df[col].method(value) instead, to perform the operation inplace on the original object.\n",
            "\n",
            "\n",
            "  data[col].fillna(data[col].median(), inplace=True)\n",
            "C:\\Users\\Admin\\AppData\\Local\\Temp\\ipykernel_13200\\2007926673.py:66: FutureWarning: A value is trying to be set on a copy of a DataFrame or Series through chained assignment using an inplace method.\n",
            "The behavior will change in pandas 3.0. This inplace method will never work because the intermediate object on which we are setting values always behaves as a copy.\n",
            "\n",
            "For example, when doing 'df[col].method(value, inplace=True)', try using 'df.method({col: value}, inplace=True)' or df[col] = df[col].method(value) instead, to perform the operation inplace on the original object.\n",
            "\n",
            "\n",
            "  data[col].fillna(data[col].median(), inplace=True)\n",
            "C:\\Users\\Admin\\AppData\\Local\\Temp\\ipykernel_13200\\2007926673.py:66: FutureWarning: A value is trying to be set on a copy of a DataFrame or Series through chained assignment using an inplace method.\n",
            "The behavior will change in pandas 3.0. This inplace method will never work because the intermediate object on which we are setting values always behaves as a copy.\n",
            "\n",
            "For example, when doing 'df[col].method(value, inplace=True)', try using 'df.method({col: value}, inplace=True)' or df[col] = df[col].method(value) instead, to perform the operation inplace on the original object.\n",
            "\n",
            "\n",
            "  data[col].fillna(data[col].median(), inplace=True)\n",
            "C:\\Users\\Admin\\AppData\\Local\\Temp\\ipykernel_13200\\2007926673.py:66: FutureWarning: A value is trying to be set on a copy of a DataFrame or Series through chained assignment using an inplace method.\n",
            "The behavior will change in pandas 3.0. This inplace method will never work because the intermediate object on which we are setting values always behaves as a copy.\n",
            "\n",
            "For example, when doing 'df[col].method(value, inplace=True)', try using 'df.method({col: value}, inplace=True)' or df[col] = df[col].method(value) instead, to perform the operation inplace on the original object.\n",
            "\n",
            "\n",
            "  data[col].fillna(data[col].median(), inplace=True)\n"
          ]
        },
        {
          "name": "stdout",
          "output_type": "stream",
          "text": [
            "unnamed:_0                        0\n",
            "period_begin                      0\n",
            "period_end                        0\n",
            "period_duration                   0\n",
            "region_type                       0\n",
            "region_type_id                    0\n",
            "table_id                          0\n",
            "is_seasonally_adjusted            0\n",
            "region                            0\n",
            "city                              0\n",
            "state                             0\n",
            "state_code                        0\n",
            "property_type                     0\n",
            "property_type_id                  0\n",
            "median_sale_price                 0\n",
            "median_sale_price_mom             0\n",
            "median_sale_price_yoy             0\n",
            "median_list_price                 0\n",
            "median_list_price_mom             0\n",
            "median_list_price_yoy             0\n",
            "median_ppsf                       0\n",
            "median_ppsf_mom                   0\n",
            "median_ppsf_yoy                   0\n",
            "median_list_ppsf                  0\n",
            "median_list_ppsf_mom              0\n",
            "median_list_ppsf_yoy              0\n",
            "homes_sold                        0\n",
            "homes_sold_mom                    0\n",
            "homes_sold_yoy                    0\n",
            "pending_sales                     0\n",
            "pending_sales_mom                 0\n",
            "pending_sales_yoy                 0\n",
            "new_listings                      0\n",
            "new_listings_mom                  0\n",
            "new_listings_yoy                  0\n",
            "inventory                         0\n",
            "inventory_mom                     0\n",
            "inventory_yoy                     0\n",
            "months_of_supply                  0\n",
            "months_of_supply_mom              0\n",
            "months_of_supply_yoy              0\n",
            "median_dom                        0\n",
            "median_dom_mom                    0\n",
            "median_dom_yoy                    0\n",
            "avg_sale_to_list                  0\n",
            "avg_sale_to_list_mom              0\n",
            "avg_sale_to_list_yoy              0\n",
            "sold_above_list                   0\n",
            "sold_above_list_mom               0\n",
            "sold_above_list_yoy               0\n",
            "price_drops                       0\n",
            "price_drops_mom                   0\n",
            "price_drops_yoy                   0\n",
            "off_market_in_two_weeks           0\n",
            "off_market_in_two_weeks_mom       0\n",
            "off_market_in_two_weeks_yoy       0\n",
            "parent_metro_region               0\n",
            "parent_metro_region_metro_code    0\n",
            "last_updated                      0\n",
            "dtype: int64\n",
            "title             0\n",
            "content           0\n",
            "score             0\n",
            "url               0\n",
            "created_utc       0\n",
            "city              0\n",
            "state             0\n",
            "year              0\n",
            "upvote_ratio      0\n",
            "date_posted       0\n",
            "comments_count    0\n",
            "awards_count      0\n",
            "comments          0\n",
            "dtype: int64\n",
            "city                                    0\n",
            "population                              0\n",
            "violent_crime                           0\n",
            "murder_and_nonnegligent_manslaughter    0\n",
            "rape_(revised_definition)1              0\n",
            "robbery                                 0\n",
            "aggravated_assault                      0\n",
            "property_crime                          0\n",
            "burglary                                0\n",
            "larceny-_theft                          0\n",
            "motor_vehicle_theft                     0\n",
            "arson3                                  0\n",
            "state                                   0\n",
            "year                                    0\n",
            "dtype: int64\n"
          ]
        }
      ],
      "source": [
        "# Set options to display all rows and columns\n",
        "pd.set_option('display.max_rows', None)     # Show all rows\n",
        "pd.set_option('display.max_columns', None)  # Show all columns\n",
        "pd.set_option('display.width', None)        # Don't wrap lines\n",
        "pd.set_option('display.max_colwidth', None) # Show full content in each cell (esp. for long strings)\n",
        "census_all = pd.read_csv(\"census_real_estate_data - all places.csv\")\n",
        "census_county = pd.read_csv(\"census_real_estate_data_county.csv\")\n",
        "real_df = pd.read_csv(\"Connecticut_Louisiana_Real_Estate.csv\")\n",
        "social_media_real_estate = pd.read_csv(\"reddit_real_estate_data_balanced.csv\")\n",
        "crime_data = pd.read_excel(\"Crime Data(Louisiana_Connecticut).xlsx\")\n",
        "census_all.rename(columns={'state': 'state_fips'}, inplace=True)\n",
        "census_county.rename(columns={'state': 'state_fips'}, inplace=True)\n",
        "### Cleaning up the Data\n",
        "data_list = [census_all, census_county, real_df, social_media_real_estate, crime_data]\n",
        "for data in data_list:\n",
        "    # Display initial information\n",
        "    print(f\"Original data shape: {data.shape}\")\n",
        "    print(\"\\nColumns in the dataset:\")\n",
        "    for col in data.columns:\n",
        "        print(f\"- {col}\")\n",
        "\n",
        "    print(\"\\nFirst few rows:\")\n",
        "    print(data.head())\n",
        "\n",
        "    # Check for missing values\n",
        "    print(\"\\nMissing values percentage:\")\n",
        "    missing_percentage = data.isnull().mean() * 100\n",
        "\n",
        "    # Sort missing percentages from highest to lowest\n",
        "    sorted_missing = missing_percentage.sort_values(ascending=False)\n",
        "for col, pct in sorted_missing.items():\n",
        "    if pct > 0:  # Only show columns with missing values\n",
        "        print(f\"{col}: {pct:.2f}%\")\n",
        "census_all.shape\n",
        "print(census_all.info())\n",
        "print(census_all.isnull().sum())\n",
        "print(census_all.isnull().mean() * 100)\n",
        "data_list = [census_all, census_county, real_df, social_media_real_estate, crime_data]\n",
        "\n",
        "for data in data_list:\n",
        "    print(data.shape)\n",
        "    print(data.info())\n",
        "    print(data.isnull().sum())\n",
        "    print(data.isnull().mean() * 100)\n",
        "# List of datasets\n",
        "data_list = [census_all, census_county, real_df, social_media_real_estate, crime_data]\n",
        "dataset_names = [\"census_all\", \"census_county\", \"real_df\", \"social_media_real_estate\", \"crime_data\"]\n",
        "\n",
        "# Threshold for missing values\n",
        "threshold = 0.8\n",
        "\n",
        "# Function to clean a dataset\n",
        "def clean_dataset(data, name):\n",
        "    print(f\"Cleaning dataset: {name}\")\n",
        "\n",
        "    # Step 1: Remove columns with more than 80% missing values\n",
        "    missing_percentage = data.isnull().mean()\n",
        "    columns_to_drop = missing_percentage[missing_percentage > threshold].index\n",
        "    print(f\"Columns to drop (more than {threshold * 100}% missing values): {list(columns_to_drop)}\")\n",
        "    data.drop(columns=columns_to_drop, inplace=True)\n",
        "\n",
        "    # Step 2: Handle remaining missing values (fill with median for numeric columns)\n",
        "    for col in data.columns:\n",
        "        if data[col].isnull().sum() > 0:\n",
        "            if data[col].dtype in ['float64', 'int64']:\n",
        "                data[col].fillna(data[col].median(), inplace=True)\n",
        "            else:\n",
        "                data[col].fillna(data[col].mode()[0], inplace=True)\n",
        "\n",
        "    # Step 3: Remove duplicate rows\n",
        "    initial_shape = data.shape\n",
        "    data.drop_duplicates(inplace=True)\n",
        "    print(f\"Removed {initial_shape[0] - data.shape[0]} duplicate rows.\")\n",
        "\n",
        "    # Step 4: Standardize column names\n",
        "    data.columns = data.columns.str.lower().str.replace(' ', '_').str.replace('\\n', '_')\n",
        "    print(f\"Standardized column names: {list(data.columns)}\")\n",
        "\n",
        "    # Step 5: Display final shape\n",
        "    print(f\"Final shape of {name}: {data.shape}\\n\")\n",
        "    return data\n",
        "\n",
        "# Clean each dataset\n",
        "for i, data in enumerate(data_list):\n",
        "    data_list[i] = clean_dataset(data, dataset_names[i])\n",
        "for data in data_list:\n",
        "    print(data.isnull().sum())"
      ]
    },
    {
      "cell_type": "code",
      "execution_count": null,
      "metadata": {
        "colab": {
          "base_uri": "https://localhost:8080/",
          "height": 1000
        },
        "id": "_YLwVZGMVJq2",
        "outputId": "03d5670c-eb19-4674-db03-1e978e449994"
      },
      "outputs": [
        {
          "data": {
            "application/vnd.google.colaboratory.intrinsic+json": {
              "type": "dataframe",
              "variable_name": "social_media_real_estate"
            },
            "text/html": [
              "\n",
              "  <div id=\"df-bbf8d6cb-80f1-40fc-b5d1-475cd8e7bc77\" class=\"colab-df-container\">\n",
              "    <div>\n",
              "<style scoped>\n",
              "    .dataframe tbody tr th:only-of-type {\n",
              "        vertical-align: middle;\n",
              "    }\n",
              "\n",
              "    .dataframe tbody tr th {\n",
              "        vertical-align: top;\n",
              "    }\n",
              "\n",
              "    .dataframe thead th {\n",
              "        text-align: right;\n",
              "    }\n",
              "</style>\n",
              "<table border=\"1\" class=\"dataframe\">\n",
              "  <thead>\n",
              "    <tr style=\"text-align: right;\">\n",
              "      <th></th>\n",
              "      <th>unnamed:_0</th>\n",
              "      <th>title</th>\n",
              "      <th>content</th>\n",
              "      <th>score</th>\n",
              "      <th>url</th>\n",
              "      <th>created_utc</th>\n",
              "      <th>city</th>\n",
              "      <th>state</th>\n",
              "      <th>year</th>\n",
              "      <th>upvote_ratio</th>\n",
              "      <th>date_posted</th>\n",
              "      <th>comments_count</th>\n",
              "      <th>awards_count</th>\n",
              "      <th>comments</th>\n",
              "      <th>content_sentiment_label</th>\n",
              "      <th>content_negative_score</th>\n",
              "      <th>content_neutral_score</th>\n",
              "      <th>content_positive_score</th>\n",
              "      <th>comments_sentiment_label</th>\n",
              "      <th>comments_negative_score</th>\n",
              "      <th>comments_neutral_score</th>\n",
              "      <th>comments_positive_score</th>\n",
              "    </tr>\n",
              "  </thead>\n",
              "  <tbody>\n",
              "    <tr>\n",
              "      <th>0</th>\n",
              "      <td>0</td>\n",
              "      <td>Need help removing my phone number from an unknown property database</td>\n",
              "      <td>many year ago unknown scammer begin add phone number market real estate listing fl . still get text call investment company ask want sell nonexistent property . first start contact ml tell remove number database , , callstexts still continue day . database sit 'm aware ? way find investment company find number ? one property constantly contact - owner , william erickson , own property people contact property . always address william , appear somewhere secret database access , number connect guy . help would appreciate .</td>\n",
              "      <td>1</td>\n",
              "      <td>https://www.reddit.com/r/RealEstate/comments/1jrb526/need_help_removing_my_phone_number_from_an/</td>\n",
              "      <td>1.743771e+09</td>\n",
              "      <td>Ansonia</td>\n",
              "      <td>Connecticut</td>\n",
              "      <td>2019</td>\n",
              "      <td>1.0</td>\n",
              "      <td>2025-04-04 13:52:54</td>\n",
              "      <td>2</td>\n",
              "      <td>0</td>\n",
              "      <td>'m sorry . may mr. erickson use phone number . call database might help long run , short run 's workaround . change voicemail message `` hi , [ name ] . call property own william erickson , property know reach owner . others please leave message . '' n't answer call unknown caller . text , simply answer stop . use kind automate system , take list . human also respect . 's ton place info could . assume n't want get new number , would suggest get call screen app like hiya 've find quite effective block junk call .</td>\n",
              "      <td>Negative</td>\n",
              "      <td>0.611182</td>\n",
              "      <td>0.370701</td>\n",
              "      <td>0.018117</td>\n",
              "      <td>Neutral</td>\n",
              "      <td>0.372709</td>\n",
              "      <td>0.587213</td>\n",
              "      <td>0.040078</td>\n",
              "    </tr>\n",
              "    <tr>\n",
              "      <th>1</th>\n",
              "      <td>1</td>\n",
              "      <td>Need help removing my phone number from an unknown property database</td>\n",
              "      <td>many year ago unknown scammer begin add phone number market real estate listing fl . still get text call investment company ask want sell nonexistent property . first start contact ml tell remove number database , , callstexts still continue day . database sit 'm aware ? way find investment company find number ? one property constantly contact - owner , william erickson , own property people contact property . always address william , appear somewhere secret database access , number connect guy . help would appreciate .</td>\n",
              "      <td>1</td>\n",
              "      <td>https://www.reddit.com/r/RealEstate/comments/1jrb526/need_help_removing_my_phone_number_from_an/</td>\n",
              "      <td>1.743771e+09</td>\n",
              "      <td>Ansonia</td>\n",
              "      <td>Connecticut</td>\n",
              "      <td>2020</td>\n",
              "      <td>1.0</td>\n",
              "      <td>2025-04-04 13:52:54</td>\n",
              "      <td>2</td>\n",
              "      <td>0</td>\n",
              "      <td>'m sorry . may mr. erickson use phone number . call database might help long run , short run 's workaround . change voicemail message `` hi , [ name ] . call property own william erickson , property know reach owner . others please leave message . '' n't answer call unknown caller . text , simply answer stop . use kind automate system , take list . human also respect . 's ton place info could . assume n't want get new number , would suggest get call screen app like hiya 've find quite effective block junk call .</td>\n",
              "      <td>Negative</td>\n",
              "      <td>0.611182</td>\n",
              "      <td>0.370701</td>\n",
              "      <td>0.018117</td>\n",
              "      <td>Neutral</td>\n",
              "      <td>0.372709</td>\n",
              "      <td>0.587213</td>\n",
              "      <td>0.040078</td>\n",
              "    </tr>\n",
              "    <tr>\n",
              "      <th>2</th>\n",
              "      <td>2</td>\n",
              "      <td>Buying Neighbors House Strategy</td>\n",
              "      <td>'re interest buy neighbor 's house . owner recently pas away , daughter handle sale . officially market yet , real estate agent likely list soon . reach since 've get acquaint year , give agent contact infoso seem like shes plan go traditional list process , sell off-market u directly . question : reach list agent , real estate agent make contact ? thing make seller agent life easier also give competitive advantage ? strategy 'd recommend make offer stand ? quick context : house ugliest block , amaze neighborhood . zillow put value around 1.6m . neighbor side house also interest weve get competition ! arent look discount price would offer 1.6m</td>\n",
              "      <td>2</td>\n",
              "      <td>https://www.reddit.com/r/RealEstate/comments/1jr2x2d/buying_neighbors_house_strategy/</td>\n",
              "      <td>1.743739e+09</td>\n",
              "      <td>Ansonia</td>\n",
              "      <td>Connecticut</td>\n",
              "      <td>2020</td>\n",
              "      <td>1.0</td>\n",
              "      <td>2025-04-04 04:58:48</td>\n",
              "      <td>4</td>\n",
              "      <td>0</td>\n",
              "      <td>agent reach list agent see make offer go full market . full market mean competition . pretty good offer sell pre market . maybe heir want do . good luck ! itll interest see advice get compare agent recommend . im guess ask agent question theyll want reach behalf ( thats agent would suggest ) - seller , would dream neighbor seriously interest id consider fair market price ( like , wouldnt sell neighbor discount without list first see could get fair offer ) . dont ton advice wish best luck . low move cost get house : ) sure dual agency state id consider reach directly list agent ( double commission ) say youre really familiar house neighborhood interest make strong offer . dont think anything could stop go market dual commission likelihood close put pole position win deal . recommend interview least three agent pick one . also recommend agent reach say `` understand situation sorry client 's loss . thing client look purchase offer , price course ? '' sometimes little detail important . maybe want super fast close , maybe need 60 day clean house 'll never know unless someone ask . care seller want ? make offer stand . ignore zillow -- 's entertainment value -- let agent show list `` comp '' ( similar property sell last 90 day ) determine fair offer .</td>\n",
              "      <td>Neutral</td>\n",
              "      <td>0.031773</td>\n",
              "      <td>0.829893</td>\n",
              "      <td>0.138334</td>\n",
              "      <td>Positive</td>\n",
              "      <td>0.008357</td>\n",
              "      <td>0.149952</td>\n",
              "      <td>0.841691</td>\n",
              "    </tr>\n",
              "    <tr>\n",
              "      <th>3</th>\n",
              "      <td>3</td>\n",
              "      <td>Foreclosure offer in this market (US)</td>\n",
              "      <td>find foreclosure house husband really love great neighborhood . hasnt occupant 10 year foreclosure since 2017. need lot work ( probably 100-200k ) know right probably isnt best time go market 475 ( sell 2001 190 ) lot work ( giant hole ceiling , possible water damage , outdated thats see - bring contractor saturday ) . theyre open investor 400 low ? know bank accept whatever whats go right feel like thats bad offer ? dont know everything go bank would expect investor meet price .</td>\n",
              "      <td>0</td>\n",
              "      <td>https://www.reddit.com/r/RealEstate/comments/1jr5cqm/foreclosure_offer_in_this_market_us/</td>\n",
              "      <td>1.743748e+09</td>\n",
              "      <td>Ansonia</td>\n",
              "      <td>Connecticut</td>\n",
              "      <td>2019</td>\n",
              "      <td>0.5</td>\n",
              "      <td>2025-04-04 07:29:24</td>\n",
              "      <td>4</td>\n",
              "      <td>0</td>\n",
              "      <td>cash ? investment loan ? isnt go qualify traditional finance . submit whatever offer like . lot experience investor probably go decent neighborhood . renovate cheaper . take finish value per comp subtract repair . price . competition . good luck ! put bid go investor good offer expect bank anticipate investor go nut one ? wishful think investor go lower ? isnt go qualify traditional finance . want emphasize . seller know go even look offer involve traditional mortgage . n't cash right -- enough buy outright rehab -- probably leave investor deep pocket . , 's kind property live fix little time . fixer upper 's wonderful life ? 's fiction even buyer own mortgage bank . generally bank move slow jump first offer . duty get best price bank . contingency free . bank dont like contingency .</td>\n",
              "      <td>Neutral</td>\n",
              "      <td>0.320147</td>\n",
              "      <td>0.430857</td>\n",
              "      <td>0.248996</td>\n",
              "      <td>Neutral</td>\n",
              "      <td>0.063414</td>\n",
              "      <td>0.513370</td>\n",
              "      <td>0.423216</td>\n",
              "    </tr>\n",
              "    <tr>\n",
              "      <th>4</th>\n",
              "      <td>4</td>\n",
              "      <td>Buying Neighbors House Strategy</td>\n",
              "      <td>'re interest buy neighbor 's house . owner recently pas away , daughter handle sale . officially market yet , real estate agent likely list soon . reach since 've get acquaint year , give agent contact infoso seem like shes plan go traditional list process , sell off-market u directly . question : reach list agent , real estate agent make contact ? thing make seller agent life easier also give competitive advantage ? strategy 'd recommend make offer stand ? quick context : house ugliest block , amaze neighborhood . zillow put value around 1.6m . neighbor side house also interest weve get competition ! arent look discount price would offer 1.6m</td>\n",
              "      <td>2</td>\n",
              "      <td>https://www.reddit.com/r/RealEstate/comments/1jr2x2d/buying_neighbors_house_strategy/</td>\n",
              "      <td>1.743739e+09</td>\n",
              "      <td>Ansonia</td>\n",
              "      <td>Connecticut</td>\n",
              "      <td>2019</td>\n",
              "      <td>1.0</td>\n",
              "      <td>2025-04-04 04:58:48</td>\n",
              "      <td>4</td>\n",
              "      <td>0</td>\n",
              "      <td>agent reach list agent see make offer go full market . full market mean competition . pretty good offer sell pre market . maybe heir want do . good luck ! itll interest see advice get compare agent recommend . im guess ask agent question theyll want reach behalf ( thats agent would suggest ) - seller , would dream neighbor seriously interest id consider fair market price ( like , wouldnt sell neighbor discount without list first see could get fair offer ) . dont ton advice wish best luck . low move cost get house : ) sure dual agency state id consider reach directly list agent ( double commission ) say youre really familiar house neighborhood interest make strong offer . dont think anything could stop go market dual commission likelihood close put pole position win deal . recommend interview least three agent pick one . also recommend agent reach say `` understand situation sorry client 's loss . thing client look purchase offer , price course ? '' sometimes little detail important . maybe want super fast close , maybe need 60 day clean house 'll never know unless someone ask . care seller want ? make offer stand . ignore zillow -- 's entertainment value -- let agent show list `` comp '' ( similar property sell last 90 day ) determine fair offer .</td>\n",
              "      <td>Neutral</td>\n",
              "      <td>0.031773</td>\n",
              "      <td>0.829893</td>\n",
              "      <td>0.138334</td>\n",
              "      <td>Positive</td>\n",
              "      <td>0.008357</td>\n",
              "      <td>0.149952</td>\n",
              "      <td>0.841691</td>\n",
              "    </tr>\n",
              "  </tbody>\n",
              "</table>\n",
              "</div>\n",
              "    <div class=\"colab-df-buttons\">\n",
              "\n",
              "  <div class=\"colab-df-container\">\n",
              "    <button class=\"colab-df-convert\" onclick=\"convertToInteractive('df-bbf8d6cb-80f1-40fc-b5d1-475cd8e7bc77')\"\n",
              "            title=\"Convert this dataframe to an interactive table.\"\n",
              "            style=\"display:none;\">\n",
              "\n",
              "  <svg xmlns=\"http://www.w3.org/2000/svg\" height=\"24px\" viewBox=\"0 -960 960 960\">\n",
              "    <path d=\"M120-120v-720h720v720H120Zm60-500h600v-160H180v160Zm220 220h160v-160H400v160Zm0 220h160v-160H400v160ZM180-400h160v-160H180v160Zm440 0h160v-160H620v160ZM180-180h160v-160H180v160Zm440 0h160v-160H620v160Z\"/>\n",
              "  </svg>\n",
              "    </button>\n",
              "\n",
              "  <style>\n",
              "    .colab-df-container {\n",
              "      display:flex;\n",
              "      gap: 12px;\n",
              "    }\n",
              "\n",
              "    .colab-df-convert {\n",
              "      background-color: #E8F0FE;\n",
              "      border: none;\n",
              "      border-radius: 50%;\n",
              "      cursor: pointer;\n",
              "      display: none;\n",
              "      fill: #1967D2;\n",
              "      height: 32px;\n",
              "      padding: 0 0 0 0;\n",
              "      width: 32px;\n",
              "    }\n",
              "\n",
              "    .colab-df-convert:hover {\n",
              "      background-color: #E2EBFA;\n",
              "      box-shadow: 0px 1px 2px rgba(60, 64, 67, 0.3), 0px 1px 3px 1px rgba(60, 64, 67, 0.15);\n",
              "      fill: #174EA6;\n",
              "    }\n",
              "\n",
              "    .colab-df-buttons div {\n",
              "      margin-bottom: 4px;\n",
              "    }\n",
              "\n",
              "    [theme=dark] .colab-df-convert {\n",
              "      background-color: #3B4455;\n",
              "      fill: #D2E3FC;\n",
              "    }\n",
              "\n",
              "    [theme=dark] .colab-df-convert:hover {\n",
              "      background-color: #434B5C;\n",
              "      box-shadow: 0px 1px 3px 1px rgba(0, 0, 0, 0.15);\n",
              "      filter: drop-shadow(0px 1px 2px rgba(0, 0, 0, 0.3));\n",
              "      fill: #FFFFFF;\n",
              "    }\n",
              "  </style>\n",
              "\n",
              "    <script>\n",
              "      const buttonEl =\n",
              "        document.querySelector('#df-bbf8d6cb-80f1-40fc-b5d1-475cd8e7bc77 button.colab-df-convert');\n",
              "      buttonEl.style.display =\n",
              "        google.colab.kernel.accessAllowed ? 'block' : 'none';\n",
              "\n",
              "      async function convertToInteractive(key) {\n",
              "        const element = document.querySelector('#df-bbf8d6cb-80f1-40fc-b5d1-475cd8e7bc77');\n",
              "        const dataTable =\n",
              "          await google.colab.kernel.invokeFunction('convertToInteractive',\n",
              "                                                    [key], {});\n",
              "        if (!dataTable) return;\n",
              "\n",
              "        const docLinkHtml = 'Like what you see? Visit the ' +\n",
              "          '<a target=\"_blank\" href=https://colab.research.google.com/notebooks/data_table.ipynb>data table notebook</a>'\n",
              "          + ' to learn more about interactive tables.';\n",
              "        element.innerHTML = '';\n",
              "        dataTable['output_type'] = 'display_data';\n",
              "        await google.colab.output.renderOutput(dataTable, element);\n",
              "        const docLink = document.createElement('div');\n",
              "        docLink.innerHTML = docLinkHtml;\n",
              "        element.appendChild(docLink);\n",
              "      }\n",
              "    </script>\n",
              "  </div>\n",
              "\n",
              "\n",
              "    <div id=\"df-eec30938-ac55-4050-8e4a-e6459c2f8937\">\n",
              "      <button class=\"colab-df-quickchart\" onclick=\"quickchart('df-eec30938-ac55-4050-8e4a-e6459c2f8937')\"\n",
              "                title=\"Suggest charts\"\n",
              "                style=\"display:none;\">\n",
              "\n",
              "<svg xmlns=\"http://www.w3.org/2000/svg\" height=\"24px\"viewBox=\"0 0 24 24\"\n",
              "     width=\"24px\">\n",
              "    <g>\n",
              "        <path d=\"M19 3H5c-1.1 0-2 .9-2 2v14c0 1.1.9 2 2 2h14c1.1 0 2-.9 2-2V5c0-1.1-.9-2-2-2zM9 17H7v-7h2v7zm4 0h-2V7h2v10zm4 0h-2v-4h2v4z\"/>\n",
              "    </g>\n",
              "</svg>\n",
              "      </button>\n",
              "\n",
              "<style>\n",
              "  .colab-df-quickchart {\n",
              "      --bg-color: #E8F0FE;\n",
              "      --fill-color: #1967D2;\n",
              "      --hover-bg-color: #E2EBFA;\n",
              "      --hover-fill-color: #174EA6;\n",
              "      --disabled-fill-color: #AAA;\n",
              "      --disabled-bg-color: #DDD;\n",
              "  }\n",
              "\n",
              "  [theme=dark] .colab-df-quickchart {\n",
              "      --bg-color: #3B4455;\n",
              "      --fill-color: #D2E3FC;\n",
              "      --hover-bg-color: #434B5C;\n",
              "      --hover-fill-color: #FFFFFF;\n",
              "      --disabled-bg-color: #3B4455;\n",
              "      --disabled-fill-color: #666;\n",
              "  }\n",
              "\n",
              "  .colab-df-quickchart {\n",
              "    background-color: var(--bg-color);\n",
              "    border: none;\n",
              "    border-radius: 50%;\n",
              "    cursor: pointer;\n",
              "    display: none;\n",
              "    fill: var(--fill-color);\n",
              "    height: 32px;\n",
              "    padding: 0;\n",
              "    width: 32px;\n",
              "  }\n",
              "\n",
              "  .colab-df-quickchart:hover {\n",
              "    background-color: var(--hover-bg-color);\n",
              "    box-shadow: 0 1px 2px rgba(60, 64, 67, 0.3), 0 1px 3px 1px rgba(60, 64, 67, 0.15);\n",
              "    fill: var(--button-hover-fill-color);\n",
              "  }\n",
              "\n",
              "  .colab-df-quickchart-complete:disabled,\n",
              "  .colab-df-quickchart-complete:disabled:hover {\n",
              "    background-color: var(--disabled-bg-color);\n",
              "    fill: var(--disabled-fill-color);\n",
              "    box-shadow: none;\n",
              "  }\n",
              "\n",
              "  .colab-df-spinner {\n",
              "    border: 2px solid var(--fill-color);\n",
              "    border-color: transparent;\n",
              "    border-bottom-color: var(--fill-color);\n",
              "    animation:\n",
              "      spin 1s steps(1) infinite;\n",
              "  }\n",
              "\n",
              "  @keyframes spin {\n",
              "    0% {\n",
              "      border-color: transparent;\n",
              "      border-bottom-color: var(--fill-color);\n",
              "      border-left-color: var(--fill-color);\n",
              "    }\n",
              "    20% {\n",
              "      border-color: transparent;\n",
              "      border-left-color: var(--fill-color);\n",
              "      border-top-color: var(--fill-color);\n",
              "    }\n",
              "    30% {\n",
              "      border-color: transparent;\n",
              "      border-left-color: var(--fill-color);\n",
              "      border-top-color: var(--fill-color);\n",
              "      border-right-color: var(--fill-color);\n",
              "    }\n",
              "    40% {\n",
              "      border-color: transparent;\n",
              "      border-right-color: var(--fill-color);\n",
              "      border-top-color: var(--fill-color);\n",
              "    }\n",
              "    60% {\n",
              "      border-color: transparent;\n",
              "      border-right-color: var(--fill-color);\n",
              "    }\n",
              "    80% {\n",
              "      border-color: transparent;\n",
              "      border-right-color: var(--fill-color);\n",
              "      border-bottom-color: var(--fill-color);\n",
              "    }\n",
              "    90% {\n",
              "      border-color: transparent;\n",
              "      border-bottom-color: var(--fill-color);\n",
              "    }\n",
              "  }\n",
              "</style>\n",
              "\n",
              "      <script>\n",
              "        async function quickchart(key) {\n",
              "          const quickchartButtonEl =\n",
              "            document.querySelector('#' + key + ' button');\n",
              "          quickchartButtonEl.disabled = true;  // To prevent multiple clicks.\n",
              "          quickchartButtonEl.classList.add('colab-df-spinner');\n",
              "          try {\n",
              "            const charts = await google.colab.kernel.invokeFunction(\n",
              "                'suggestCharts', [key], {});\n",
              "          } catch (error) {\n",
              "            console.error('Error during call to suggestCharts:', error);\n",
              "          }\n",
              "          quickchartButtonEl.classList.remove('colab-df-spinner');\n",
              "          quickchartButtonEl.classList.add('colab-df-quickchart-complete');\n",
              "        }\n",
              "        (() => {\n",
              "          let quickchartButtonEl =\n",
              "            document.querySelector('#df-eec30938-ac55-4050-8e4a-e6459c2f8937 button');\n",
              "          quickchartButtonEl.style.display =\n",
              "            google.colab.kernel.accessAllowed ? 'block' : 'none';\n",
              "        })();\n",
              "      </script>\n",
              "    </div>\n",
              "\n",
              "    </div>\n",
              "  </div>\n"
            ],
            "text/plain": [
              "   unnamed:_0  \\\n",
              "0           0   \n",
              "1           1   \n",
              "2           2   \n",
              "3           3   \n",
              "4           4   \n",
              "\n",
              "                                                                  title  \\\n",
              "0  Need help removing my phone number from an unknown property database   \n",
              "1  Need help removing my phone number from an unknown property database   \n",
              "2                                       Buying Neighbors House Strategy   \n",
              "3                                 Foreclosure offer in this market (US)   \n",
              "4                                       Buying Neighbors House Strategy   \n",
              "\n",
              "                                                                                                                                                                                                                                                                                                                                                                                                                                                                                                                                                                                                                                                                       content  \\\n",
              "0                                                                                                                                many year ago unknown scammer begin add phone number market real estate listing fl . still get text call investment company ask want sell nonexistent property . first start contact ml tell remove number database , , callstexts still continue day . database sit 'm aware ? way find investment company find number ? one property constantly contact - owner , william erickson , own property people contact property . always address william , appear somewhere secret database access , number connect guy . help would appreciate .   \n",
              "1                                                                                                                                many year ago unknown scammer begin add phone number market real estate listing fl . still get text call investment company ask want sell nonexistent property . first start contact ml tell remove number database , , callstexts still continue day . database sit 'm aware ? way find investment company find number ? one property constantly contact - owner , william erickson , own property people contact property . always address william , appear somewhere secret database access , number connect guy . help would appreciate .   \n",
              "2  're interest buy neighbor 's house . owner recently pas away , daughter handle sale . officially market yet , real estate agent likely list soon . reach since 've get acquaint year , give agent contact infoso seem like shes plan go traditional list process , sell off-market u directly . question : reach list agent , real estate agent make contact ? thing make seller agent life easier also give competitive advantage ? strategy 'd recommend make offer stand ? quick context : house ugliest block , amaze neighborhood . zillow put value around 1.6m . neighbor side house also interest weve get competition ! arent look discount price would offer 1.6m   \n",
              "3                                                                                                                                                                         find foreclosure house husband really love great neighborhood . hasnt occupant 10 year foreclosure since 2017. need lot work ( probably 100-200k ) know right probably isnt best time go market 475 ( sell 2001 190 ) lot work ( giant hole ceiling , possible water damage , outdated thats see - bring contractor saturday ) . theyre open investor 400 low ? know bank accept whatever whats go right feel like thats bad offer ? dont know everything go bank would expect investor meet price .   \n",
              "4  're interest buy neighbor 's house . owner recently pas away , daughter handle sale . officially market yet , real estate agent likely list soon . reach since 've get acquaint year , give agent contact infoso seem like shes plan go traditional list process , sell off-market u directly . question : reach list agent , real estate agent make contact ? thing make seller agent life easier also give competitive advantage ? strategy 'd recommend make offer stand ? quick context : house ugliest block , amaze neighborhood . zillow put value around 1.6m . neighbor side house also interest weve get competition ! arent look discount price would offer 1.6m   \n",
              "\n",
              "   score  \\\n",
              "0      1   \n",
              "1      1   \n",
              "2      2   \n",
              "3      0   \n",
              "4      2   \n",
              "\n",
              "                                                                                                url  \\\n",
              "0  https://www.reddit.com/r/RealEstate/comments/1jrb526/need_help_removing_my_phone_number_from_an/   \n",
              "1  https://www.reddit.com/r/RealEstate/comments/1jrb526/need_help_removing_my_phone_number_from_an/   \n",
              "2             https://www.reddit.com/r/RealEstate/comments/1jr2x2d/buying_neighbors_house_strategy/   \n",
              "3         https://www.reddit.com/r/RealEstate/comments/1jr5cqm/foreclosure_offer_in_this_market_us/   \n",
              "4             https://www.reddit.com/r/RealEstate/comments/1jr2x2d/buying_neighbors_house_strategy/   \n",
              "\n",
              "    created_utc     city        state  year  upvote_ratio  \\\n",
              "0  1.743771e+09  Ansonia  Connecticut  2019           1.0   \n",
              "1  1.743771e+09  Ansonia  Connecticut  2020           1.0   \n",
              "2  1.743739e+09  Ansonia  Connecticut  2020           1.0   \n",
              "3  1.743748e+09  Ansonia  Connecticut  2019           0.5   \n",
              "4  1.743739e+09  Ansonia  Connecticut  2019           1.0   \n",
              "\n",
              "           date_posted  comments_count  awards_count  \\\n",
              "0  2025-04-04 13:52:54               2             0   \n",
              "1  2025-04-04 13:52:54               2             0   \n",
              "2  2025-04-04 04:58:48               4             0   \n",
              "3  2025-04-04 07:29:24               4             0   \n",
              "4  2025-04-04 04:58:48               4             0   \n",
              "\n",
              "                                                                                                                                                                                                                                                                                                                                                                                                                                                                                                                                                                                                                                                                                                                                                                                                                                                                                                                                                                                                                                                                                                                                                                                                                                                                                                              comments  \\\n",
              "0                                                                                                                                                                                                                                                                                                                                                                                                                                                                                                                                                                                                                                                                                                                                                                                'm sorry . may mr. erickson use phone number . call database might help long run , short run 's workaround . change voicemail message `` hi , [ name ] . call property own william erickson , property know reach owner . others please leave message . '' n't answer call unknown caller . text , simply answer stop . use kind automate system , take list . human also respect . 's ton place info could . assume n't want get new number , would suggest get call screen app like hiya 've find quite effective block junk call .   \n",
              "1                                                                                                                                                                                                                                                                                                                                                                                                                                                                                                                                                                                                                                                                                                                                                                                'm sorry . may mr. erickson use phone number . call database might help long run , short run 's workaround . change voicemail message `` hi , [ name ] . call property own william erickson , property know reach owner . others please leave message . '' n't answer call unknown caller . text , simply answer stop . use kind automate system , take list . human also respect . 's ton place info could . assume n't want get new number , would suggest get call screen app like hiya 've find quite effective block junk call .   \n",
              "2  agent reach list agent see make offer go full market . full market mean competition . pretty good offer sell pre market . maybe heir want do . good luck ! itll interest see advice get compare agent recommend . im guess ask agent question theyll want reach behalf ( thats agent would suggest ) - seller , would dream neighbor seriously interest id consider fair market price ( like , wouldnt sell neighbor discount without list first see could get fair offer ) . dont ton advice wish best luck . low move cost get house : ) sure dual agency state id consider reach directly list agent ( double commission ) say youre really familiar house neighborhood interest make strong offer . dont think anything could stop go market dual commission likelihood close put pole position win deal . recommend interview least three agent pick one . also recommend agent reach say `` understand situation sorry client 's loss . thing client look purchase offer , price course ? '' sometimes little detail important . maybe want super fast close , maybe need 60 day clean house 'll never know unless someone ask . care seller want ? make offer stand . ignore zillow -- 's entertainment value -- let agent show list `` comp '' ( similar property sell last 90 day ) determine fair offer .   \n",
              "3                                                                                                                                                                                                                                                                                                                                                                                                                                                                                           cash ? investment loan ? isnt go qualify traditional finance . submit whatever offer like . lot experience investor probably go decent neighborhood . renovate cheaper . take finish value per comp subtract repair . price . competition . good luck ! put bid go investor good offer expect bank anticipate investor go nut one ? wishful think investor go lower ? isnt go qualify traditional finance . want emphasize . seller know go even look offer involve traditional mortgage . n't cash right -- enough buy outright rehab -- probably leave investor deep pocket . , 's kind property live fix little time . fixer upper 's wonderful life ? 's fiction even buyer own mortgage bank . generally bank move slow jump first offer . duty get best price bank . contingency free . bank dont like contingency .   \n",
              "4  agent reach list agent see make offer go full market . full market mean competition . pretty good offer sell pre market . maybe heir want do . good luck ! itll interest see advice get compare agent recommend . im guess ask agent question theyll want reach behalf ( thats agent would suggest ) - seller , would dream neighbor seriously interest id consider fair market price ( like , wouldnt sell neighbor discount without list first see could get fair offer ) . dont ton advice wish best luck . low move cost get house : ) sure dual agency state id consider reach directly list agent ( double commission ) say youre really familiar house neighborhood interest make strong offer . dont think anything could stop go market dual commission likelihood close put pole position win deal . recommend interview least three agent pick one . also recommend agent reach say `` understand situation sorry client 's loss . thing client look purchase offer , price course ? '' sometimes little detail important . maybe want super fast close , maybe need 60 day clean house 'll never know unless someone ask . care seller want ? make offer stand . ignore zillow -- 's entertainment value -- let agent show list `` comp '' ( similar property sell last 90 day ) determine fair offer .   \n",
              "\n",
              "  content_sentiment_label  content_negative_score  content_neutral_score  \\\n",
              "0                Negative                0.611182               0.370701   \n",
              "1                Negative                0.611182               0.370701   \n",
              "2                 Neutral                0.031773               0.829893   \n",
              "3                 Neutral                0.320147               0.430857   \n",
              "4                 Neutral                0.031773               0.829893   \n",
              "\n",
              "   content_positive_score comments_sentiment_label  comments_negative_score  \\\n",
              "0                0.018117                  Neutral                 0.372709   \n",
              "1                0.018117                  Neutral                 0.372709   \n",
              "2                0.138334                 Positive                 0.008357   \n",
              "3                0.248996                  Neutral                 0.063414   \n",
              "4                0.138334                 Positive                 0.008357   \n",
              "\n",
              "   comments_neutral_score  comments_positive_score  \n",
              "0                0.587213                 0.040078  \n",
              "1                0.587213                 0.040078  \n",
              "2                0.149952                 0.841691  \n",
              "3                0.513370                 0.423216  \n",
              "4                0.149952                 0.841691  "
            ]
          },
          "execution_count": 3,
          "metadata": {},
          "output_type": "execute_result"
        }
      ],
      "source": [
        "social_media_real_estate.head()"
      ]
    },
    {
      "cell_type": "code",
      "execution_count": null,
      "metadata": {
        "colab": {
          "base_uri": "https://localhost:8080/"
        },
        "id": "p9ygakWhjr6b",
        "outputId": "32ce1869-89fa-4d99-f049-4d529d25c715"
      },
      "outputs": [
        {
          "name": "stderr",
          "output_type": "stream",
          "text": [
            "[nltk_data] Downloading package stopwords to /root/nltk_data...\n",
            "[nltk_data]   Package stopwords is already up-to-date!\n"
          ]
        }
      ],
      "source": [
        "# Initialize stemmer and lemmatizer (outside the function for efficiency)\n",
        "stemmer = PorterStemmer()\n",
        "lemmatizer = WordNetLemmatizer()\n",
        "\n",
        "\n",
        "# Download NLTK stop words\n",
        "nltk.download('stopwords')\n",
        "\n",
        "# Initialize preprocessing tools\n",
        "stop_words = set(stopwords.words('english'))\n",
        "\n",
        "def preprocess_text(text, apply_lemmatization=True):\n",
        "    \"\"\"\n",
        "    Enhanced text preprocessing with lemmatization\n",
        "    \"\"\"\n",
        "    if not text or not isinstance(text, str):\n",
        "        return \"\"\n",
        "\n",
        "    try:\n",
        "        # Convert to lowercase\n",
        "        text = text.lower()\n",
        "\n",
        "        # Remove URLs and HTML tags\n",
        "        text = re.sub(r'http\\S+|www\\S+|https\\S+|<.*?>', '', text)\n",
        "\n",
        "        # Remove non-ASCII characters but keep emojis\n",
        "        text = ''.join([c for c in text if c in string.printable or ord(c) > 127])\n",
        "\n",
        "        # Remove special characters\n",
        "        text = re.sub(r'[^\\w\\s.,!?:;()\\[\\]{}\\'\"-]', '', text)\n",
        "\n",
        "        # Normalize unicode\n",
        "        text = unicodedata.normalize('NFKD', text).encode('ascii', 'ignore').decode('utf-8', 'ignore')\n",
        "\n",
        "        # Tokenize and process words\n",
        "        words = word_tokenize(text)\n",
        "        words = [word for word in words if word not in stop_words]\n",
        "\n",
        "        if apply_lemmatization:\n",
        "            words = [lemmatizer.lemmatize(word, pos='v') for word in words]  # Verbs\n",
        "            words = [lemmatizer.lemmatize(word, pos='n') for word in words]  # Nouns\n",
        "\n",
        "        return ' '.join(words).strip()\n",
        "    except Exception as e:\n",
        "        print(f\"Error preprocessing text: {e}\")\n",
        "        return text if isinstance(text, str) else \"\""
      ]
    },
    {
      "cell_type": "code",
      "execution_count": null,
      "metadata": {
        "id": "RkMI4JYkj9nE"
      },
      "outputs": [],
      "source": [
        "social_media_real_estate['content']=social_media_real_estate['content'].fillna(\"\").apply(preprocess_text)\n",
        "social_media_real_estate['comments']=social_media_real_estate['comments'].fillna(\"\").apply(preprocess_text)"
      ]
    },
    {
      "cell_type": "code",
      "execution_count": null,
      "metadata": {
        "colab": {
          "base_uri": "https://localhost:8080/",
          "height": 1000
        },
        "id": "-Al0Xmkl7u7I",
        "outputId": "54b4bd43-a319-4406-a5bb-29f51c9ca8a0"
      },
      "outputs": [
        {
          "data": {
            "application/vnd.google.colaboratory.intrinsic+json": {
              "summary": "{\n  \"name\": \"social_media_real_estate\",\n  \"rows\": 3002,\n  \"fields\": [\n    {\n      \"column\": \"title\",\n      \"properties\": {\n        \"dtype\": \"category\",\n        \"num_unique_values\": 8,\n        \"samples\": [\n          \"Buying Neighbors House Strategy\",\n          \"what level of lowball is considered insulting?\",\n          \"Need help removing my phone number from an unknown property database\"\n        ],\n        \"semantic_type\": \"\",\n        \"description\": \"\"\n      }\n    },\n    {\n      \"column\": \"content\",\n      \"properties\": {\n        \"dtype\": \"category\",\n        \"num_unique_values\": 8,\n        \"samples\": [\n          \"'re interest buy neighbor 's house . owner recently pas away , daughter handle sale . officially market yet , real estate agent likely list soon . reach since 've get acquaint year , give agent contact infoso seem like shes plan go traditional list process , sell off-market u directly . question : reach list agent , real estate agent make contact ? thing make seller agent life easier also give competitive advantage ? strategy 'd recommend make offer stand ? quick context : house ugliest block , amaze neighborhood . zillow put value around 1.6m . neighbor side house also interest weve get competition ! arent look discount price would offer 1.6m\",\n          \"'ve hear debate sub lowball , low okay offer . 'm realtor see house market 6 month , incremental price drop . basically list comp square footage , fixer upper compare house . realtor , buyer , seller , think line 'insulting ' lowball offer ( balance market , house sell price square footage comp ) ? know 's silly concept , people easily offend ego sell house . plus realtor n't want waste time burn bridge . tell house , would say would look value pretty close ask price market 3 month less . 3 month would consider 5 percent . 6 month would definitely open 10 20 percent . point would consider 50 percent ask . think ?\",\n          \"many year ago unknown scammer begin add phone number market real estate listing fl . still get text call investment company ask want sell nonexistent property . first start contact ml tell remove number database , , callstexts still continue day . database sit 'm aware ? way find investment company find number ? one property constantly contact - owner , william erickson , own property people contact property . always address william , appear somewhere secret database access , number connect guy . help would appreciate .\"\n        ],\n        \"semantic_type\": \"\",\n        \"description\": \"\"\n      }\n    },\n    {\n      \"column\": \"score\",\n      \"properties\": {\n        \"dtype\": \"number\",\n        \"std\": 0,\n        \"min\": 0,\n        \"max\": 3,\n        \"num_unique_values\": 4,\n        \"samples\": [\n          2,\n          3,\n          1\n        ],\n        \"semantic_type\": \"\",\n        \"description\": \"\"\n      }\n    },\n    {\n      \"column\": \"url\",\n      \"properties\": {\n        \"dtype\": \"category\",\n        \"num_unique_values\": 8,\n        \"samples\": [\n          \"https://www.reddit.com/r/RealEstate/comments/1jr2x2d/buying_neighbors_house_strategy/\",\n          \"https://www.reddit.com/r/RealEstate/comments/1jr2hrj/what_level_of_lowball_is_considered_insulting/\",\n          \"https://www.reddit.com/r/RealEstate/comments/1jrb526/need_help_removing_my_phone_number_from_an/\"\n        ],\n        \"semantic_type\": \"\",\n        \"description\": \"\"\n      }\n    },\n    {\n      \"column\": \"created_utc\",\n      \"properties\": {\n        \"dtype\": \"number\",\n        \"std\": 15391.089660972051,\n        \"min\": 1743587838.0,\n        \"max\": 1743776723.0,\n        \"num_unique_values\": 8,\n        \"samples\": [\n          1743739128.0,\n          1743737703.0,\n          1743771174.0\n        ],\n        \"semantic_type\": \"\",\n        \"description\": \"\"\n      }\n    },\n    {\n      \"column\": \"city\",\n      \"properties\": {\n        \"dtype\": \"category\",\n        \"num_unique_values\": 199,\n        \"samples\": [\n          \"Westport\",\n          \"Darien\",\n          \"Cottonport\"\n        ],\n        \"semantic_type\": \"\",\n        \"description\": \"\"\n      }\n    },\n    {\n      \"column\": \"state\",\n      \"properties\": {\n        \"dtype\": \"category\",\n        \"num_unique_values\": 2,\n        \"samples\": [\n          \"Louisiana\",\n          \"Connecticut\"\n        ],\n        \"semantic_type\": \"\",\n        \"description\": \"\"\n      }\n    },\n    {\n      \"column\": \"year\",\n      \"properties\": {\n        \"dtype\": \"number\",\n        \"std\": 1,\n        \"min\": 2019,\n        \"max\": 2023,\n        \"num_unique_values\": 5,\n        \"samples\": [\n          2020,\n          2023\n        ],\n        \"semantic_type\": \"\",\n        \"description\": \"\"\n      }\n    },\n    {\n      \"column\": \"upvote_ratio\",\n      \"properties\": {\n        \"dtype\": \"number\",\n        \"std\": 0.23702024825834647,\n        \"min\": 0.17,\n        \"max\": 1.0,\n        \"num_unique_values\": 7,\n        \"samples\": [\n          1.0,\n          0.5\n        ],\n        \"semantic_type\": \"\",\n        \"description\": \"\"\n      }\n    },\n    {\n      \"column\": \"date_posted\",\n      \"properties\": {\n        \"dtype\": \"object\",\n        \"num_unique_values\": 8,\n        \"samples\": [\n          \"2025-04-04 04:58:48\",\n          \"2025-04-04 04:35:03\"\n        ],\n        \"semantic_type\": \"\",\n        \"description\": \"\"\n      }\n    },\n    {\n      \"column\": \"comments_count\",\n      \"properties\": {\n        \"dtype\": \"number\",\n        \"std\": 1,\n        \"min\": 0,\n        \"max\": 31,\n        \"num_unique_values\": 4,\n        \"samples\": [\n          4,\n          31\n        ],\n        \"semantic_type\": \"\",\n        \"description\": \"\"\n      }\n    },\n    {\n      \"column\": \"awards_count\",\n      \"properties\": {\n        \"dtype\": \"number\",\n        \"std\": 0,\n        \"min\": 0,\n        \"max\": 0,\n        \"num_unique_values\": 1,\n        \"samples\": [\n          0\n        ],\n        \"semantic_type\": \"\",\n        \"description\": \"\"\n      }\n    },\n    {\n      \"column\": \"comments\",\n      \"properties\": {\n        \"dtype\": \"category\",\n        \"num_unique_values\": 6,\n        \"samples\": [\n          \"'m sorry . may mr. erickson use phone number . call database might help long run , short run 's workaround . change voicemail message `` hi , [ name ] . call property own william erickson , property know reach owner . others please leave message . '' n't answer call unknown caller . text , simply answer stop . use kind automate system , take list . human also respect . 's ton place info could . assume n't want get new number , would suggest get call screen app like hiya 've find quite effective block junk call .\"\n        ],\n        \"semantic_type\": \"\",\n        \"description\": \"\"\n      }\n    }\n  ]\n}",
              "type": "dataframe",
              "variable_name": "social_media_real_estate"
            },
            "text/html": [
              "\n",
              "  <div id=\"df-e24d0f6c-46ac-4a77-9423-044bde54145c\" class=\"colab-df-container\">\n",
              "    <div>\n",
              "<style scoped>\n",
              "    .dataframe tbody tr th:only-of-type {\n",
              "        vertical-align: middle;\n",
              "    }\n",
              "\n",
              "    .dataframe tbody tr th {\n",
              "        vertical-align: top;\n",
              "    }\n",
              "\n",
              "    .dataframe thead th {\n",
              "        text-align: right;\n",
              "    }\n",
              "</style>\n",
              "<table border=\"1\" class=\"dataframe\">\n",
              "  <thead>\n",
              "    <tr style=\"text-align: right;\">\n",
              "      <th></th>\n",
              "      <th>title</th>\n",
              "      <th>content</th>\n",
              "      <th>score</th>\n",
              "      <th>url</th>\n",
              "      <th>created_utc</th>\n",
              "      <th>city</th>\n",
              "      <th>state</th>\n",
              "      <th>year</th>\n",
              "      <th>upvote_ratio</th>\n",
              "      <th>date_posted</th>\n",
              "      <th>comments_count</th>\n",
              "      <th>awards_count</th>\n",
              "      <th>comments</th>\n",
              "    </tr>\n",
              "  </thead>\n",
              "  <tbody>\n",
              "    <tr>\n",
              "      <th>0</th>\n",
              "      <td>Need help removing my phone number from an unknown property database</td>\n",
              "      <td>many year ago unknown scammer begin add phone number market real estate listing fl . still get text call investment company ask want sell nonexistent property . first start contact ml tell remove number database , , callstexts still continue day . database sit 'm aware ? way find investment company find number ? one property constantly contact - owner , william erickson , own property people contact property . always address william , appear somewhere secret database access , number connect guy . help would appreciate .</td>\n",
              "      <td>1</td>\n",
              "      <td>https://www.reddit.com/r/RealEstate/comments/1jrb526/need_help_removing_my_phone_number_from_an/</td>\n",
              "      <td>1.743771e+09</td>\n",
              "      <td>Ansonia</td>\n",
              "      <td>Connecticut</td>\n",
              "      <td>2019</td>\n",
              "      <td>1.0</td>\n",
              "      <td>2025-04-04 13:52:54</td>\n",
              "      <td>2</td>\n",
              "      <td>0</td>\n",
              "      <td>'m sorry . may mr. erickson use phone number . call database might help long run , short run 's workaround . change voicemail message `` hi , [ name ] . call property own william erickson , property know reach owner . others please leave message . '' n't answer call unknown caller . text , simply answer stop . use kind automate system , take list . human also respect . 's ton place info could . assume n't want get new number , would suggest get call screen app like hiya 've find quite effective block junk call .</td>\n",
              "    </tr>\n",
              "    <tr>\n",
              "      <th>1</th>\n",
              "      <td>Need help removing my phone number from an unknown property database</td>\n",
              "      <td>many year ago unknown scammer begin add phone number market real estate listing fl . still get text call investment company ask want sell nonexistent property . first start contact ml tell remove number database , , callstexts still continue day . database sit 'm aware ? way find investment company find number ? one property constantly contact - owner , william erickson , own property people contact property . always address william , appear somewhere secret database access , number connect guy . help would appreciate .</td>\n",
              "      <td>1</td>\n",
              "      <td>https://www.reddit.com/r/RealEstate/comments/1jrb526/need_help_removing_my_phone_number_from_an/</td>\n",
              "      <td>1.743771e+09</td>\n",
              "      <td>Ansonia</td>\n",
              "      <td>Connecticut</td>\n",
              "      <td>2020</td>\n",
              "      <td>1.0</td>\n",
              "      <td>2025-04-04 13:52:54</td>\n",
              "      <td>2</td>\n",
              "      <td>0</td>\n",
              "      <td>'m sorry . may mr. erickson use phone number . call database might help long run , short run 's workaround . change voicemail message `` hi , [ name ] . call property own william erickson , property know reach owner . others please leave message . '' n't answer call unknown caller . text , simply answer stop . use kind automate system , take list . human also respect . 's ton place info could . assume n't want get new number , would suggest get call screen app like hiya 've find quite effective block junk call .</td>\n",
              "    </tr>\n",
              "    <tr>\n",
              "      <th>2</th>\n",
              "      <td>Buying Neighbors House Strategy</td>\n",
              "      <td>'re interest buy neighbor 's house . owner recently pas away , daughter handle sale . officially market yet , real estate agent likely list soon . reach since 've get acquaint year , give agent contact infoso seem like shes plan go traditional list process , sell off-market u directly . question : reach list agent , real estate agent make contact ? thing make seller agent life easier also give competitive advantage ? strategy 'd recommend make offer stand ? quick context : house ugliest block , amaze neighborhood . zillow put value around 1.6m . neighbor side house also interest weve get competition ! arent look discount price would offer 1.6m</td>\n",
              "      <td>2</td>\n",
              "      <td>https://www.reddit.com/r/RealEstate/comments/1jr2x2d/buying_neighbors_house_strategy/</td>\n",
              "      <td>1.743739e+09</td>\n",
              "      <td>Ansonia</td>\n",
              "      <td>Connecticut</td>\n",
              "      <td>2020</td>\n",
              "      <td>1.0</td>\n",
              "      <td>2025-04-04 04:58:48</td>\n",
              "      <td>4</td>\n",
              "      <td>0</td>\n",
              "      <td>agent reach list agent see make offer go full market . full market mean competition . pretty good offer sell pre market . maybe heir want do . good luck ! itll interest see advice get compare agent recommend . im guess ask agent question theyll want reach behalf ( thats agent would suggest ) - seller , would dream neighbor seriously interest id consider fair market price ( like , wouldnt sell neighbor discount without list first see could get fair offer ) . dont ton advice wish best luck . low move cost get house : ) sure dual agency state id consider reach directly list agent ( double commission ) say youre really familiar house neighborhood interest make strong offer . dont think anything could stop go market dual commission likelihood close put pole position win deal . recommend interview least three agent pick one . also recommend agent reach say `` understand situation sorry client 's loss . thing client look purchase offer , price course ? '' sometimes little detail important . maybe want super fast close , maybe need 60 day clean house 'll never know unless someone ask . care seller want ? make offer stand . ignore zillow -- 's entertainment value -- let agent show list `` comp '' ( similar property sell last 90 day ) determine fair offer .</td>\n",
              "    </tr>\n",
              "    <tr>\n",
              "      <th>3</th>\n",
              "      <td>Foreclosure offer in this market (US)</td>\n",
              "      <td>find foreclosure house husband really love great neighborhood . hasnt occupant 10 year foreclosure since 2017. need lot work ( probably 100-200k ) know right probably isnt best time go market 475 ( sell 2001 190 ) lot work ( giant hole ceiling , possible water damage , outdated thats see - bring contractor saturday ) . theyre open investor 400 low ? know bank accept whatever whats go right feel like thats bad offer ? dont know everything go bank would expect investor meet price .</td>\n",
              "      <td>0</td>\n",
              "      <td>https://www.reddit.com/r/RealEstate/comments/1jr5cqm/foreclosure_offer_in_this_market_us/</td>\n",
              "      <td>1.743748e+09</td>\n",
              "      <td>Ansonia</td>\n",
              "      <td>Connecticut</td>\n",
              "      <td>2019</td>\n",
              "      <td>0.5</td>\n",
              "      <td>2025-04-04 07:29:24</td>\n",
              "      <td>4</td>\n",
              "      <td>0</td>\n",
              "      <td>cash ? investment loan ? isnt go qualify traditional finance . submit whatever offer like . lot experience investor probably go decent neighborhood . renovate cheaper . take finish value per comp subtract repair . price . competition . good luck ! put bid go investor good offer expect bank anticipate investor go nut one ? wishful think investor go lower ? isnt go qualify traditional finance . want emphasize . seller know go even look offer involve traditional mortgage . n't cash right -- enough buy outright rehab -- probably leave investor deep pocket . , 's kind property live fix little time . fixer upper 's wonderful life ? 's fiction even buyer own mortgage bank . generally bank move slow jump first offer . duty get best price bank . contingency free . bank dont like contingency .</td>\n",
              "    </tr>\n",
              "    <tr>\n",
              "      <th>4</th>\n",
              "      <td>Buying Neighbors House Strategy</td>\n",
              "      <td>'re interest buy neighbor 's house . owner recently pas away , daughter handle sale . officially market yet , real estate agent likely list soon . reach since 've get acquaint year , give agent contact infoso seem like shes plan go traditional list process , sell off-market u directly . question : reach list agent , real estate agent make contact ? thing make seller agent life easier also give competitive advantage ? strategy 'd recommend make offer stand ? quick context : house ugliest block , amaze neighborhood . zillow put value around 1.6m . neighbor side house also interest weve get competition ! arent look discount price would offer 1.6m</td>\n",
              "      <td>2</td>\n",
              "      <td>https://www.reddit.com/r/RealEstate/comments/1jr2x2d/buying_neighbors_house_strategy/</td>\n",
              "      <td>1.743739e+09</td>\n",
              "      <td>Ansonia</td>\n",
              "      <td>Connecticut</td>\n",
              "      <td>2019</td>\n",
              "      <td>1.0</td>\n",
              "      <td>2025-04-04 04:58:48</td>\n",
              "      <td>4</td>\n",
              "      <td>0</td>\n",
              "      <td>agent reach list agent see make offer go full market . full market mean competition . pretty good offer sell pre market . maybe heir want do . good luck ! itll interest see advice get compare agent recommend . im guess ask agent question theyll want reach behalf ( thats agent would suggest ) - seller , would dream neighbor seriously interest id consider fair market price ( like , wouldnt sell neighbor discount without list first see could get fair offer ) . dont ton advice wish best luck . low move cost get house : ) sure dual agency state id consider reach directly list agent ( double commission ) say youre really familiar house neighborhood interest make strong offer . dont think anything could stop go market dual commission likelihood close put pole position win deal . recommend interview least three agent pick one . also recommend agent reach say `` understand situation sorry client 's loss . thing client look purchase offer , price course ? '' sometimes little detail important . maybe want super fast close , maybe need 60 day clean house 'll never know unless someone ask . care seller want ? make offer stand . ignore zillow -- 's entertainment value -- let agent show list `` comp '' ( similar property sell last 90 day ) determine fair offer .</td>\n",
              "    </tr>\n",
              "  </tbody>\n",
              "</table>\n",
              "</div>\n",
              "    <div class=\"colab-df-buttons\">\n",
              "\n",
              "  <div class=\"colab-df-container\">\n",
              "    <button class=\"colab-df-convert\" onclick=\"convertToInteractive('df-e24d0f6c-46ac-4a77-9423-044bde54145c')\"\n",
              "            title=\"Convert this dataframe to an interactive table.\"\n",
              "            style=\"display:none;\">\n",
              "\n",
              "  <svg xmlns=\"http://www.w3.org/2000/svg\" height=\"24px\" viewBox=\"0 -960 960 960\">\n",
              "    <path d=\"M120-120v-720h720v720H120Zm60-500h600v-160H180v160Zm220 220h160v-160H400v160Zm0 220h160v-160H400v160ZM180-400h160v-160H180v160Zm440 0h160v-160H620v160ZM180-180h160v-160H180v160Zm440 0h160v-160H620v160Z\"/>\n",
              "  </svg>\n",
              "    </button>\n",
              "\n",
              "  <style>\n",
              "    .colab-df-container {\n",
              "      display:flex;\n",
              "      gap: 12px;\n",
              "    }\n",
              "\n",
              "    .colab-df-convert {\n",
              "      background-color: #E8F0FE;\n",
              "      border: none;\n",
              "      border-radius: 50%;\n",
              "      cursor: pointer;\n",
              "      display: none;\n",
              "      fill: #1967D2;\n",
              "      height: 32px;\n",
              "      padding: 0 0 0 0;\n",
              "      width: 32px;\n",
              "    }\n",
              "\n",
              "    .colab-df-convert:hover {\n",
              "      background-color: #E2EBFA;\n",
              "      box-shadow: 0px 1px 2px rgba(60, 64, 67, 0.3), 0px 1px 3px 1px rgba(60, 64, 67, 0.15);\n",
              "      fill: #174EA6;\n",
              "    }\n",
              "\n",
              "    .colab-df-buttons div {\n",
              "      margin-bottom: 4px;\n",
              "    }\n",
              "\n",
              "    [theme=dark] .colab-df-convert {\n",
              "      background-color: #3B4455;\n",
              "      fill: #D2E3FC;\n",
              "    }\n",
              "\n",
              "    [theme=dark] .colab-df-convert:hover {\n",
              "      background-color: #434B5C;\n",
              "      box-shadow: 0px 1px 3px 1px rgba(0, 0, 0, 0.15);\n",
              "      filter: drop-shadow(0px 1px 2px rgba(0, 0, 0, 0.3));\n",
              "      fill: #FFFFFF;\n",
              "    }\n",
              "  </style>\n",
              "\n",
              "    <script>\n",
              "      const buttonEl =\n",
              "        document.querySelector('#df-e24d0f6c-46ac-4a77-9423-044bde54145c button.colab-df-convert');\n",
              "      buttonEl.style.display =\n",
              "        google.colab.kernel.accessAllowed ? 'block' : 'none';\n",
              "\n",
              "      async function convertToInteractive(key) {\n",
              "        const element = document.querySelector('#df-e24d0f6c-46ac-4a77-9423-044bde54145c');\n",
              "        const dataTable =\n",
              "          await google.colab.kernel.invokeFunction('convertToInteractive',\n",
              "                                                    [key], {});\n",
              "        if (!dataTable) return;\n",
              "\n",
              "        const docLinkHtml = 'Like what you see? Visit the ' +\n",
              "          '<a target=\"_blank\" href=https://colab.research.google.com/notebooks/data_table.ipynb>data table notebook</a>'\n",
              "          + ' to learn more about interactive tables.';\n",
              "        element.innerHTML = '';\n",
              "        dataTable['output_type'] = 'display_data';\n",
              "        await google.colab.output.renderOutput(dataTable, element);\n",
              "        const docLink = document.createElement('div');\n",
              "        docLink.innerHTML = docLinkHtml;\n",
              "        element.appendChild(docLink);\n",
              "      }\n",
              "    </script>\n",
              "  </div>\n",
              "\n",
              "\n",
              "    <div id=\"df-b11c9ab9-21ce-47e8-bde4-ee1b32af91f3\">\n",
              "      <button class=\"colab-df-quickchart\" onclick=\"quickchart('df-b11c9ab9-21ce-47e8-bde4-ee1b32af91f3')\"\n",
              "                title=\"Suggest charts\"\n",
              "                style=\"display:none;\">\n",
              "\n",
              "<svg xmlns=\"http://www.w3.org/2000/svg\" height=\"24px\"viewBox=\"0 0 24 24\"\n",
              "     width=\"24px\">\n",
              "    <g>\n",
              "        <path d=\"M19 3H5c-1.1 0-2 .9-2 2v14c0 1.1.9 2 2 2h14c1.1 0 2-.9 2-2V5c0-1.1-.9-2-2-2zM9 17H7v-7h2v7zm4 0h-2V7h2v10zm4 0h-2v-4h2v4z\"/>\n",
              "    </g>\n",
              "</svg>\n",
              "      </button>\n",
              "\n",
              "<style>\n",
              "  .colab-df-quickchart {\n",
              "      --bg-color: #E8F0FE;\n",
              "      --fill-color: #1967D2;\n",
              "      --hover-bg-color: #E2EBFA;\n",
              "      --hover-fill-color: #174EA6;\n",
              "      --disabled-fill-color: #AAA;\n",
              "      --disabled-bg-color: #DDD;\n",
              "  }\n",
              "\n",
              "  [theme=dark] .colab-df-quickchart {\n",
              "      --bg-color: #3B4455;\n",
              "      --fill-color: #D2E3FC;\n",
              "      --hover-bg-color: #434B5C;\n",
              "      --hover-fill-color: #FFFFFF;\n",
              "      --disabled-bg-color: #3B4455;\n",
              "      --disabled-fill-color: #666;\n",
              "  }\n",
              "\n",
              "  .colab-df-quickchart {\n",
              "    background-color: var(--bg-color);\n",
              "    border: none;\n",
              "    border-radius: 50%;\n",
              "    cursor: pointer;\n",
              "    display: none;\n",
              "    fill: var(--fill-color);\n",
              "    height: 32px;\n",
              "    padding: 0;\n",
              "    width: 32px;\n",
              "  }\n",
              "\n",
              "  .colab-df-quickchart:hover {\n",
              "    background-color: var(--hover-bg-color);\n",
              "    box-shadow: 0 1px 2px rgba(60, 64, 67, 0.3), 0 1px 3px 1px rgba(60, 64, 67, 0.15);\n",
              "    fill: var(--button-hover-fill-color);\n",
              "  }\n",
              "\n",
              "  .colab-df-quickchart-complete:disabled,\n",
              "  .colab-df-quickchart-complete:disabled:hover {\n",
              "    background-color: var(--disabled-bg-color);\n",
              "    fill: var(--disabled-fill-color);\n",
              "    box-shadow: none;\n",
              "  }\n",
              "\n",
              "  .colab-df-spinner {\n",
              "    border: 2px solid var(--fill-color);\n",
              "    border-color: transparent;\n",
              "    border-bottom-color: var(--fill-color);\n",
              "    animation:\n",
              "      spin 1s steps(1) infinite;\n",
              "  }\n",
              "\n",
              "  @keyframes spin {\n",
              "    0% {\n",
              "      border-color: transparent;\n",
              "      border-bottom-color: var(--fill-color);\n",
              "      border-left-color: var(--fill-color);\n",
              "    }\n",
              "    20% {\n",
              "      border-color: transparent;\n",
              "      border-left-color: var(--fill-color);\n",
              "      border-top-color: var(--fill-color);\n",
              "    }\n",
              "    30% {\n",
              "      border-color: transparent;\n",
              "      border-left-color: var(--fill-color);\n",
              "      border-top-color: var(--fill-color);\n",
              "      border-right-color: var(--fill-color);\n",
              "    }\n",
              "    40% {\n",
              "      border-color: transparent;\n",
              "      border-right-color: var(--fill-color);\n",
              "      border-top-color: var(--fill-color);\n",
              "    }\n",
              "    60% {\n",
              "      border-color: transparent;\n",
              "      border-right-color: var(--fill-color);\n",
              "    }\n",
              "    80% {\n",
              "      border-color: transparent;\n",
              "      border-right-color: var(--fill-color);\n",
              "      border-bottom-color: var(--fill-color);\n",
              "    }\n",
              "    90% {\n",
              "      border-color: transparent;\n",
              "      border-bottom-color: var(--fill-color);\n",
              "    }\n",
              "  }\n",
              "</style>\n",
              "\n",
              "      <script>\n",
              "        async function quickchart(key) {\n",
              "          const quickchartButtonEl =\n",
              "            document.querySelector('#' + key + ' button');\n",
              "          quickchartButtonEl.disabled = true;  // To prevent multiple clicks.\n",
              "          quickchartButtonEl.classList.add('colab-df-spinner');\n",
              "          try {\n",
              "            const charts = await google.colab.kernel.invokeFunction(\n",
              "                'suggestCharts', [key], {});\n",
              "          } catch (error) {\n",
              "            console.error('Error during call to suggestCharts:', error);\n",
              "          }\n",
              "          quickchartButtonEl.classList.remove('colab-df-spinner');\n",
              "          quickchartButtonEl.classList.add('colab-df-quickchart-complete');\n",
              "        }\n",
              "        (() => {\n",
              "          let quickchartButtonEl =\n",
              "            document.querySelector('#df-b11c9ab9-21ce-47e8-bde4-ee1b32af91f3 button');\n",
              "          quickchartButtonEl.style.display =\n",
              "            google.colab.kernel.accessAllowed ? 'block' : 'none';\n",
              "        })();\n",
              "      </script>\n",
              "    </div>\n",
              "\n",
              "    </div>\n",
              "  </div>\n"
            ],
            "text/plain": [
              "                                                                  title  \\\n",
              "0  Need help removing my phone number from an unknown property database   \n",
              "1  Need help removing my phone number from an unknown property database   \n",
              "2                                       Buying Neighbors House Strategy   \n",
              "3                                 Foreclosure offer in this market (US)   \n",
              "4                                       Buying Neighbors House Strategy   \n",
              "\n",
              "                                                                                                                                                                                                                                                                                                                                                                                                                                                                                                                                                                                                                                                                       content  \\\n",
              "0                                                                                                                                many year ago unknown scammer begin add phone number market real estate listing fl . still get text call investment company ask want sell nonexistent property . first start contact ml tell remove number database , , callstexts still continue day . database sit 'm aware ? way find investment company find number ? one property constantly contact - owner , william erickson , own property people contact property . always address william , appear somewhere secret database access , number connect guy . help would appreciate .   \n",
              "1                                                                                                                                many year ago unknown scammer begin add phone number market real estate listing fl . still get text call investment company ask want sell nonexistent property . first start contact ml tell remove number database , , callstexts still continue day . database sit 'm aware ? way find investment company find number ? one property constantly contact - owner , william erickson , own property people contact property . always address william , appear somewhere secret database access , number connect guy . help would appreciate .   \n",
              "2  're interest buy neighbor 's house . owner recently pas away , daughter handle sale . officially market yet , real estate agent likely list soon . reach since 've get acquaint year , give agent contact infoso seem like shes plan go traditional list process , sell off-market u directly . question : reach list agent , real estate agent make contact ? thing make seller agent life easier also give competitive advantage ? strategy 'd recommend make offer stand ? quick context : house ugliest block , amaze neighborhood . zillow put value around 1.6m . neighbor side house also interest weve get competition ! arent look discount price would offer 1.6m   \n",
              "3                                                                                                                                                                         find foreclosure house husband really love great neighborhood . hasnt occupant 10 year foreclosure since 2017. need lot work ( probably 100-200k ) know right probably isnt best time go market 475 ( sell 2001 190 ) lot work ( giant hole ceiling , possible water damage , outdated thats see - bring contractor saturday ) . theyre open investor 400 low ? know bank accept whatever whats go right feel like thats bad offer ? dont know everything go bank would expect investor meet price .   \n",
              "4  're interest buy neighbor 's house . owner recently pas away , daughter handle sale . officially market yet , real estate agent likely list soon . reach since 've get acquaint year , give agent contact infoso seem like shes plan go traditional list process , sell off-market u directly . question : reach list agent , real estate agent make contact ? thing make seller agent life easier also give competitive advantage ? strategy 'd recommend make offer stand ? quick context : house ugliest block , amaze neighborhood . zillow put value around 1.6m . neighbor side house also interest weve get competition ! arent look discount price would offer 1.6m   \n",
              "\n",
              "   score  \\\n",
              "0      1   \n",
              "1      1   \n",
              "2      2   \n",
              "3      0   \n",
              "4      2   \n",
              "\n",
              "                                                                                                url  \\\n",
              "0  https://www.reddit.com/r/RealEstate/comments/1jrb526/need_help_removing_my_phone_number_from_an/   \n",
              "1  https://www.reddit.com/r/RealEstate/comments/1jrb526/need_help_removing_my_phone_number_from_an/   \n",
              "2             https://www.reddit.com/r/RealEstate/comments/1jr2x2d/buying_neighbors_house_strategy/   \n",
              "3         https://www.reddit.com/r/RealEstate/comments/1jr5cqm/foreclosure_offer_in_this_market_us/   \n",
              "4             https://www.reddit.com/r/RealEstate/comments/1jr2x2d/buying_neighbors_house_strategy/   \n",
              "\n",
              "    created_utc     city        state  year  upvote_ratio  \\\n",
              "0  1.743771e+09  Ansonia  Connecticut  2019           1.0   \n",
              "1  1.743771e+09  Ansonia  Connecticut  2020           1.0   \n",
              "2  1.743739e+09  Ansonia  Connecticut  2020           1.0   \n",
              "3  1.743748e+09  Ansonia  Connecticut  2019           0.5   \n",
              "4  1.743739e+09  Ansonia  Connecticut  2019           1.0   \n",
              "\n",
              "           date_posted  comments_count  awards_count  \\\n",
              "0  2025-04-04 13:52:54               2             0   \n",
              "1  2025-04-04 13:52:54               2             0   \n",
              "2  2025-04-04 04:58:48               4             0   \n",
              "3  2025-04-04 07:29:24               4             0   \n",
              "4  2025-04-04 04:58:48               4             0   \n",
              "\n",
              "                                                                                                                                                                                                                                                                                                                                                                                                                                                                                                                                                                                                                                                                                                                                                                                                                                                                                                                                                                                                                                                                                                                                                                                                                                                                                                              comments  \n",
              "0                                                                                                                                                                                                                                                                                                                                                                                                                                                                                                                                                                                                                                                                                                                                                                                'm sorry . may mr. erickson use phone number . call database might help long run , short run 's workaround . change voicemail message `` hi , [ name ] . call property own william erickson , property know reach owner . others please leave message . '' n't answer call unknown caller . text , simply answer stop . use kind automate system , take list . human also respect . 's ton place info could . assume n't want get new number , would suggest get call screen app like hiya 've find quite effective block junk call .  \n",
              "1                                                                                                                                                                                                                                                                                                                                                                                                                                                                                                                                                                                                                                                                                                                                                                                'm sorry . may mr. erickson use phone number . call database might help long run , short run 's workaround . change voicemail message `` hi , [ name ] . call property own william erickson , property know reach owner . others please leave message . '' n't answer call unknown caller . text , simply answer stop . use kind automate system , take list . human also respect . 's ton place info could . assume n't want get new number , would suggest get call screen app like hiya 've find quite effective block junk call .  \n",
              "2  agent reach list agent see make offer go full market . full market mean competition . pretty good offer sell pre market . maybe heir want do . good luck ! itll interest see advice get compare agent recommend . im guess ask agent question theyll want reach behalf ( thats agent would suggest ) - seller , would dream neighbor seriously interest id consider fair market price ( like , wouldnt sell neighbor discount without list first see could get fair offer ) . dont ton advice wish best luck . low move cost get house : ) sure dual agency state id consider reach directly list agent ( double commission ) say youre really familiar house neighborhood interest make strong offer . dont think anything could stop go market dual commission likelihood close put pole position win deal . recommend interview least three agent pick one . also recommend agent reach say `` understand situation sorry client 's loss . thing client look purchase offer , price course ? '' sometimes little detail important . maybe want super fast close , maybe need 60 day clean house 'll never know unless someone ask . care seller want ? make offer stand . ignore zillow -- 's entertainment value -- let agent show list `` comp '' ( similar property sell last 90 day ) determine fair offer .  \n",
              "3                                                                                                                                                                                                                                                                                                                                                                                                                                                                                           cash ? investment loan ? isnt go qualify traditional finance . submit whatever offer like . lot experience investor probably go decent neighborhood . renovate cheaper . take finish value per comp subtract repair . price . competition . good luck ! put bid go investor good offer expect bank anticipate investor go nut one ? wishful think investor go lower ? isnt go qualify traditional finance . want emphasize . seller know go even look offer involve traditional mortgage . n't cash right -- enough buy outright rehab -- probably leave investor deep pocket . , 's kind property live fix little time . fixer upper 's wonderful life ? 's fiction even buyer own mortgage bank . generally bank move slow jump first offer . duty get best price bank . contingency free . bank dont like contingency .  \n",
              "4  agent reach list agent see make offer go full market . full market mean competition . pretty good offer sell pre market . maybe heir want do . good luck ! itll interest see advice get compare agent recommend . im guess ask agent question theyll want reach behalf ( thats agent would suggest ) - seller , would dream neighbor seriously interest id consider fair market price ( like , wouldnt sell neighbor discount without list first see could get fair offer ) . dont ton advice wish best luck . low move cost get house : ) sure dual agency state id consider reach directly list agent ( double commission ) say youre really familiar house neighborhood interest make strong offer . dont think anything could stop go market dual commission likelihood close put pole position win deal . recommend interview least three agent pick one . also recommend agent reach say `` understand situation sorry client 's loss . thing client look purchase offer , price course ? '' sometimes little detail important . maybe want super fast close , maybe need 60 day clean house 'll never know unless someone ask . care seller want ? make offer stand . ignore zillow -- 's entertainment value -- let agent show list `` comp '' ( similar property sell last 90 day ) determine fair offer .  "
            ]
          },
          "execution_count": 6,
          "metadata": {},
          "output_type": "execute_result"
        }
      ],
      "source": [
        "social_media_real_estate.head()"
      ]
    },
    {
      "cell_type": "code",
      "execution_count": null,
      "metadata": {
        "id": "yHCjaPC4kchD"
      },
      "outputs": [],
      "source": [
        "# Check if TPU is available\n",
        "if torch.cuda.is_available():\n",
        "    device = torch.device(\"cuda\")  # Use GPU\n",
        "else:\n",
        "    device = torch.device(\"cpu\")   # Fallback to CPU\n",
        "\n",
        "def load_sentiment_model():\n",
        "    model_name = \"cardiffnlp/twitter-roberta-base-sentiment-latest\"\n",
        "    tokenizer = AutoTokenizer.from_pretrained(model_name)\n",
        "    model = AutoModelForSequenceClassification.from_pretrained(model_name, torch_dtype=torch.float16 if torch.cuda.is_available() else torch.float32)\n",
        "    labels = ['Negative', 'Neutral', 'Positive']\n",
        "    device = torch.device('cuda' if torch.cuda.is_available() else 'cpu')\n",
        "    model = model.to(device)\n",
        "    return tokenizer, model, labels, device\n",
        "\n",
        "# Prettier Batch Sentiment Analysis\n",
        "def get_sentiment_batch_pretty(texts, tokenizer, model, device, labels, batch_size=128):\n",
        "    \"\"\"\n",
        "    Analyze Sentiments in Batches with Prettier Streamlit Progress Bar\n",
        "    \"\"\"\n",
        "    results = []\n",
        "    model.eval()\n",
        "\n",
        "    total_batches = (len(texts) + batch_size - 1) // batch_size\n",
        "\n",
        "    for batch_idx, i in enumerate(range(0, len(texts), batch_size)):\n",
        "        batch_texts = texts[i:i+batch_size]\n",
        "\n",
        "        inputs = tokenizer(batch_texts, return_tensors=\"pt\", padding=True, truncation=True, max_length=512)\n",
        "        inputs = {k: v.to(device) for k, v in inputs.items()}\n",
        "\n",
        "        with torch.no_grad():\n",
        "            outputs = model(**inputs)\n",
        "\n",
        "        logits = outputs.logits.float()\n",
        "        probs = torch.nn.functional.softmax(logits, dim=-1)\n",
        "\n",
        "        labels_list = [labels[i] for i in probs.argmax(dim=-1).tolist()]\n",
        "        negative_scores = probs[:, 0].tolist()\n",
        "        neutral_scores = probs[:, 1].tolist()\n",
        "        positive_scores = probs[:, 2].tolist()\n",
        "\n",
        "        batch_results = pd.DataFrame({\n",
        "            \"sentiment_label\": labels_list,\n",
        "            \"negative_score\": negative_scores,\n",
        "            \"neutral_score\": neutral_scores,\n",
        "            \"positive_score\": positive_scores\n",
        "        })\n",
        "\n",
        "        results.append(batch_results)\n",
        "\n",
        "        # Progress Update\n",
        "        progress = (batch_idx + 1) / total_batches\n",
        "        progress_percent = int(progress * 100)\n",
        "        time.sleep(0.01)  # Tiny sleep to smooth UI updates\n",
        "\n",
        "    final_results = pd.concat(results, ignore_index=True)\n",
        "    return final_results\n",
        "\n",
        "# Preprocessing and Sentiment Application Function\n",
        "def preprocess_and_sentiment_analysis_pretty(df, text_column):\n",
        "    \"\"\"\n",
        "    Takes a DataFrame, cleans it minimally, and adds sentiment analysis columns\n",
        "    \"\"\"\n",
        "    tokenizer, model, labels, device = load_sentiment_model()\n",
        "\n",
        "    content_list = df[text_column].fillna(\"\").astype(str).tolist()\n",
        "    sentiment_results = get_sentiment_batch_pretty(content_list, tokenizer, model, device, labels)\n",
        "\n",
        "    # Generate dynamic column names based on the text_column\n",
        "    sentiment_label_col = f\"{text_column}_sentiment_label\"\n",
        "    negative_score_col = f\"{text_column}_negative_score\"\n",
        "    neutral_score_col = f\"{text_column}_neutral_score\"\n",
        "    positive_score_col = f\"{text_column}_positive_score\"\n",
        "\n",
        "    # Merge the results back into the original dataframe with dynamic column names\n",
        "    sentiment_results.columns = [sentiment_label_col, negative_score_col, neutral_score_col, positive_score_col]\n",
        "    df = df.reset_index(drop=True)\n",
        "    df = pd.concat([df, sentiment_results], axis=1)\n",
        "\n",
        "    return df"
      ]
    },
    {
      "cell_type": "code",
      "execution_count": null,
      "metadata": {
        "id": "GA3yZlF8kduo"
      },
      "outputs": [],
      "source": [
        "# # Sentiment labels\n",
        "# labels = [\"Negative\", \"Neutral\", \"Positive\"]\n",
        "\n",
        "# def get_sentiment_batch(texts):\n",
        "#     \"\"\" Process a batch of texts at once for faster inference \"\"\"\n",
        "#     inputs = tokenizer(texts, return_tensors=\"pt\", padding=True, truncation=True, max_length=512).to(device)\n",
        "\n",
        "#     with torch.no_grad():\n",
        "#         outputs = model(**inputs)\n",
        "\n",
        "#     logits = outputs.logits\n",
        "#     probs = F.softmax(logits, dim=-1)  # Convert to probabilities\n",
        "#     sentiment_indices = torch.argmax(probs, dim=-1)  # Get highest probability index\n",
        "\n",
        "#     # Convert results into DataFrame format\n",
        "#     results = pd.DataFrame({\n",
        "#         \"sentiment_label\": [labels[idx] for idx in sentiment_indices.cpu().numpy()],\n",
        "#         \"negative_score\": probs[:, 0].cpu().numpy(),\n",
        "#         \"neutral_score\": probs[:, 1].cpu().numpy(),\n",
        "#         \"positive_score\": probs[:, 2].cpu().numpy()\n",
        "#     })\n",
        "\n",
        "#     return results"
      ]
    },
    {
      "cell_type": "code",
      "execution_count": null,
      "metadata": {
        "id": "9Pvz9OAdktEY"
      },
      "outputs": [],
      "source": [
        "# import torch.nn.functional as F\n",
        "# social_media_real_estate[[\"h_content_sentiment_label\", \"h_content_negative_score\", \"h_content_neutral_score\", \"h_content_positive_score\"]] = (\n",
        "#     social_media_real_estate[\"content\"].apply(lambda x: pd.Series(get_sentiment_batch([x]).iloc[0]))\n",
        "# )"
      ]
    },
    {
      "cell_type": "code",
      "execution_count": null,
      "metadata": {
        "id": "9WwzL7sLk6GO"
      },
      "outputs": [],
      "source": [
        "# social_media_real_estate[[\"h_comment_sentiment_label\", \"h_comment_negative_score\", \"h_comment_neutral_score\", \"h_comment_positive_score\"]] = (\n",
        "#     social_media_real_estate[\"comments\"].apply(lambda x: pd.Series(get_sentiment_batch([x]).iloc[0]))\n",
        "# )"
      ]
    },
    {
      "cell_type": "code",
      "execution_count": null,
      "metadata": {
        "colab": {
          "base_uri": "https://localhost:8080/"
        },
        "id": "DnXpRrs5r9gS",
        "outputId": "46e166cb-ad27-4e33-d6b2-517cd286205d"
      },
      "outputs": [
        {
          "name": "stderr",
          "output_type": "stream",
          "text": [
            "/usr/local/lib/python3.11/dist-packages/huggingface_hub/utils/_auth.py:94: UserWarning: \n",
            "The secret `HF_TOKEN` does not exist in your Colab secrets.\n",
            "To authenticate with the Hugging Face Hub, create a token in your settings tab (https://huggingface.co/settings/tokens), set it as secret in your Google Colab and restart your session.\n",
            "You will be able to reuse this secret in all of your notebooks.\n",
            "Please note that authentication is recommended but still optional to access public models or datasets.\n",
            "  warnings.warn(\n",
            "Some weights of the model checkpoint at cardiffnlp/twitter-roberta-base-sentiment-latest were not used when initializing RobertaForSequenceClassification: ['roberta.pooler.dense.bias', 'roberta.pooler.dense.weight']\n",
            "- This IS expected if you are initializing RobertaForSequenceClassification from the checkpoint of a model trained on another task or with another architecture (e.g. initializing a BertForSequenceClassification model from a BertForPreTraining model).\n",
            "- This IS NOT expected if you are initializing RobertaForSequenceClassification from the checkpoint of a model that you expect to be exactly identical (initializing a BertForSequenceClassification model from a BertForSequenceClassification model).\n"
          ]
        }
      ],
      "source": [
        "#with st.spinner('Analyzing social media content...'):\n",
        "sm_real_estate = preprocess_and_sentiment_analysis_pretty(social_media_real_estate, text_column='content')"
      ]
    },
    {
      "cell_type": "code",
      "execution_count": null,
      "metadata": {
        "colab": {
          "base_uri": "https://localhost:8080/"
        },
        "id": "m9qkazmasA3Q",
        "outputId": "b2c70644-5e4e-4928-a610-dbe40476b65f"
      },
      "outputs": [
        {
          "name": "stderr",
          "output_type": "stream",
          "text": [
            "Some weights of the model checkpoint at cardiffnlp/twitter-roberta-base-sentiment-latest were not used when initializing RobertaForSequenceClassification: ['roberta.pooler.dense.bias', 'roberta.pooler.dense.weight']\n",
            "- This IS expected if you are initializing RobertaForSequenceClassification from the checkpoint of a model trained on another task or with another architecture (e.g. initializing a BertForSequenceClassification model from a BertForPreTraining model).\n",
            "- This IS NOT expected if you are initializing RobertaForSequenceClassification from the checkpoint of a model that you expect to be exactly identical (initializing a BertForSequenceClassification model from a BertForSequenceClassification model).\n"
          ]
        }
      ],
      "source": [
        "#with st.spinner('Analyzing social media comments...'):\n",
        "sm_real_estate = preprocess_and_sentiment_analysis_pretty(sm_real_estate, text_column='comments')"
      ]
    },
    {
      "cell_type": "code",
      "execution_count": null,
      "metadata": {
        "colab": {
          "base_uri": "https://localhost:8080/",
          "height": 1000
        },
        "id": "9u1nqFZsmMoS",
        "outputId": "b4ecd308-7fb7-4e84-c9b9-44426ff2dd63"
      },
      "outputs": [
        {
          "data": {
            "application/vnd.google.colaboratory.intrinsic+json": {
              "type": "dataframe",
              "variable_name": "sm_real_estate"
            },
            "text/html": [
              "\n",
              "  <div id=\"df-e5fcacf8-1992-4d20-b2de-f89a65ebb2e4\" class=\"colab-df-container\">\n",
              "    <div>\n",
              "<style scoped>\n",
              "    .dataframe tbody tr th:only-of-type {\n",
              "        vertical-align: middle;\n",
              "    }\n",
              "\n",
              "    .dataframe tbody tr th {\n",
              "        vertical-align: top;\n",
              "    }\n",
              "\n",
              "    .dataframe thead th {\n",
              "        text-align: right;\n",
              "    }\n",
              "</style>\n",
              "<table border=\"1\" class=\"dataframe\">\n",
              "  <thead>\n",
              "    <tr style=\"text-align: right;\">\n",
              "      <th></th>\n",
              "      <th>title</th>\n",
              "      <th>content</th>\n",
              "      <th>score</th>\n",
              "      <th>url</th>\n",
              "      <th>created_utc</th>\n",
              "      <th>city</th>\n",
              "      <th>state</th>\n",
              "      <th>year</th>\n",
              "      <th>upvote_ratio</th>\n",
              "      <th>date_posted</th>\n",
              "      <th>comments_count</th>\n",
              "      <th>awards_count</th>\n",
              "      <th>comments</th>\n",
              "      <th>content_sentiment_label</th>\n",
              "      <th>content_negative_score</th>\n",
              "      <th>content_neutral_score</th>\n",
              "      <th>content_positive_score</th>\n",
              "      <th>comments_sentiment_label</th>\n",
              "      <th>comments_negative_score</th>\n",
              "      <th>comments_neutral_score</th>\n",
              "      <th>comments_positive_score</th>\n",
              "    </tr>\n",
              "  </thead>\n",
              "  <tbody>\n",
              "    <tr>\n",
              "      <th>0</th>\n",
              "      <td>Need help removing my phone number from an unknown property database</td>\n",
              "      <td>many year ago unknown scammer begin add phone number market real estate listing fl . still get text call investment company ask want sell nonexistent property . first start contact ml tell remove number database , , callstexts still continue day . database sit 'm aware ? way find investment company find number ? one property constantly contact - owner , william erickson , own property people contact property . always address william , appear somewhere secret database access , number connect guy . help would appreciate .</td>\n",
              "      <td>1</td>\n",
              "      <td>https://www.reddit.com/r/RealEstate/comments/1jrb526/need_help_removing_my_phone_number_from_an/</td>\n",
              "      <td>1.743771e+09</td>\n",
              "      <td>Ansonia</td>\n",
              "      <td>Connecticut</td>\n",
              "      <td>2019</td>\n",
              "      <td>1.0</td>\n",
              "      <td>2025-04-04 13:52:54</td>\n",
              "      <td>2</td>\n",
              "      <td>0</td>\n",
              "      <td>'m sorry . may mr. erickson use phone number . call database might help long run , short run 's workaround . change voicemail message `` hi , [ name ] . call property own william erickson , property know reach owner . others please leave message . '' n't answer call unknown caller . text , simply answer stop . use kind automate system , take list . human also respect . 's ton place info could . assume n't want get new number , would suggest get call screen app like hiya 've find quite effective block junk call .</td>\n",
              "      <td>Negative</td>\n",
              "      <td>0.611182</td>\n",
              "      <td>0.370701</td>\n",
              "      <td>0.018117</td>\n",
              "      <td>Neutral</td>\n",
              "      <td>0.372709</td>\n",
              "      <td>0.587213</td>\n",
              "      <td>0.040078</td>\n",
              "    </tr>\n",
              "    <tr>\n",
              "      <th>1</th>\n",
              "      <td>Need help removing my phone number from an unknown property database</td>\n",
              "      <td>many year ago unknown scammer begin add phone number market real estate listing fl . still get text call investment company ask want sell nonexistent property . first start contact ml tell remove number database , , callstexts still continue day . database sit 'm aware ? way find investment company find number ? one property constantly contact - owner , william erickson , own property people contact property . always address william , appear somewhere secret database access , number connect guy . help would appreciate .</td>\n",
              "      <td>1</td>\n",
              "      <td>https://www.reddit.com/r/RealEstate/comments/1jrb526/need_help_removing_my_phone_number_from_an/</td>\n",
              "      <td>1.743771e+09</td>\n",
              "      <td>Ansonia</td>\n",
              "      <td>Connecticut</td>\n",
              "      <td>2020</td>\n",
              "      <td>1.0</td>\n",
              "      <td>2025-04-04 13:52:54</td>\n",
              "      <td>2</td>\n",
              "      <td>0</td>\n",
              "      <td>'m sorry . may mr. erickson use phone number . call database might help long run , short run 's workaround . change voicemail message `` hi , [ name ] . call property own william erickson , property know reach owner . others please leave message . '' n't answer call unknown caller . text , simply answer stop . use kind automate system , take list . human also respect . 's ton place info could . assume n't want get new number , would suggest get call screen app like hiya 've find quite effective block junk call .</td>\n",
              "      <td>Negative</td>\n",
              "      <td>0.611182</td>\n",
              "      <td>0.370701</td>\n",
              "      <td>0.018117</td>\n",
              "      <td>Neutral</td>\n",
              "      <td>0.372709</td>\n",
              "      <td>0.587213</td>\n",
              "      <td>0.040078</td>\n",
              "    </tr>\n",
              "    <tr>\n",
              "      <th>2</th>\n",
              "      <td>Buying Neighbors House Strategy</td>\n",
              "      <td>'re interest buy neighbor 's house . owner recently pas away , daughter handle sale . officially market yet , real estate agent likely list soon . reach since 've get acquaint year , give agent contact infoso seem like shes plan go traditional list process , sell off-market u directly . question : reach list agent , real estate agent make contact ? thing make seller agent life easier also give competitive advantage ? strategy 'd recommend make offer stand ? quick context : house ugliest block , amaze neighborhood . zillow put value around 1.6m . neighbor side house also interest weve get competition ! arent look discount price would offer 1.6m</td>\n",
              "      <td>2</td>\n",
              "      <td>https://www.reddit.com/r/RealEstate/comments/1jr2x2d/buying_neighbors_house_strategy/</td>\n",
              "      <td>1.743739e+09</td>\n",
              "      <td>Ansonia</td>\n",
              "      <td>Connecticut</td>\n",
              "      <td>2020</td>\n",
              "      <td>1.0</td>\n",
              "      <td>2025-04-04 04:58:48</td>\n",
              "      <td>4</td>\n",
              "      <td>0</td>\n",
              "      <td>agent reach list agent see make offer go full market . full market mean competition . pretty good offer sell pre market . maybe heir want do . good luck ! itll interest see advice get compare agent recommend . im guess ask agent question theyll want reach behalf ( thats agent would suggest ) - seller , would dream neighbor seriously interest id consider fair market price ( like , wouldnt sell neighbor discount without list first see could get fair offer ) . dont ton advice wish best luck . low move cost get house : ) sure dual agency state id consider reach directly list agent ( double commission ) say youre really familiar house neighborhood interest make strong offer . dont think anything could stop go market dual commission likelihood close put pole position win deal . recommend interview least three agent pick one . also recommend agent reach say `` understand situation sorry client 's loss . thing client look purchase offer , price course ? '' sometimes little detail important . maybe want super fast close , maybe need 60 day clean house 'll never know unless someone ask . care seller want ? make offer stand . ignore zillow -- 's entertainment value -- let agent show list `` comp '' ( similar property sell last 90 day ) determine fair offer .</td>\n",
              "      <td>Neutral</td>\n",
              "      <td>0.031773</td>\n",
              "      <td>0.829893</td>\n",
              "      <td>0.138334</td>\n",
              "      <td>Positive</td>\n",
              "      <td>0.008357</td>\n",
              "      <td>0.149952</td>\n",
              "      <td>0.841691</td>\n",
              "    </tr>\n",
              "    <tr>\n",
              "      <th>3</th>\n",
              "      <td>Foreclosure offer in this market (US)</td>\n",
              "      <td>find foreclosure house husband really love great neighborhood . hasnt occupant 10 year foreclosure since 2017. need lot work ( probably 100-200k ) know right probably isnt best time go market 475 ( sell 2001 190 ) lot work ( giant hole ceiling , possible water damage , outdated thats see - bring contractor saturday ) . theyre open investor 400 low ? know bank accept whatever whats go right feel like thats bad offer ? dont know everything go bank would expect investor meet price .</td>\n",
              "      <td>0</td>\n",
              "      <td>https://www.reddit.com/r/RealEstate/comments/1jr5cqm/foreclosure_offer_in_this_market_us/</td>\n",
              "      <td>1.743748e+09</td>\n",
              "      <td>Ansonia</td>\n",
              "      <td>Connecticut</td>\n",
              "      <td>2019</td>\n",
              "      <td>0.5</td>\n",
              "      <td>2025-04-04 07:29:24</td>\n",
              "      <td>4</td>\n",
              "      <td>0</td>\n",
              "      <td>cash ? investment loan ? isnt go qualify traditional finance . submit whatever offer like . lot experience investor probably go decent neighborhood . renovate cheaper . take finish value per comp subtract repair . price . competition . good luck ! put bid go investor good offer expect bank anticipate investor go nut one ? wishful think investor go lower ? isnt go qualify traditional finance . want emphasize . seller know go even look offer involve traditional mortgage . n't cash right -- enough buy outright rehab -- probably leave investor deep pocket . , 's kind property live fix little time . fixer upper 's wonderful life ? 's fiction even buyer own mortgage bank . generally bank move slow jump first offer . duty get best price bank . contingency free . bank dont like contingency .</td>\n",
              "      <td>Neutral</td>\n",
              "      <td>0.320147</td>\n",
              "      <td>0.430857</td>\n",
              "      <td>0.248996</td>\n",
              "      <td>Neutral</td>\n",
              "      <td>0.063414</td>\n",
              "      <td>0.513370</td>\n",
              "      <td>0.423216</td>\n",
              "    </tr>\n",
              "    <tr>\n",
              "      <th>4</th>\n",
              "      <td>Buying Neighbors House Strategy</td>\n",
              "      <td>'re interest buy neighbor 's house . owner recently pas away , daughter handle sale . officially market yet , real estate agent likely list soon . reach since 've get acquaint year , give agent contact infoso seem like shes plan go traditional list process , sell off-market u directly . question : reach list agent , real estate agent make contact ? thing make seller agent life easier also give competitive advantage ? strategy 'd recommend make offer stand ? quick context : house ugliest block , amaze neighborhood . zillow put value around 1.6m . neighbor side house also interest weve get competition ! arent look discount price would offer 1.6m</td>\n",
              "      <td>2</td>\n",
              "      <td>https://www.reddit.com/r/RealEstate/comments/1jr2x2d/buying_neighbors_house_strategy/</td>\n",
              "      <td>1.743739e+09</td>\n",
              "      <td>Ansonia</td>\n",
              "      <td>Connecticut</td>\n",
              "      <td>2019</td>\n",
              "      <td>1.0</td>\n",
              "      <td>2025-04-04 04:58:48</td>\n",
              "      <td>4</td>\n",
              "      <td>0</td>\n",
              "      <td>agent reach list agent see make offer go full market . full market mean competition . pretty good offer sell pre market . maybe heir want do . good luck ! itll interest see advice get compare agent recommend . im guess ask agent question theyll want reach behalf ( thats agent would suggest ) - seller , would dream neighbor seriously interest id consider fair market price ( like , wouldnt sell neighbor discount without list first see could get fair offer ) . dont ton advice wish best luck . low move cost get house : ) sure dual agency state id consider reach directly list agent ( double commission ) say youre really familiar house neighborhood interest make strong offer . dont think anything could stop go market dual commission likelihood close put pole position win deal . recommend interview least three agent pick one . also recommend agent reach say `` understand situation sorry client 's loss . thing client look purchase offer , price course ? '' sometimes little detail important . maybe want super fast close , maybe need 60 day clean house 'll never know unless someone ask . care seller want ? make offer stand . ignore zillow -- 's entertainment value -- let agent show list `` comp '' ( similar property sell last 90 day ) determine fair offer .</td>\n",
              "      <td>Neutral</td>\n",
              "      <td>0.031773</td>\n",
              "      <td>0.829893</td>\n",
              "      <td>0.138334</td>\n",
              "      <td>Positive</td>\n",
              "      <td>0.008357</td>\n",
              "      <td>0.149952</td>\n",
              "      <td>0.841691</td>\n",
              "    </tr>\n",
              "  </tbody>\n",
              "</table>\n",
              "</div>\n",
              "    <div class=\"colab-df-buttons\">\n",
              "\n",
              "  <div class=\"colab-df-container\">\n",
              "    <button class=\"colab-df-convert\" onclick=\"convertToInteractive('df-e5fcacf8-1992-4d20-b2de-f89a65ebb2e4')\"\n",
              "            title=\"Convert this dataframe to an interactive table.\"\n",
              "            style=\"display:none;\">\n",
              "\n",
              "  <svg xmlns=\"http://www.w3.org/2000/svg\" height=\"24px\" viewBox=\"0 -960 960 960\">\n",
              "    <path d=\"M120-120v-720h720v720H120Zm60-500h600v-160H180v160Zm220 220h160v-160H400v160Zm0 220h160v-160H400v160ZM180-400h160v-160H180v160Zm440 0h160v-160H620v160ZM180-180h160v-160H180v160Zm440 0h160v-160H620v160Z\"/>\n",
              "  </svg>\n",
              "    </button>\n",
              "\n",
              "  <style>\n",
              "    .colab-df-container {\n",
              "      display:flex;\n",
              "      gap: 12px;\n",
              "    }\n",
              "\n",
              "    .colab-df-convert {\n",
              "      background-color: #E8F0FE;\n",
              "      border: none;\n",
              "      border-radius: 50%;\n",
              "      cursor: pointer;\n",
              "      display: none;\n",
              "      fill: #1967D2;\n",
              "      height: 32px;\n",
              "      padding: 0 0 0 0;\n",
              "      width: 32px;\n",
              "    }\n",
              "\n",
              "    .colab-df-convert:hover {\n",
              "      background-color: #E2EBFA;\n",
              "      box-shadow: 0px 1px 2px rgba(60, 64, 67, 0.3), 0px 1px 3px 1px rgba(60, 64, 67, 0.15);\n",
              "      fill: #174EA6;\n",
              "    }\n",
              "\n",
              "    .colab-df-buttons div {\n",
              "      margin-bottom: 4px;\n",
              "    }\n",
              "\n",
              "    [theme=dark] .colab-df-convert {\n",
              "      background-color: #3B4455;\n",
              "      fill: #D2E3FC;\n",
              "    }\n",
              "\n",
              "    [theme=dark] .colab-df-convert:hover {\n",
              "      background-color: #434B5C;\n",
              "      box-shadow: 0px 1px 3px 1px rgba(0, 0, 0, 0.15);\n",
              "      filter: drop-shadow(0px 1px 2px rgba(0, 0, 0, 0.3));\n",
              "      fill: #FFFFFF;\n",
              "    }\n",
              "  </style>\n",
              "\n",
              "    <script>\n",
              "      const buttonEl =\n",
              "        document.querySelector('#df-e5fcacf8-1992-4d20-b2de-f89a65ebb2e4 button.colab-df-convert');\n",
              "      buttonEl.style.display =\n",
              "        google.colab.kernel.accessAllowed ? 'block' : 'none';\n",
              "\n",
              "      async function convertToInteractive(key) {\n",
              "        const element = document.querySelector('#df-e5fcacf8-1992-4d20-b2de-f89a65ebb2e4');\n",
              "        const dataTable =\n",
              "          await google.colab.kernel.invokeFunction('convertToInteractive',\n",
              "                                                    [key], {});\n",
              "        if (!dataTable) return;\n",
              "\n",
              "        const docLinkHtml = 'Like what you see? Visit the ' +\n",
              "          '<a target=\"_blank\" href=https://colab.research.google.com/notebooks/data_table.ipynb>data table notebook</a>'\n",
              "          + ' to learn more about interactive tables.';\n",
              "        element.innerHTML = '';\n",
              "        dataTable['output_type'] = 'display_data';\n",
              "        await google.colab.output.renderOutput(dataTable, element);\n",
              "        const docLink = document.createElement('div');\n",
              "        docLink.innerHTML = docLinkHtml;\n",
              "        element.appendChild(docLink);\n",
              "      }\n",
              "    </script>\n",
              "  </div>\n",
              "\n",
              "\n",
              "    <div id=\"df-adeb4d65-4cd2-4b6d-aaa1-555258dca73f\">\n",
              "      <button class=\"colab-df-quickchart\" onclick=\"quickchart('df-adeb4d65-4cd2-4b6d-aaa1-555258dca73f')\"\n",
              "                title=\"Suggest charts\"\n",
              "                style=\"display:none;\">\n",
              "\n",
              "<svg xmlns=\"http://www.w3.org/2000/svg\" height=\"24px\"viewBox=\"0 0 24 24\"\n",
              "     width=\"24px\">\n",
              "    <g>\n",
              "        <path d=\"M19 3H5c-1.1 0-2 .9-2 2v14c0 1.1.9 2 2 2h14c1.1 0 2-.9 2-2V5c0-1.1-.9-2-2-2zM9 17H7v-7h2v7zm4 0h-2V7h2v10zm4 0h-2v-4h2v4z\"/>\n",
              "    </g>\n",
              "</svg>\n",
              "      </button>\n",
              "\n",
              "<style>\n",
              "  .colab-df-quickchart {\n",
              "      --bg-color: #E8F0FE;\n",
              "      --fill-color: #1967D2;\n",
              "      --hover-bg-color: #E2EBFA;\n",
              "      --hover-fill-color: #174EA6;\n",
              "      --disabled-fill-color: #AAA;\n",
              "      --disabled-bg-color: #DDD;\n",
              "  }\n",
              "\n",
              "  [theme=dark] .colab-df-quickchart {\n",
              "      --bg-color: #3B4455;\n",
              "      --fill-color: #D2E3FC;\n",
              "      --hover-bg-color: #434B5C;\n",
              "      --hover-fill-color: #FFFFFF;\n",
              "      --disabled-bg-color: #3B4455;\n",
              "      --disabled-fill-color: #666;\n",
              "  }\n",
              "\n",
              "  .colab-df-quickchart {\n",
              "    background-color: var(--bg-color);\n",
              "    border: none;\n",
              "    border-radius: 50%;\n",
              "    cursor: pointer;\n",
              "    display: none;\n",
              "    fill: var(--fill-color);\n",
              "    height: 32px;\n",
              "    padding: 0;\n",
              "    width: 32px;\n",
              "  }\n",
              "\n",
              "  .colab-df-quickchart:hover {\n",
              "    background-color: var(--hover-bg-color);\n",
              "    box-shadow: 0 1px 2px rgba(60, 64, 67, 0.3), 0 1px 3px 1px rgba(60, 64, 67, 0.15);\n",
              "    fill: var(--button-hover-fill-color);\n",
              "  }\n",
              "\n",
              "  .colab-df-quickchart-complete:disabled,\n",
              "  .colab-df-quickchart-complete:disabled:hover {\n",
              "    background-color: var(--disabled-bg-color);\n",
              "    fill: var(--disabled-fill-color);\n",
              "    box-shadow: none;\n",
              "  }\n",
              "\n",
              "  .colab-df-spinner {\n",
              "    border: 2px solid var(--fill-color);\n",
              "    border-color: transparent;\n",
              "    border-bottom-color: var(--fill-color);\n",
              "    animation:\n",
              "      spin 1s steps(1) infinite;\n",
              "  }\n",
              "\n",
              "  @keyframes spin {\n",
              "    0% {\n",
              "      border-color: transparent;\n",
              "      border-bottom-color: var(--fill-color);\n",
              "      border-left-color: var(--fill-color);\n",
              "    }\n",
              "    20% {\n",
              "      border-color: transparent;\n",
              "      border-left-color: var(--fill-color);\n",
              "      border-top-color: var(--fill-color);\n",
              "    }\n",
              "    30% {\n",
              "      border-color: transparent;\n",
              "      border-left-color: var(--fill-color);\n",
              "      border-top-color: var(--fill-color);\n",
              "      border-right-color: var(--fill-color);\n",
              "    }\n",
              "    40% {\n",
              "      border-color: transparent;\n",
              "      border-right-color: var(--fill-color);\n",
              "      border-top-color: var(--fill-color);\n",
              "    }\n",
              "    60% {\n",
              "      border-color: transparent;\n",
              "      border-right-color: var(--fill-color);\n",
              "    }\n",
              "    80% {\n",
              "      border-color: transparent;\n",
              "      border-right-color: var(--fill-color);\n",
              "      border-bottom-color: var(--fill-color);\n",
              "    }\n",
              "    90% {\n",
              "      border-color: transparent;\n",
              "      border-bottom-color: var(--fill-color);\n",
              "    }\n",
              "  }\n",
              "</style>\n",
              "\n",
              "      <script>\n",
              "        async function quickchart(key) {\n",
              "          const quickchartButtonEl =\n",
              "            document.querySelector('#' + key + ' button');\n",
              "          quickchartButtonEl.disabled = true;  // To prevent multiple clicks.\n",
              "          quickchartButtonEl.classList.add('colab-df-spinner');\n",
              "          try {\n",
              "            const charts = await google.colab.kernel.invokeFunction(\n",
              "                'suggestCharts', [key], {});\n",
              "          } catch (error) {\n",
              "            console.error('Error during call to suggestCharts:', error);\n",
              "          }\n",
              "          quickchartButtonEl.classList.remove('colab-df-spinner');\n",
              "          quickchartButtonEl.classList.add('colab-df-quickchart-complete');\n",
              "        }\n",
              "        (() => {\n",
              "          let quickchartButtonEl =\n",
              "            document.querySelector('#df-adeb4d65-4cd2-4b6d-aaa1-555258dca73f button');\n",
              "          quickchartButtonEl.style.display =\n",
              "            google.colab.kernel.accessAllowed ? 'block' : 'none';\n",
              "        })();\n",
              "      </script>\n",
              "    </div>\n",
              "\n",
              "    </div>\n",
              "  </div>\n"
            ],
            "text/plain": [
              "                                                                  title  \\\n",
              "0  Need help removing my phone number from an unknown property database   \n",
              "1  Need help removing my phone number from an unknown property database   \n",
              "2                                       Buying Neighbors House Strategy   \n",
              "3                                 Foreclosure offer in this market (US)   \n",
              "4                                       Buying Neighbors House Strategy   \n",
              "\n",
              "                                                                                                                                                                                                                                                                                                                                                                                                                                                                                                                                                                                                                                                                       content  \\\n",
              "0                                                                                                                                many year ago unknown scammer begin add phone number market real estate listing fl . still get text call investment company ask want sell nonexistent property . first start contact ml tell remove number database , , callstexts still continue day . database sit 'm aware ? way find investment company find number ? one property constantly contact - owner , william erickson , own property people contact property . always address william , appear somewhere secret database access , number connect guy . help would appreciate .   \n",
              "1                                                                                                                                many year ago unknown scammer begin add phone number market real estate listing fl . still get text call investment company ask want sell nonexistent property . first start contact ml tell remove number database , , callstexts still continue day . database sit 'm aware ? way find investment company find number ? one property constantly contact - owner , william erickson , own property people contact property . always address william , appear somewhere secret database access , number connect guy . help would appreciate .   \n",
              "2  're interest buy neighbor 's house . owner recently pas away , daughter handle sale . officially market yet , real estate agent likely list soon . reach since 've get acquaint year , give agent contact infoso seem like shes plan go traditional list process , sell off-market u directly . question : reach list agent , real estate agent make contact ? thing make seller agent life easier also give competitive advantage ? strategy 'd recommend make offer stand ? quick context : house ugliest block , amaze neighborhood . zillow put value around 1.6m . neighbor side house also interest weve get competition ! arent look discount price would offer 1.6m   \n",
              "3                                                                                                                                                                         find foreclosure house husband really love great neighborhood . hasnt occupant 10 year foreclosure since 2017. need lot work ( probably 100-200k ) know right probably isnt best time go market 475 ( sell 2001 190 ) lot work ( giant hole ceiling , possible water damage , outdated thats see - bring contractor saturday ) . theyre open investor 400 low ? know bank accept whatever whats go right feel like thats bad offer ? dont know everything go bank would expect investor meet price .   \n",
              "4  're interest buy neighbor 's house . owner recently pas away , daughter handle sale . officially market yet , real estate agent likely list soon . reach since 've get acquaint year , give agent contact infoso seem like shes plan go traditional list process , sell off-market u directly . question : reach list agent , real estate agent make contact ? thing make seller agent life easier also give competitive advantage ? strategy 'd recommend make offer stand ? quick context : house ugliest block , amaze neighborhood . zillow put value around 1.6m . neighbor side house also interest weve get competition ! arent look discount price would offer 1.6m   \n",
              "\n",
              "   score  \\\n",
              "0      1   \n",
              "1      1   \n",
              "2      2   \n",
              "3      0   \n",
              "4      2   \n",
              "\n",
              "                                                                                                url  \\\n",
              "0  https://www.reddit.com/r/RealEstate/comments/1jrb526/need_help_removing_my_phone_number_from_an/   \n",
              "1  https://www.reddit.com/r/RealEstate/comments/1jrb526/need_help_removing_my_phone_number_from_an/   \n",
              "2             https://www.reddit.com/r/RealEstate/comments/1jr2x2d/buying_neighbors_house_strategy/   \n",
              "3         https://www.reddit.com/r/RealEstate/comments/1jr5cqm/foreclosure_offer_in_this_market_us/   \n",
              "4             https://www.reddit.com/r/RealEstate/comments/1jr2x2d/buying_neighbors_house_strategy/   \n",
              "\n",
              "    created_utc     city        state  year  upvote_ratio  \\\n",
              "0  1.743771e+09  Ansonia  Connecticut  2019           1.0   \n",
              "1  1.743771e+09  Ansonia  Connecticut  2020           1.0   \n",
              "2  1.743739e+09  Ansonia  Connecticut  2020           1.0   \n",
              "3  1.743748e+09  Ansonia  Connecticut  2019           0.5   \n",
              "4  1.743739e+09  Ansonia  Connecticut  2019           1.0   \n",
              "\n",
              "           date_posted  comments_count  awards_count  \\\n",
              "0  2025-04-04 13:52:54               2             0   \n",
              "1  2025-04-04 13:52:54               2             0   \n",
              "2  2025-04-04 04:58:48               4             0   \n",
              "3  2025-04-04 07:29:24               4             0   \n",
              "4  2025-04-04 04:58:48               4             0   \n",
              "\n",
              "                                                                                                                                                                                                                                                                                                                                                                                                                                                                                                                                                                                                                                                                                                                                                                                                                                                                                                                                                                                                                                                                                                                                                                                                                                                                                                              comments  \\\n",
              "0                                                                                                                                                                                                                                                                                                                                                                                                                                                                                                                                                                                                                                                                                                                                                                                'm sorry . may mr. erickson use phone number . call database might help long run , short run 's workaround . change voicemail message `` hi , [ name ] . call property own william erickson , property know reach owner . others please leave message . '' n't answer call unknown caller . text , simply answer stop . use kind automate system , take list . human also respect . 's ton place info could . assume n't want get new number , would suggest get call screen app like hiya 've find quite effective block junk call .   \n",
              "1                                                                                                                                                                                                                                                                                                                                                                                                                                                                                                                                                                                                                                                                                                                                                                                'm sorry . may mr. erickson use phone number . call database might help long run , short run 's workaround . change voicemail message `` hi , [ name ] . call property own william erickson , property know reach owner . others please leave message . '' n't answer call unknown caller . text , simply answer stop . use kind automate system , take list . human also respect . 's ton place info could . assume n't want get new number , would suggest get call screen app like hiya 've find quite effective block junk call .   \n",
              "2  agent reach list agent see make offer go full market . full market mean competition . pretty good offer sell pre market . maybe heir want do . good luck ! itll interest see advice get compare agent recommend . im guess ask agent question theyll want reach behalf ( thats agent would suggest ) - seller , would dream neighbor seriously interest id consider fair market price ( like , wouldnt sell neighbor discount without list first see could get fair offer ) . dont ton advice wish best luck . low move cost get house : ) sure dual agency state id consider reach directly list agent ( double commission ) say youre really familiar house neighborhood interest make strong offer . dont think anything could stop go market dual commission likelihood close put pole position win deal . recommend interview least three agent pick one . also recommend agent reach say `` understand situation sorry client 's loss . thing client look purchase offer , price course ? '' sometimes little detail important . maybe want super fast close , maybe need 60 day clean house 'll never know unless someone ask . care seller want ? make offer stand . ignore zillow -- 's entertainment value -- let agent show list `` comp '' ( similar property sell last 90 day ) determine fair offer .   \n",
              "3                                                                                                                                                                                                                                                                                                                                                                                                                                                                                           cash ? investment loan ? isnt go qualify traditional finance . submit whatever offer like . lot experience investor probably go decent neighborhood . renovate cheaper . take finish value per comp subtract repair . price . competition . good luck ! put bid go investor good offer expect bank anticipate investor go nut one ? wishful think investor go lower ? isnt go qualify traditional finance . want emphasize . seller know go even look offer involve traditional mortgage . n't cash right -- enough buy outright rehab -- probably leave investor deep pocket . , 's kind property live fix little time . fixer upper 's wonderful life ? 's fiction even buyer own mortgage bank . generally bank move slow jump first offer . duty get best price bank . contingency free . bank dont like contingency .   \n",
              "4  agent reach list agent see make offer go full market . full market mean competition . pretty good offer sell pre market . maybe heir want do . good luck ! itll interest see advice get compare agent recommend . im guess ask agent question theyll want reach behalf ( thats agent would suggest ) - seller , would dream neighbor seriously interest id consider fair market price ( like , wouldnt sell neighbor discount without list first see could get fair offer ) . dont ton advice wish best luck . low move cost get house : ) sure dual agency state id consider reach directly list agent ( double commission ) say youre really familiar house neighborhood interest make strong offer . dont think anything could stop go market dual commission likelihood close put pole position win deal . recommend interview least three agent pick one . also recommend agent reach say `` understand situation sorry client 's loss . thing client look purchase offer , price course ? '' sometimes little detail important . maybe want super fast close , maybe need 60 day clean house 'll never know unless someone ask . care seller want ? make offer stand . ignore zillow -- 's entertainment value -- let agent show list `` comp '' ( similar property sell last 90 day ) determine fair offer .   \n",
              "\n",
              "  content_sentiment_label  content_negative_score  content_neutral_score  \\\n",
              "0                Negative                0.611182               0.370701   \n",
              "1                Negative                0.611182               0.370701   \n",
              "2                 Neutral                0.031773               0.829893   \n",
              "3                 Neutral                0.320147               0.430857   \n",
              "4                 Neutral                0.031773               0.829893   \n",
              "\n",
              "   content_positive_score comments_sentiment_label  comments_negative_score  \\\n",
              "0                0.018117                  Neutral                 0.372709   \n",
              "1                0.018117                  Neutral                 0.372709   \n",
              "2                0.138334                 Positive                 0.008357   \n",
              "3                0.248996                  Neutral                 0.063414   \n",
              "4                0.138334                 Positive                 0.008357   \n",
              "\n",
              "   comments_neutral_score  comments_positive_score  \n",
              "0                0.587213                 0.040078  \n",
              "1                0.587213                 0.040078  \n",
              "2                0.149952                 0.841691  \n",
              "3                0.513370                 0.423216  \n",
              "4                0.149952                 0.841691  "
            ]
          },
          "execution_count": 13,
          "metadata": {},
          "output_type": "execute_result"
        }
      ],
      "source": [
        "sm_real_estate.head()"
      ]
    },
    {
      "cell_type": "code",
      "execution_count": null,
      "metadata": {
        "id": "IU8H5WMWuiFY"
      },
      "outputs": [],
      "source": [
        "sm_real_estate.to_csv(\"processed_sm_real_estate.csv\")"
      ]
    },
    {
      "cell_type": "markdown",
      "metadata": {
        "id": "zrf0YFbftR3J"
      },
      "source": [
        "##### How do people feel about buying/renting in different cities? (Positive vs. Negative sentiment trends)"
      ]
    },
    {
      "cell_type": "code",
      "execution_count": 3,
      "metadata": {},
      "outputs": [
        {
          "name": "stderr",
          "output_type": "stream",
          "text": [
            "<>:1: SyntaxWarning: invalid escape sequence '\\p'\n",
            "<>:1: SyntaxWarning: invalid escape sequence '\\p'\n",
            "C:\\Users\\Admin\\AppData\\Local\\Temp\\ipykernel_13200\\1256183146.py:1: SyntaxWarning: invalid escape sequence '\\p'\n",
            "  social_media_real_estate = pd.read_csv(\"Streamlit App\\processed_sm_real_estate.csv\")\n"
          ]
        }
      ],
      "source": [
        "social_media_real_estate = pd.read_csv(\"Streamlit App\\processed_sm_real_estate.csv\")\n",
        "social_media_real_estate=social_media_real_estate.drop_duplicates()"
      ]
    },
    {
      "cell_type": "code",
      "execution_count": 4,
      "metadata": {
        "colab": {
          "base_uri": "https://localhost:8080/",
          "height": 1000
        },
        "id": "BPETSR2zmpKy",
        "outputId": "b9814a06-9f6d-4264-c223-15929c9481da"
      },
      "outputs": [
        {
          "data": {
            "image/png": "[encoded data removed]",
            "text/plain": [
              "<Figure size 640x480 with 1 Axes>"
            ]
          },
          "metadata": {},
          "output_type": "display_data"
        },
        {
          "data": {
            "image/png": "[encoded data removed]",
            "text/plain": [
              "<Figure size 640x480 with 1 Axes>"
            ]
          },
          "metadata": {},
          "output_type": "display_data"
        }
      ],
      "source": [
        "import pandas as pd\n",
        "import seaborn as sns\n",
        "import matplotlib.pyplot as plt\n",
        "\n",
        "# Assuming 'social_media_real_estate' DataFrame is already processed as in the provided code.\n",
        "\n",
        "def analyze_sentiment(df, state):\n",
        "    state_df = df[df['state'] == state]\n",
        "\n",
        "    # Get sentiment counts for both content and comment sentiment labels\n",
        "    content_sentiments = state_df.groupby('city')['content_sentiment_label'].value_counts().unstack(fill_value=0)\n",
        "    comment_sentiments = state_df.groupby('city')['comments_sentiment_label'].value_counts().unstack(fill_value=0)\n",
        "\n",
        "    # Combine content and comment sentiment counts\n",
        "    combined_sentiments = content_sentiments.add(comment_sentiments, fill_value=0)\n",
        "\n",
        "    # Sort by the total sentiment count across content and comment\n",
        "    top_cities = combined_sentiments.sum(axis=1).nlargest(20).index\n",
        "    top_city_sentiments = combined_sentiments.loc[top_cities]\n",
        "\n",
        "    return top_city_sentiments\n",
        "\n",
        "# Analyze sentiment for Connecticut\n",
        "ct_sentiments = analyze_sentiment(social_media_real_estate, 'Connecticut')\n",
        "\n",
        "# Analyze sentiment for Louisiana\n",
        "la_sentiments = analyze_sentiment(social_media_real_estate, 'Louisiana')\n",
        "\n",
        "# Plotting the results for both states\n",
        "# plt.figure(figsize=(14, 7))\n",
        "\n",
        "# Plot for Connecticut\n",
        "ct_sentiments.plot(kind='bar', stacked=True, color=['#1f77b4', '#ff7f0e'])  # Custom colors for Positive/Negative\n",
        "plt.title('Sentiment Trends in Connecticut Cities (Top 20)')\n",
        "plt.xlabel('City')\n",
        "plt.ylabel('Number of Posts')\n",
        "plt.xticks(rotation=45, ha='right')\n",
        "plt.legend(title='Sentiment', labels=['Negative', 'Positive'])\n",
        "\n",
        "# Plot for Louisiana\n",
        "la_sentiments.plot(kind='bar', stacked=True, color=['#1f77b4', '#ff7f0e'])  # Custom colors for Positive/Negative\n",
        "plt.title('Sentiment Trends in Louisiana Cities (Top 20)')\n",
        "plt.xlabel('City')\n",
        "plt.ylabel('Number of Posts')\n",
        "plt.xticks(rotation=45, ha='right')\n",
        "plt.legend(title='Sentiment', labels=['Negative', 'Positive'])\n",
        "\n",
        "plt.tight_layout()\n",
        "plt.show()\n"
      ]
    },
    {
      "cell_type": "markdown",
      "metadata": {
        "id": "csfRMXlLJ0lr"
      },
      "source": [
        "##### What are the major concerns buyers and renters have in these states? (Safety, affordability, job market, etc.)"
      ]
    },
    {
      "cell_type": "code",
      "execution_count": 5,
      "metadata": {
        "id": "V37ReOHqua54"
      },
      "outputs": [],
      "source": [
        "def analyze_concerns(df, state):\n",
        "    \"\"\"Analyzes major concerns from text data for a given state.\"\"\"\n",
        "\n",
        "    state_df = df[df['state'] == state]\n",
        "    concerns = {}\n",
        "\n",
        "    for _, row in state_df.iterrows():\n",
        "        text = str(row['content']) + \" \" + str(row['comments'])  # Combine content and comments\n",
        "        text = text.lower()\n",
        "\n",
        "        # Check for keywords related to different concerns\n",
        "        if \"safety\" in text or \"crime\" in text or \"dangerous\" in text:\n",
        "            concerns[\"Safety\"] = concerns.get(\"Safety\", 0) + 1\n",
        "        if \"affordability\" in text or \"expensive\" in text or \"rent\" in text or \"mortgage\" in text or \"cost\" in text:\n",
        "            concerns[\"Affordability\"] = concerns.get(\"Affordability\", 0) + 1\n",
        "        if \"job\" in text or \"employment\" in text or \"unemployment\" in text or \"career\" in text or \"market\" in text:\n",
        "            concerns[\"Job Market\"] = concerns.get(\"Job Market\", 0) + 1\n",
        "        if \"school\" in text or \"education\" in text:\n",
        "            concerns[\"Schools\"] = concerns.get(\"Schools\", 0) + 1\n",
        "        if \"infrastructure\" in text or \"transportation\" in text or \"roads\" in text or \"public transit\" in text:\n",
        "            concerns[\"Infrastructure\"] = concerns.get(\"Infrastructure\",0) + 1\n",
        "        if \"taxes\" in text or \"property tax\" in text or \"tax rate\" in text:\n",
        "            concerns[\"Taxes\"] = concerns.get(\"Taxes\", 0) + 1\n",
        "        # Add more concerns and keywords as needed\n",
        "\n",
        "    return concerns"
      ]
    },
    {
      "cell_type": "code",
      "execution_count": 6,
      "metadata": {
        "colab": {
          "base_uri": "https://localhost:8080/"
        },
        "id": "CVk3o55Qt9Vw",
        "outputId": "a5828685-03c5-4036-eaa8-947f3de10949"
      },
      "outputs": [
        {
          "name": "stdout",
          "output_type": "stream",
          "text": [
            "Connecticut Concerns:\n",
            "{'Job Market': 1369, 'Affordability': 916}\n"
          ]
        }
      ],
      "source": [
        "# Analyze concerns for Connecticut\n",
        "ct_concerns = analyze_concerns(social_media_real_estate, 'Connecticut')\n",
        "print(\"Connecticut Concerns:\")\n",
        "print(ct_concerns)"
      ]
    },
    {
      "cell_type": "code",
      "execution_count": 7,
      "metadata": {
        "colab": {
          "base_uri": "https://localhost:8080/"
        },
        "id": "Q1P4yLnSt7G_",
        "outputId": "e1d2fea2-9f27-43b0-d679-a7e5835a80be"
      },
      "outputs": [
        {
          "name": "stdout",
          "output_type": "stream",
          "text": [
            "\n",
            "Louisiana Concerns:\n"
          ]
        },
        {
          "data": {
            "text/plain": [
              "{'Job Market': 1633, 'Affordability': 1091}"
            ]
          },
          "execution_count": 7,
          "metadata": {},
          "output_type": "execute_result"
        }
      ],
      "source": [
        "# Analyze concerns for Louisiana\n",
        "la_concerns = analyze_concerns(social_media_real_estate, 'Louisiana')\n",
        "print(\"\\nLouisiana Concerns:\")\n",
        "la_concerns\n"
      ]
    },
    {
      "cell_type": "code",
      "execution_count": 8,
      "metadata": {
        "colab": {
          "base_uri": "https://localhost:8080/",
          "height": 839
        },
        "id": "SPQkRbfYuDtm",
        "outputId": "6a5b7fb2-5c56-4071-8962-5d91b05a47a0"
      },
      "outputs": [
        {
          "data": {
            "image/png": "[encoded data removed]",
            "text/plain": [
              "<Figure size 640x480 with 1 Axes>"
            ]
          },
          "metadata": {},
          "output_type": "display_data"
        },
        {
          "data": {
            "image/png": "[encoded data removed]",
            "text/plain": [
              "<Figure size 640x480 with 1 Axes>"
            ]
          },
          "metadata": {},
          "output_type": "display_data"
        }
      ],
      "source": [
        "def plot_concerns(concerns):\n",
        "  \"\"\"Plots concerns in a pie chart.\"\"\"\n",
        "  labels = list(concerns.keys())\n",
        "  sizes = list(concerns.values())\n",
        "\n",
        "  fig, ax = plt.subplots()\n",
        "  ax.pie(sizes, labels=labels, autopct='%1.1f%%', startangle=90)\n",
        "  ax.axis('equal')  # Equal aspect ratio ensures that pie is drawn as a circle.\n",
        "  plt.title(\"Major Concerns of Buyers and Renters\")\n",
        "  plt.show()\n",
        "\n",
        "plot_concerns(ct_concerns)\n",
        "plot_concerns(la_concerns)"
      ]
    },
    {
      "cell_type": "markdown",
      "metadata": {
        "id": "Dqa2ml9PKF3l"
      },
      "source": [
        "##### How does sentiment on social media correlate with actual property prices?"
      ]
    },
    {
      "cell_type": "code",
      "execution_count": 9,
      "metadata": {
        "colab": {
          "base_uri": "https://localhost:8080/",
          "height": 582
        },
        "id": "3Yz4e-7Hu_oL",
        "outputId": "b547b755-43ca-42c0-9dc7-e0dc2df5fe33"
      },
      "outputs": [
        {
          "name": "stdout",
          "output_type": "stream",
          "text": [
            "Correlation between property price and major sentiment: 0.03\n"
          ]
        },
        {
          "data": {
            "image/png": "[encoded data removed]",
            "text/plain": [
              "<Figure size 800x600 with 1 Axes>"
            ]
          },
          "metadata": {},
          "output_type": "display_data"
        }
      ],
      "source": [
        "# Merge the dataframes on 'City'\n",
        "real_social = pd.merge(real_df, social_media_real_estate, left_on='city', right_on='city', how='inner')\n",
        "\n",
        "# Group by city and get the major sentiment (the most frequent sentiment per city)\n",
        "city_sentiment = real_social.groupby('city')['content_sentiment_label'].agg(lambda x: x.value_counts().idxmax())\n",
        "\n",
        "# Merge the major sentiment back into the merged dataframe\n",
        "real_social = pd.merge(real_social, city_sentiment.rename('major_sentiment'), left_on='city', right_index=True)\n",
        "\n",
        "# Map sentiment labels to numerical values: Negative (-1), Neutral (0), Positive (1)\n",
        "sentiment_mapping = {'Negative': -1, 'Neutral': 0, 'Positive': 1}\n",
        "real_social['sentiment_score'] = real_social['major_sentiment'].map(sentiment_mapping)\n",
        "\n",
        "# Calculate the correlation between property price and sentiment score\n",
        "correlation = real_social['median_sale_price'].corr(real_social['sentiment_score'])\n",
        "print(f\"Correlation between property price and major sentiment: {correlation:.2f}\")\n",
        "\n",
        "# Plotting the correlation using a seaborn regplot\n",
        "plt.figure(figsize=(8, 6))\n",
        "sns.regplot(x='sentiment_score', y='median_sale_price', data=real_social)\n",
        "plt.title('Correlation between Property Price and Sentiment')\n",
        "plt.xlabel('Sentiment Score')\n",
        "plt.ylabel('Property Price')\n",
        "plt.show()"
      ]
    },
    {
      "cell_type": "code",
      "execution_count": 10,
      "metadata": {
        "colab": {
          "background_save": true
        },
        "id": "MCk_OeRNyYPt",
        "outputId": "532d26c7-82d8-40b4-d054-f7a5779c6e72"
      },
      "outputs": [
        {
          "data": {
            "application/vnd.plotly.v1+json": {
              "config": {
                "plotlyServerURL": "https://plot.ly"
              },
              "data": [
                {
                  "customdata": [
                    [
                      "Abbeville"
                    ]
                  ],
                  "hovertemplate": "city=%{customdata[0]}<br>Sentiment=%{x}<br>median_sale_price=%{y}<extra></extra>",
                  "legendgroup": "Abbeville",
                  "marker": {
                    "color": "#636efa",
                    "symbol": "circle"
                  },
                  "mode": "markers",
                  "name": "Abbeville",
                  "orientation": "v",
                  "showlegend": true,
                  "type": "scatter",
                  "x": [
                    "Neutral"
                  ],
                  "xaxis": "x",
                  "y": {
                    "bdata": "fleLmzQi+EA=",
                    "dtype": "f8"
                  },
                  "yaxis": "y"
                },
                {
                  "customdata": [
                    [
                      "Addis"
                    ]
                  ],
                  "hovertemplate": "city=%{customdata[0]}<br>Sentiment=%{x}<br>median_sale_price=%{y}<extra></extra>",
                  "legendgroup": "Addis",
                  "marker": {
                    "color": "#EF553B",
                    "symbol": "circle"
                  },
                  "mode": "markers",
                  "name": "Addis",
                  "orientation": "v",
                  "showlegend": true,
                  "type": "scatter",
                  "x": [
                    "Neutral"
                  ],
                  "xaxis": "x",
                  "y": {
                    "bdata": "+lo9O7D9CUE=",
                    "dtype": "f8"
                  },
                  "yaxis": "y"
                },
                {
                  "customdata": [
                    [
                      "Alexandria"
                    ]
                  ],
                  "hovertemplate": "city=%{customdata[0]}<br>Sentiment=%{x}<br>median_sale_price=%{y}<extra></extra>",
                  "legendgroup": "Alexandria",
                  "marker": {
                    "color": "#00cc96",
                    "symbol": "circle"
                  },
                  "mode": "markers",
                  "name": "Alexandria",
                  "orientation": "v",
                  "showlegend": true,
                  "type": "scatter",
                  "x": [
                    "Neutral"
                  ],
                  "xaxis": "x",
                  "y": {
                    "bdata": "jLRjBb7YA0E=",
                    "dtype": "f8"
                  },
                  "yaxis": "y"
                },
                {
                  "customdata": [
                    [
                      "Ansonia"
                    ]
                  ],
                  "hovertemplate": "city=%{customdata[0]}<br>Sentiment=%{x}<br>median_sale_price=%{y}<extra></extra>",
                  "legendgroup": "Ansonia",
                  "marker": {
                    "color": "#ab63fa",
                    "symbol": "circle"
                  },
                  "mode": "markers",
                  "name": "Ansonia",
                  "orientation": "v",
                  "showlegend": true,
                  "type": "scatter",
                  "x": [
                    "Neutral"
                  ],
                  "xaxis": "x",
                  "y": {
                    "bdata": "FvEJpN6KDEE=",
                    "dtype": "f8"
                  },
                  "yaxis": "y"
                },
                {
                  "customdata": [
                    [
                      "Baldwin"
                    ]
                  ],
                  "hovertemplate": "city=%{customdata[0]}<br>Sentiment=%{x}<br>median_sale_price=%{y}<extra></extra>",
                  "legendgroup": "Baldwin",
                  "marker": {
                    "color": "#FFA15A",
                    "symbol": "circle"
                  },
                  "mode": "markers",
                  "name": "Baldwin",
                  "orientation": "v",
                  "showlegend": true,
                  "type": "scatter",
                  "x": [
                    "Neutral"
                  ],
                  "xaxis": "x",
                  "y": {
                    "bdata": "VII8JaBzAUE=",
                    "dtype": "f8"
                  },
                  "yaxis": "y"
                },
                {
                  "customdata": [
                    [
                      "Ball"
                    ]
                  ],
                  "hovertemplate": "city=%{customdata[0]}<br>Sentiment=%{x}<br>median_sale_price=%{y}<extra></extra>",
                  "legendgroup": "Ball",
                  "marker": {
                    "color": "#19d3f3",
                    "symbol": "circle"
                  },
                  "mode": "markers",
                  "name": "Ball",
                  "orientation": "v",
                  "showlegend": true,
                  "type": "scatter",
                  "x": [
                    "Neutral"
                  ],
                  "xaxis": "x",
                  "y": {
                    "bdata": "yAZkA662A0E=",
                    "dtype": "f8"
                  },
                  "yaxis": "y"
                },
                {
                  "customdata": [
                    [
                      "Bastrop"
                    ]
                  ],
                  "hovertemplate": "city=%{customdata[0]}<br>Sentiment=%{x}<br>median_sale_price=%{y}<extra></extra>",
                  "legendgroup": "Bastrop",
                  "marker": {
                    "color": "#FF6692",
                    "symbol": "circle"
                  },
                  "mode": "markers",
                  "name": "Bastrop",
                  "orientation": "v",
                  "showlegend": true,
                  "type": "scatter",
                  "x": [
                    "Neutral"
                  ],
                  "xaxis": "x",
                  "y": {
                    "bdata": "Sp5lRJ8C9UA=",
                    "dtype": "f8"
                  },
                  "yaxis": "y"
                },
                {
                  "customdata": [
                    [
                      "Baton Rouge"
                    ]
                  ],
                  "hovertemplate": "city=%{customdata[0]}<br>Sentiment=%{x}<br>median_sale_price=%{y}<extra></extra>",
                  "legendgroup": "Baton Rouge",
                  "marker": {
                    "color": "#B6E880",
                    "symbol": "circle"
                  },
                  "mode": "markers",
                  "name": "Baton Rouge",
                  "orientation": "v",
                  "showlegend": true,
                  "type": "scatter",
                  "x": [
                    "Neutral"
                  ],
                  "xaxis": "x",
                  "y": {
                    "bdata": "1aRLTZLAAEE=",
                    "dtype": "f8"
                  },
                  "yaxis": "y"
                },
                {
                  "customdata": [
                    [
                      "Bernice"
                    ]
                  ],
                  "hovertemplate": "city=%{customdata[0]}<br>Sentiment=%{x}<br>median_sale_price=%{y}<extra></extra>",
                  "legendgroup": "Bernice",
                  "marker": {
                    "color": "#FF97FF",
                    "symbol": "circle"
                  },
                  "mode": "markers",
                  "name": "Bernice",
                  "orientation": "v",
                  "showlegend": true,
                  "type": "scatter",
                  "x": [
                    "Neutral"
                  ],
                  "xaxis": "x",
                  "y": {
                    "bdata": "AAAAALAD9UA=",
                    "dtype": "f8"
                  },
                  "yaxis": "y"
                },
                {
                  "customdata": [
                    [
                      "Berwick"
                    ]
                  ],
                  "hovertemplate": "city=%{customdata[0]}<br>Sentiment=%{x}<br>median_sale_price=%{y}<extra></extra>",
                  "legendgroup": "Berwick",
                  "marker": {
                    "color": "#FECB52",
                    "symbol": "circle"
                  },
                  "mode": "markers",
                  "name": "Berwick",
                  "orientation": "v",
                  "showlegend": true,
                  "type": "scatter",
                  "x": [
                    "Neutral"
                  ],
                  "xaxis": "x",
                  "y": {
                    "bdata": "yY3cyP09BkE=",
                    "dtype": "f8"
                  },
                  "yaxis": "y"
                },
                {
                  "customdata": [
                    [
                      "Bethel"
                    ]
                  ],
                  "hovertemplate": "city=%{customdata[0]}<br>Sentiment=%{x}<br>median_sale_price=%{y}<extra></extra>",
                  "legendgroup": "Bethel",
                  "marker": {
                    "color": "#636efa",
                    "symbol": "circle"
                  },
                  "mode": "markers",
                  "name": "Bethel",
                  "orientation": "v",
                  "showlegend": true,
                  "type": "scatter",
                  "x": [
                    "Neutral"
                  ],
                  "xaxis": "x",
                  "y": {
                    "bdata": "OVAcKOKcFkE=",
                    "dtype": "f8"
                  },
                  "yaxis": "y"
                },
                {
                  "customdata": [
                    [
                      "Blanchard"
                    ]
                  ],
                  "hovertemplate": "city=%{customdata[0]}<br>Sentiment=%{x}<br>median_sale_price=%{y}<extra></extra>",
                  "legendgroup": "Blanchard",
                  "marker": {
                    "color": "#EF553B",
                    "symbol": "circle"
                  },
                  "mode": "markers",
                  "name": "Blanchard",
                  "orientation": "v",
                  "showlegend": true,
                  "type": "scatter",
                  "x": [
                    "Neutral"
                  ],
                  "xaxis": "x",
                  "y": {
                    "bdata": "eqBydqfFCkE=",
                    "dtype": "f8"
                  },
                  "yaxis": "y"
                },
                {
                  "customdata": [
                    [
                      "Bogalusa"
                    ]
                  ],
                  "hovertemplate": "city=%{customdata[0]}<br>Sentiment=%{x}<br>median_sale_price=%{y}<extra></extra>",
                  "legendgroup": "Bogalusa",
                  "marker": {
                    "color": "#00cc96",
                    "symbol": "circle"
                  },
                  "mode": "markers",
                  "name": "Bogalusa",
                  "orientation": "v",
                  "showlegend": true,
                  "type": "scatter",
                  "x": [
                    "Neutral"
                  ],
                  "xaxis": "x",
                  "y": {
                    "bdata": "mjq/9vB+8EA=",
                    "dtype": "f8"
                  },
                  "yaxis": "y"
                },
                {
                  "customdata": [
                    [
                      "Bossier City"
                    ]
                  ],
                  "hovertemplate": "city=%{customdata[0]}<br>Sentiment=%{x}<br>median_sale_price=%{y}<extra></extra>",
                  "legendgroup": "Bossier City",
                  "marker": {
                    "color": "#ab63fa",
                    "symbol": "circle"
                  },
                  "mode": "markers",
                  "name": "Bossier City",
                  "orientation": "v",
                  "showlegend": true,
                  "type": "scatter",
                  "x": [
                    "Neutral"
                  ],
                  "xaxis": "x",
                  "y": {
                    "bdata": "dNFFF1EDBEE=",
                    "dtype": "f8"
                  },
                  "yaxis": "y"
                },
                {
                  "customdata": [
                    [
                      "Breaux Bridge"
                    ]
                  ],
                  "hovertemplate": "city=%{customdata[0]}<br>Sentiment=%{x}<br>median_sale_price=%{y}<extra></extra>",
                  "legendgroup": "Breaux Bridge",
                  "marker": {
                    "color": "#FFA15A",
                    "symbol": "circle"
                  },
                  "mode": "markers",
                  "name": "Breaux Bridge",
                  "orientation": "v",
                  "showlegend": true,
                  "type": "scatter",
                  "x": [
                    "Neutral"
                  ],
                  "xaxis": "x",
                  "y": {
                    "bdata": "p2jhDNCVB0E=",
                    "dtype": "f8"
                  },
                  "yaxis": "y"
                },
                {
                  "customdata": [
                    [
                      "Bridgeport"
                    ]
                  ],
                  "hovertemplate": "city=%{customdata[0]}<br>Sentiment=%{x}<br>median_sale_price=%{y}<extra></extra>",
                  "legendgroup": "Bridgeport",
                  "marker": {
                    "color": "#19d3f3",
                    "symbol": "circle"
                  },
                  "mode": "markers",
                  "name": "Bridgeport",
                  "orientation": "v",
                  "showlegend": true,
                  "type": "scatter",
                  "x": [
                    "Neutral"
                  ],
                  "xaxis": "x",
                  "y": {
                    "bdata": "IDnN17SoCkE=",
                    "dtype": "f8"
                  },
                  "yaxis": "y"
                },
                {
                  "customdata": [
                    [
                      "Bristol"
                    ]
                  ],
                  "hovertemplate": "city=%{customdata[0]}<br>Sentiment=%{x}<br>median_sale_price=%{y}<extra></extra>",
                  "legendgroup": "Bristol",
                  "marker": {
                    "color": "#FF6692",
                    "symbol": "circle"
                  },
                  "mode": "markers",
                  "name": "Bristol",
                  "orientation": "v",
                  "showlegend": true,
                  "type": "scatter",
                  "x": [
                    "Neutral"
                  ],
                  "xaxis": "x",
                  "y": {
                    "bdata": "9gxEpWL1BUE=",
                    "dtype": "f8"
                  },
                  "yaxis": "y"
                },
                {
                  "customdata": [
                    [
                      "Broussard"
                    ]
                  ],
                  "hovertemplate": "city=%{customdata[0]}<br>Sentiment=%{x}<br>median_sale_price=%{y}<extra></extra>",
                  "legendgroup": "Broussard",
                  "marker": {
                    "color": "#B6E880",
                    "symbol": "circle"
                  },
                  "mode": "markers",
                  "name": "Broussard",
                  "orientation": "v",
                  "showlegend": true,
                  "type": "scatter",
                  "x": [
                    "Neutral"
                  ],
                  "xaxis": "x",
                  "y": {
                    "bdata": "BXqnrl3KDkE=",
                    "dtype": "f8"
                  },
                  "yaxis": "y"
                },
                {
                  "customdata": [
                    [
                      "Brusly"
                    ]
                  ],
                  "hovertemplate": "city=%{customdata[0]}<br>Sentiment=%{x}<br>median_sale_price=%{y}<extra></extra>",
                  "legendgroup": "Brusly",
                  "marker": {
                    "color": "#FF97FF",
                    "symbol": "circle"
                  },
                  "mode": "markers",
                  "name": "Brusly",
                  "orientation": "v",
                  "showlegend": true,
                  "type": "scatter",
                  "x": [
                    "Neutral"
                  ],
                  "xaxis": "x",
                  "y": {
                    "bdata": "WRLP1xnsCUE=",
                    "dtype": "f8"
                  },
                  "yaxis": "y"
                },
                {
                  "customdata": [
                    [
                      "Carencro"
                    ]
                  ],
                  "hovertemplate": "city=%{customdata[0]}<br>Sentiment=%{x}<br>median_sale_price=%{y}<extra></extra>",
                  "legendgroup": "Carencro",
                  "marker": {
                    "color": "#FECB52",
                    "symbol": "circle"
                  },
                  "mode": "markers",
                  "name": "Carencro",
                  "orientation": "v",
                  "showlegend": true,
                  "type": "scatter",
                  "x": [
                    "Neutral"
                  ],
                  "xaxis": "x",
                  "y": {
                    "bdata": "6hude9k+B0E=",
                    "dtype": "f8"
                  },
                  "yaxis": "y"
                },
                {
                  "customdata": [
                    [
                      "Church Point"
                    ]
                  ],
                  "hovertemplate": "city=%{customdata[0]}<br>Sentiment=%{x}<br>median_sale_price=%{y}<extra></extra>",
                  "legendgroup": "Church Point",
                  "marker": {
                    "color": "#636efa",
                    "symbol": "circle"
                  },
                  "mode": "markers",
                  "name": "Church Point",
                  "orientation": "v",
                  "showlegend": true,
                  "type": "scatter",
                  "x": [
                    "Neutral"
                  ],
                  "xaxis": "x",
                  "y": {
                    "bdata": "ntziyQ1090A=",
                    "dtype": "f8"
                  },
                  "yaxis": "y"
                },
                {
                  "customdata": [
                    [
                      "Clarence"
                    ]
                  ],
                  "hovertemplate": "city=%{customdata[0]}<br>Sentiment=%{x}<br>median_sale_price=%{y}<extra></extra>",
                  "legendgroup": "Clarence",
                  "marker": {
                    "color": "#EF553B",
                    "symbol": "circle"
                  },
                  "mode": "markers",
                  "name": "Clarence",
                  "orientation": "v",
                  "showlegend": true,
                  "type": "scatter",
                  "x": [
                    "Neutral"
                  ],
                  "xaxis": "x",
                  "y": {
                    "bdata": "AAAAAG7LAUE=",
                    "dtype": "f8"
                  },
                  "yaxis": "y"
                },
                {
                  "customdata": [
                    [
                      "Clinton"
                    ]
                  ],
                  "hovertemplate": "city=%{customdata[0]}<br>Sentiment=%{x}<br>median_sale_price=%{y}<extra></extra>",
                  "legendgroup": "Clinton",
                  "marker": {
                    "color": "#00cc96",
                    "symbol": "circle"
                  },
                  "mode": "markers",
                  "name": "Clinton",
                  "orientation": "v",
                  "showlegend": true,
                  "type": "scatter",
                  "x": [
                    "Neutral"
                  ],
                  "xaxis": "x",
                  "y": {
                    "bdata": "vy3E62eaEEE=",
                    "dtype": "f8"
                  },
                  "yaxis": "y"
                },
                {
                  "customdata": [
                    [
                      "Covington"
                    ]
                  ],
                  "hovertemplate": "city=%{customdata[0]}<br>Sentiment=%{x}<br>median_sale_price=%{y}<extra></extra>",
                  "legendgroup": "Covington",
                  "marker": {
                    "color": "#ab63fa",
                    "symbol": "circle"
                  },
                  "mode": "markers",
                  "name": "Covington",
                  "orientation": "v",
                  "showlegend": true,
                  "type": "scatter",
                  "x": [
                    "Neutral"
                  ],
                  "xaxis": "x",
                  "y": {
                    "bdata": "q6qqqvZ0DkE=",
                    "dtype": "f8"
                  },
                  "yaxis": "y"
                },
                {
                  "customdata": [
                    [
                      "Crowley"
                    ]
                  ],
                  "hovertemplate": "city=%{customdata[0]}<br>Sentiment=%{x}<br>median_sale_price=%{y}<extra></extra>",
                  "legendgroup": "Crowley",
                  "marker": {
                    "color": "#FFA15A",
                    "symbol": "circle"
                  },
                  "mode": "markers",
                  "name": "Crowley",
                  "orientation": "v",
                  "showlegend": true,
                  "type": "scatter",
                  "x": [
                    "Neutral"
                  ],
                  "xaxis": "x",
                  "y": {
                    "bdata": "zczMjJwC+0A=",
                    "dtype": "f8"
                  },
                  "yaxis": "y"
                },
                {
                  "customdata": [
                    [
                      "Danbury"
                    ]
                  ],
                  "hovertemplate": "city=%{customdata[0]}<br>Sentiment=%{x}<br>median_sale_price=%{y}<extra></extra>",
                  "legendgroup": "Danbury",
                  "marker": {
                    "color": "#19d3f3",
                    "symbol": "circle"
                  },
                  "mode": "markers",
                  "name": "Danbury",
                  "orientation": "v",
                  "showlegend": true,
                  "type": "scatter",
                  "x": [
                    "Neutral"
                  ],
                  "xaxis": "x",
                  "y": {
                    "bdata": "c4QLWrYXFUE=",
                    "dtype": "f8"
                  },
                  "yaxis": "y"
                },
                {
                  "customdata": [
                    [
                      "Darien"
                    ]
                  ],
                  "hovertemplate": "city=%{customdata[0]}<br>Sentiment=%{x}<br>median_sale_price=%{y}<extra></extra>",
                  "legendgroup": "Darien",
                  "marker": {
                    "color": "#FF6692",
                    "symbol": "circle"
                  },
                  "mode": "markers",
                  "name": "Darien",
                  "orientation": "v",
                  "showlegend": true,
                  "type": "scatter",
                  "x": [
                    "Neutral"
                  ],
                  "xaxis": "x",
                  "y": {
                    "bdata": "2dxxJZ55NUE=",
                    "dtype": "f8"
                  },
                  "yaxis": "y"
                },
                {
                  "customdata": [
                    [
                      "Denham Springs"
                    ]
                  ],
                  "hovertemplate": "city=%{customdata[0]}<br>Sentiment=%{x}<br>median_sale_price=%{y}<extra></extra>",
                  "legendgroup": "Denham Springs",
                  "marker": {
                    "color": "#B6E880",
                    "symbol": "circle"
                  },
                  "mode": "markers",
                  "name": "Denham Springs",
                  "orientation": "v",
                  "showlegend": true,
                  "type": "scatter",
                  "x": [
                    "Neutral"
                  ],
                  "xaxis": "x",
                  "y": {
                    "bdata": "1D+3gY8SAkE=",
                    "dtype": "f8"
                  },
                  "yaxis": "y"
                },
                {
                  "customdata": [
                    [
                      "Derby"
                    ]
                  ],
                  "hovertemplate": "city=%{customdata[0]}<br>Sentiment=%{x}<br>median_sale_price=%{y}<extra></extra>",
                  "legendgroup": "Derby",
                  "marker": {
                    "color": "#FF97FF",
                    "symbol": "circle"
                  },
                  "mode": "markers",
                  "name": "Derby",
                  "orientation": "v",
                  "showlegend": true,
                  "type": "scatter",
                  "x": [
                    "Neutral"
                  ],
                  "xaxis": "x",
                  "y": {
                    "bdata": "luKQsTMZC0E=",
                    "dtype": "f8"
                  },
                  "yaxis": "y"
                },
                {
                  "customdata": [
                    [
                      "East Hampton"
                    ]
                  ],
                  "hovertemplate": "city=%{customdata[0]}<br>Sentiment=%{x}<br>median_sale_price=%{y}<extra></extra>",
                  "legendgroup": "East Hampton",
                  "marker": {
                    "color": "#FECB52",
                    "symbol": "circle"
                  },
                  "mode": "markers",
                  "name": "East Hampton",
                  "orientation": "v",
                  "showlegend": true,
                  "type": "scatter",
                  "x": [
                    "Neutral"
                  ],
                  "xaxis": "x",
                  "y": {
                    "bdata": "wgcffMDDDUE=",
                    "dtype": "f8"
                  },
                  "yaxis": "y"
                },
                {
                  "customdata": [
                    [
                      "East Hartford"
                    ]
                  ],
                  "hovertemplate": "city=%{customdata[0]}<br>Sentiment=%{x}<br>median_sale_price=%{y}<extra></extra>",
                  "legendgroup": "East Hartford",
                  "marker": {
                    "color": "#636efa",
                    "symbol": "circle"
                  },
                  "mode": "markers",
                  "name": "East Hartford",
                  "orientation": "v",
                  "showlegend": true,
                  "type": "scatter",
                  "x": [
                    "Neutral"
                  ],
                  "xaxis": "x",
                  "y": {
                    "bdata": "qFRwvP2RBEE=",
                    "dtype": "f8"
                  },
                  "yaxis": "y"
                },
                {
                  "customdata": [
                    [
                      "East Haven"
                    ]
                  ],
                  "hovertemplate": "city=%{customdata[0]}<br>Sentiment=%{x}<br>median_sale_price=%{y}<extra></extra>",
                  "legendgroup": "East Haven",
                  "marker": {
                    "color": "#EF553B",
                    "symbol": "circle"
                  },
                  "mode": "markers",
                  "name": "East Haven",
                  "orientation": "v",
                  "showlegend": true,
                  "type": "scatter",
                  "x": [
                    "Neutral"
                  ],
                  "xaxis": "x",
                  "y": {
                    "bdata": "LZDWAnXhC0E=",
                    "dtype": "f8"
                  },
                  "yaxis": "y"
                },
                {
                  "customdata": [
                    [
                      "Erath"
                    ]
                  ],
                  "hovertemplate": "city=%{customdata[0]}<br>Sentiment=%{x}<br>median_sale_price=%{y}<extra></extra>",
                  "legendgroup": "Erath",
                  "marker": {
                    "color": "#00cc96",
                    "symbol": "circle"
                  },
                  "mode": "markers",
                  "name": "Erath",
                  "orientation": "v",
                  "showlegend": true,
                  "type": "scatter",
                  "x": [
                    "Neutral"
                  ],
                  "xaxis": "x",
                  "y": {
                    "bdata": "F1100TZK+kA=",
                    "dtype": "f8"
                  },
                  "yaxis": "y"
                },
                {
                  "customdata": [
                    [
                      "Eunice"
                    ]
                  ],
                  "hovertemplate": "city=%{customdata[0]}<br>Sentiment=%{x}<br>median_sale_price=%{y}<extra></extra>",
                  "legendgroup": "Eunice",
                  "marker": {
                    "color": "#ab63fa",
                    "symbol": "circle"
                  },
                  "mode": "markers",
                  "name": "Eunice",
                  "orientation": "v",
                  "showlegend": true,
                  "type": "scatter",
                  "x": [
                    "Neutral"
                  ],
                  "xaxis": "x",
                  "y": {
                    "bdata": "Ja4ZIJhs90A=",
                    "dtype": "f8"
                  },
                  "yaxis": "y"
                },
                {
                  "customdata": [
                    [
                      "Farmerville"
                    ]
                  ],
                  "hovertemplate": "city=%{customdata[0]}<br>Sentiment=%{x}<br>median_sale_price=%{y}<extra></extra>",
                  "legendgroup": "Farmerville",
                  "marker": {
                    "color": "#FFA15A",
                    "symbol": "circle"
                  },
                  "mode": "markers",
                  "name": "Farmerville",
                  "orientation": "v",
                  "showlegend": true,
                  "type": "scatter",
                  "x": [
                    "Neutral"
                  ],
                  "xaxis": "x",
                  "y": {
                    "bdata": "prK96yCDCEE=",
                    "dtype": "f8"
                  },
                  "yaxis": "y"
                },
                {
                  "customdata": [
                    [
                      "Ferriday"
                    ]
                  ],
                  "hovertemplate": "city=%{customdata[0]}<br>Sentiment=%{x}<br>median_sale_price=%{y}<extra></extra>",
                  "legendgroup": "Ferriday",
                  "marker": {
                    "color": "#19d3f3",
                    "symbol": "circle"
                  },
                  "mode": "markers",
                  "name": "Ferriday",
                  "orientation": "v",
                  "showlegend": true,
                  "type": "scatter",
                  "x": [
                    "Neutral"
                  ],
                  "xaxis": "x",
                  "y": {
                    "bdata": "kOA+gltk8UA=",
                    "dtype": "f8"
                  },
                  "yaxis": "y"
                },
                {
                  "customdata": [
                    [
                      "Folsom"
                    ]
                  ],
                  "hovertemplate": "city=%{customdata[0]}<br>Sentiment=%{x}<br>median_sale_price=%{y}<extra></extra>",
                  "legendgroup": "Folsom",
                  "marker": {
                    "color": "#FF6692",
                    "symbol": "circle"
                  },
                  "mode": "markers",
                  "name": "Folsom",
                  "orientation": "v",
                  "showlegend": true,
                  "type": "scatter",
                  "x": [
                    "Neutral"
                  ],
                  "xaxis": "x",
                  "y": {
                    "bdata": "XedYI+1vEEE=",
                    "dtype": "f8"
                  },
                  "yaxis": "y"
                },
                {
                  "customdata": [
                    [
                      "Franklin"
                    ]
                  ],
                  "hovertemplate": "city=%{customdata[0]}<br>Sentiment=%{x}<br>median_sale_price=%{y}<extra></extra>",
                  "legendgroup": "Franklin",
                  "marker": {
                    "color": "#B6E880",
                    "symbol": "circle"
                  },
                  "mode": "markers",
                  "name": "Franklin",
                  "orientation": "v",
                  "showlegend": true,
                  "type": "scatter",
                  "x": [
                    "Neutral"
                  ],
                  "xaxis": "x",
                  "y": {
                    "bdata": "pymwQ36F90A=",
                    "dtype": "f8"
                  },
                  "yaxis": "y"
                },
                {
                  "customdata": [
                    [
                      "Franklinton"
                    ]
                  ],
                  "hovertemplate": "city=%{customdata[0]}<br>Sentiment=%{x}<br>median_sale_price=%{y}<extra></extra>",
                  "legendgroup": "Franklinton",
                  "marker": {
                    "color": "#FF97FF",
                    "symbol": "circle"
                  },
                  "mode": "markers",
                  "name": "Franklinton",
                  "orientation": "v",
                  "showlegend": true,
                  "type": "scatter",
                  "x": [
                    "Neutral"
                  ],
                  "xaxis": "x",
                  "y": {
                    "bdata": "wgcffA7qAUE=",
                    "dtype": "f8"
                  },
                  "yaxis": "y"
                },
                {
                  "customdata": [
                    [
                      "French Settlement"
                    ]
                  ],
                  "hovertemplate": "city=%{customdata[0]}<br>Sentiment=%{x}<br>median_sale_price=%{y}<extra></extra>",
                  "legendgroup": "French Settlement",
                  "marker": {
                    "color": "#FECB52",
                    "symbol": "circle"
                  },
                  "mode": "markers",
                  "name": "French Settlement",
                  "orientation": "v",
                  "showlegend": true,
                  "type": "scatter",
                  "x": [
                    "Neutral"
                  ],
                  "xaxis": "x",
                  "y": {
                    "bdata": "bk5XeY6YBUE=",
                    "dtype": "f8"
                  },
                  "yaxis": "y"
                },
                {
                  "customdata": [
                    [
                      "Georgetown"
                    ]
                  ],
                  "hovertemplate": "city=%{customdata[0]}<br>Sentiment=%{x}<br>median_sale_price=%{y}<extra></extra>",
                  "legendgroup": "Georgetown",
                  "marker": {
                    "color": "#636efa",
                    "symbol": "circle"
                  },
                  "mode": "markers",
                  "name": "Georgetown",
                  "orientation": "v",
                  "showlegend": true,
                  "type": "scatter",
                  "x": [
                    "Neutral"
                  ],
                  "xaxis": "x",
                  "y": {
                    "bdata": "qrtYqwxrIUE=",
                    "dtype": "f8"
                  },
                  "yaxis": "y"
                },
                {
                  "customdata": [
                    [
                      "Golden Meadow"
                    ]
                  ],
                  "hovertemplate": "city=%{customdata[0]}<br>Sentiment=%{x}<br>median_sale_price=%{y}<extra></extra>",
                  "legendgroup": "Golden Meadow",
                  "marker": {
                    "color": "#EF553B",
                    "symbol": "circle"
                  },
                  "mode": "markers",
                  "name": "Golden Meadow",
                  "orientation": "v",
                  "showlegend": true,
                  "type": "scatter",
                  "x": [
                    "Neutral"
                  ],
                  "xaxis": "x",
                  "y": {
                    "bdata": "SOF6FCZp9EA=",
                    "dtype": "f8"
                  },
                  "yaxis": "y"
                },
                {
                  "customdata": [
                    [
                      "Gonzales"
                    ]
                  ],
                  "hovertemplate": "city=%{customdata[0]}<br>Sentiment=%{x}<br>median_sale_price=%{y}<extra></extra>",
                  "legendgroup": "Gonzales",
                  "marker": {
                    "color": "#00cc96",
                    "symbol": "circle"
                  },
                  "mode": "markers",
                  "name": "Gonzales",
                  "orientation": "v",
                  "showlegend": true,
                  "type": "scatter",
                  "x": [
                    "Neutral"
                  ],
                  "xaxis": "x",
                  "y": {
                    "bdata": "3LGpC8ScA0E=",
                    "dtype": "f8"
                  },
                  "yaxis": "y"
                },
                {
                  "customdata": [
                    [
                      "Gramercy"
                    ]
                  ],
                  "hovertemplate": "city=%{customdata[0]}<br>Sentiment=%{x}<br>median_sale_price=%{y}<extra></extra>",
                  "legendgroup": "Gramercy",
                  "marker": {
                    "color": "#ab63fa",
                    "symbol": "circle"
                  },
                  "mode": "markers",
                  "name": "Gramercy",
                  "orientation": "v",
                  "showlegend": true,
                  "type": "scatter",
                  "x": [
                    "Neutral"
                  ],
                  "xaxis": "x",
                  "y": {
                    "bdata": "f6xr7rc6AkE=",
                    "dtype": "f8"
                  },
                  "yaxis": "y"
                },
                {
                  "customdata": [
                    [
                      "Greenwich"
                    ]
                  ],
                  "hovertemplate": "city=%{customdata[0]}<br>Sentiment=%{x}<br>median_sale_price=%{y}<extra></extra>",
                  "legendgroup": "Greenwich",
                  "marker": {
                    "color": "#FFA15A",
                    "symbol": "circle"
                  },
                  "mode": "markers",
                  "name": "Greenwich",
                  "orientation": "v",
                  "showlegend": true,
                  "type": "scatter",
                  "x": [
                    "Neutral"
                  ],
                  "xaxis": "x",
                  "y": {
                    "bdata": "FAFaW3NfNEE=",
                    "dtype": "f8"
                  },
                  "yaxis": "y"
                },
                {
                  "customdata": [
                    [
                      "Greenwood"
                    ]
                  ],
                  "hovertemplate": "city=%{customdata[0]}<br>Sentiment=%{x}<br>median_sale_price=%{y}<extra></extra>",
                  "legendgroup": "Greenwood",
                  "marker": {
                    "color": "#19d3f3",
                    "symbol": "circle"
                  },
                  "mode": "markers",
                  "name": "Greenwood",
                  "orientation": "v",
                  "showlegend": true,
                  "type": "scatter",
                  "x": [
                    "Neutral"
                  ],
                  "xaxis": "x",
                  "y": {
                    "bdata": "sRM7sfgbC0E=",
                    "dtype": "f8"
                  },
                  "yaxis": "y"
                },
                {
                  "customdata": [
                    [
                      "Gretna"
                    ]
                  ],
                  "hovertemplate": "city=%{customdata[0]}<br>Sentiment=%{x}<br>median_sale_price=%{y}<extra></extra>",
                  "legendgroup": "Gretna",
                  "marker": {
                    "color": "#FF6692",
                    "symbol": "circle"
                  },
                  "mode": "markers",
                  "name": "Gretna",
                  "orientation": "v",
                  "showlegend": true,
                  "type": "scatter",
                  "x": [
                    "Neutral"
                  ],
                  "xaxis": "x",
                  "y": {
                    "bdata": "V1dXV/9LBUE=",
                    "dtype": "f8"
                  },
                  "yaxis": "y"
                },
                {
                  "customdata": [
                    [
                      "Groton"
                    ]
                  ],
                  "hovertemplate": "city=%{customdata[0]}<br>Sentiment=%{x}<br>median_sale_price=%{y}<extra></extra>",
                  "legendgroup": "Groton",
                  "marker": {
                    "color": "#B6E880",
                    "symbol": "circle"
                  },
                  "mode": "markers",
                  "name": "Groton",
                  "orientation": "v",
                  "showlegend": true,
                  "type": "scatter",
                  "x": [
                    "Neutral"
                  ],
                  "xaxis": "x",
                  "y": {
                    "bdata": "cqjLUm/VCEE=",
                    "dtype": "f8"
                  },
                  "yaxis": "y"
                },
                {
                  "customdata": [
                    [
                      "Groton Long Point"
                    ]
                  ],
                  "hovertemplate": "city=%{customdata[0]}<br>Sentiment=%{x}<br>median_sale_price=%{y}<extra></extra>",
                  "legendgroup": "Groton Long Point",
                  "marker": {
                    "color": "#FF97FF",
                    "symbol": "circle"
                  },
                  "mode": "markers",
                  "name": "Groton Long Point",
                  "orientation": "v",
                  "showlegend": true,
                  "type": "scatter",
                  "x": [
                    "Neutral"
                  ],
                  "xaxis": "x",
                  "y": {
                    "bdata": "9guxosp1K0E=",
                    "dtype": "f8"
                  },
                  "yaxis": "y"
                },
                {
                  "customdata": [
                    [
                      "Hammond"
                    ]
                  ],
                  "hovertemplate": "city=%{customdata[0]}<br>Sentiment=%{x}<br>median_sale_price=%{y}<extra></extra>",
                  "legendgroup": "Hammond",
                  "marker": {
                    "color": "#FECB52",
                    "symbol": "circle"
                  },
                  "mode": "markers",
                  "name": "Hammond",
                  "orientation": "v",
                  "showlegend": true,
                  "type": "scatter",
                  "x": [
                    "Neutral"
                  ],
                  "xaxis": "x",
                  "y": {
                    "bdata": "/ivorAN3BEE=",
                    "dtype": "f8"
                  },
                  "yaxis": "y"
                },
                {
                  "customdata": [
                    [
                      "Harahan"
                    ]
                  ],
                  "hovertemplate": "city=%{customdata[0]}<br>Sentiment=%{x}<br>median_sale_price=%{y}<extra></extra>",
                  "legendgroup": "Harahan",
                  "marker": {
                    "color": "#636efa",
                    "symbol": "circle"
                  },
                  "mode": "markers",
                  "name": "Harahan",
                  "orientation": "v",
                  "showlegend": true,
                  "type": "scatter",
                  "x": [
                    "Neutral"
                  ],
                  "xaxis": "x",
                  "y": {
                    "bdata": "eDbquwB+DkE=",
                    "dtype": "f8"
                  },
                  "yaxis": "y"
                },
                {
                  "customdata": [
                    [
                      "Hartford"
                    ]
                  ],
                  "hovertemplate": "city=%{customdata[0]}<br>Sentiment=%{x}<br>median_sale_price=%{y}<extra></extra>",
                  "legendgroup": "Hartford",
                  "marker": {
                    "color": "#EF553B",
                    "symbol": "circle"
                  },
                  "mode": "markers",
                  "name": "Hartford",
                  "orientation": "v",
                  "showlegend": true,
                  "type": "scatter",
                  "x": [
                    "Neutral"
                  ],
                  "xaxis": "x",
                  "y": {
                    "bdata": "bjmCLt3LAkE=",
                    "dtype": "f8"
                  },
                  "yaxis": "y"
                },
                {
                  "customdata": [
                    [
                      "Haughton"
                    ]
                  ],
                  "hovertemplate": "city=%{customdata[0]}<br>Sentiment=%{x}<br>median_sale_price=%{y}<extra></extra>",
                  "legendgroup": "Haughton",
                  "marker": {
                    "color": "#00cc96",
                    "symbol": "circle"
                  },
                  "mode": "markers",
                  "name": "Haughton",
                  "orientation": "v",
                  "showlegend": true,
                  "type": "scatter",
                  "x": [
                    "Neutral"
                  ],
                  "xaxis": "x",
                  "y": {
                    "bdata": "V9gcSOgvC0E=",
                    "dtype": "f8"
                  },
                  "yaxis": "y"
                },
                {
                  "customdata": [
                    [
                      "Houma"
                    ]
                  ],
                  "hovertemplate": "city=%{customdata[0]}<br>Sentiment=%{x}<br>median_sale_price=%{y}<extra></extra>",
                  "legendgroup": "Houma",
                  "marker": {
                    "color": "#ab63fa",
                    "symbol": "circle"
                  },
                  "mode": "markers",
                  "name": "Houma",
                  "orientation": "v",
                  "showlegend": true,
                  "type": "scatter",
                  "x": [
                    "Neutral"
                  ],
                  "xaxis": "x",
                  "y": {
                    "bdata": "LOBOf+zJAkE=",
                    "dtype": "f8"
                  },
                  "yaxis": "y"
                },
                {
                  "customdata": [
                    [
                      "Ida"
                    ]
                  ],
                  "hovertemplate": "city=%{customdata[0]}<br>Sentiment=%{x}<br>median_sale_price=%{y}<extra></extra>",
                  "legendgroup": "Ida",
                  "marker": {
                    "color": "#FFA15A",
                    "symbol": "circle"
                  },
                  "mode": "markers",
                  "name": "Ida",
                  "orientation": "v",
                  "showlegend": true,
                  "type": "scatter",
                  "x": [
                    "Neutral"
                  ],
                  "xaxis": "x",
                  "y": {
                    "bdata": "AAAAAMDM80A=",
                    "dtype": "f8"
                  },
                  "yaxis": "y"
                },
                {
                  "customdata": [
                    [
                      "Independence"
                    ]
                  ],
                  "hovertemplate": "city=%{customdata[0]}<br>Sentiment=%{x}<br>median_sale_price=%{y}<extra></extra>",
                  "legendgroup": "Independence",
                  "marker": {
                    "color": "#19d3f3",
                    "symbol": "circle"
                  },
                  "mode": "markers",
                  "name": "Independence",
                  "orientation": "v",
                  "showlegend": true,
                  "type": "scatter",
                  "x": [
                    "Neutral"
                  ],
                  "xaxis": "x",
                  "y": {
                    "bdata": "7+/gsnfr+0A=",
                    "dtype": "f8"
                  },
                  "yaxis": "y"
                },
                {
                  "customdata": [
                    [
                      "Iowa"
                    ]
                  ],
                  "hovertemplate": "city=%{customdata[0]}<br>Sentiment=%{x}<br>median_sale_price=%{y}<extra></extra>",
                  "legendgroup": "Iowa",
                  "marker": {
                    "color": "#FF6692",
                    "symbol": "circle"
                  },
                  "mode": "markers",
                  "name": "Iowa",
                  "orientation": "v",
                  "showlegend": true,
                  "type": "scatter",
                  "x": [
                    "Neutral"
                  ],
                  "xaxis": "x",
                  "y": {
                    "bdata": "bpJtklWGCEE=",
                    "dtype": "f8"
                  },
                  "yaxis": "y"
                },
                {
                  "customdata": [
                    [
                      "Jennings"
                    ]
                  ],
                  "hovertemplate": "city=%{customdata[0]}<br>Sentiment=%{x}<br>median_sale_price=%{y}<extra></extra>",
                  "legendgroup": "Jennings",
                  "marker": {
                    "color": "#B6E880",
                    "symbol": "circle"
                  },
                  "mode": "markers",
                  "name": "Jennings",
                  "orientation": "v",
                  "showlegend": true,
                  "type": "scatter",
                  "x": [
                    "Neutral"
                  ],
                  "xaxis": "x",
                  "y": {
                    "bdata": "N3VTN+U9+0A=",
                    "dtype": "f8"
                  },
                  "yaxis": "y"
                },
                {
                  "customdata": [
                    [
                      "Kaplan"
                    ]
                  ],
                  "hovertemplate": "city=%{customdata[0]}<br>Sentiment=%{x}<br>median_sale_price=%{y}<extra></extra>",
                  "legendgroup": "Kaplan",
                  "marker": {
                    "color": "#FF97FF",
                    "symbol": "circle"
                  },
                  "mode": "markers",
                  "name": "Kaplan",
                  "orientation": "v",
                  "showlegend": true,
                  "type": "scatter",
                  "x": [
                    "Neutral"
                  ],
                  "xaxis": "x",
                  "y": {
                    "bdata": "C92xq+FL9kA=",
                    "dtype": "f8"
                  },
                  "yaxis": "y"
                },
                {
                  "customdata": [
                    [
                      "Kentwood"
                    ]
                  ],
                  "hovertemplate": "city=%{customdata[0]}<br>Sentiment=%{x}<br>median_sale_price=%{y}<extra></extra>",
                  "legendgroup": "Kentwood",
                  "marker": {
                    "color": "#FECB52",
                    "symbol": "circle"
                  },
                  "mode": "markers",
                  "name": "Kentwood",
                  "orientation": "v",
                  "showlegend": true,
                  "type": "scatter",
                  "x": [
                    "Neutral"
                  ],
                  "xaxis": "x",
                  "y": {
                    "bdata": "pza1qRU1+kA=",
                    "dtype": "f8"
                  },
                  "yaxis": "y"
                },
                {
                  "customdata": [
                    [
                      "Killian"
                    ]
                  ],
                  "hovertemplate": "city=%{customdata[0]}<br>Sentiment=%{x}<br>median_sale_price=%{y}<extra></extra>",
                  "legendgroup": "Killian",
                  "marker": {
                    "color": "#636efa",
                    "symbol": "circle"
                  },
                  "mode": "markers",
                  "name": "Killian",
                  "orientation": "v",
                  "showlegend": true,
                  "type": "scatter",
                  "x": [
                    "Neutral"
                  ],
                  "xaxis": "x",
                  "y": {
                    "bdata": "LS0trf8qCkE=",
                    "dtype": "f8"
                  },
                  "yaxis": "y"
                },
                {
                  "customdata": [
                    [
                      "Krotz Springs"
                    ]
                  ],
                  "hovertemplate": "city=%{customdata[0]}<br>Sentiment=%{x}<br>median_sale_price=%{y}<extra></extra>",
                  "legendgroup": "Krotz Springs",
                  "marker": {
                    "color": "#EF553B",
                    "symbol": "circle"
                  },
                  "mode": "markers",
                  "name": "Krotz Springs",
                  "orientation": "v",
                  "showlegend": true,
                  "type": "scatter",
                  "x": [
                    "Neutral"
                  ],
                  "xaxis": "x",
                  "y": {
                    "bdata": "Yid2YscH90A=",
                    "dtype": "f8"
                  },
                  "yaxis": "y"
                },
                {
                  "customdata": [
                    [
                      "Lafayette"
                    ]
                  ],
                  "hovertemplate": "city=%{customdata[0]}<br>Sentiment=%{x}<br>median_sale_price=%{y}<extra></extra>",
                  "legendgroup": "Lafayette",
                  "marker": {
                    "color": "#00cc96",
                    "symbol": "circle"
                  },
                  "mode": "markers",
                  "name": "Lafayette",
                  "orientation": "v",
                  "showlegend": true,
                  "type": "scatter",
                  "x": [
                    "Neutral"
                  ],
                  "xaxis": "x",
                  "y": {
                    "bdata": "HxrrQ7NnB0E=",
                    "dtype": "f8"
                  },
                  "yaxis": "y"
                },
                {
                  "customdata": [
                    [
                      "Lake Arthur"
                    ]
                  ],
                  "hovertemplate": "city=%{customdata[0]}<br>Sentiment=%{x}<br>median_sale_price=%{y}<extra></extra>",
                  "legendgroup": "Lake Arthur",
                  "marker": {
                    "color": "#ab63fa",
                    "symbol": "circle"
                  },
                  "mode": "markers",
                  "name": "Lake Arthur",
                  "orientation": "v",
                  "showlegend": true,
                  "type": "scatter",
                  "x": [
                    "Neutral"
                  ],
                  "xaxis": "x",
                  "y": {
                    "bdata": "zjnnnEu6BEE=",
                    "dtype": "f8"
                  },
                  "yaxis": "y"
                },
                {
                  "customdata": [
                    [
                      "Lake Charles"
                    ]
                  ],
                  "hovertemplate": "city=%{customdata[0]}<br>Sentiment=%{x}<br>median_sale_price=%{y}<extra></extra>",
                  "legendgroup": "Lake Charles",
                  "marker": {
                    "color": "#FFA15A",
                    "symbol": "circle"
                  },
                  "mode": "markers",
                  "name": "Lake Charles",
                  "orientation": "v",
                  "showlegend": true,
                  "type": "scatter",
                  "x": [
                    "Neutral"
                  ],
                  "xaxis": "x",
                  "y": {
                    "bdata": "E7h3n+cWCEE=",
                    "dtype": "f8"
                  },
                  "yaxis": "y"
                },
                {
                  "customdata": [
                    [
                      "Leesville"
                    ]
                  ],
                  "hovertemplate": "city=%{customdata[0]}<br>Sentiment=%{x}<br>median_sale_price=%{y}<extra></extra>",
                  "legendgroup": "Leesville",
                  "marker": {
                    "color": "#19d3f3",
                    "symbol": "circle"
                  },
                  "mode": "markers",
                  "name": "Leesville",
                  "orientation": "v",
                  "showlegend": true,
                  "type": "scatter",
                  "x": [
                    "Neutral"
                  ],
                  "xaxis": "x",
                  "y": {
                    "bdata": "mX8K7ziT+EA=",
                    "dtype": "f8"
                  },
                  "yaxis": "y"
                },
                {
                  "customdata": [
                    [
                      "Lutcher"
                    ]
                  ],
                  "hovertemplate": "city=%{customdata[0]}<br>Sentiment=%{x}<br>median_sale_price=%{y}<extra></extra>",
                  "legendgroup": "Lutcher",
                  "marker": {
                    "color": "#FF6692",
                    "symbol": "circle"
                  },
                  "mode": "markers",
                  "name": "Lutcher",
                  "orientation": "v",
                  "showlegend": true,
                  "type": "scatter",
                  "x": [
                    "Neutral"
                  ],
                  "xaxis": "x",
                  "y": {
                    "bdata": "W2uttUZjAUE=",
                    "dtype": "f8"
                  },
                  "yaxis": "y"
                },
                {
                  "customdata": [
                    [
                      "Manchester"
                    ]
                  ],
                  "hovertemplate": "city=%{customdata[0]}<br>Sentiment=%{x}<br>median_sale_price=%{y}<extra></extra>",
                  "legendgroup": "Manchester",
                  "marker": {
                    "color": "#B6E880",
                    "symbol": "circle"
                  },
                  "mode": "markers",
                  "name": "Manchester",
                  "orientation": "v",
                  "showlegend": true,
                  "type": "scatter",
                  "x": [
                    "Neutral"
                  ],
                  "xaxis": "x",
                  "y": {
                    "bdata": "j+wZCK4XBUE=",
                    "dtype": "f8"
                  },
                  "yaxis": "y"
                },
                {
                  "customdata": [
                    [
                      "Mandeville"
                    ]
                  ],
                  "hovertemplate": "city=%{customdata[0]}<br>Sentiment=%{x}<br>median_sale_price=%{y}<extra></extra>",
                  "legendgroup": "Mandeville",
                  "marker": {
                    "color": "#FF97FF",
                    "symbol": "circle"
                  },
                  "mode": "markers",
                  "name": "Mandeville",
                  "orientation": "v",
                  "showlegend": true,
                  "type": "scatter",
                  "x": [
                    "Neutral"
                  ],
                  "xaxis": "x",
                  "y": {
                    "bdata": "AQEBAZe8DkE=",
                    "dtype": "f8"
                  },
                  "yaxis": "y"
                },
                {
                  "customdata": [
                    [
                      "Mansfield"
                    ]
                  ],
                  "hovertemplate": "city=%{customdata[0]}<br>Sentiment=%{x}<br>median_sale_price=%{y}<extra></extra>",
                  "legendgroup": "Mansfield",
                  "marker": {
                    "color": "#FECB52",
                    "symbol": "circle"
                  },
                  "mode": "markers",
                  "name": "Mansfield",
                  "orientation": "v",
                  "showlegend": true,
                  "type": "scatter",
                  "x": [
                    "Neutral"
                  ],
                  "xaxis": "x",
                  "y": {
                    "bdata": "n0ZY7llv+0A=",
                    "dtype": "f8"
                  },
                  "yaxis": "y"
                },
                {
                  "customdata": [
                    [
                      "Marion"
                    ]
                  ],
                  "hovertemplate": "city=%{customdata[0]}<br>Sentiment=%{x}<br>median_sale_price=%{y}<extra></extra>",
                  "legendgroup": "Marion",
                  "marker": {
                    "color": "#636efa",
                    "symbol": "circle"
                  },
                  "mode": "markers",
                  "name": "Marion",
                  "orientation": "v",
                  "showlegend": true,
                  "type": "scatter",
                  "x": [
                    "Neutral"
                  ],
                  "xaxis": "x",
                  "y": {
                    "bdata": "AAAAAIpFAkE=",
                    "dtype": "f8"
                  },
                  "yaxis": "y"
                },
                {
                  "customdata": [
                    [
                      "Meriden"
                    ]
                  ],
                  "hovertemplate": "city=%{customdata[0]}<br>Sentiment=%{x}<br>median_sale_price=%{y}<extra></extra>",
                  "legendgroup": "Meriden",
                  "marker": {
                    "color": "#EF553B",
                    "symbol": "circle"
                  },
                  "mode": "markers",
                  "name": "Meriden",
                  "orientation": "v",
                  "showlegend": true,
                  "type": "scatter",
                  "x": [
                    "Neutral"
                  ],
                  "xaxis": "x",
                  "y": {
                    "bdata": "CNxYBszhBUE=",
                    "dtype": "f8"
                  },
                  "yaxis": "y"
                },
                {
                  "customdata": [
                    [
                      "Middletown"
                    ]
                  ],
                  "hovertemplate": "city=%{customdata[0]}<br>Sentiment=%{x}<br>median_sale_price=%{y}<extra></extra>",
                  "legendgroup": "Middletown",
                  "marker": {
                    "color": "#00cc96",
                    "symbol": "circle"
                  },
                  "mode": "markers",
                  "name": "Middletown",
                  "orientation": "v",
                  "showlegend": true,
                  "type": "scatter",
                  "x": [
                    "Neutral"
                  ],
                  "xaxis": "x",
                  "y": {
                    "bdata": "RfWgkSOPCEE=",
                    "dtype": "f8"
                  },
                  "yaxis": "y"
                },
                {
                  "customdata": [
                    [
                      "Milford"
                    ]
                  ],
                  "hovertemplate": "city=%{customdata[0]}<br>Sentiment=%{x}<br>median_sale_price=%{y}<extra></extra>",
                  "legendgroup": "Milford",
                  "marker": {
                    "color": "#ab63fa",
                    "symbol": "circle"
                  },
                  "mode": "markers",
                  "name": "Milford",
                  "orientation": "v",
                  "showlegend": true,
                  "type": "scatter",
                  "x": [
                    "Neutral"
                  ],
                  "xaxis": "x",
                  "y": {
                    "bdata": "0BsFvSkFFEE=",
                    "dtype": "f8"
                  },
                  "yaxis": "y"
                },
                {
                  "customdata": [
                    [
                      "Minden"
                    ]
                  ],
                  "hovertemplate": "city=%{customdata[0]}<br>Sentiment=%{x}<br>median_sale_price=%{y}<extra></extra>",
                  "legendgroup": "Minden",
                  "marker": {
                    "color": "#FFA15A",
                    "symbol": "circle"
                  },
                  "mode": "markers",
                  "name": "Minden",
                  "orientation": "v",
                  "showlegend": true,
                  "type": "scatter",
                  "x": [
                    "Neutral"
                  ],
                  "xaxis": "x",
                  "y": {
                    "bdata": "r9fr9SoiAUE=",
                    "dtype": "f8"
                  },
                  "yaxis": "y"
                },
                {
                  "customdata": [
                    [
                      "Monroe"
                    ]
                  ],
                  "hovertemplate": "city=%{customdata[0]}<br>Sentiment=%{x}<br>median_sale_price=%{y}<extra></extra>",
                  "legendgroup": "Monroe",
                  "marker": {
                    "color": "#19d3f3",
                    "symbol": "circle"
                  },
                  "mode": "markers",
                  "name": "Monroe",
                  "orientation": "v",
                  "showlegend": true,
                  "type": "scatter",
                  "x": [
                    "Neutral"
                  ],
                  "xaxis": "x",
                  "y": {
                    "bdata": "snhvq8XqBkE=",
                    "dtype": "f8"
                  },
                  "yaxis": "y"
                },
                {
                  "customdata": [
                    [
                      "Montgomery"
                    ]
                  ],
                  "hovertemplate": "city=%{customdata[0]}<br>Sentiment=%{x}<br>median_sale_price=%{y}<extra></extra>",
                  "legendgroup": "Montgomery",
                  "marker": {
                    "color": "#FF6692",
                    "symbol": "circle"
                  },
                  "mode": "markers",
                  "name": "Montgomery",
                  "orientation": "v",
                  "showlegend": true,
                  "type": "scatter",
                  "x": [
                    "Neutral"
                  ],
                  "xaxis": "x",
                  "y": {
                    "bdata": "lNdQXkN97kA=",
                    "dtype": "f8"
                  },
                  "yaxis": "y"
                },
                {
                  "customdata": [
                    [
                      "Montpelier"
                    ]
                  ],
                  "hovertemplate": "city=%{customdata[0]}<br>Sentiment=%{x}<br>median_sale_price=%{y}<extra></extra>",
                  "legendgroup": "Montpelier",
                  "marker": {
                    "color": "#B6E880",
                    "symbol": "circle"
                  },
                  "mode": "markers",
                  "name": "Montpelier",
                  "orientation": "v",
                  "showlegend": true,
                  "type": "scatter",
                  "x": [
                    "Neutral"
                  ],
                  "xaxis": "x",
                  "y": {
                    "bdata": "AAAAAEAt/0A=",
                    "dtype": "f8"
                  },
                  "yaxis": "y"
                },
                {
                  "customdata": [
                    [
                      "Morgan City"
                    ]
                  ],
                  "hovertemplate": "city=%{customdata[0]}<br>Sentiment=%{x}<br>median_sale_price=%{y}<extra></extra>",
                  "legendgroup": "Morgan City",
                  "marker": {
                    "color": "#FF97FF",
                    "symbol": "circle"
                  },
                  "mode": "markers",
                  "name": "Morgan City",
                  "orientation": "v",
                  "showlegend": true,
                  "type": "scatter",
                  "x": [
                    "Neutral"
                  ],
                  "xaxis": "x",
                  "y": {
                    "bdata": "UenInv0n/kA=",
                    "dtype": "f8"
                  },
                  "yaxis": "y"
                },
                {
                  "customdata": [
                    [
                      "Natchitoches"
                    ]
                  ],
                  "hovertemplate": "city=%{customdata[0]}<br>Sentiment=%{x}<br>median_sale_price=%{y}<extra></extra>",
                  "legendgroup": "Natchitoches",
                  "marker": {
                    "color": "#FECB52",
                    "symbol": "circle"
                  },
                  "mode": "markers",
                  "name": "Natchitoches",
                  "orientation": "v",
                  "showlegend": true,
                  "type": "scatter",
                  "x": [
                    "Neutral"
                  ],
                  "xaxis": "x",
                  "y": {
                    "bdata": "bA+5rABFBUE=",
                    "dtype": "f8"
                  },
                  "yaxis": "y"
                },
                {
                  "customdata": [
                    [
                      "Naugatuck"
                    ]
                  ],
                  "hovertemplate": "city=%{customdata[0]}<br>Sentiment=%{x}<br>median_sale_price=%{y}<extra></extra>",
                  "legendgroup": "Naugatuck",
                  "marker": {
                    "color": "#636efa",
                    "symbol": "circle"
                  },
                  "mode": "markers",
                  "name": "Naugatuck",
                  "orientation": "v",
                  "showlegend": true,
                  "type": "scatter",
                  "x": [
                    "Neutral"
                  ],
                  "xaxis": "x",
                  "y": {
                    "bdata": "nhtGnkt7B0E=",
                    "dtype": "f8"
                  },
                  "yaxis": "y"
                },
                {
                  "customdata": [
                    [
                      "New Britain"
                    ]
                  ],
                  "hovertemplate": "city=%{customdata[0]}<br>Sentiment=%{x}<br>median_sale_price=%{y}<extra></extra>",
                  "legendgroup": "New Britain",
                  "marker": {
                    "color": "#EF553B",
                    "symbol": "circle"
                  },
                  "mode": "markers",
                  "name": "New Britain",
                  "orientation": "v",
                  "showlegend": true,
                  "type": "scatter",
                  "x": [
                    "Neutral"
                  ],
                  "xaxis": "x",
                  "y": {
                    "bdata": "ap1kOKPRA0E=",
                    "dtype": "f8"
                  },
                  "yaxis": "y"
                },
                {
                  "customdata": [
                    [
                      "New Canaan"
                    ]
                  ],
                  "hovertemplate": "city=%{customdata[0]}<br>Sentiment=%{x}<br>median_sale_price=%{y}<extra></extra>",
                  "legendgroup": "New Canaan",
                  "marker": {
                    "color": "#00cc96",
                    "symbol": "circle"
                  },
                  "mode": "markers",
                  "name": "New Canaan",
                  "orientation": "v",
                  "showlegend": true,
                  "type": "scatter",
                  "x": [
                    "Neutral"
                  ],
                  "xaxis": "x",
                  "y": {
                    "bdata": "FfALd9MiMUE=",
                    "dtype": "f8"
                  },
                  "yaxis": "y"
                },
                {
                  "customdata": [
                    [
                      "New London"
                    ]
                  ],
                  "hovertemplate": "city=%{customdata[0]}<br>Sentiment=%{x}<br>median_sale_price=%{y}<extra></extra>",
                  "legendgroup": "New London",
                  "marker": {
                    "color": "#ab63fa",
                    "symbol": "circle"
                  },
                  "mode": "markers",
                  "name": "New London",
                  "orientation": "v",
                  "showlegend": true,
                  "type": "scatter",
                  "x": [
                    "Neutral"
                  ],
                  "xaxis": "x",
                  "y": {
                    "bdata": "gR7OvLJ9BEE=",
                    "dtype": "f8"
                  },
                  "yaxis": "y"
                },
                {
                  "customdata": [
                    [
                      "New Milford"
                    ]
                  ],
                  "hovertemplate": "city=%{customdata[0]}<br>Sentiment=%{x}<br>median_sale_price=%{y}<extra></extra>",
                  "legendgroup": "New Milford",
                  "marker": {
                    "color": "#FFA15A",
                    "symbol": "circle"
                  },
                  "mode": "markers",
                  "name": "New Milford",
                  "orientation": "v",
                  "showlegend": true,
                  "type": "scatter",
                  "x": [
                    "Neutral"
                  ],
                  "xaxis": "x",
                  "y": {
                    "bdata": "pAnkHbYDC0E=",
                    "dtype": "f8"
                  },
                  "yaxis": "y"
                },
                {
                  "customdata": [
                    [
                      "New Orleans"
                    ]
                  ],
                  "hovertemplate": "city=%{customdata[0]}<br>Sentiment=%{x}<br>median_sale_price=%{y}<extra></extra>",
                  "legendgroup": "New Orleans",
                  "marker": {
                    "color": "#19d3f3",
                    "symbol": "circle"
                  },
                  "mode": "markers",
                  "name": "New Orleans",
                  "orientation": "v",
                  "showlegend": true,
                  "type": "scatter",
                  "x": [
                    "Neutral"
                  ],
                  "xaxis": "x",
                  "y": {
                    "bdata": "9Las1fpBEEE=",
                    "dtype": "f8"
                  },
                  "yaxis": "y"
                },
                {
                  "customdata": [
                    [
                      "Newington"
                    ]
                  ],
                  "hovertemplate": "city=%{customdata[0]}<br>Sentiment=%{x}<br>median_sale_price=%{y}<extra></extra>",
                  "legendgroup": "Newington",
                  "marker": {
                    "color": "#FF6692",
                    "symbol": "circle"
                  },
                  "mode": "markers",
                  "name": "Newington",
                  "orientation": "v",
                  "showlegend": true,
                  "type": "scatter",
                  "x": [
                    "Neutral"
                  ],
                  "xaxis": "x",
                  "y": {
                    "bdata": "SnkE/amSCkE=",
                    "dtype": "f8"
                  },
                  "yaxis": "y"
                },
                {
                  "customdata": [
                    [
                      "Newtown"
                    ]
                  ],
                  "hovertemplate": "city=%{customdata[0]}<br>Sentiment=%{x}<br>median_sale_price=%{y}<extra></extra>",
                  "legendgroup": "Newtown",
                  "marker": {
                    "color": "#B6E880",
                    "symbol": "circle"
                  },
                  "mode": "markers",
                  "name": "Newtown",
                  "orientation": "v",
                  "showlegend": true,
                  "type": "scatter",
                  "x": [
                    "Neutral"
                  ],
                  "xaxis": "x",
                  "y": {
                    "bdata": "N676B7p/HkE=",
                    "dtype": "f8"
                  },
                  "yaxis": "y"
                },
                {
                  "customdata": [
                    [
                      "North Haven"
                    ]
                  ],
                  "hovertemplate": "city=%{customdata[0]}<br>Sentiment=%{x}<br>median_sale_price=%{y}<extra></extra>",
                  "legendgroup": "North Haven",
                  "marker": {
                    "color": "#FF97FF",
                    "symbol": "circle"
                  },
                  "mode": "markers",
                  "name": "North Haven",
                  "orientation": "v",
                  "showlegend": true,
                  "type": "scatter",
                  "x": [
                    "Neutral"
                  ],
                  "xaxis": "x",
                  "y": {
                    "bdata": "fR+r2bFjE0E=",
                    "dtype": "f8"
                  },
                  "yaxis": "y"
                },
                {
                  "customdata": [
                    [
                      "Norwalk"
                    ]
                  ],
                  "hovertemplate": "city=%{customdata[0]}<br>Sentiment=%{x}<br>median_sale_price=%{y}<extra></extra>",
                  "legendgroup": "Norwalk",
                  "marker": {
                    "color": "#FECB52",
                    "symbol": "circle"
                  },
                  "mode": "markers",
                  "name": "Norwalk",
                  "orientation": "v",
                  "showlegend": true,
                  "type": "scatter",
                  "x": [
                    "Neutral"
                  ],
                  "xaxis": "x",
                  "y": {
                    "bdata": "G4/mD7RDG0E=",
                    "dtype": "f8"
                  },
                  "yaxis": "y"
                },
                {
                  "customdata": [
                    [
                      "Norwich"
                    ]
                  ],
                  "hovertemplate": "city=%{customdata[0]}<br>Sentiment=%{x}<br>median_sale_price=%{y}<extra></extra>",
                  "legendgroup": "Norwich",
                  "marker": {
                    "color": "#636efa",
                    "symbol": "circle"
                  },
                  "mode": "markers",
                  "name": "Norwich",
                  "orientation": "v",
                  "showlegend": true,
                  "type": "scatter",
                  "x": [
                    "Neutral"
                  ],
                  "xaxis": "x",
                  "y": {
                    "bdata": "Mb+rxZ8BAUE=",
                    "dtype": "f8"
                  },
                  "yaxis": "y"
                },
                {
                  "customdata": [
                    [
                      "Norwood"
                    ]
                  ],
                  "hovertemplate": "city=%{customdata[0]}<br>Sentiment=%{x}<br>median_sale_price=%{y}<extra></extra>",
                  "legendgroup": "Norwood",
                  "marker": {
                    "color": "#EF553B",
                    "symbol": "circle"
                  },
                  "mode": "markers",
                  "name": "Norwood",
                  "orientation": "v",
                  "showlegend": true,
                  "type": "scatter",
                  "x": [
                    "Neutral"
                  ],
                  "xaxis": "x",
                  "y": {
                    "bdata": "jC666FL0DUE=",
                    "dtype": "f8"
                  },
                  "yaxis": "y"
                },
                {
                  "customdata": [
                    [
                      "Oil City"
                    ]
                  ],
                  "hovertemplate": "city=%{customdata[0]}<br>Sentiment=%{x}<br>median_sale_price=%{y}<extra></extra>",
                  "legendgroup": "Oil City",
                  "marker": {
                    "color": "#00cc96",
                    "symbol": "circle"
                  },
                  "mode": "markers",
                  "name": "Oil City",
                  "orientation": "v",
                  "showlegend": true,
                  "type": "scatter",
                  "x": [
                    "Neutral"
                  ],
                  "xaxis": "x",
                  "y": {
                    "bdata": "q6qqquoh+EA=",
                    "dtype": "f8"
                  },
                  "yaxis": "y"
                },
                {
                  "customdata": [
                    [
                      "Opelousas"
                    ]
                  ],
                  "hovertemplate": "city=%{customdata[0]}<br>Sentiment=%{x}<br>median_sale_price=%{y}<extra></extra>",
                  "legendgroup": "Opelousas",
                  "marker": {
                    "color": "#ab63fa",
                    "symbol": "circle"
                  },
                  "mode": "markers",
                  "name": "Opelousas",
                  "orientation": "v",
                  "showlegend": true,
                  "type": "scatter",
                  "x": [
                    "Neutral"
                  ],
                  "xaxis": "x",
                  "y": {
                    "bdata": "scuVATqh+EA=",
                    "dtype": "f8"
                  },
                  "yaxis": "y"
                },
                {
                  "customdata": [
                    [
                      "Orange"
                    ]
                  ],
                  "hovertemplate": "city=%{customdata[0]}<br>Sentiment=%{x}<br>median_sale_price=%{y}<extra></extra>",
                  "legendgroup": "Orange",
                  "marker": {
                    "color": "#FFA15A",
                    "symbol": "circle"
                  },
                  "mode": "markers",
                  "name": "Orange",
                  "orientation": "v",
                  "showlegend": true,
                  "type": "scatter",
                  "x": [
                    "Neutral"
                  ],
                  "xaxis": "x",
                  "y": {
                    "bdata": "VVVVNRdHGUE=",
                    "dtype": "f8"
                  },
                  "yaxis": "y"
                },
                {
                  "customdata": [
                    [
                      "Patterson"
                    ]
                  ],
                  "hovertemplate": "city=%{customdata[0]}<br>Sentiment=%{x}<br>median_sale_price=%{y}<extra></extra>",
                  "legendgroup": "Patterson",
                  "marker": {
                    "color": "#19d3f3",
                    "symbol": "circle"
                  },
                  "mode": "markers",
                  "name": "Patterson",
                  "orientation": "v",
                  "showlegend": true,
                  "type": "scatter",
                  "x": [
                    "Neutral"
                  ],
                  "xaxis": "x",
                  "y": {
                    "bdata": "W4d+s+X8/EA=",
                    "dtype": "f8"
                  },
                  "yaxis": "y"
                },
                {
                  "customdata": [
                    [
                      "Pearl River"
                    ]
                  ],
                  "hovertemplate": "city=%{customdata[0]}<br>Sentiment=%{x}<br>median_sale_price=%{y}<extra></extra>",
                  "legendgroup": "Pearl River",
                  "marker": {
                    "color": "#FF6692",
                    "symbol": "circle"
                  },
                  "mode": "markers",
                  "name": "Pearl River",
                  "orientation": "v",
                  "showlegend": true,
                  "type": "scatter",
                  "x": [
                    "Neutral"
                  ],
                  "xaxis": "x",
                  "y": {
                    "bdata": "E6NV8ma4CUE=",
                    "dtype": "f8"
                  },
                  "yaxis": "y"
                },
                {
                  "customdata": [
                    [
                      "Pineville"
                    ]
                  ],
                  "hovertemplate": "city=%{customdata[0]}<br>Sentiment=%{x}<br>median_sale_price=%{y}<extra></extra>",
                  "legendgroup": "Pineville",
                  "marker": {
                    "color": "#B6E880",
                    "symbol": "circle"
                  },
                  "mode": "markers",
                  "name": "Pineville",
                  "orientation": "v",
                  "showlegend": true,
                  "type": "scatter",
                  "x": [
                    "Neutral"
                  ],
                  "xaxis": "x",
                  "y": {
                    "bdata": "7rMLiA2FBUE=",
                    "dtype": "f8"
                  },
                  "yaxis": "y"
                },
                {
                  "customdata": [
                    [
                      "Pollock"
                    ]
                  ],
                  "hovertemplate": "city=%{customdata[0]}<br>Sentiment=%{x}<br>median_sale_price=%{y}<extra></extra>",
                  "legendgroup": "Pollock",
                  "marker": {
                    "color": "#FF97FF",
                    "symbol": "circle"
                  },
                  "mode": "markers",
                  "name": "Pollock",
                  "orientation": "v",
                  "showlegend": true,
                  "type": "scatter",
                  "x": [
                    "Neutral"
                  ],
                  "xaxis": "x",
                  "y": {
                    "bdata": "G/WdjZp7AUE=",
                    "dtype": "f8"
                  },
                  "yaxis": "y"
                },
                {
                  "customdata": [
                    [
                      "Ponchatoula"
                    ]
                  ],
                  "hovertemplate": "city=%{customdata[0]}<br>Sentiment=%{x}<br>median_sale_price=%{y}<extra></extra>",
                  "legendgroup": "Ponchatoula",
                  "marker": {
                    "color": "#FECB52",
                    "symbol": "circle"
                  },
                  "mode": "markers",
                  "name": "Ponchatoula",
                  "orientation": "v",
                  "showlegend": true,
                  "type": "scatter",
                  "x": [
                    "Neutral"
                  ],
                  "xaxis": "x",
                  "y": {
                    "bdata": "hPetkZ2gBkE=",
                    "dtype": "f8"
                  },
                  "yaxis": "y"
                },
                {
                  "customdata": [
                    [
                      "Port Allen"
                    ]
                  ],
                  "hovertemplate": "city=%{customdata[0]}<br>Sentiment=%{x}<br>median_sale_price=%{y}<extra></extra>",
                  "legendgroup": "Port Allen",
                  "marker": {
                    "color": "#636efa",
                    "symbol": "circle"
                  },
                  "mode": "markers",
                  "name": "Port Allen",
                  "orientation": "v",
                  "showlegend": true,
                  "type": "scatter",
                  "x": [
                    "Neutral"
                  ],
                  "xaxis": "x",
                  "y": {
                    "bdata": "g2Danb97AUE=",
                    "dtype": "f8"
                  },
                  "yaxis": "y"
                },
                {
                  "customdata": [
                    [
                      "Port Vincent"
                    ]
                  ],
                  "hovertemplate": "city=%{customdata[0]}<br>Sentiment=%{x}<br>median_sale_price=%{y}<extra></extra>",
                  "legendgroup": "Port Vincent",
                  "marker": {
                    "color": "#EF553B",
                    "symbol": "circle"
                  },
                  "mode": "markers",
                  "name": "Port Vincent",
                  "orientation": "v",
                  "showlegend": true,
                  "type": "scatter",
                  "x": [
                    "Neutral"
                  ],
                  "xaxis": "x",
                  "y": {
                    "bdata": "zczMzMFsCEE=",
                    "dtype": "f8"
                  },
                  "yaxis": "y"
                },
                {
                  "customdata": [
                    [
                      "Portland"
                    ]
                  ],
                  "hovertemplate": "city=%{customdata[0]}<br>Sentiment=%{x}<br>median_sale_price=%{y}<extra></extra>",
                  "legendgroup": "Portland",
                  "marker": {
                    "color": "#00cc96",
                    "symbol": "circle"
                  },
                  "mode": "markers",
                  "name": "Portland",
                  "orientation": "v",
                  "showlegend": true,
                  "type": "scatter",
                  "x": [
                    "Neutral"
                  ],
                  "xaxis": "x",
                  "y": {
                    "bdata": "Vho9os7zDEE=",
                    "dtype": "f8"
                  },
                  "yaxis": "y"
                },
                {
                  "customdata": [
                    [
                      "Putnam"
                    ]
                  ],
                  "hovertemplate": "city=%{customdata[0]}<br>Sentiment=%{x}<br>median_sale_price=%{y}<extra></extra>",
                  "legendgroup": "Putnam",
                  "marker": {
                    "color": "#ab63fa",
                    "symbol": "circle"
                  },
                  "mode": "markers",
                  "name": "Putnam",
                  "orientation": "v",
                  "showlegend": true,
                  "type": "scatter",
                  "x": [
                    "Neutral"
                  ],
                  "xaxis": "x",
                  "y": {
                    "bdata": "YZaUA93oBkE=",
                    "dtype": "f8"
                  },
                  "yaxis": "y"
                },
                {
                  "customdata": [
                    [
                      "Rayne"
                    ]
                  ],
                  "hovertemplate": "city=%{customdata[0]}<br>Sentiment=%{x}<br>median_sale_price=%{y}<extra></extra>",
                  "legendgroup": "Rayne",
                  "marker": {
                    "color": "#FFA15A",
                    "symbol": "circle"
                  },
                  "mode": "markers",
                  "name": "Rayne",
                  "orientation": "v",
                  "showlegend": true,
                  "type": "scatter",
                  "x": [
                    "Neutral"
                  ],
                  "xaxis": "x",
                  "y": {
                    "bdata": "ZxVKiohu+0A=",
                    "dtype": "f8"
                  },
                  "yaxis": "y"
                },
                {
                  "customdata": [
                    [
                      "Ridgefield"
                    ]
                  ],
                  "hovertemplate": "city=%{customdata[0]}<br>Sentiment=%{x}<br>median_sale_price=%{y}<extra></extra>",
                  "legendgroup": "Ridgefield",
                  "marker": {
                    "color": "#19d3f3",
                    "symbol": "circle"
                  },
                  "mode": "markers",
                  "name": "Ridgefield",
                  "orientation": "v",
                  "showlegend": true,
                  "type": "scatter",
                  "x": [
                    "Neutral"
                  ],
                  "xaxis": "x",
                  "y": {
                    "bdata": "ZVRG5YhQJEE=",
                    "dtype": "f8"
                  },
                  "yaxis": "y"
                },
                {
                  "customdata": [
                    [
                      "Ruston"
                    ]
                  ],
                  "hovertemplate": "city=%{customdata[0]}<br>Sentiment=%{x}<br>median_sale_price=%{y}<extra></extra>",
                  "legendgroup": "Ruston",
                  "marker": {
                    "color": "#FF6692",
                    "symbol": "circle"
                  },
                  "mode": "markers",
                  "name": "Ruston",
                  "orientation": "v",
                  "showlegend": true,
                  "type": "scatter",
                  "x": [
                    "Neutral"
                  ],
                  "xaxis": "x",
                  "y": {
                    "bdata": "c3Nzc2N+B0E=",
                    "dtype": "f8"
                  },
                  "yaxis": "y"
                },
                {
                  "customdata": [
                    [
                      "Scott"
                    ]
                  ],
                  "hovertemplate": "city=%{customdata[0]}<br>Sentiment=%{x}<br>median_sale_price=%{y}<extra></extra>",
                  "legendgroup": "Scott",
                  "marker": {
                    "color": "#B6E880",
                    "symbol": "circle"
                  },
                  "mode": "markers",
                  "name": "Scott",
                  "orientation": "v",
                  "showlegend": true,
                  "type": "scatter",
                  "x": [
                    "Neutral"
                  ],
                  "xaxis": "x",
                  "y": {
                    "bdata": "AAAAQOXrBUE=",
                    "dtype": "f8"
                  },
                  "yaxis": "y"
                },
                {
                  "customdata": [
                    [
                      "Shelton"
                    ]
                  ],
                  "hovertemplate": "city=%{customdata[0]}<br>Sentiment=%{x}<br>median_sale_price=%{y}<extra></extra>",
                  "legendgroup": "Shelton",
                  "marker": {
                    "color": "#FF97FF",
                    "symbol": "circle"
                  },
                  "mode": "markers",
                  "name": "Shelton",
                  "orientation": "v",
                  "showlegend": true,
                  "type": "scatter",
                  "x": [
                    "Neutral"
                  ],
                  "xaxis": "x",
                  "y": {
                    "bdata": "om0mjJCZFUE=",
                    "dtype": "f8"
                  },
                  "yaxis": "y"
                },
                {
                  "customdata": [
                    [
                      "Shreveport"
                    ]
                  ],
                  "hovertemplate": "city=%{customdata[0]}<br>Sentiment=%{x}<br>median_sale_price=%{y}<extra></extra>",
                  "legendgroup": "Shreveport",
                  "marker": {
                    "color": "#FECB52",
                    "symbol": "circle"
                  },
                  "mode": "markers",
                  "name": "Shreveport",
                  "orientation": "v",
                  "showlegend": true,
                  "type": "scatter",
                  "x": [
                    "Neutral"
                  ],
                  "xaxis": "x",
                  "y": {
                    "bdata": "cwNZxZabAUE=",
                    "dtype": "f8"
                  },
                  "yaxis": "y"
                },
                {
                  "customdata": [
                    [
                      "Sibley"
                    ]
                  ],
                  "hovertemplate": "city=%{customdata[0]}<br>Sentiment=%{x}<br>median_sale_price=%{y}<extra></extra>",
                  "legendgroup": "Sibley",
                  "marker": {
                    "color": "#636efa",
                    "symbol": "circle"
                  },
                  "mode": "markers",
                  "name": "Sibley",
                  "orientation": "v",
                  "showlegend": true,
                  "type": "scatter",
                  "x": [
                    "Neutral"
                  ],
                  "xaxis": "x",
                  "y": {
                    "bdata": "mpmZmdg1BkE=",
                    "dtype": "f8"
                  },
                  "yaxis": "y"
                },
                {
                  "customdata": [
                    [
                      "Slidell"
                    ]
                  ],
                  "hovertemplate": "city=%{customdata[0]}<br>Sentiment=%{x}<br>median_sale_price=%{y}<extra></extra>",
                  "legendgroup": "Slidell",
                  "marker": {
                    "color": "#EF553B",
                    "symbol": "circle"
                  },
                  "mode": "markers",
                  "name": "Slidell",
                  "orientation": "v",
                  "showlegend": true,
                  "type": "scatter",
                  "x": [
                    "Neutral"
                  ],
                  "xaxis": "x",
                  "y": {
                    "bdata": "5wT/zIkjA0E=",
                    "dtype": "f8"
                  },
                  "yaxis": "y"
                },
                {
                  "customdata": [
                    [
                      "Springhill"
                    ]
                  ],
                  "hovertemplate": "city=%{customdata[0]}<br>Sentiment=%{x}<br>median_sale_price=%{y}<extra></extra>",
                  "legendgroup": "Springhill",
                  "marker": {
                    "color": "#00cc96",
                    "symbol": "circle"
                  },
                  "mode": "markers",
                  "name": "Springhill",
                  "orientation": "v",
                  "showlegend": true,
                  "type": "scatter",
                  "x": [
                    "Neutral"
                  ],
                  "xaxis": "x",
                  "y": {
                    "bdata": "r+XgZv/3+EA=",
                    "dtype": "f8"
                  },
                  "yaxis": "y"
                },
                {
                  "customdata": [
                    [
                      "Stamford"
                    ]
                  ],
                  "hovertemplate": "city=%{customdata[0]}<br>Sentiment=%{x}<br>median_sale_price=%{y}<extra></extra>",
                  "legendgroup": "Stamford",
                  "marker": {
                    "color": "#ab63fa",
                    "symbol": "circle"
                  },
                  "mode": "markers",
                  "name": "Stamford",
                  "orientation": "v",
                  "showlegend": true,
                  "type": "scatter",
                  "x": [
                    "Neutral"
                  ],
                  "xaxis": "x",
                  "y": {
                    "bdata": "h8CNZZYQIEE=",
                    "dtype": "f8"
                  },
                  "yaxis": "y"
                },
                {
                  "customdata": [
                    [
                      "Stonington"
                    ]
                  ],
                  "hovertemplate": "city=%{customdata[0]}<br>Sentiment=%{x}<br>median_sale_price=%{y}<extra></extra>",
                  "legendgroup": "Stonington",
                  "marker": {
                    "color": "#FFA15A",
                    "symbol": "circle"
                  },
                  "mode": "markers",
                  "name": "Stonington",
                  "orientation": "v",
                  "showlegend": true,
                  "type": "scatter",
                  "x": [
                    "Neutral"
                  ],
                  "xaxis": "x",
                  "y": {
                    "bdata": "RbilZouTHkE=",
                    "dtype": "f8"
                  },
                  "yaxis": "y"
                },
                {
                  "customdata": [
                    [
                      "Stratford"
                    ]
                  ],
                  "hovertemplate": "city=%{customdata[0]}<br>Sentiment=%{x}<br>median_sale_price=%{y}<extra></extra>",
                  "legendgroup": "Stratford",
                  "marker": {
                    "color": "#19d3f3",
                    "symbol": "circle"
                  },
                  "mode": "markers",
                  "name": "Stratford",
                  "orientation": "v",
                  "showlegend": true,
                  "type": "scatter",
                  "x": [
                    "Neutral"
                  ],
                  "xaxis": "x",
                  "y": {
                    "bdata": "MzBd5+ePEUE=",
                    "dtype": "f8"
                  },
                  "yaxis": "y"
                },
                {
                  "customdata": [
                    [
                      "Sulphur"
                    ]
                  ],
                  "hovertemplate": "city=%{customdata[0]}<br>Sentiment=%{x}<br>median_sale_price=%{y}<extra></extra>",
                  "legendgroup": "Sulphur",
                  "marker": {
                    "color": "#FF6692",
                    "symbol": "circle"
                  },
                  "mode": "markers",
                  "name": "Sulphur",
                  "orientation": "v",
                  "showlegend": true,
                  "type": "scatter",
                  "x": [
                    "Neutral"
                  ],
                  "xaxis": "x",
                  "y": {
                    "bdata": "lD7pkyaxCEE=",
                    "dtype": "f8"
                  },
                  "yaxis": "y"
                },
                {
                  "customdata": [
                    [
                      "Thibodaux"
                    ]
                  ],
                  "hovertemplate": "city=%{customdata[0]}<br>Sentiment=%{x}<br>median_sale_price=%{y}<extra></extra>",
                  "legendgroup": "Thibodaux",
                  "marker": {
                    "color": "#B6E880",
                    "symbol": "circle"
                  },
                  "mode": "markers",
                  "name": "Thibodaux",
                  "orientation": "v",
                  "showlegend": true,
                  "type": "scatter",
                  "x": [
                    "Neutral"
                  ],
                  "xaxis": "x",
                  "y": {
                    "bdata": "9ddzFWExBEE=",
                    "dtype": "f8"
                  },
                  "yaxis": "y"
                },
                {
                  "customdata": [
                    [
                      "Thomaston"
                    ]
                  ],
                  "hovertemplate": "city=%{customdata[0]}<br>Sentiment=%{x}<br>median_sale_price=%{y}<extra></extra>",
                  "legendgroup": "Thomaston",
                  "marker": {
                    "color": "#FF97FF",
                    "symbol": "circle"
                  },
                  "mode": "markers",
                  "name": "Thomaston",
                  "orientation": "v",
                  "showlegend": true,
                  "type": "scatter",
                  "x": [
                    "Neutral"
                  ],
                  "xaxis": "x",
                  "y": {
                    "bdata": "98i1QtwuCUE=",
                    "dtype": "f8"
                  },
                  "yaxis": "y"
                },
                {
                  "customdata": [
                    [
                      "Tickfaw"
                    ]
                  ],
                  "hovertemplate": "city=%{customdata[0]}<br>Sentiment=%{x}<br>median_sale_price=%{y}<extra></extra>",
                  "legendgroup": "Tickfaw",
                  "marker": {
                    "color": "#FECB52",
                    "symbol": "circle"
                  },
                  "mode": "markers",
                  "name": "Tickfaw",
                  "orientation": "v",
                  "showlegend": true,
                  "type": "scatter",
                  "x": [
                    "Neutral"
                  ],
                  "xaxis": "x",
                  "y": {
                    "bdata": "7SW0l6jgAEE=",
                    "dtype": "f8"
                  },
                  "yaxis": "y"
                },
                {
                  "customdata": [
                    [
                      "Torrington"
                    ]
                  ],
                  "hovertemplate": "city=%{customdata[0]}<br>Sentiment=%{x}<br>median_sale_price=%{y}<extra></extra>",
                  "legendgroup": "Torrington",
                  "marker": {
                    "color": "#636efa",
                    "symbol": "circle"
                  },
                  "mode": "markers",
                  "name": "Torrington",
                  "orientation": "v",
                  "showlegend": true,
                  "type": "scatter",
                  "x": [
                    "Neutral"
                  ],
                  "xaxis": "x",
                  "y": {
                    "bdata": "8IeqSS99AUE=",
                    "dtype": "f8"
                  },
                  "yaxis": "y"
                },
                {
                  "customdata": [
                    [
                      "Trumbull"
                    ]
                  ],
                  "hovertemplate": "city=%{customdata[0]}<br>Sentiment=%{x}<br>median_sale_price=%{y}<extra></extra>",
                  "legendgroup": "Trumbull",
                  "marker": {
                    "color": "#EF553B",
                    "symbol": "circle"
                  },
                  "mode": "markers",
                  "name": "Trumbull",
                  "orientation": "v",
                  "showlegend": true,
                  "type": "scatter",
                  "x": [
                    "Neutral"
                  ],
                  "xaxis": "x",
                  "y": {
                    "bdata": "YXcmo5bqGUE=",
                    "dtype": "f8"
                  },
                  "yaxis": "y"
                },
                {
                  "customdata": [
                    [
                      "Vidalia"
                    ]
                  ],
                  "hovertemplate": "city=%{customdata[0]}<br>Sentiment=%{x}<br>median_sale_price=%{y}<extra></extra>",
                  "legendgroup": "Vidalia",
                  "marker": {
                    "color": "#00cc96",
                    "symbol": "circle"
                  },
                  "mode": "markers",
                  "name": "Vidalia",
                  "orientation": "v",
                  "showlegend": true,
                  "type": "scatter",
                  "x": [
                    "Neutral"
                  ],
                  "xaxis": "x",
                  "y": {
                    "bdata": "AAAAkNSRAEE=",
                    "dtype": "f8"
                  },
                  "yaxis": "y"
                },
                {
                  "customdata": [
                    [
                      "Vinton"
                    ]
                  ],
                  "hovertemplate": "city=%{customdata[0]}<br>Sentiment=%{x}<br>median_sale_price=%{y}<extra></extra>",
                  "legendgroup": "Vinton",
                  "marker": {
                    "color": "#ab63fa",
                    "symbol": "circle"
                  },
                  "mode": "markers",
                  "name": "Vinton",
                  "orientation": "v",
                  "showlegend": true,
                  "type": "scatter",
                  "x": [
                    "Neutral"
                  ],
                  "xaxis": "x",
                  "y": {
                    "bdata": "v/RLv0CDAEE=",
                    "dtype": "f8"
                  },
                  "yaxis": "y"
                },
                {
                  "customdata": [
                    [
                      "Walker"
                    ]
                  ],
                  "hovertemplate": "city=%{customdata[0]}<br>Sentiment=%{x}<br>median_sale_price=%{y}<extra></extra>",
                  "legendgroup": "Walker",
                  "marker": {
                    "color": "#FFA15A",
                    "symbol": "circle"
                  },
                  "mode": "markers",
                  "name": "Walker",
                  "orientation": "v",
                  "showlegend": true,
                  "type": "scatter",
                  "x": [
                    "Neutral"
                  ],
                  "xaxis": "x",
                  "y": {
                    "bdata": "oHJ2C2fuA0E=",
                    "dtype": "f8"
                  },
                  "yaxis": "y"
                },
                {
                  "customdata": [
                    [
                      "Waterbury"
                    ]
                  ],
                  "hovertemplate": "city=%{customdata[0]}<br>Sentiment=%{x}<br>median_sale_price=%{y}<extra></extra>",
                  "legendgroup": "Waterbury",
                  "marker": {
                    "color": "#19d3f3",
                    "symbol": "circle"
                  },
                  "mode": "markers",
                  "name": "Waterbury",
                  "orientation": "v",
                  "showlegend": true,
                  "type": "scatter",
                  "x": [
                    "Neutral"
                  ],
                  "xaxis": "x",
                  "y": {
                    "bdata": "mHg/ctTkAUE=",
                    "dtype": "f8"
                  },
                  "yaxis": "y"
                },
                {
                  "customdata": [
                    [
                      "Waterford"
                    ]
                  ],
                  "hovertemplate": "city=%{customdata[0]}<br>Sentiment=%{x}<br>median_sale_price=%{y}<extra></extra>",
                  "legendgroup": "Waterford",
                  "marker": {
                    "color": "#FF6692",
                    "symbol": "circle"
                  },
                  "mode": "markers",
                  "name": "Waterford",
                  "orientation": "v",
                  "showlegend": true,
                  "type": "scatter",
                  "x": [
                    "Neutral"
                  ],
                  "xaxis": "x",
                  "y": {
                    "bdata": "HR8rbaT/C0E=",
                    "dtype": "f8"
                  },
                  "yaxis": "y"
                },
                {
                  "customdata": [
                    [
                      "Watertown"
                    ]
                  ],
                  "hovertemplate": "city=%{customdata[0]}<br>Sentiment=%{x}<br>median_sale_price=%{y}<extra></extra>",
                  "legendgroup": "Watertown",
                  "marker": {
                    "color": "#B6E880",
                    "symbol": "circle"
                  },
                  "mode": "markers",
                  "name": "Watertown",
                  "orientation": "v",
                  "showlegend": true,
                  "type": "scatter",
                  "x": [
                    "Neutral"
                  ],
                  "xaxis": "x",
                  "y": {
                    "bdata": "xPp5/3RKC0E=",
                    "dtype": "f8"
                  },
                  "yaxis": "y"
                },
                {
                  "customdata": [
                    [
                      "West Hartford"
                    ]
                  ],
                  "hovertemplate": "city=%{customdata[0]}<br>Sentiment=%{x}<br>median_sale_price=%{y}<extra></extra>",
                  "legendgroup": "West Hartford",
                  "marker": {
                    "color": "#FF97FF",
                    "symbol": "circle"
                  },
                  "mode": "markers",
                  "name": "West Hartford",
                  "orientation": "v",
                  "showlegend": true,
                  "type": "scatter",
                  "x": [
                    "Neutral"
                  ],
                  "xaxis": "x",
                  "y": {
                    "bdata": "RyuSfspnE0E=",
                    "dtype": "f8"
                  },
                  "yaxis": "y"
                },
                {
                  "customdata": [
                    [
                      "West Haven"
                    ]
                  ],
                  "hovertemplate": "city=%{customdata[0]}<br>Sentiment=%{x}<br>median_sale_price=%{y}<extra></extra>",
                  "legendgroup": "West Haven",
                  "marker": {
                    "color": "#FECB52",
                    "symbol": "circle"
                  },
                  "mode": "markers",
                  "name": "West Haven",
                  "orientation": "v",
                  "showlegend": true,
                  "type": "scatter",
                  "x": [
                    "Neutral"
                  ],
                  "xaxis": "x",
                  "y": {
                    "bdata": "xzIoFUXfCkE=",
                    "dtype": "f8"
                  },
                  "yaxis": "y"
                },
                {
                  "customdata": [
                    [
                      "West Monroe"
                    ]
                  ],
                  "hovertemplate": "city=%{customdata[0]}<br>Sentiment=%{x}<br>median_sale_price=%{y}<extra></extra>",
                  "legendgroup": "West Monroe",
                  "marker": {
                    "color": "#636efa",
                    "symbol": "circle"
                  },
                  "mode": "markers",
                  "name": "West Monroe",
                  "orientation": "v",
                  "showlegend": true,
                  "type": "scatter",
                  "x": [
                    "Neutral"
                  ],
                  "xaxis": "x",
                  "y": {
                    "bdata": "Hh4eHp2NAUE=",
                    "dtype": "f8"
                  },
                  "yaxis": "y"
                },
                {
                  "customdata": [
                    [
                      "Weston"
                    ]
                  ],
                  "hovertemplate": "city=%{customdata[0]}<br>Sentiment=%{x}<br>median_sale_price=%{y}<extra></extra>",
                  "legendgroup": "Weston",
                  "marker": {
                    "color": "#EF553B",
                    "symbol": "circle"
                  },
                  "mode": "markers",
                  "name": "Weston",
                  "orientation": "v",
                  "showlegend": true,
                  "type": "scatter",
                  "x": [
                    "Neutral"
                  ],
                  "xaxis": "x",
                  "y": {
                    "bdata": "lY7smahHM0E=",
                    "dtype": "f8"
                  },
                  "yaxis": "y"
                },
                {
                  "customdata": [
                    [
                      "Westport"
                    ]
                  ],
                  "hovertemplate": "city=%{customdata[0]}<br>Sentiment=%{x}<br>median_sale_price=%{y}<extra></extra>",
                  "legendgroup": "Westport",
                  "marker": {
                    "color": "#00cc96",
                    "symbol": "circle"
                  },
                  "mode": "markers",
                  "name": "Westport",
                  "orientation": "v",
                  "showlegend": true,
                  "type": "scatter",
                  "x": [
                    "Neutral"
                  ],
                  "xaxis": "x",
                  "y": {
                    "bdata": "Hb7fElC1MkE=",
                    "dtype": "f8"
                  },
                  "yaxis": "y"
                },
                {
                  "customdata": [
                    [
                      "Westwego"
                    ]
                  ],
                  "hovertemplate": "city=%{customdata[0]}<br>Sentiment=%{x}<br>median_sale_price=%{y}<extra></extra>",
                  "legendgroup": "Westwego",
                  "marker": {
                    "color": "#ab63fa",
                    "symbol": "circle"
                  },
                  "mode": "markers",
                  "name": "Westwego",
                  "orientation": "v",
                  "showlegend": true,
                  "type": "scatter",
                  "x": [
                    "Neutral"
                  ],
                  "xaxis": "x",
                  "y": {
                    "bdata": "DWOuWooKAEE=",
                    "dtype": "f8"
                  },
                  "yaxis": "y"
                },
                {
                  "customdata": [
                    [
                      "Wethersfield"
                    ]
                  ],
                  "hovertemplate": "city=%{customdata[0]}<br>Sentiment=%{x}<br>median_sale_price=%{y}<extra></extra>",
                  "legendgroup": "Wethersfield",
                  "marker": {
                    "color": "#FFA15A",
                    "symbol": "circle"
                  },
                  "mode": "markers",
                  "name": "Wethersfield",
                  "orientation": "v",
                  "showlegend": true,
                  "type": "scatter",
                  "x": [
                    "Neutral"
                  ],
                  "xaxis": "x",
                  "y": {
                    "bdata": "QBP+TAILDUE=",
                    "dtype": "f8"
                  },
                  "yaxis": "y"
                },
                {
                  "customdata": [
                    [
                      "White Castle"
                    ]
                  ],
                  "hovertemplate": "city=%{customdata[0]}<br>Sentiment=%{x}<br>median_sale_price=%{y}<extra></extra>",
                  "legendgroup": "White Castle",
                  "marker": {
                    "color": "#19d3f3",
                    "symbol": "circle"
                  },
                  "mode": "markers",
                  "name": "White Castle",
                  "orientation": "v",
                  "showlegend": true,
                  "type": "scatter",
                  "x": [
                    "Neutral"
                  ],
                  "xaxis": "x",
                  "y": {
                    "bdata": "VVVVVZXd+EA=",
                    "dtype": "f8"
                  },
                  "yaxis": "y"
                },
                {
                  "customdata": [
                    [
                      "Willimantic"
                    ]
                  ],
                  "hovertemplate": "city=%{customdata[0]}<br>Sentiment=%{x}<br>median_sale_price=%{y}<extra></extra>",
                  "legendgroup": "Willimantic",
                  "marker": {
                    "color": "#FF6692",
                    "symbol": "circle"
                  },
                  "mode": "markers",
                  "name": "Willimantic",
                  "orientation": "v",
                  "showlegend": true,
                  "type": "scatter",
                  "x": [
                    "Neutral"
                  ],
                  "xaxis": "x",
                  "y": {
                    "bdata": "zjzFxntXAkE=",
                    "dtype": "f8"
                  },
                  "yaxis": "y"
                },
                {
                  "customdata": [
                    [
                      "Wilson"
                    ]
                  ],
                  "hovertemplate": "city=%{customdata[0]}<br>Sentiment=%{x}<br>median_sale_price=%{y}<extra></extra>",
                  "legendgroup": "Wilson",
                  "marker": {
                    "color": "#B6E880",
                    "symbol": "circle"
                  },
                  "mode": "markers",
                  "name": "Wilson",
                  "orientation": "v",
                  "showlegend": true,
                  "type": "scatter",
                  "x": [
                    "Neutral"
                  ],
                  "xaxis": "x",
                  "y": {
                    "bdata": "XXTRRfeAAUE=",
                    "dtype": "f8"
                  },
                  "yaxis": "y"
                },
                {
                  "customdata": [
                    [
                      "Windsor Locks"
                    ]
                  ],
                  "hovertemplate": "city=%{customdata[0]}<br>Sentiment=%{x}<br>median_sale_price=%{y}<extra></extra>",
                  "legendgroup": "Windsor Locks",
                  "marker": {
                    "color": "#FF97FF",
                    "symbol": "circle"
                  },
                  "mode": "markers",
                  "name": "Windsor Locks",
                  "orientation": "v",
                  "showlegend": true,
                  "type": "scatter",
                  "x": [
                    "Negative"
                  ],
                  "xaxis": "x",
                  "y": {
                    "bdata": "9M3RN9/kB0E=",
                    "dtype": "f8"
                  },
                  "yaxis": "y"
                },
                {
                  "customdata": [
                    [
                      "Zachary"
                    ]
                  ],
                  "hovertemplate": "city=%{customdata[0]}<br>Sentiment=%{x}<br>median_sale_price=%{y}<extra></extra>",
                  "legendgroup": "Zachary",
                  "marker": {
                    "color": "#FECB52",
                    "symbol": "circle"
                  },
                  "mode": "markers",
                  "name": "Zachary",
                  "orientation": "v",
                  "showlegend": true,
                  "type": "scatter",
                  "x": [
                    "Neutral"
                  ],
                  "xaxis": "x",
                  "y": {
                    "bdata": "J02aNHmxCUE=",
                    "dtype": "f8"
                  },
                  "yaxis": "y"
                }
              ],
              "layout": {
                "legend": {
                  "title": {
                    "text": "city"
                  },
                  "tracegroupgap": 0
                },
                "template": {
                  "data": {
                    "bar": [
                      {
                        "error_x": {
                          "color": "#2a3f5f"
                        },
                        "error_y": {
                          "color": "#2a3f5f"
                        },
                        "marker": {
                          "line": {
                            "color": "#E5ECF6",
                            "width": 0.5
                          },
                          "pattern": {
                            "fillmode": "overlay",
                            "size": 10,
                            "solidity": 0.2
                          }
                        },
                        "type": "bar"
                      }
                    ],
                    "barpolar": [
                      {
                        "marker": {
                          "line": {
                            "color": "#E5ECF6",
                            "width": 0.5
                          },
                          "pattern": {
                            "fillmode": "overlay",
                            "size": 10,
                            "solidity": 0.2
                          }
                        },
                        "type": "barpolar"
                      }
                    ],
                    "carpet": [
                      {
                        "aaxis": {
                          "endlinecolor": "#2a3f5f",
                          "gridcolor": "white",
                          "linecolor": "white",
                          "minorgridcolor": "white",
                          "startlinecolor": "#2a3f5f"
                        },
                        "baxis": {
                          "endlinecolor": "#2a3f5f",
                          "gridcolor": "white",
                          "linecolor": "white",
                          "minorgridcolor": "white",
                          "startlinecolor": "#2a3f5f"
                        },
                        "type": "carpet"
                      }
                    ],
                    "choropleth": [
                      {
                        "colorbar": {
                          "outlinewidth": 0,
                          "ticks": ""
                        },
                        "type": "choropleth"
                      }
                    ],
                    "contour": [
                      {
                        "colorbar": {
                          "outlinewidth": 0,
                          "ticks": ""
                        },
                        "colorscale": [
                          [
                            0,
                            "#0d0887"
                          ],
                          [
                            0.1111111111111111,
                            "#46039f"
                          ],
                          [
                            0.2222222222222222,
                            "#7201a8"
                          ],
                          [
                            0.3333333333333333,
                            "#9c179e"
                          ],
                          [
                            0.4444444444444444,
                            "#bd3786"
                          ],
                          [
                            0.5555555555555556,
                            "#d8576b"
                          ],
                          [
                            0.6666666666666666,
                            "#ed7953"
                          ],
                          [
                            0.7777777777777778,
                            "#fb9f3a"
                          ],
                          [
                            0.8888888888888888,
                            "#fdca26"
                          ],
                          [
                            1,
                            "#f0f921"
                          ]
                        ],
                        "type": "contour"
                      }
                    ],
                    "contourcarpet": [
                      {
                        "colorbar": {
                          "outlinewidth": 0,
                          "ticks": ""
                        },
                        "type": "contourcarpet"
                      }
                    ],
                    "heatmap": [
                      {
                        "colorbar": {
                          "outlinewidth": 0,
                          "ticks": ""
                        },
                        "colorscale": [
                          [
                            0,
                            "#0d0887"
                          ],
                          [
                            0.1111111111111111,
                            "#46039f"
                          ],
                          [
                            0.2222222222222222,
                            "#7201a8"
                          ],
                          [
                            0.3333333333333333,
                            "#9c179e"
                          ],
                          [
                            0.4444444444444444,
                            "#bd3786"
                          ],
                          [
                            0.5555555555555556,
                            "#d8576b"
                          ],
                          [
                            0.6666666666666666,
                            "#ed7953"
                          ],
                          [
                            0.7777777777777778,
                            "#fb9f3a"
                          ],
                          [
                            0.8888888888888888,
                            "#fdca26"
                          ],
                          [
                            1,
                            "#f0f921"
                          ]
                        ],
                        "type": "heatmap"
                      }
                    ],
                    "histogram": [
                      {
                        "marker": {
                          "pattern": {
                            "fillmode": "overlay",
                            "size": 10,
                            "solidity": 0.2
                          }
                        },
                        "type": "histogram"
                      }
                    ],
                    "histogram2d": [
                      {
                        "colorbar": {
                          "outlinewidth": 0,
                          "ticks": ""
                        },
                        "colorscale": [
                          [
                            0,
                            "#0d0887"
                          ],
                          [
                            0.1111111111111111,
                            "#46039f"
                          ],
                          [
                            0.2222222222222222,
                            "#7201a8"
                          ],
                          [
                            0.3333333333333333,
                            "#9c179e"
                          ],
                          [
                            0.4444444444444444,
                            "#bd3786"
                          ],
                          [
                            0.5555555555555556,
                            "#d8576b"
                          ],
                          [
                            0.6666666666666666,
                            "#ed7953"
                          ],
                          [
                            0.7777777777777778,
                            "#fb9f3a"
                          ],
                          [
                            0.8888888888888888,
                            "#fdca26"
                          ],
                          [
                            1,
                            "#f0f921"
                          ]
                        ],
                        "type": "histogram2d"
                      }
                    ],
                    "histogram2dcontour": [
                      {
                        "colorbar": {
                          "outlinewidth": 0,
                          "ticks": ""
                        },
                        "colorscale": [
                          [
                            0,
                            "#0d0887"
                          ],
                          [
                            0.1111111111111111,
                            "#46039f"
                          ],
                          [
                            0.2222222222222222,
                            "#7201a8"
                          ],
                          [
                            0.3333333333333333,
                            "#9c179e"
                          ],
                          [
                            0.4444444444444444,
                            "#bd3786"
                          ],
                          [
                            0.5555555555555556,
                            "#d8576b"
                          ],
                          [
                            0.6666666666666666,
                            "#ed7953"
                          ],
                          [
                            0.7777777777777778,
                            "#fb9f3a"
                          ],
                          [
                            0.8888888888888888,
                            "#fdca26"
                          ],
                          [
                            1,
                            "#f0f921"
                          ]
                        ],
                        "type": "histogram2dcontour"
                      }
                    ],
                    "mesh3d": [
                      {
                        "colorbar": {
                          "outlinewidth": 0,
                          "ticks": ""
                        },
                        "type": "mesh3d"
                      }
                    ],
                    "parcoords": [
                      {
                        "line": {
                          "colorbar": {
                            "outlinewidth": 0,
                            "ticks": ""
                          }
                        },
                        "type": "parcoords"
                      }
                    ],
                    "pie": [
                      {
                        "automargin": true,
                        "type": "pie"
                      }
                    ],
                    "scatter": [
                      {
                        "fillpattern": {
                          "fillmode": "overlay",
                          "size": 10,
                          "solidity": 0.2
                        },
                        "type": "scatter"
                      }
                    ],
                    "scatter3d": [
                      {
                        "line": {
                          "colorbar": {
                            "outlinewidth": 0,
                            "ticks": ""
                          }
                        },
                        "marker": {
                          "colorbar": {
                            "outlinewidth": 0,
                            "ticks": ""
                          }
                        },
                        "type": "scatter3d"
                      }
                    ],
                    "scattercarpet": [
                      {
                        "marker": {
                          "colorbar": {
                            "outlinewidth": 0,
                            "ticks": ""
                          }
                        },
                        "type": "scattercarpet"
                      }
                    ],
                    "scattergeo": [
                      {
                        "marker": {
                          "colorbar": {
                            "outlinewidth": 0,
                            "ticks": ""
                          }
                        },
                        "type": "scattergeo"
                      }
                    ],
                    "scattergl": [
                      {
                        "marker": {
                          "colorbar": {
                            "outlinewidth": 0,
                            "ticks": ""
                          }
                        },
                        "type": "scattergl"
                      }
                    ],
                    "scattermap": [
                      {
                        "marker": {
                          "colorbar": {
                            "outlinewidth": 0,
                            "ticks": ""
                          }
                        },
                        "type": "scattermap"
                      }
                    ],
                    "scattermapbox": [
                      {
                        "marker": {
                          "colorbar": {
                            "outlinewidth": 0,
                            "ticks": ""
                          }
                        },
                        "type": "scattermapbox"
                      }
                    ],
                    "scatterpolar": [
                      {
                        "marker": {
                          "colorbar": {
                            "outlinewidth": 0,
                            "ticks": ""
                          }
                        },
                        "type": "scatterpolar"
                      }
                    ],
                    "scatterpolargl": [
                      {
                        "marker": {
                          "colorbar": {
                            "outlinewidth": 0,
                            "ticks": ""
                          }
                        },
                        "type": "scatterpolargl"
                      }
                    ],
                    "scatterternary": [
                      {
                        "marker": {
                          "colorbar": {
                            "outlinewidth": 0,
                            "ticks": ""
                          }
                        },
                        "type": "scatterternary"
                      }
                    ],
                    "surface": [
                      {
                        "colorbar": {
                          "outlinewidth": 0,
                          "ticks": ""
                        },
                        "colorscale": [
                          [
                            0,
                            "#0d0887"
                          ],
                          [
                            0.1111111111111111,
                            "#46039f"
                          ],
                          [
                            0.2222222222222222,
                            "#7201a8"
                          ],
                          [
                            0.3333333333333333,
                            "#9c179e"
                          ],
                          [
                            0.4444444444444444,
                            "#bd3786"
                          ],
                          [
                            0.5555555555555556,
                            "#d8576b"
                          ],
                          [
                            0.6666666666666666,
                            "#ed7953"
                          ],
                          [
                            0.7777777777777778,
                            "#fb9f3a"
                          ],
                          [
                            0.8888888888888888,
                            "#fdca26"
                          ],
                          [
                            1,
                            "#f0f921"
                          ]
                        ],
                        "type": "surface"
                      }
                    ],
                    "table": [
                      {
                        "cells": {
                          "fill": {
                            "color": "#EBF0F8"
                          },
                          "line": {
                            "color": "white"
                          }
                        },
                        "header": {
                          "fill": {
                            "color": "#C8D4E3"
                          },
                          "line": {
                            "color": "white"
                          }
                        },
                        "type": "table"
                      }
                    ]
                  },
                  "layout": {
                    "annotationdefaults": {
                      "arrowcolor": "#2a3f5f",
                      "arrowhead": 0,
                      "arrowwidth": 1
                    },
                    "autotypenumbers": "strict",
                    "coloraxis": {
                      "colorbar": {
                        "outlinewidth": 0,
                        "ticks": ""
                      }
                    },
                    "colorscale": {
                      "diverging": [
                        [
                          0,
                          "#8e0152"
                        ],
                        [
                          0.1,
                          "#c51b7d"
                        ],
                        [
                          0.2,
                          "#de77ae"
                        ],
                        [
                          0.3,
                          "#f1b6da"
                        ],
                        [
                          0.4,
                          "#fde0ef"
                        ],
                        [
                          0.5,
                          "#f7f7f7"
                        ],
                        [
                          0.6,
                          "#e6f5d0"
                        ],
                        [
                          0.7,
                          "#b8e186"
                        ],
                        [
                          0.8,
                          "#7fbc41"
                        ],
                        [
                          0.9,
                          "#4d9221"
                        ],
                        [
                          1,
                          "#276419"
                        ]
                      ],
                      "sequential": [
                        [
                          0,
                          "#0d0887"
                        ],
                        [
                          0.1111111111111111,
                          "#46039f"
                        ],
                        [
                          0.2222222222222222,
                          "#7201a8"
                        ],
                        [
                          0.3333333333333333,
                          "#9c179e"
                        ],
                        [
                          0.4444444444444444,
                          "#bd3786"
                        ],
                        [
                          0.5555555555555556,
                          "#d8576b"
                        ],
                        [
                          0.6666666666666666,
                          "#ed7953"
                        ],
                        [
                          0.7777777777777778,
                          "#fb9f3a"
                        ],
                        [
                          0.8888888888888888,
                          "#fdca26"
                        ],
                        [
                          1,
                          "#f0f921"
                        ]
                      ],
                      "sequentialminus": [
                        [
                          0,
                          "#0d0887"
                        ],
                        [
                          0.1111111111111111,
                          "#46039f"
                        ],
                        [
                          0.2222222222222222,
                          "#7201a8"
                        ],
                        [
                          0.3333333333333333,
                          "#9c179e"
                        ],
                        [
                          0.4444444444444444,
                          "#bd3786"
                        ],
                        [
                          0.5555555555555556,
                          "#d8576b"
                        ],
                        [
                          0.6666666666666666,
                          "#ed7953"
                        ],
                        [
                          0.7777777777777778,
                          "#fb9f3a"
                        ],
                        [
                          0.8888888888888888,
                          "#fdca26"
                        ],
                        [
                          1,
                          "#f0f921"
                        ]
                      ]
                    },
                    "colorway": [
                      "#636efa",
                      "#EF553B",
                      "#00cc96",
                      "#ab63fa",
                      "#FFA15A",
                      "#19d3f3",
                      "#FF6692",
                      "#B6E880",
                      "#FF97FF",
                      "#FECB52"
                    ],
                    "font": {
                      "color": "#2a3f5f"
                    },
                    "geo": {
                      "bgcolor": "white",
                      "lakecolor": "white",
                      "landcolor": "#E5ECF6",
                      "showlakes": true,
                      "showland": true,
                      "subunitcolor": "white"
                    },
                    "hoverlabel": {
                      "align": "left"
                    },
                    "hovermode": "closest",
                    "mapbox": {
                      "style": "light"
                    },
                    "paper_bgcolor": "white",
                    "plot_bgcolor": "#E5ECF6",
                    "polar": {
                      "angularaxis": {
                        "gridcolor": "white",
                        "linecolor": "white",
                        "ticks": ""
                      },
                      "bgcolor": "#E5ECF6",
                      "radialaxis": {
                        "gridcolor": "white",
                        "linecolor": "white",
                        "ticks": ""
                      }
                    },
                    "scene": {
                      "xaxis": {
                        "backgroundcolor": "#E5ECF6",
                        "gridcolor": "white",
                        "gridwidth": 2,
                        "linecolor": "white",
                        "showbackground": true,
                        "ticks": "",
                        "zerolinecolor": "white"
                      },
                      "yaxis": {
                        "backgroundcolor": "#E5ECF6",
                        "gridcolor": "white",
                        "gridwidth": 2,
                        "linecolor": "white",
                        "showbackground": true,
                        "ticks": "",
                        "zerolinecolor": "white"
                      },
                      "zaxis": {
                        "backgroundcolor": "#E5ECF6",
                        "gridcolor": "white",
                        "gridwidth": 2,
                        "linecolor": "white",
                        "showbackground": true,
                        "ticks": "",
                        "zerolinecolor": "white"
                      }
                    },
                    "shapedefaults": {
                      "line": {
                        "color": "#2a3f5f"
                      }
                    },
                    "ternary": {
                      "aaxis": {
                        "gridcolor": "white",
                        "linecolor": "white",
                        "ticks": ""
                      },
                      "baxis": {
                        "gridcolor": "white",
                        "linecolor": "white",
                        "ticks": ""
                      },
                      "bgcolor": "#E5ECF6",
                      "caxis": {
                        "gridcolor": "white",
                        "linecolor": "white",
                        "ticks": ""
                      }
                    },
                    "title": {
                      "x": 0.05
                    },
                    "xaxis": {
                      "automargin": true,
                      "gridcolor": "white",
                      "linecolor": "white",
                      "ticks": "",
                      "title": {
                        "standoff": 15
                      },
                      "zerolinecolor": "white",
                      "zerolinewidth": 2
                    },
                    "yaxis": {
                      "automargin": true,
                      "gridcolor": "white",
                      "linecolor": "white",
                      "ticks": "",
                      "title": {
                        "standoff": 15
                      },
                      "zerolinecolor": "white",
                      "zerolinewidth": 2
                    }
                  }
                },
                "title": {
                  "text": "Average Property Price by City and Major Sentiment"
                },
                "xaxis": {
                  "anchor": "y",
                  "domain": [
                    0,
                    1
                  ],
                  "title": {
                    "text": "Sentiment"
                  }
                },
                "yaxis": {
                  "anchor": "x",
                  "domain": [
                    0,
                    1
                  ],
                  "title": {
                    "text": "median_sale_price"
                  }
                }
              }
            }
          },
          "metadata": {},
          "output_type": "display_data"
        }
      ],
      "source": [
        "# Group data by city and sentiment to explore variations\n",
        "city_sentiment_price = real_social.groupby(['city', 'major_sentiment'])['median_sale_price'].mean().reset_index()\n",
        "\n",
        "# Create an interactive plot using Plotly Express to show average price by sentiment for each city\n",
        "fig = px.scatter(city_sentiment_price, x='major_sentiment', y='median_sale_price', color='city',\n",
        "                 title='Average Property Price by City and Major Sentiment',\n",
        "                 labels={'major_sentiment': 'Sentiment', 'Price': 'Average Property Price'},\n",
        "                 hover_data=['city', 'median_sale_price'])\n",
        "fig.show()"
      ]
    },
    {
      "cell_type": "markdown",
      "metadata": {
        "id": "WFgXE52RKSu8"
      },
      "source": [
        "##### . What are the key phrases associated with positive and negative sentiments in real estate discussions?\n"
      ]
    },
    {
      "cell_type": "code",
      "execution_count": 14,
      "metadata": {
        "colab": {
          "background_save": true
        },
        "id": "UIBinQ5o9p7f",
        "outputId": "255ca283-7599-4644-9c48-66e398e9133e"
      },
      "outputs": [
        {
          "name": "stdout",
          "output_type": "stream",
          "text": [
            "Top 20 Positive Phrases:\n",
            "[('list agent', 1377), ('make offer', 1377), ('. maybe', 938), ('agent reach', 928), ('full market', 928), ('market .', 928), ('id consider', 928), ('fair offer', 928), ('. dont', 928), ('offer .', 928), ('reach list', 913), ('offer stand', 913), ('real estate', 908), (', real', 898), ('estate agent', 898), (') .', 479), ('deal .', 474), ('. also', 469), (', price', 469), (', would', 469)]\n",
            "\n",
            "Top 20 Negative Phrases:\n",
            "[('phone number', 896), ('investment company', 896), ('property .', 896), ('william erickson', 896), ('erickson ,', 896), ('. call', 896), ('neighborhood .', 894), ('lot work', 894), ('work (', 894), ('price .', 894), ('? isnt', 894), ('isnt go', 894), ('go qualify', 894), ('qualify traditional', 894), ('traditional finance', 894), ('finance .', 894), ('investor go', 894), ('bank .', 894), ('real estate', 458), ('offer .', 457)]\n"
          ]
        },
        {
          "data": {
            "application/vnd.plotly.v1+json": {
              "config": {
                "plotlyServerURL": "https://plot.ly"
              },
              "data": [
                {
                  "hovertemplate": "Phrase=%{x}<br>Frequency=%{marker.color}<extra></extra>",
                  "legendgroup": "",
                  "marker": {
                    "color": {
                      "bdata": "YQVhBaoDoAOgA6ADoAOgA6ADoAORA5EDjAOCA4ID3wHaAdUB1QHVAQ==",
                      "dtype": "i2"
                    },
                    "coloraxis": "coloraxis",
                    "pattern": {
                      "shape": ""
                    }
                  },
                  "name": "",
                  "orientation": "v",
                  "showlegend": false,
                  "textposition": "auto",
                  "type": "bar",
                  "x": [
                    "list agent",
                    "make offer",
                    ". maybe",
                    "agent reach",
                    "full market",
                    "market .",
                    "id consider",
                    "fair offer",
                    ". dont",
                    "offer .",
                    "reach list",
                    "offer stand",
                    "real estate",
                    ", real",
                    "estate agent",
                    ") .",
                    "deal .",
                    ". also",
                    ", price",
                    ", would"
                  ],
                  "xaxis": "x",
                  "y": {
                    "bdata": "YQVhBaoDoAOgA6ADoAOgA6ADoAORA5EDjAOCA4ID3wHaAdUB1QHVAQ==",
                    "dtype": "i2"
                  },
                  "yaxis": "y"
                }
              ],
              "layout": {
                "barmode": "relative",
                "coloraxis": {
                  "colorbar": {
                    "title": {
                      "text": "Frequency"
                    }
                  },
                  "colorscale": [
                    [
                      0,
                      "rgb(247,251,255)"
                    ],
                    [
                      0.125,
                      "rgb(222,235,247)"
                    ],
                    [
                      0.25,
                      "rgb(198,219,239)"
                    ],
                    [
                      0.375,
                      "rgb(158,202,225)"
                    ],
                    [
                      0.5,
                      "rgb(107,174,214)"
                    ],
                    [
                      0.625,
                      "rgb(66,146,198)"
                    ],
                    [
                      0.75,
                      "rgb(33,113,181)"
                    ],
                    [
                      0.875,
                      "rgb(8,81,156)"
                    ],
                    [
                      1,
                      "rgb(8,48,107)"
                    ]
                  ]
                },
                "legend": {
                  "tracegroupgap": 0
                },
                "template": {
                  "data": {
                    "bar": [
                      {
                        "error_x": {
                          "color": "#f2f5fa"
                        },
                        "error_y": {
                          "color": "#f2f5fa"
                        },
                        "marker": {
                          "line": {
                            "color": "rgb(17,17,17)",
                            "width": 0.5
                          },
                          "pattern": {
                            "fillmode": "overlay",
                            "size": 10,
                            "solidity": 0.2
                          }
                        },
                        "type": "bar"
                      }
                    ],
                    "barpolar": [
                      {
                        "marker": {
                          "line": {
                            "color": "rgb(17,17,17)",
                            "width": 0.5
                          },
                          "pattern": {
                            "fillmode": "overlay",
                            "size": 10,
                            "solidity": 0.2
                          }
                        },
                        "type": "barpolar"
                      }
                    ],
                    "carpet": [
                      {
                        "aaxis": {
                          "endlinecolor": "#A2B1C6",
                          "gridcolor": "#506784",
                          "linecolor": "#506784",
                          "minorgridcolor": "#506784",
                          "startlinecolor": "#A2B1C6"
                        },
                        "baxis": {
                          "endlinecolor": "#A2B1C6",
                          "gridcolor": "#506784",
                          "linecolor": "#506784",
                          "minorgridcolor": "#506784",
                          "startlinecolor": "#A2B1C6"
                        },
                        "type": "carpet"
                      }
                    ],
                    "choropleth": [
                      {
                        "colorbar": {
                          "outlinewidth": 0,
                          "ticks": ""
                        },
                        "type": "choropleth"
                      }
                    ],
                    "contour": [
                      {
                        "colorbar": {
                          "outlinewidth": 0,
                          "ticks": ""
                        },
                        "colorscale": [
                          [
                            0,
                            "#0d0887"
                          ],
                          [
                            0.1111111111111111,
                            "#46039f"
                          ],
                          [
                            0.2222222222222222,
                            "#7201a8"
                          ],
                          [
                            0.3333333333333333,
                            "#9c179e"
                          ],
                          [
                            0.4444444444444444,
                            "#bd3786"
                          ],
                          [
                            0.5555555555555556,
                            "#d8576b"
                          ],
                          [
                            0.6666666666666666,
                            "#ed7953"
                          ],
                          [
                            0.7777777777777778,
                            "#fb9f3a"
                          ],
                          [
                            0.8888888888888888,
                            "#fdca26"
                          ],
                          [
                            1,
                            "#f0f921"
                          ]
                        ],
                        "type": "contour"
                      }
                    ],
                    "contourcarpet": [
                      {
                        "colorbar": {
                          "outlinewidth": 0,
                          "ticks": ""
                        },
                        "type": "contourcarpet"
                      }
                    ],
                    "heatmap": [
                      {
                        "colorbar": {
                          "outlinewidth": 0,
                          "ticks": ""
                        },
                        "colorscale": [
                          [
                            0,
                            "#0d0887"
                          ],
                          [
                            0.1111111111111111,
                            "#46039f"
                          ],
                          [
                            0.2222222222222222,
                            "#7201a8"
                          ],
                          [
                            0.3333333333333333,
                            "#9c179e"
                          ],
                          [
                            0.4444444444444444,
                            "#bd3786"
                          ],
                          [
                            0.5555555555555556,
                            "#d8576b"
                          ],
                          [
                            0.6666666666666666,
                            "#ed7953"
                          ],
                          [
                            0.7777777777777778,
                            "#fb9f3a"
                          ],
                          [
                            0.8888888888888888,
                            "#fdca26"
                          ],
                          [
                            1,
                            "#f0f921"
                          ]
                        ],
                        "type": "heatmap"
                      }
                    ],
                    "histogram": [
                      {
                        "marker": {
                          "pattern": {
                            "fillmode": "overlay",
                            "size": 10,
                            "solidity": 0.2
                          }
                        },
                        "type": "histogram"
                      }
                    ],
                    "histogram2d": [
                      {
                        "colorbar": {
                          "outlinewidth": 0,
                          "ticks": ""
                        },
                        "colorscale": [
                          [
                            0,
                            "#0d0887"
                          ],
                          [
                            0.1111111111111111,
                            "#46039f"
                          ],
                          [
                            0.2222222222222222,
                            "#7201a8"
                          ],
                          [
                            0.3333333333333333,
                            "#9c179e"
                          ],
                          [
                            0.4444444444444444,
                            "#bd3786"
                          ],
                          [
                            0.5555555555555556,
                            "#d8576b"
                          ],
                          [
                            0.6666666666666666,
                            "#ed7953"
                          ],
                          [
                            0.7777777777777778,
                            "#fb9f3a"
                          ],
                          [
                            0.8888888888888888,
                            "#fdca26"
                          ],
                          [
                            1,
                            "#f0f921"
                          ]
                        ],
                        "type": "histogram2d"
                      }
                    ],
                    "histogram2dcontour": [
                      {
                        "colorbar": {
                          "outlinewidth": 0,
                          "ticks": ""
                        },
                        "colorscale": [
                          [
                            0,
                            "#0d0887"
                          ],
                          [
                            0.1111111111111111,
                            "#46039f"
                          ],
                          [
                            0.2222222222222222,
                            "#7201a8"
                          ],
                          [
                            0.3333333333333333,
                            "#9c179e"
                          ],
                          [
                            0.4444444444444444,
                            "#bd3786"
                          ],
                          [
                            0.5555555555555556,
                            "#d8576b"
                          ],
                          [
                            0.6666666666666666,
                            "#ed7953"
                          ],
                          [
                            0.7777777777777778,
                            "#fb9f3a"
                          ],
                          [
                            0.8888888888888888,
                            "#fdca26"
                          ],
                          [
                            1,
                            "#f0f921"
                          ]
                        ],
                        "type": "histogram2dcontour"
                      }
                    ],
                    "mesh3d": [
                      {
                        "colorbar": {
                          "outlinewidth": 0,
                          "ticks": ""
                        },
                        "type": "mesh3d"
                      }
                    ],
                    "parcoords": [
                      {
                        "line": {
                          "colorbar": {
                            "outlinewidth": 0,
                            "ticks": ""
                          }
                        },
                        "type": "parcoords"
                      }
                    ],
                    "pie": [
                      {
                        "automargin": true,
                        "type": "pie"
                      }
                    ],
                    "scatter": [
                      {
                        "marker": {
                          "line": {
                            "color": "#283442"
                          }
                        },
                        "type": "scatter"
                      }
                    ],
                    "scatter3d": [
                      {
                        "line": {
                          "colorbar": {
                            "outlinewidth": 0,
                            "ticks": ""
                          }
                        },
                        "marker": {
                          "colorbar": {
                            "outlinewidth": 0,
                            "ticks": ""
                          }
                        },
                        "type": "scatter3d"
                      }
                    ],
                    "scattercarpet": [
                      {
                        "marker": {
                          "colorbar": {
                            "outlinewidth": 0,
                            "ticks": ""
                          }
                        },
                        "type": "scattercarpet"
                      }
                    ],
                    "scattergeo": [
                      {
                        "marker": {
                          "colorbar": {
                            "outlinewidth": 0,
                            "ticks": ""
                          }
                        },
                        "type": "scattergeo"
                      }
                    ],
                    "scattergl": [
                      {
                        "marker": {
                          "line": {
                            "color": "#283442"
                          }
                        },
                        "type": "scattergl"
                      }
                    ],
                    "scattermap": [
                      {
                        "marker": {
                          "colorbar": {
                            "outlinewidth": 0,
                            "ticks": ""
                          }
                        },
                        "type": "scattermap"
                      }
                    ],
                    "scattermapbox": [
                      {
                        "marker": {
                          "colorbar": {
                            "outlinewidth": 0,
                            "ticks": ""
                          }
                        },
                        "type": "scattermapbox"
                      }
                    ],
                    "scatterpolar": [
                      {
                        "marker": {
                          "colorbar": {
                            "outlinewidth": 0,
                            "ticks": ""
                          }
                        },
                        "type": "scatterpolar"
                      }
                    ],
                    "scatterpolargl": [
                      {
                        "marker": {
                          "colorbar": {
                            "outlinewidth": 0,
                            "ticks": ""
                          }
                        },
                        "type": "scatterpolargl"
                      }
                    ],
                    "scatterternary": [
                      {
                        "marker": {
                          "colorbar": {
                            "outlinewidth": 0,
                            "ticks": ""
                          }
                        },
                        "type": "scatterternary"
                      }
                    ],
                    "surface": [
                      {
                        "colorbar": {
                          "outlinewidth": 0,
                          "ticks": ""
                        },
                        "colorscale": [
                          [
                            0,
                            "#0d0887"
                          ],
                          [
                            0.1111111111111111,
                            "#46039f"
                          ],
                          [
                            0.2222222222222222,
                            "#7201a8"
                          ],
                          [
                            0.3333333333333333,
                            "#9c179e"
                          ],
                          [
                            0.4444444444444444,
                            "#bd3786"
                          ],
                          [
                            0.5555555555555556,
                            "#d8576b"
                          ],
                          [
                            0.6666666666666666,
                            "#ed7953"
                          ],
                          [
                            0.7777777777777778,
                            "#fb9f3a"
                          ],
                          [
                            0.8888888888888888,
                            "#fdca26"
                          ],
                          [
                            1,
                            "#f0f921"
                          ]
                        ],
                        "type": "surface"
                      }
                    ],
                    "table": [
                      {
                        "cells": {
                          "fill": {
                            "color": "#506784"
                          },
                          "line": {
                            "color": "rgb(17,17,17)"
                          }
                        },
                        "header": {
                          "fill": {
                            "color": "#2a3f5f"
                          },
                          "line": {
                            "color": "rgb(17,17,17)"
                          }
                        },
                        "type": "table"
                      }
                    ]
                  },
                  "layout": {
                    "annotationdefaults": {
                      "arrowcolor": "#f2f5fa",
                      "arrowhead": 0,
                      "arrowwidth": 1
                    },
                    "autotypenumbers": "strict",
                    "coloraxis": {
                      "colorbar": {
                        "outlinewidth": 0,
                        "ticks": ""
                      }
                    },
                    "colorscale": {
                      "diverging": [
                        [
                          0,
                          "#8e0152"
                        ],
                        [
                          0.1,
                          "#c51b7d"
                        ],
                        [
                          0.2,
                          "#de77ae"
                        ],
                        [
                          0.3,
                          "#f1b6da"
                        ],
                        [
                          0.4,
                          "#fde0ef"
                        ],
                        [
                          0.5,
                          "#f7f7f7"
                        ],
                        [
                          0.6,
                          "#e6f5d0"
                        ],
                        [
                          0.7,
                          "#b8e186"
                        ],
                        [
                          0.8,
                          "#7fbc41"
                        ],
                        [
                          0.9,
                          "#4d9221"
                        ],
                        [
                          1,
                          "#276419"
                        ]
                      ],
                      "sequential": [
                        [
                          0,
                          "#0d0887"
                        ],
                        [
                          0.1111111111111111,
                          "#46039f"
                        ],
                        [
                          0.2222222222222222,
                          "#7201a8"
                        ],
                        [
                          0.3333333333333333,
                          "#9c179e"
                        ],
                        [
                          0.4444444444444444,
                          "#bd3786"
                        ],
                        [
                          0.5555555555555556,
                          "#d8576b"
                        ],
                        [
                          0.6666666666666666,
                          "#ed7953"
                        ],
                        [
                          0.7777777777777778,
                          "#fb9f3a"
                        ],
                        [
                          0.8888888888888888,
                          "#fdca26"
                        ],
                        [
                          1,
                          "#f0f921"
                        ]
                      ],
                      "sequentialminus": [
                        [
                          0,
                          "#0d0887"
                        ],
                        [
                          0.1111111111111111,
                          "#46039f"
                        ],
                        [
                          0.2222222222222222,
                          "#7201a8"
                        ],
                        [
                          0.3333333333333333,
                          "#9c179e"
                        ],
                        [
                          0.4444444444444444,
                          "#bd3786"
                        ],
                        [
                          0.5555555555555556,
                          "#d8576b"
                        ],
                        [
                          0.6666666666666666,
                          "#ed7953"
                        ],
                        [
                          0.7777777777777778,
                          "#fb9f3a"
                        ],
                        [
                          0.8888888888888888,
                          "#fdca26"
                        ],
                        [
                          1,
                          "#f0f921"
                        ]
                      ]
                    },
                    "colorway": [
                      "#636efa",
                      "#EF553B",
                      "#00cc96",
                      "#ab63fa",
                      "#FFA15A",
                      "#19d3f3",
                      "#FF6692",
                      "#B6E880",
                      "#FF97FF",
                      "#FECB52"
                    ],
                    "font": {
                      "color": "#f2f5fa"
                    },
                    "geo": {
                      "bgcolor": "rgb(17,17,17)",
                      "lakecolor": "rgb(17,17,17)",
                      "landcolor": "rgb(17,17,17)",
                      "showlakes": true,
                      "showland": true,
                      "subunitcolor": "#506784"
                    },
                    "hoverlabel": {
                      "align": "left"
                    },
                    "hovermode": "closest",
                    "mapbox": {
                      "style": "dark"
                    },
                    "paper_bgcolor": "rgb(17,17,17)",
                    "plot_bgcolor": "rgb(17,17,17)",
                    "polar": {
                      "angularaxis": {
                        "gridcolor": "#506784",
                        "linecolor": "#506784",
                        "ticks": ""
                      },
                      "bgcolor": "rgb(17,17,17)",
                      "radialaxis": {
                        "gridcolor": "#506784",
                        "linecolor": "#506784",
                        "ticks": ""
                      }
                    },
                    "scene": {
                      "xaxis": {
                        "backgroundcolor": "rgb(17,17,17)",
                        "gridcolor": "#506784",
                        "gridwidth": 2,
                        "linecolor": "#506784",
                        "showbackground": true,
                        "ticks": "",
                        "zerolinecolor": "#C8D4E3"
                      },
                      "yaxis": {
                        "backgroundcolor": "rgb(17,17,17)",
                        "gridcolor": "#506784",
                        "gridwidth": 2,
                        "linecolor": "#506784",
                        "showbackground": true,
                        "ticks": "",
                        "zerolinecolor": "#C8D4E3"
                      },
                      "zaxis": {
                        "backgroundcolor": "rgb(17,17,17)",
                        "gridcolor": "#506784",
                        "gridwidth": 2,
                        "linecolor": "#506784",
                        "showbackground": true,
                        "ticks": "",
                        "zerolinecolor": "#C8D4E3"
                      }
                    },
                    "shapedefaults": {
                      "line": {
                        "color": "#f2f5fa"
                      }
                    },
                    "sliderdefaults": {
                      "bgcolor": "#C8D4E3",
                      "bordercolor": "rgb(17,17,17)",
                      "borderwidth": 1,
                      "tickwidth": 0
                    },
                    "ternary": {
                      "aaxis": {
                        "gridcolor": "#506784",
                        "linecolor": "#506784",
                        "ticks": ""
                      },
                      "baxis": {
                        "gridcolor": "#506784",
                        "linecolor": "#506784",
                        "ticks": ""
                      },
                      "bgcolor": "rgb(17,17,17)",
                      "caxis": {
                        "gridcolor": "#506784",
                        "linecolor": "#506784",
                        "ticks": ""
                      }
                    },
                    "title": {
                      "x": 0.05
                    },
                    "updatemenudefaults": {
                      "bgcolor": "#506784",
                      "borderwidth": 0
                    },
                    "xaxis": {
                      "automargin": true,
                      "gridcolor": "#283442",
                      "linecolor": "#506784",
                      "ticks": "",
                      "title": {
                        "standoff": 15
                      },
                      "zerolinecolor": "#283442",
                      "zerolinewidth": 2
                    },
                    "yaxis": {
                      "automargin": true,
                      "gridcolor": "#283442",
                      "linecolor": "#506784",
                      "ticks": "",
                      "title": {
                        "standoff": 15
                      },
                      "zerolinecolor": "#283442",
                      "zerolinewidth": 2
                    }
                  }
                },
                "title": {
                  "text": "Top 10 Positive Key Phrases in Conecticut"
                },
                "xaxis": {
                  "anchor": "y",
                  "domain": [
                    0,
                    1
                  ],
                  "title": {
                    "text": "Phrase"
                  }
                },
                "yaxis": {
                  "anchor": "x",
                  "domain": [
                    0,
                    1
                  ],
                  "title": {
                    "text": "Frequency"
                  }
                }
              }
            }
          },
          "metadata": {},
          "output_type": "display_data"
        },
        {
          "data": {
            "application/vnd.plotly.v1+json": {
              "config": {
                "plotlyServerURL": "https://plot.ly"
              },
              "data": [
                {
                  "hovertemplate": "Phrase=%{x}<br>Frequency=%{marker.color}<extra></extra>",
                  "legendgroup": "",
                  "marker": {
                    "color": {
                      "bdata": "gAOAA4ADgAOAA4ADfgN+A34DfgN+A34DfgN+A34DfgN+A34DygHJAQ==",
                      "dtype": "i2"
                    },
                    "coloraxis": "coloraxis",
                    "pattern": {
                      "shape": ""
                    }
                  },
                  "name": "",
                  "orientation": "v",
                  "showlegend": false,
                  "textposition": "auto",
                  "type": "bar",
                  "x": [
                    "phone number",
                    "investment company",
                    "property .",
                    "william erickson",
                    "erickson ,",
                    ". call",
                    "neighborhood .",
                    "lot work",
                    "work (",
                    "price .",
                    "? isnt",
                    "isnt go",
                    "go qualify",
                    "qualify traditional",
                    "traditional finance",
                    "finance .",
                    "investor go",
                    "bank .",
                    "real estate",
                    "offer ."
                  ],
                  "xaxis": "x",
                  "y": {
                    "bdata": "gAOAA4ADgAOAA4ADfgN+A34DfgN+A34DfgN+A34DfgN+A34DygHJAQ==",
                    "dtype": "i2"
                  },
                  "yaxis": "y"
                }
              ],
              "layout": {
                "barmode": "relative",
                "coloraxis": {
                  "colorbar": {
                    "title": {
                      "text": "Frequency"
                    }
                  },
                  "colorscale": [
                    [
                      0,
                      "rgb(255,245,240)"
                    ],
                    [
                      0.125,
                      "rgb(254,224,210)"
                    ],
                    [
                      0.25,
                      "rgb(252,187,161)"
                    ],
                    [
                      0.375,
                      "rgb(252,146,114)"
                    ],
                    [
                      0.5,
                      "rgb(251,106,74)"
                    ],
                    [
                      0.625,
                      "rgb(239,59,44)"
                    ],
                    [
                      0.75,
                      "rgb(203,24,29)"
                    ],
                    [
                      0.875,
                      "rgb(165,15,21)"
                    ],
                    [
                      1,
                      "rgb(103,0,13)"
                    ]
                  ]
                },
                "legend": {
                  "tracegroupgap": 0
                },
                "template": {
                  "data": {
                    "bar": [
                      {
                        "error_x": {
                          "color": "#f2f5fa"
                        },
                        "error_y": {
                          "color": "#f2f5fa"
                        },
                        "marker": {
                          "line": {
                            "color": "rgb(17,17,17)",
                            "width": 0.5
                          },
                          "pattern": {
                            "fillmode": "overlay",
                            "size": 10,
                            "solidity": 0.2
                          }
                        },
                        "type": "bar"
                      }
                    ],
                    "barpolar": [
                      {
                        "marker": {
                          "line": {
                            "color": "rgb(17,17,17)",
                            "width": 0.5
                          },
                          "pattern": {
                            "fillmode": "overlay",
                            "size": 10,
                            "solidity": 0.2
                          }
                        },
                        "type": "barpolar"
                      }
                    ],
                    "carpet": [
                      {
                        "aaxis": {
                          "endlinecolor": "#A2B1C6",
                          "gridcolor": "#506784",
                          "linecolor": "#506784",
                          "minorgridcolor": "#506784",
                          "startlinecolor": "#A2B1C6"
                        },
                        "baxis": {
                          "endlinecolor": "#A2B1C6",
                          "gridcolor": "#506784",
                          "linecolor": "#506784",
                          "minorgridcolor": "#506784",
                          "startlinecolor": "#A2B1C6"
                        },
                        "type": "carpet"
                      }
                    ],
                    "choropleth": [
                      {
                        "colorbar": {
                          "outlinewidth": 0,
                          "ticks": ""
                        },
                        "type": "choropleth"
                      }
                    ],
                    "contour": [
                      {
                        "colorbar": {
                          "outlinewidth": 0,
                          "ticks": ""
                        },
                        "colorscale": [
                          [
                            0,
                            "#0d0887"
                          ],
                          [
                            0.1111111111111111,
                            "#46039f"
                          ],
                          [
                            0.2222222222222222,
                            "#7201a8"
                          ],
                          [
                            0.3333333333333333,
                            "#9c179e"
                          ],
                          [
                            0.4444444444444444,
                            "#bd3786"
                          ],
                          [
                            0.5555555555555556,
                            "#d8576b"
                          ],
                          [
                            0.6666666666666666,
                            "#ed7953"
                          ],
                          [
                            0.7777777777777778,
                            "#fb9f3a"
                          ],
                          [
                            0.8888888888888888,
                            "#fdca26"
                          ],
                          [
                            1,
                            "#f0f921"
                          ]
                        ],
                        "type": "contour"
                      }
                    ],
                    "contourcarpet": [
                      {
                        "colorbar": {
                          "outlinewidth": 0,
                          "ticks": ""
                        },
                        "type": "contourcarpet"
                      }
                    ],
                    "heatmap": [
                      {
                        "colorbar": {
                          "outlinewidth": 0,
                          "ticks": ""
                        },
                        "colorscale": [
                          [
                            0,
                            "#0d0887"
                          ],
                          [
                            0.1111111111111111,
                            "#46039f"
                          ],
                          [
                            0.2222222222222222,
                            "#7201a8"
                          ],
                          [
                            0.3333333333333333,
                            "#9c179e"
                          ],
                          [
                            0.4444444444444444,
                            "#bd3786"
                          ],
                          [
                            0.5555555555555556,
                            "#d8576b"
                          ],
                          [
                            0.6666666666666666,
                            "#ed7953"
                          ],
                          [
                            0.7777777777777778,
                            "#fb9f3a"
                          ],
                          [
                            0.8888888888888888,
                            "#fdca26"
                          ],
                          [
                            1,
                            "#f0f921"
                          ]
                        ],
                        "type": "heatmap"
                      }
                    ],
                    "histogram": [
                      {
                        "marker": {
                          "pattern": {
                            "fillmode": "overlay",
                            "size": 10,
                            "solidity": 0.2
                          }
                        },
                        "type": "histogram"
                      }
                    ],
                    "histogram2d": [
                      {
                        "colorbar": {
                          "outlinewidth": 0,
                          "ticks": ""
                        },
                        "colorscale": [
                          [
                            0,
                            "#0d0887"
                          ],
                          [
                            0.1111111111111111,
                            "#46039f"
                          ],
                          [
                            0.2222222222222222,
                            "#7201a8"
                          ],
                          [
                            0.3333333333333333,
                            "#9c179e"
                          ],
                          [
                            0.4444444444444444,
                            "#bd3786"
                          ],
                          [
                            0.5555555555555556,
                            "#d8576b"
                          ],
                          [
                            0.6666666666666666,
                            "#ed7953"
                          ],
                          [
                            0.7777777777777778,
                            "#fb9f3a"
                          ],
                          [
                            0.8888888888888888,
                            "#fdca26"
                          ],
                          [
                            1,
                            "#f0f921"
                          ]
                        ],
                        "type": "histogram2d"
                      }
                    ],
                    "histogram2dcontour": [
                      {
                        "colorbar": {
                          "outlinewidth": 0,
                          "ticks": ""
                        },
                        "colorscale": [
                          [
                            0,
                            "#0d0887"
                          ],
                          [
                            0.1111111111111111,
                            "#46039f"
                          ],
                          [
                            0.2222222222222222,
                            "#7201a8"
                          ],
                          [
                            0.3333333333333333,
                            "#9c179e"
                          ],
                          [
                            0.4444444444444444,
                            "#bd3786"
                          ],
                          [
                            0.5555555555555556,
                            "#d8576b"
                          ],
                          [
                            0.6666666666666666,
                            "#ed7953"
                          ],
                          [
                            0.7777777777777778,
                            "#fb9f3a"
                          ],
                          [
                            0.8888888888888888,
                            "#fdca26"
                          ],
                          [
                            1,
                            "#f0f921"
                          ]
                        ],
                        "type": "histogram2dcontour"
                      }
                    ],
                    "mesh3d": [
                      {
                        "colorbar": {
                          "outlinewidth": 0,
                          "ticks": ""
                        },
                        "type": "mesh3d"
                      }
                    ],
                    "parcoords": [
                      {
                        "line": {
                          "colorbar": {
                            "outlinewidth": 0,
                            "ticks": ""
                          }
                        },
                        "type": "parcoords"
                      }
                    ],
                    "pie": [
                      {
                        "automargin": true,
                        "type": "pie"
                      }
                    ],
                    "scatter": [
                      {
                        "marker": {
                          "line": {
                            "color": "#283442"
                          }
                        },
                        "type": "scatter"
                      }
                    ],
                    "scatter3d": [
                      {
                        "line": {
                          "colorbar": {
                            "outlinewidth": 0,
                            "ticks": ""
                          }
                        },
                        "marker": {
                          "colorbar": {
                            "outlinewidth": 0,
                            "ticks": ""
                          }
                        },
                        "type": "scatter3d"
                      }
                    ],
                    "scattercarpet": [
                      {
                        "marker": {
                          "colorbar": {
                            "outlinewidth": 0,
                            "ticks": ""
                          }
                        },
                        "type": "scattercarpet"
                      }
                    ],
                    "scattergeo": [
                      {
                        "marker": {
                          "colorbar": {
                            "outlinewidth": 0,
                            "ticks": ""
                          }
                        },
                        "type": "scattergeo"
                      }
                    ],
                    "scattergl": [
                      {
                        "marker": {
                          "line": {
                            "color": "#283442"
                          }
                        },
                        "type": "scattergl"
                      }
                    ],
                    "scattermap": [
                      {
                        "marker": {
                          "colorbar": {
                            "outlinewidth": 0,
                            "ticks": ""
                          }
                        },
                        "type": "scattermap"
                      }
                    ],
                    "scattermapbox": [
                      {
                        "marker": {
                          "colorbar": {
                            "outlinewidth": 0,
                            "ticks": ""
                          }
                        },
                        "type": "scattermapbox"
                      }
                    ],
                    "scatterpolar": [
                      {
                        "marker": {
                          "colorbar": {
                            "outlinewidth": 0,
                            "ticks": ""
                          }
                        },
                        "type": "scatterpolar"
                      }
                    ],
                    "scatterpolargl": [
                      {
                        "marker": {
                          "colorbar": {
                            "outlinewidth": 0,
                            "ticks": ""
                          }
                        },
                        "type": "scatterpolargl"
                      }
                    ],
                    "scatterternary": [
                      {
                        "marker": {
                          "colorbar": {
                            "outlinewidth": 0,
                            "ticks": ""
                          }
                        },
                        "type": "scatterternary"
                      }
                    ],
                    "surface": [
                      {
                        "colorbar": {
                          "outlinewidth": 0,
                          "ticks": ""
                        },
                        "colorscale": [
                          [
                            0,
                            "#0d0887"
                          ],
                          [
                            0.1111111111111111,
                            "#46039f"
                          ],
                          [
                            0.2222222222222222,
                            "#7201a8"
                          ],
                          [
                            0.3333333333333333,
                            "#9c179e"
                          ],
                          [
                            0.4444444444444444,
                            "#bd3786"
                          ],
                          [
                            0.5555555555555556,
                            "#d8576b"
                          ],
                          [
                            0.6666666666666666,
                            "#ed7953"
                          ],
                          [
                            0.7777777777777778,
                            "#fb9f3a"
                          ],
                          [
                            0.8888888888888888,
                            "#fdca26"
                          ],
                          [
                            1,
                            "#f0f921"
                          ]
                        ],
                        "type": "surface"
                      }
                    ],
                    "table": [
                      {
                        "cells": {
                          "fill": {
                            "color": "#506784"
                          },
                          "line": {
                            "color": "rgb(17,17,17)"
                          }
                        },
                        "header": {
                          "fill": {
                            "color": "#2a3f5f"
                          },
                          "line": {
                            "color": "rgb(17,17,17)"
                          }
                        },
                        "type": "table"
                      }
                    ]
                  },
                  "layout": {
                    "annotationdefaults": {
                      "arrowcolor": "#f2f5fa",
                      "arrowhead": 0,
                      "arrowwidth": 1
                    },
                    "autotypenumbers": "strict",
                    "coloraxis": {
                      "colorbar": {
                        "outlinewidth": 0,
                        "ticks": ""
                      }
                    },
                    "colorscale": {
                      "diverging": [
                        [
                          0,
                          "#8e0152"
                        ],
                        [
                          0.1,
                          "#c51b7d"
                        ],
                        [
                          0.2,
                          "#de77ae"
                        ],
                        [
                          0.3,
                          "#f1b6da"
                        ],
                        [
                          0.4,
                          "#fde0ef"
                        ],
                        [
                          0.5,
                          "#f7f7f7"
                        ],
                        [
                          0.6,
                          "#e6f5d0"
                        ],
                        [
                          0.7,
                          "#b8e186"
                        ],
                        [
                          0.8,
                          "#7fbc41"
                        ],
                        [
                          0.9,
                          "#4d9221"
                        ],
                        [
                          1,
                          "#276419"
                        ]
                      ],
                      "sequential": [
                        [
                          0,
                          "#0d0887"
                        ],
                        [
                          0.1111111111111111,
                          "#46039f"
                        ],
                        [
                          0.2222222222222222,
                          "#7201a8"
                        ],
                        [
                          0.3333333333333333,
                          "#9c179e"
                        ],
                        [
                          0.4444444444444444,
                          "#bd3786"
                        ],
                        [
                          0.5555555555555556,
                          "#d8576b"
                        ],
                        [
                          0.6666666666666666,
                          "#ed7953"
                        ],
                        [
                          0.7777777777777778,
                          "#fb9f3a"
                        ],
                        [
                          0.8888888888888888,
                          "#fdca26"
                        ],
                        [
                          1,
                          "#f0f921"
                        ]
                      ],
                      "sequentialminus": [
                        [
                          0,
                          "#0d0887"
                        ],
                        [
                          0.1111111111111111,
                          "#46039f"
                        ],
                        [
                          0.2222222222222222,
                          "#7201a8"
                        ],
                        [
                          0.3333333333333333,
                          "#9c179e"
                        ],
                        [
                          0.4444444444444444,
                          "#bd3786"
                        ],
                        [
                          0.5555555555555556,
                          "#d8576b"
                        ],
                        [
                          0.6666666666666666,
                          "#ed7953"
                        ],
                        [
                          0.7777777777777778,
                          "#fb9f3a"
                        ],
                        [
                          0.8888888888888888,
                          "#fdca26"
                        ],
                        [
                          1,
                          "#f0f921"
                        ]
                      ]
                    },
                    "colorway": [
                      "#636efa",
                      "#EF553B",
                      "#00cc96",
                      "#ab63fa",
                      "#FFA15A",
                      "#19d3f3",
                      "#FF6692",
                      "#B6E880",
                      "#FF97FF",
                      "#FECB52"
                    ],
                    "font": {
                      "color": "#f2f5fa"
                    },
                    "geo": {
                      "bgcolor": "rgb(17,17,17)",
                      "lakecolor": "rgb(17,17,17)",
                      "landcolor": "rgb(17,17,17)",
                      "showlakes": true,
                      "showland": true,
                      "subunitcolor": "#506784"
                    },
                    "hoverlabel": {
                      "align": "left"
                    },
                    "hovermode": "closest",
                    "mapbox": {
                      "style": "dark"
                    },
                    "paper_bgcolor": "rgb(17,17,17)",
                    "plot_bgcolor": "rgb(17,17,17)",
                    "polar": {
                      "angularaxis": {
                        "gridcolor": "#506784",
                        "linecolor": "#506784",
                        "ticks": ""
                      },
                      "bgcolor": "rgb(17,17,17)",
                      "radialaxis": {
                        "gridcolor": "#506784",
                        "linecolor": "#506784",
                        "ticks": ""
                      }
                    },
                    "scene": {
                      "xaxis": {
                        "backgroundcolor": "rgb(17,17,17)",
                        "gridcolor": "#506784",
                        "gridwidth": 2,
                        "linecolor": "#506784",
                        "showbackground": true,
                        "ticks": "",
                        "zerolinecolor": "#C8D4E3"
                      },
                      "yaxis": {
                        "backgroundcolor": "rgb(17,17,17)",
                        "gridcolor": "#506784",
                        "gridwidth": 2,
                        "linecolor": "#506784",
                        "showbackground": true,
                        "ticks": "",
                        "zerolinecolor": "#C8D4E3"
                      },
                      "zaxis": {
                        "backgroundcolor": "rgb(17,17,17)",
                        "gridcolor": "#506784",
                        "gridwidth": 2,
                        "linecolor": "#506784",
                        "showbackground": true,
                        "ticks": "",
                        "zerolinecolor": "#C8D4E3"
                      }
                    },
                    "shapedefaults": {
                      "line": {
                        "color": "#f2f5fa"
                      }
                    },
                    "sliderdefaults": {
                      "bgcolor": "#C8D4E3",
                      "bordercolor": "rgb(17,17,17)",
                      "borderwidth": 1,
                      "tickwidth": 0
                    },
                    "ternary": {
                      "aaxis": {
                        "gridcolor": "#506784",
                        "linecolor": "#506784",
                        "ticks": ""
                      },
                      "baxis": {
                        "gridcolor": "#506784",
                        "linecolor": "#506784",
                        "ticks": ""
                      },
                      "bgcolor": "rgb(17,17,17)",
                      "caxis": {
                        "gridcolor": "#506784",
                        "linecolor": "#506784",
                        "ticks": ""
                      }
                    },
                    "title": {
                      "x": 0.05
                    },
                    "updatemenudefaults": {
                      "bgcolor": "#506784",
                      "borderwidth": 0
                    },
                    "xaxis": {
                      "automargin": true,
                      "gridcolor": "#283442",
                      "linecolor": "#506784",
                      "ticks": "",
                      "title": {
                        "standoff": 15
                      },
                      "zerolinecolor": "#283442",
                      "zerolinewidth": 2
                    },
                    "yaxis": {
                      "automargin": true,
                      "gridcolor": "#283442",
                      "linecolor": "#506784",
                      "ticks": "",
                      "title": {
                        "standoff": 15
                      },
                      "zerolinecolor": "#283442",
                      "zerolinewidth": 2
                    }
                  }
                },
                "title": {
                  "text": "Top 10 Negative Key Phrases in Connecticut"
                },
                "xaxis": {
                  "anchor": "y",
                  "domain": [
                    0,
                    1
                  ],
                  "title": {
                    "text": "Phrase"
                  }
                },
                "yaxis": {
                  "anchor": "x",
                  "domain": [
                    0,
                    1
                  ],
                  "title": {
                    "text": "Frequency"
                  }
                }
              }
            }
          },
          "metadata": {},
          "output_type": "display_data"
        }
      ],
      "source": [
        "import pandas as pd\n",
        "from sklearn.feature_extraction.text import TfidfVectorizer\n",
        "from collections import Counter\n",
        "import nltk\n",
        "from nltk.util import ngrams\n",
        "\n",
        "# Assuming you already have a DataFrame with the necessary sentiment labels\n",
        "# Sample DataFrame: social_media_real_estate (content_sentiment and comment_sentiment)\n",
        "df = social_media_real_estate\n",
        "df = social_media_real_estate[social_media_real_estate['state'] == \"Connecticut\"].copy()\n",
        "\n",
        "# Combine content and comment sentiment to create the final sentiment\n",
        "df['final_sentiment'] = df.apply(lambda row: 'Positive' if row['content_sentiment_label'] == 'Positive' or row['comments_sentiment_label'] == 'Positive' else 'Negative', axis=1)\n",
        "\n",
        "# Function to extract n-grams\n",
        "def extract_ngrams(text, n=2):\n",
        "    # Tokenize the text and extract n-grams\n",
        "    tokens = nltk.word_tokenize(text)\n",
        "    n_grams = ngrams(tokens, n)\n",
        "    return [' '.join(gram) for gram in n_grams]\n",
        "\n",
        "# Extract key phrases (bigrams or trigrams) from content and comments\n",
        "df['content_ngrams'] = df['content'].apply(lambda x: extract_ngrams(x, n=2))  # Extract bigrams\n",
        "df['comment_ngrams'] = df['comments'].apply(lambda x: extract_ngrams(x, n=2))  # Extract bigrams\n",
        "\n",
        "# Filter key phrases by sentiment\n",
        "positive_phrases = pd.concat([\n",
        "    df[df['final_sentiment'] == 'Positive']['content_ngrams'].explode(),\n",
        "    df[df['final_sentiment'] == 'Positive']['comment_ngrams'].explode()\n",
        "])\n",
        "negative_phrases = pd.concat([\n",
        "    df[df['final_sentiment'] == 'Negative']['content_ngrams'].explode(),\n",
        "    df[df['final_sentiment'] == 'Negative']['comment_ngrams'].explode()\n",
        "])\n",
        "#negative_phrases = df[df['final_sentiment'] == 'Negative']['content_ngrams'].explode().append(df[df['final_sentiment'] == 'Negative']['comment_ngrams'].explode())\n",
        "\n",
        "# Get the top 20 most frequent phrases for positive and negative sentiments\n",
        "positive_top_phrases = Counter(positive_phrases).most_common(20)\n",
        "negative_top_phrases = Counter(negative_phrases).most_common(20)\n",
        "\n",
        "print(\"Top 20 Positive Phrases:\")\n",
        "print(positive_top_phrases)\n",
        "\n",
        "print(\"\\nTop 20 Negative Phrases:\")\n",
        "print(negative_top_phrases)\n",
        "\n",
        "# Prepare data for Plotly\n",
        "pos_df = pd.DataFrame(positive_top_phrases, columns=['Phrase', 'Count'])\n",
        "neg_df = pd.DataFrame(negative_top_phrases, columns=['Phrase', 'Count'])\n",
        "fig_pos = px.bar(\n",
        "    pos_df,\n",
        "    x='Phrase',\n",
        "    y='Count',\n",
        "    title=f'Top 10 Positive Key Phrases in Conecticut',\n",
        "    labels={'Count': 'Frequency'},\n",
        "    color='Count',\n",
        "    color_continuous_scale='Blues',\n",
        "    template='plotly_dark'\n",
        ")\n",
        "fig_pos.show()\n",
        "\n",
        "\n",
        "# Plot Top Negative Phrases with Plotly\n",
        "fig_neg = px.bar(\n",
        "    neg_df,\n",
        "    x='Phrase',\n",
        "    y='Count',\n",
        "    title=f'Top 10 Negative Key Phrases in Connecticut',\n",
        "    labels={'Count': 'Frequency'},\n",
        "    color='Count',\n",
        "    color_continuous_scale='Reds',\n",
        "    template='plotly_dark'\n",
        ")\n",
        "fig_neg.show()"
      ]
    },
    {
      "cell_type": "code",
      "execution_count": 15,
      "metadata": {
        "colab": {
          "background_save": true
        },
        "id": "lfvImeSRKbUh",
        "outputId": "cfa3e544-0ac4-4463-821f-53818a472684"
      },
      "outputs": [
        {
          "name": "stdout",
          "output_type": "stream",
          "text": [
            "Top 20 Positive Phrases:\n",
            "[('list agent', 1641), ('make offer', 1641), (', real', 1094), ('real estate', 1094), ('estate agent', 1094), ('reach list', 1094), ('offer stand', 1094), ('agent reach', 1094), ('full market', 1094), ('market .', 1094), ('. maybe', 1094), ('id consider', 1094), ('fair offer', 1094), ('. dont', 1094), ('offer .', 1094), (\"'re interest\", 547), ('interest buy', 547), ('buy neighbor', 547), (\"neighbor 's\", 547), (\"'s house\", 547)]\n",
            "\n",
            "Top 20 Negative Phrases:\n",
            "[('neighborhood .', 1088), ('lot work', 1088), ('work (', 1088), ('price .', 1088), ('? isnt', 1088), ('isnt go', 1088), ('go qualify', 1088), ('qualify traditional', 1088), ('traditional finance', 1088), ('finance .', 1088), ('investor go', 1088), ('bank .', 1088), ('phone number', 1084), ('investment company', 1084), ('property .', 1084), ('william erickson', 1084), ('erickson ,', 1084), ('. call', 1084), ('find foreclosure', 544), ('foreclosure house', 544)]\n"
          ]
        },
        {
          "data": {
            "application/vnd.plotly.v1+json": {
              "config": {
                "plotlyServerURL": "https://plot.ly"
              },
              "data": [
                {
                  "hovertemplate": "Phrase=%{x}<br>Frequency=%{marker.color}<extra></extra>",
                  "legendgroup": "",
                  "marker": {
                    "color": {
                      "bdata": "aQZpBkYERgRGBEYERgRGBEYERgRGBEYERgRGBEYEIwIjAiMCIwIjAg==",
                      "dtype": "i2"
                    },
                    "coloraxis": "coloraxis",
                    "pattern": {
                      "shape": ""
                    }
                  },
                  "name": "",
                  "orientation": "v",
                  "showlegend": false,
                  "textposition": "auto",
                  "type": "bar",
                  "x": [
                    "list agent",
                    "make offer",
                    ", real",
                    "real estate",
                    "estate agent",
                    "reach list",
                    "offer stand",
                    "agent reach",
                    "full market",
                    "market .",
                    ". maybe",
                    "id consider",
                    "fair offer",
                    ". dont",
                    "offer .",
                    "'re interest",
                    "interest buy",
                    "buy neighbor",
                    "neighbor 's",
                    "'s house"
                  ],
                  "xaxis": "x",
                  "y": {
                    "bdata": "aQZpBkYERgRGBEYERgRGBEYERgRGBEYERgRGBEYEIwIjAiMCIwIjAg==",
                    "dtype": "i2"
                  },
                  "yaxis": "y"
                }
              ],
              "layout": {
                "barmode": "relative",
                "coloraxis": {
                  "colorbar": {
                    "title": {
                      "text": "Frequency"
                    }
                  },
                  "colorscale": [
                    [
                      0,
                      "rgb(247,251,255)"
                    ],
                    [
                      0.125,
                      "rgb(222,235,247)"
                    ],
                    [
                      0.25,
                      "rgb(198,219,239)"
                    ],
                    [
                      0.375,
                      "rgb(158,202,225)"
                    ],
                    [
                      0.5,
                      "rgb(107,174,214)"
                    ],
                    [
                      0.625,
                      "rgb(66,146,198)"
                    ],
                    [
                      0.75,
                      "rgb(33,113,181)"
                    ],
                    [
                      0.875,
                      "rgb(8,81,156)"
                    ],
                    [
                      1,
                      "rgb(8,48,107)"
                    ]
                  ]
                },
                "legend": {
                  "tracegroupgap": 0
                },
                "template": {
                  "data": {
                    "bar": [
                      {
                        "error_x": {
                          "color": "#f2f5fa"
                        },
                        "error_y": {
                          "color": "#f2f5fa"
                        },
                        "marker": {
                          "line": {
                            "color": "rgb(17,17,17)",
                            "width": 0.5
                          },
                          "pattern": {
                            "fillmode": "overlay",
                            "size": 10,
                            "solidity": 0.2
                          }
                        },
                        "type": "bar"
                      }
                    ],
                    "barpolar": [
                      {
                        "marker": {
                          "line": {
                            "color": "rgb(17,17,17)",
                            "width": 0.5
                          },
                          "pattern": {
                            "fillmode": "overlay",
                            "size": 10,
                            "solidity": 0.2
                          }
                        },
                        "type": "barpolar"
                      }
                    ],
                    "carpet": [
                      {
                        "aaxis": {
                          "endlinecolor": "#A2B1C6",
                          "gridcolor": "#506784",
                          "linecolor": "#506784",
                          "minorgridcolor": "#506784",
                          "startlinecolor": "#A2B1C6"
                        },
                        "baxis": {
                          "endlinecolor": "#A2B1C6",
                          "gridcolor": "#506784",
                          "linecolor": "#506784",
                          "minorgridcolor": "#506784",
                          "startlinecolor": "#A2B1C6"
                        },
                        "type": "carpet"
                      }
                    ],
                    "choropleth": [
                      {
                        "colorbar": {
                          "outlinewidth": 0,
                          "ticks": ""
                        },
                        "type": "choropleth"
                      }
                    ],
                    "contour": [
                      {
                        "colorbar": {
                          "outlinewidth": 0,
                          "ticks": ""
                        },
                        "colorscale": [
                          [
                            0,
                            "#0d0887"
                          ],
                          [
                            0.1111111111111111,
                            "#46039f"
                          ],
                          [
                            0.2222222222222222,
                            "#7201a8"
                          ],
                          [
                            0.3333333333333333,
                            "#9c179e"
                          ],
                          [
                            0.4444444444444444,
                            "#bd3786"
                          ],
                          [
                            0.5555555555555556,
                            "#d8576b"
                          ],
                          [
                            0.6666666666666666,
                            "#ed7953"
                          ],
                          [
                            0.7777777777777778,
                            "#fb9f3a"
                          ],
                          [
                            0.8888888888888888,
                            "#fdca26"
                          ],
                          [
                            1,
                            "#f0f921"
                          ]
                        ],
                        "type": "contour"
                      }
                    ],
                    "contourcarpet": [
                      {
                        "colorbar": {
                          "outlinewidth": 0,
                          "ticks": ""
                        },
                        "type": "contourcarpet"
                      }
                    ],
                    "heatmap": [
                      {
                        "colorbar": {
                          "outlinewidth": 0,
                          "ticks": ""
                        },
                        "colorscale": [
                          [
                            0,
                            "#0d0887"
                          ],
                          [
                            0.1111111111111111,
                            "#46039f"
                          ],
                          [
                            0.2222222222222222,
                            "#7201a8"
                          ],
                          [
                            0.3333333333333333,
                            "#9c179e"
                          ],
                          [
                            0.4444444444444444,
                            "#bd3786"
                          ],
                          [
                            0.5555555555555556,
                            "#d8576b"
                          ],
                          [
                            0.6666666666666666,
                            "#ed7953"
                          ],
                          [
                            0.7777777777777778,
                            "#fb9f3a"
                          ],
                          [
                            0.8888888888888888,
                            "#fdca26"
                          ],
                          [
                            1,
                            "#f0f921"
                          ]
                        ],
                        "type": "heatmap"
                      }
                    ],
                    "histogram": [
                      {
                        "marker": {
                          "pattern": {
                            "fillmode": "overlay",
                            "size": 10,
                            "solidity": 0.2
                          }
                        },
                        "type": "histogram"
                      }
                    ],
                    "histogram2d": [
                      {
                        "colorbar": {
                          "outlinewidth": 0,
                          "ticks": ""
                        },
                        "colorscale": [
                          [
                            0,
                            "#0d0887"
                          ],
                          [
                            0.1111111111111111,
                            "#46039f"
                          ],
                          [
                            0.2222222222222222,
                            "#7201a8"
                          ],
                          [
                            0.3333333333333333,
                            "#9c179e"
                          ],
                          [
                            0.4444444444444444,
                            "#bd3786"
                          ],
                          [
                            0.5555555555555556,
                            "#d8576b"
                          ],
                          [
                            0.6666666666666666,
                            "#ed7953"
                          ],
                          [
                            0.7777777777777778,
                            "#fb9f3a"
                          ],
                          [
                            0.8888888888888888,
                            "#fdca26"
                          ],
                          [
                            1,
                            "#f0f921"
                          ]
                        ],
                        "type": "histogram2d"
                      }
                    ],
                    "histogram2dcontour": [
                      {
                        "colorbar": {
                          "outlinewidth": 0,
                          "ticks": ""
                        },
                        "colorscale": [
                          [
                            0,
                            "#0d0887"
                          ],
                          [
                            0.1111111111111111,
                            "#46039f"
                          ],
                          [
                            0.2222222222222222,
                            "#7201a8"
                          ],
                          [
                            0.3333333333333333,
                            "#9c179e"
                          ],
                          [
                            0.4444444444444444,
                            "#bd3786"
                          ],
                          [
                            0.5555555555555556,
                            "#d8576b"
                          ],
                          [
                            0.6666666666666666,
                            "#ed7953"
                          ],
                          [
                            0.7777777777777778,
                            "#fb9f3a"
                          ],
                          [
                            0.8888888888888888,
                            "#fdca26"
                          ],
                          [
                            1,
                            "#f0f921"
                          ]
                        ],
                        "type": "histogram2dcontour"
                      }
                    ],
                    "mesh3d": [
                      {
                        "colorbar": {
                          "outlinewidth": 0,
                          "ticks": ""
                        },
                        "type": "mesh3d"
                      }
                    ],
                    "parcoords": [
                      {
                        "line": {
                          "colorbar": {
                            "outlinewidth": 0,
                            "ticks": ""
                          }
                        },
                        "type": "parcoords"
                      }
                    ],
                    "pie": [
                      {
                        "automargin": true,
                        "type": "pie"
                      }
                    ],
                    "scatter": [
                      {
                        "marker": {
                          "line": {
                            "color": "#283442"
                          }
                        },
                        "type": "scatter"
                      }
                    ],
                    "scatter3d": [
                      {
                        "line": {
                          "colorbar": {
                            "outlinewidth": 0,
                            "ticks": ""
                          }
                        },
                        "marker": {
                          "colorbar": {
                            "outlinewidth": 0,
                            "ticks": ""
                          }
                        },
                        "type": "scatter3d"
                      }
                    ],
                    "scattercarpet": [
                      {
                        "marker": {
                          "colorbar": {
                            "outlinewidth": 0,
                            "ticks": ""
                          }
                        },
                        "type": "scattercarpet"
                      }
                    ],
                    "scattergeo": [
                      {
                        "marker": {
                          "colorbar": {
                            "outlinewidth": 0,
                            "ticks": ""
                          }
                        },
                        "type": "scattergeo"
                      }
                    ],
                    "scattergl": [
                      {
                        "marker": {
                          "line": {
                            "color": "#283442"
                          }
                        },
                        "type": "scattergl"
                      }
                    ],
                    "scattermap": [
                      {
                        "marker": {
                          "colorbar": {
                            "outlinewidth": 0,
                            "ticks": ""
                          }
                        },
                        "type": "scattermap"
                      }
                    ],
                    "scattermapbox": [
                      {
                        "marker": {
                          "colorbar": {
                            "outlinewidth": 0,
                            "ticks": ""
                          }
                        },
                        "type": "scattermapbox"
                      }
                    ],
                    "scatterpolar": [
                      {
                        "marker": {
                          "colorbar": {
                            "outlinewidth": 0,
                            "ticks": ""
                          }
                        },
                        "type": "scatterpolar"
                      }
                    ],
                    "scatterpolargl": [
                      {
                        "marker": {
                          "colorbar": {
                            "outlinewidth": 0,
                            "ticks": ""
                          }
                        },
                        "type": "scatterpolargl"
                      }
                    ],
                    "scatterternary": [
                      {
                        "marker": {
                          "colorbar": {
                            "outlinewidth": 0,
                            "ticks": ""
                          }
                        },
                        "type": "scatterternary"
                      }
                    ],
                    "surface": [
                      {
                        "colorbar": {
                          "outlinewidth": 0,
                          "ticks": ""
                        },
                        "colorscale": [
                          [
                            0,
                            "#0d0887"
                          ],
                          [
                            0.1111111111111111,
                            "#46039f"
                          ],
                          [
                            0.2222222222222222,
                            "#7201a8"
                          ],
                          [
                            0.3333333333333333,
                            "#9c179e"
                          ],
                          [
                            0.4444444444444444,
                            "#bd3786"
                          ],
                          [
                            0.5555555555555556,
                            "#d8576b"
                          ],
                          [
                            0.6666666666666666,
                            "#ed7953"
                          ],
                          [
                            0.7777777777777778,
                            "#fb9f3a"
                          ],
                          [
                            0.8888888888888888,
                            "#fdca26"
                          ],
                          [
                            1,
                            "#f0f921"
                          ]
                        ],
                        "type": "surface"
                      }
                    ],
                    "table": [
                      {
                        "cells": {
                          "fill": {
                            "color": "#506784"
                          },
                          "line": {
                            "color": "rgb(17,17,17)"
                          }
                        },
                        "header": {
                          "fill": {
                            "color": "#2a3f5f"
                          },
                          "line": {
                            "color": "rgb(17,17,17)"
                          }
                        },
                        "type": "table"
                      }
                    ]
                  },
                  "layout": {
                    "annotationdefaults": {
                      "arrowcolor": "#f2f5fa",
                      "arrowhead": 0,
                      "arrowwidth": 1
                    },
                    "autotypenumbers": "strict",
                    "coloraxis": {
                      "colorbar": {
                        "outlinewidth": 0,
                        "ticks": ""
                      }
                    },
                    "colorscale": {
                      "diverging": [
                        [
                          0,
                          "#8e0152"
                        ],
                        [
                          0.1,
                          "#c51b7d"
                        ],
                        [
                          0.2,
                          "#de77ae"
                        ],
                        [
                          0.3,
                          "#f1b6da"
                        ],
                        [
                          0.4,
                          "#fde0ef"
                        ],
                        [
                          0.5,
                          "#f7f7f7"
                        ],
                        [
                          0.6,
                          "#e6f5d0"
                        ],
                        [
                          0.7,
                          "#b8e186"
                        ],
                        [
                          0.8,
                          "#7fbc41"
                        ],
                        [
                          0.9,
                          "#4d9221"
                        ],
                        [
                          1,
                          "#276419"
                        ]
                      ],
                      "sequential": [
                        [
                          0,
                          "#0d0887"
                        ],
                        [
                          0.1111111111111111,
                          "#46039f"
                        ],
                        [
                          0.2222222222222222,
                          "#7201a8"
                        ],
                        [
                          0.3333333333333333,
                          "#9c179e"
                        ],
                        [
                          0.4444444444444444,
                          "#bd3786"
                        ],
                        [
                          0.5555555555555556,
                          "#d8576b"
                        ],
                        [
                          0.6666666666666666,
                          "#ed7953"
                        ],
                        [
                          0.7777777777777778,
                          "#fb9f3a"
                        ],
                        [
                          0.8888888888888888,
                          "#fdca26"
                        ],
                        [
                          1,
                          "#f0f921"
                        ]
                      ],
                      "sequentialminus": [
                        [
                          0,
                          "#0d0887"
                        ],
                        [
                          0.1111111111111111,
                          "#46039f"
                        ],
                        [
                          0.2222222222222222,
                          "#7201a8"
                        ],
                        [
                          0.3333333333333333,
                          "#9c179e"
                        ],
                        [
                          0.4444444444444444,
                          "#bd3786"
                        ],
                        [
                          0.5555555555555556,
                          "#d8576b"
                        ],
                        [
                          0.6666666666666666,
                          "#ed7953"
                        ],
                        [
                          0.7777777777777778,
                          "#fb9f3a"
                        ],
                        [
                          0.8888888888888888,
                          "#fdca26"
                        ],
                        [
                          1,
                          "#f0f921"
                        ]
                      ]
                    },
                    "colorway": [
                      "#636efa",
                      "#EF553B",
                      "#00cc96",
                      "#ab63fa",
                      "#FFA15A",
                      "#19d3f3",
                      "#FF6692",
                      "#B6E880",
                      "#FF97FF",
                      "#FECB52"
                    ],
                    "font": {
                      "color": "#f2f5fa"
                    },
                    "geo": {
                      "bgcolor": "rgb(17,17,17)",
                      "lakecolor": "rgb(17,17,17)",
                      "landcolor": "rgb(17,17,17)",
                      "showlakes": true,
                      "showland": true,
                      "subunitcolor": "#506784"
                    },
                    "hoverlabel": {
                      "align": "left"
                    },
                    "hovermode": "closest",
                    "mapbox": {
                      "style": "dark"
                    },
                    "paper_bgcolor": "rgb(17,17,17)",
                    "plot_bgcolor": "rgb(17,17,17)",
                    "polar": {
                      "angularaxis": {
                        "gridcolor": "#506784",
                        "linecolor": "#506784",
                        "ticks": ""
                      },
                      "bgcolor": "rgb(17,17,17)",
                      "radialaxis": {
                        "gridcolor": "#506784",
                        "linecolor": "#506784",
                        "ticks": ""
                      }
                    },
                    "scene": {
                      "xaxis": {
                        "backgroundcolor": "rgb(17,17,17)",
                        "gridcolor": "#506784",
                        "gridwidth": 2,
                        "linecolor": "#506784",
                        "showbackground": true,
                        "ticks": "",
                        "zerolinecolor": "#C8D4E3"
                      },
                      "yaxis": {
                        "backgroundcolor": "rgb(17,17,17)",
                        "gridcolor": "#506784",
                        "gridwidth": 2,
                        "linecolor": "#506784",
                        "showbackground": true,
                        "ticks": "",
                        "zerolinecolor": "#C8D4E3"
                      },
                      "zaxis": {
                        "backgroundcolor": "rgb(17,17,17)",
                        "gridcolor": "#506784",
                        "gridwidth": 2,
                        "linecolor": "#506784",
                        "showbackground": true,
                        "ticks": "",
                        "zerolinecolor": "#C8D4E3"
                      }
                    },
                    "shapedefaults": {
                      "line": {
                        "color": "#f2f5fa"
                      }
                    },
                    "sliderdefaults": {
                      "bgcolor": "#C8D4E3",
                      "bordercolor": "rgb(17,17,17)",
                      "borderwidth": 1,
                      "tickwidth": 0
                    },
                    "ternary": {
                      "aaxis": {
                        "gridcolor": "#506784",
                        "linecolor": "#506784",
                        "ticks": ""
                      },
                      "baxis": {
                        "gridcolor": "#506784",
                        "linecolor": "#506784",
                        "ticks": ""
                      },
                      "bgcolor": "rgb(17,17,17)",
                      "caxis": {
                        "gridcolor": "#506784",
                        "linecolor": "#506784",
                        "ticks": ""
                      }
                    },
                    "title": {
                      "x": 0.05
                    },
                    "updatemenudefaults": {
                      "bgcolor": "#506784",
                      "borderwidth": 0
                    },
                    "xaxis": {
                      "automargin": true,
                      "gridcolor": "#283442",
                      "linecolor": "#506784",
                      "ticks": "",
                      "title": {
                        "standoff": 15
                      },
                      "zerolinecolor": "#283442",
                      "zerolinewidth": 2
                    },
                    "yaxis": {
                      "automargin": true,
                      "gridcolor": "#283442",
                      "linecolor": "#506784",
                      "ticks": "",
                      "title": {
                        "standoff": 15
                      },
                      "zerolinecolor": "#283442",
                      "zerolinewidth": 2
                    }
                  }
                },
                "title": {
                  "text": "Top 10 Positive Key Phrases in Louisiana"
                },
                "xaxis": {
                  "anchor": "y",
                  "domain": [
                    0,
                    1
                  ],
                  "title": {
                    "text": "Phrase"
                  }
                },
                "yaxis": {
                  "anchor": "x",
                  "domain": [
                    0,
                    1
                  ],
                  "title": {
                    "text": "Frequency"
                  }
                }
              }
            }
          },
          "metadata": {},
          "output_type": "display_data"
        },
        {
          "data": {
            "application/vnd.plotly.v1+json": {
              "config": {
                "plotlyServerURL": "https://plot.ly"
              },
              "data": [
                {
                  "hovertemplate": "Phrase=%{x}<br>Frequency=%{marker.color}<extra></extra>",
                  "legendgroup": "",
                  "marker": {
                    "color": {
                      "bdata": "QARABEAEQARABEAEQARABEAEQARABEAEPAQ8BDwEPAQ8BDwEIAIgAg==",
                      "dtype": "i2"
                    },
                    "coloraxis": "coloraxis",
                    "pattern": {
                      "shape": ""
                    }
                  },
                  "name": "",
                  "orientation": "v",
                  "showlegend": false,
                  "textposition": "auto",
                  "type": "bar",
                  "x": [
                    "neighborhood .",
                    "lot work",
                    "work (",
                    "price .",
                    "? isnt",
                    "isnt go",
                    "go qualify",
                    "qualify traditional",
                    "traditional finance",
                    "finance .",
                    "investor go",
                    "bank .",
                    "phone number",
                    "investment company",
                    "property .",
                    "william erickson",
                    "erickson ,",
                    ". call",
                    "find foreclosure",
                    "foreclosure house"
                  ],
                  "xaxis": "x",
                  "y": {
                    "bdata": "QARABEAEQARABEAEQARABEAEQARABEAEPAQ8BDwEPAQ8BDwEIAIgAg==",
                    "dtype": "i2"
                  },
                  "yaxis": "y"
                }
              ],
              "layout": {
                "barmode": "relative",
                "coloraxis": {
                  "colorbar": {
                    "title": {
                      "text": "Frequency"
                    }
                  },
                  "colorscale": [
                    [
                      0,
                      "rgb(255,245,240)"
                    ],
                    [
                      0.125,
                      "rgb(254,224,210)"
                    ],
                    [
                      0.25,
                      "rgb(252,187,161)"
                    ],
                    [
                      0.375,
                      "rgb(252,146,114)"
                    ],
                    [
                      0.5,
                      "rgb(251,106,74)"
                    ],
                    [
                      0.625,
                      "rgb(239,59,44)"
                    ],
                    [
                      0.75,
                      "rgb(203,24,29)"
                    ],
                    [
                      0.875,
                      "rgb(165,15,21)"
                    ],
                    [
                      1,
                      "rgb(103,0,13)"
                    ]
                  ]
                },
                "legend": {
                  "tracegroupgap": 0
                },
                "template": {
                  "data": {
                    "bar": [
                      {
                        "error_x": {
                          "color": "#f2f5fa"
                        },
                        "error_y": {
                          "color": "#f2f5fa"
                        },
                        "marker": {
                          "line": {
                            "color": "rgb(17,17,17)",
                            "width": 0.5
                          },
                          "pattern": {
                            "fillmode": "overlay",
                            "size": 10,
                            "solidity": 0.2
                          }
                        },
                        "type": "bar"
                      }
                    ],
                    "barpolar": [
                      {
                        "marker": {
                          "line": {
                            "color": "rgb(17,17,17)",
                            "width": 0.5
                          },
                          "pattern": {
                            "fillmode": "overlay",
                            "size": 10,
                            "solidity": 0.2
                          }
                        },
                        "type": "barpolar"
                      }
                    ],
                    "carpet": [
                      {
                        "aaxis": {
                          "endlinecolor": "#A2B1C6",
                          "gridcolor": "#506784",
                          "linecolor": "#506784",
                          "minorgridcolor": "#506784",
                          "startlinecolor": "#A2B1C6"
                        },
                        "baxis": {
                          "endlinecolor": "#A2B1C6",
                          "gridcolor": "#506784",
                          "linecolor": "#506784",
                          "minorgridcolor": "#506784",
                          "startlinecolor": "#A2B1C6"
                        },
                        "type": "carpet"
                      }
                    ],
                    "choropleth": [
                      {
                        "colorbar": {
                          "outlinewidth": 0,
                          "ticks": ""
                        },
                        "type": "choropleth"
                      }
                    ],
                    "contour": [
                      {
                        "colorbar": {
                          "outlinewidth": 0,
                          "ticks": ""
                        },
                        "colorscale": [
                          [
                            0,
                            "#0d0887"
                          ],
                          [
                            0.1111111111111111,
                            "#46039f"
                          ],
                          [
                            0.2222222222222222,
                            "#7201a8"
                          ],
                          [
                            0.3333333333333333,
                            "#9c179e"
                          ],
                          [
                            0.4444444444444444,
                            "#bd3786"
                          ],
                          [
                            0.5555555555555556,
                            "#d8576b"
                          ],
                          [
                            0.6666666666666666,
                            "#ed7953"
                          ],
                          [
                            0.7777777777777778,
                            "#fb9f3a"
                          ],
                          [
                            0.8888888888888888,
                            "#fdca26"
                          ],
                          [
                            1,
                            "#f0f921"
                          ]
                        ],
                        "type": "contour"
                      }
                    ],
                    "contourcarpet": [
                      {
                        "colorbar": {
                          "outlinewidth": 0,
                          "ticks": ""
                        },
                        "type": "contourcarpet"
                      }
                    ],
                    "heatmap": [
                      {
                        "colorbar": {
                          "outlinewidth": 0,
                          "ticks": ""
                        },
                        "colorscale": [
                          [
                            0,
                            "#0d0887"
                          ],
                          [
                            0.1111111111111111,
                            "#46039f"
                          ],
                          [
                            0.2222222222222222,
                            "#7201a8"
                          ],
                          [
                            0.3333333333333333,
                            "#9c179e"
                          ],
                          [
                            0.4444444444444444,
                            "#bd3786"
                          ],
                          [
                            0.5555555555555556,
                            "#d8576b"
                          ],
                          [
                            0.6666666666666666,
                            "#ed7953"
                          ],
                          [
                            0.7777777777777778,
                            "#fb9f3a"
                          ],
                          [
                            0.8888888888888888,
                            "#fdca26"
                          ],
                          [
                            1,
                            "#f0f921"
                          ]
                        ],
                        "type": "heatmap"
                      }
                    ],
                    "histogram": [
                      {
                        "marker": {
                          "pattern": {
                            "fillmode": "overlay",
                            "size": 10,
                            "solidity": 0.2
                          }
                        },
                        "type": "histogram"
                      }
                    ],
                    "histogram2d": [
                      {
                        "colorbar": {
                          "outlinewidth": 0,
                          "ticks": ""
                        },
                        "colorscale": [
                          [
                            0,
                            "#0d0887"
                          ],
                          [
                            0.1111111111111111,
                            "#46039f"
                          ],
                          [
                            0.2222222222222222,
                            "#7201a8"
                          ],
                          [
                            0.3333333333333333,
                            "#9c179e"
                          ],
                          [
                            0.4444444444444444,
                            "#bd3786"
                          ],
                          [
                            0.5555555555555556,
                            "#d8576b"
                          ],
                          [
                            0.6666666666666666,
                            "#ed7953"
                          ],
                          [
                            0.7777777777777778,
                            "#fb9f3a"
                          ],
                          [
                            0.8888888888888888,
                            "#fdca26"
                          ],
                          [
                            1,
                            "#f0f921"
                          ]
                        ],
                        "type": "histogram2d"
                      }
                    ],
                    "histogram2dcontour": [
                      {
                        "colorbar": {
                          "outlinewidth": 0,
                          "ticks": ""
                        },
                        "colorscale": [
                          [
                            0,
                            "#0d0887"
                          ],
                          [
                            0.1111111111111111,
                            "#46039f"
                          ],
                          [
                            0.2222222222222222,
                            "#7201a8"
                          ],
                          [
                            0.3333333333333333,
                            "#9c179e"
                          ],
                          [
                            0.4444444444444444,
                            "#bd3786"
                          ],
                          [
                            0.5555555555555556,
                            "#d8576b"
                          ],
                          [
                            0.6666666666666666,
                            "#ed7953"
                          ],
                          [
                            0.7777777777777778,
                            "#fb9f3a"
                          ],
                          [
                            0.8888888888888888,
                            "#fdca26"
                          ],
                          [
                            1,
                            "#f0f921"
                          ]
                        ],
                        "type": "histogram2dcontour"
                      }
                    ],
                    "mesh3d": [
                      {
                        "colorbar": {
                          "outlinewidth": 0,
                          "ticks": ""
                        },
                        "type": "mesh3d"
                      }
                    ],
                    "parcoords": [
                      {
                        "line": {
                          "colorbar": {
                            "outlinewidth": 0,
                            "ticks": ""
                          }
                        },
                        "type": "parcoords"
                      }
                    ],
                    "pie": [
                      {
                        "automargin": true,
                        "type": "pie"
                      }
                    ],
                    "scatter": [
                      {
                        "marker": {
                          "line": {
                            "color": "#283442"
                          }
                        },
                        "type": "scatter"
                      }
                    ],
                    "scatter3d": [
                      {
                        "line": {
                          "colorbar": {
                            "outlinewidth": 0,
                            "ticks": ""
                          }
                        },
                        "marker": {
                          "colorbar": {
                            "outlinewidth": 0,
                            "ticks": ""
                          }
                        },
                        "type": "scatter3d"
                      }
                    ],
                    "scattercarpet": [
                      {
                        "marker": {
                          "colorbar": {
                            "outlinewidth": 0,
                            "ticks": ""
                          }
                        },
                        "type": "scattercarpet"
                      }
                    ],
                    "scattergeo": [
                      {
                        "marker": {
                          "colorbar": {
                            "outlinewidth": 0,
                            "ticks": ""
                          }
                        },
                        "type": "scattergeo"
                      }
                    ],
                    "scattergl": [
                      {
                        "marker": {
                          "line": {
                            "color": "#283442"
                          }
                        },
                        "type": "scattergl"
                      }
                    ],
                    "scattermap": [
                      {
                        "marker": {
                          "colorbar": {
                            "outlinewidth": 0,
                            "ticks": ""
                          }
                        },
                        "type": "scattermap"
                      }
                    ],
                    "scattermapbox": [
                      {
                        "marker": {
                          "colorbar": {
                            "outlinewidth": 0,
                            "ticks": ""
                          }
                        },
                        "type": "scattermapbox"
                      }
                    ],
                    "scatterpolar": [
                      {
                        "marker": {
                          "colorbar": {
                            "outlinewidth": 0,
                            "ticks": ""
                          }
                        },
                        "type": "scatterpolar"
                      }
                    ],
                    "scatterpolargl": [
                      {
                        "marker": {
                          "colorbar": {
                            "outlinewidth": 0,
                            "ticks": ""
                          }
                        },
                        "type": "scatterpolargl"
                      }
                    ],
                    "scatterternary": [
                      {
                        "marker": {
                          "colorbar": {
                            "outlinewidth": 0,
                            "ticks": ""
                          }
                        },
                        "type": "scatterternary"
                      }
                    ],
                    "surface": [
                      {
                        "colorbar": {
                          "outlinewidth": 0,
                          "ticks": ""
                        },
                        "colorscale": [
                          [
                            0,
                            "#0d0887"
                          ],
                          [
                            0.1111111111111111,
                            "#46039f"
                          ],
                          [
                            0.2222222222222222,
                            "#7201a8"
                          ],
                          [
                            0.3333333333333333,
                            "#9c179e"
                          ],
                          [
                            0.4444444444444444,
                            "#bd3786"
                          ],
                          [
                            0.5555555555555556,
                            "#d8576b"
                          ],
                          [
                            0.6666666666666666,
                            "#ed7953"
                          ],
                          [
                            0.7777777777777778,
                            "#fb9f3a"
                          ],
                          [
                            0.8888888888888888,
                            "#fdca26"
                          ],
                          [
                            1,
                            "#f0f921"
                          ]
                        ],
                        "type": "surface"
                      }
                    ],
                    "table": [
                      {
                        "cells": {
                          "fill": {
                            "color": "#506784"
                          },
                          "line": {
                            "color": "rgb(17,17,17)"
                          }
                        },
                        "header": {
                          "fill": {
                            "color": "#2a3f5f"
                          },
                          "line": {
                            "color": "rgb(17,17,17)"
                          }
                        },
                        "type": "table"
                      }
                    ]
                  },
                  "layout": {
                    "annotationdefaults": {
                      "arrowcolor": "#f2f5fa",
                      "arrowhead": 0,
                      "arrowwidth": 1
                    },
                    "autotypenumbers": "strict",
                    "coloraxis": {
                      "colorbar": {
                        "outlinewidth": 0,
                        "ticks": ""
                      }
                    },
                    "colorscale": {
                      "diverging": [
                        [
                          0,
                          "#8e0152"
                        ],
                        [
                          0.1,
                          "#c51b7d"
                        ],
                        [
                          0.2,
                          "#de77ae"
                        ],
                        [
                          0.3,
                          "#f1b6da"
                        ],
                        [
                          0.4,
                          "#fde0ef"
                        ],
                        [
                          0.5,
                          "#f7f7f7"
                        ],
                        [
                          0.6,
                          "#e6f5d0"
                        ],
                        [
                          0.7,
                          "#b8e186"
                        ],
                        [
                          0.8,
                          "#7fbc41"
                        ],
                        [
                          0.9,
                          "#4d9221"
                        ],
                        [
                          1,
                          "#276419"
                        ]
                      ],
                      "sequential": [
                        [
                          0,
                          "#0d0887"
                        ],
                        [
                          0.1111111111111111,
                          "#46039f"
                        ],
                        [
                          0.2222222222222222,
                          "#7201a8"
                        ],
                        [
                          0.3333333333333333,
                          "#9c179e"
                        ],
                        [
                          0.4444444444444444,
                          "#bd3786"
                        ],
                        [
                          0.5555555555555556,
                          "#d8576b"
                        ],
                        [
                          0.6666666666666666,
                          "#ed7953"
                        ],
                        [
                          0.7777777777777778,
                          "#fb9f3a"
                        ],
                        [
                          0.8888888888888888,
                          "#fdca26"
                        ],
                        [
                          1,
                          "#f0f921"
                        ]
                      ],
                      "sequentialminus": [
                        [
                          0,
                          "#0d0887"
                        ],
                        [
                          0.1111111111111111,
                          "#46039f"
                        ],
                        [
                          0.2222222222222222,
                          "#7201a8"
                        ],
                        [
                          0.3333333333333333,
                          "#9c179e"
                        ],
                        [
                          0.4444444444444444,
                          "#bd3786"
                        ],
                        [
                          0.5555555555555556,
                          "#d8576b"
                        ],
                        [
                          0.6666666666666666,
                          "#ed7953"
                        ],
                        [
                          0.7777777777777778,
                          "#fb9f3a"
                        ],
                        [
                          0.8888888888888888,
                          "#fdca26"
                        ],
                        [
                          1,
                          "#f0f921"
                        ]
                      ]
                    },
                    "colorway": [
                      "#636efa",
                      "#EF553B",
                      "#00cc96",
                      "#ab63fa",
                      "#FFA15A",
                      "#19d3f3",
                      "#FF6692",
                      "#B6E880",
                      "#FF97FF",
                      "#FECB52"
                    ],
                    "font": {
                      "color": "#f2f5fa"
                    },
                    "geo": {
                      "bgcolor": "rgb(17,17,17)",
                      "lakecolor": "rgb(17,17,17)",
                      "landcolor": "rgb(17,17,17)",
                      "showlakes": true,
                      "showland": true,
                      "subunitcolor": "#506784"
                    },
                    "hoverlabel": {
                      "align": "left"
                    },
                    "hovermode": "closest",
                    "mapbox": {
                      "style": "dark"
                    },
                    "paper_bgcolor": "rgb(17,17,17)",
                    "plot_bgcolor": "rgb(17,17,17)",
                    "polar": {
                      "angularaxis": {
                        "gridcolor": "#506784",
                        "linecolor": "#506784",
                        "ticks": ""
                      },
                      "bgcolor": "rgb(17,17,17)",
                      "radialaxis": {
                        "gridcolor": "#506784",
                        "linecolor": "#506784",
                        "ticks": ""
                      }
                    },
                    "scene": {
                      "xaxis": {
                        "backgroundcolor": "rgb(17,17,17)",
                        "gridcolor": "#506784",
                        "gridwidth": 2,
                        "linecolor": "#506784",
                        "showbackground": true,
                        "ticks": "",
                        "zerolinecolor": "#C8D4E3"
                      },
                      "yaxis": {
                        "backgroundcolor": "rgb(17,17,17)",
                        "gridcolor": "#506784",
                        "gridwidth": 2,
                        "linecolor": "#506784",
                        "showbackground": true,
                        "ticks": "",
                        "zerolinecolor": "#C8D4E3"
                      },
                      "zaxis": {
                        "backgroundcolor": "rgb(17,17,17)",
                        "gridcolor": "#506784",
                        "gridwidth": 2,
                        "linecolor": "#506784",
                        "showbackground": true,
                        "ticks": "",
                        "zerolinecolor": "#C8D4E3"
                      }
                    },
                    "shapedefaults": {
                      "line": {
                        "color": "#f2f5fa"
                      }
                    },
                    "sliderdefaults": {
                      "bgcolor": "#C8D4E3",
                      "bordercolor": "rgb(17,17,17)",
                      "borderwidth": 1,
                      "tickwidth": 0
                    },
                    "ternary": {
                      "aaxis": {
                        "gridcolor": "#506784",
                        "linecolor": "#506784",
                        "ticks": ""
                      },
                      "baxis": {
                        "gridcolor": "#506784",
                        "linecolor": "#506784",
                        "ticks": ""
                      },
                      "bgcolor": "rgb(17,17,17)",
                      "caxis": {
                        "gridcolor": "#506784",
                        "linecolor": "#506784",
                        "ticks": ""
                      }
                    },
                    "title": {
                      "x": 0.05
                    },
                    "updatemenudefaults": {
                      "bgcolor": "#506784",
                      "borderwidth": 0
                    },
                    "xaxis": {
                      "automargin": true,
                      "gridcolor": "#283442",
                      "linecolor": "#506784",
                      "ticks": "",
                      "title": {
                        "standoff": 15
                      },
                      "zerolinecolor": "#283442",
                      "zerolinewidth": 2
                    },
                    "yaxis": {
                      "automargin": true,
                      "gridcolor": "#283442",
                      "linecolor": "#506784",
                      "ticks": "",
                      "title": {
                        "standoff": 15
                      },
                      "zerolinecolor": "#283442",
                      "zerolinewidth": 2
                    }
                  }
                },
                "title": {
                  "text": "Top 10 Negative Key Phrases in Louisiana"
                },
                "xaxis": {
                  "anchor": "y",
                  "domain": [
                    0,
                    1
                  ],
                  "title": {
                    "text": "Phrase"
                  }
                },
                "yaxis": {
                  "anchor": "x",
                  "domain": [
                    0,
                    1
                  ],
                  "title": {
                    "text": "Frequency"
                  }
                }
              }
            }
          },
          "metadata": {},
          "output_type": "display_data"
        }
      ],
      "source": [
        "import pandas as pd\n",
        "from sklearn.feature_extraction.text import TfidfVectorizer\n",
        "from collections import Counter\n",
        "import nltk\n",
        "from nltk.util import ngrams\n",
        "\n",
        "# Assuming you already have a DataFrame with the necessary sentiment labels\n",
        "# Sample DataFrame: social_media_real_estate (content_sentiment and comment_sentiment)\n",
        "df = social_media_real_estate\n",
        "df = social_media_real_estate[social_media_real_estate['state'] == \"Louisiana\"].copy()\n",
        "\n",
        "# Combine content and comment sentiment to create the final sentiment\n",
        "df['final_sentiment'] = df.apply(lambda row: 'Positive' if row['content_sentiment_label'] == 'Positive' or row['comments_sentiment_label'] == 'Positive' else 'Negative', axis=1)\n",
        "\n",
        "# Function to extract n-grams\n",
        "def extract_ngrams(text, n=2):\n",
        "    # Tokenize the text and extract n-grams\n",
        "    tokens = nltk.word_tokenize(text)\n",
        "    n_grams = ngrams(tokens, n)\n",
        "    return [' '.join(gram) for gram in n_grams]\n",
        "\n",
        "# Extract key phrases (bigrams or trigrams) from content and comments\n",
        "df['content_ngrams'] = df['content'].apply(lambda x: extract_ngrams(x, n=2))  # Extract bigrams\n",
        "df['comment_ngrams'] = df['comments'].apply(lambda x: extract_ngrams(x, n=2))  # Extract bigrams\n",
        "\n",
        "# Filter key phrases by sentiment\n",
        "positive_phrases = pd.concat([\n",
        "    df[df['final_sentiment'] == 'Positive']['content_ngrams'].explode(),\n",
        "    df[df['final_sentiment'] == 'Positive']['comment_ngrams'].explode()\n",
        "])\n",
        "negative_phrases = pd.concat([\n",
        "    df[df['final_sentiment'] == 'Negative']['content_ngrams'].explode(),\n",
        "    df[df['final_sentiment'] == 'Negative']['comment_ngrams'].explode()\n",
        "])\n",
        "#negative_phrases = df[df['final_sentiment'] == 'Negative']['content_ngrams'].explode().append(df[df['final_sentiment'] == 'Negative']['comment_ngrams'].explode())\n",
        "\n",
        "# Get the top 20 most frequent phrases for positive and negative sentiments\n",
        "positive_top_phrases = Counter(positive_phrases).most_common(20)\n",
        "negative_top_phrases = Counter(negative_phrases).most_common(20)\n",
        "\n",
        "print(\"Top 20 Positive Phrases:\")\n",
        "print(positive_top_phrases)\n",
        "\n",
        "print(\"\\nTop 20 Negative Phrases:\")\n",
        "print(negative_top_phrases)\n",
        "\n",
        "# Prepare data for Plotly\n",
        "pos_df = pd.DataFrame(positive_top_phrases, columns=['Phrase', 'Count'])\n",
        "neg_df = pd.DataFrame(negative_top_phrases, columns=['Phrase', 'Count'])\n",
        "fig_pos = px.bar(\n",
        "    pos_df,\n",
        "    x='Phrase',\n",
        "    y='Count',\n",
        "    title=f'Top 10 Positive Key Phrases in Louisiana',\n",
        "    labels={'Count': 'Frequency'},\n",
        "    color='Count',\n",
        "    color_continuous_scale='Blues',\n",
        "    template='plotly_dark'\n",
        ")\n",
        "fig_pos.show()\n",
        "\n",
        "\n",
        "# Plot Top Negative Phrases with Plotly\n",
        "fig_neg = px.bar(\n",
        "    neg_df,\n",
        "    x='Phrase',\n",
        "    y='Count',\n",
        "    title=f'Top 10 Negative Key Phrases in Louisiana',\n",
        "    labels={'Count': 'Frequency'},\n",
        "    color='Count',\n",
        "    color_continuous_scale='Reds',\n",
        "    template='plotly_dark'\n",
        ")\n",
        "fig_neg.show()"
      ]
    },
    {
      "cell_type": "code",
      "execution_count": null,
      "metadata": {},
      "outputs": [],
      "source": []
    }
  ],
  "metadata": {
    "accelerator": "GPU",
    "colab": {
      "gpuType": "T4",
      "provenance": []
    },
    "kernelspec": {
      "display_name": "Python 3",
      "name": "python3"
    },
    "language_info": {
      "codemirror_mode": {
        "name": "ipython",
        "version": 3
      },
      "file_extension": ".py",
      "mimetype": "text/x-python",
      "name": "python",
      "nbconvert_exporter": "python",
      "pygments_lexer": "ipython3",
      "version": "3.12.9"
    }
  },
  "nbformat": 4,
  "nbformat_minor": 0
}
